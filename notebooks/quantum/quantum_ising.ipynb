{
 "cells": [
  {
   "cell_type": "markdown",
   "id": "f05909fc",
   "metadata": {},
   "source": [
    "# Quantum Ising Model\n",
    "Following a notebook by [Carsten Bauer & Katharine Hyatt](https://github.com/crstnbr/JuliaOulu20/blob/master/Day2/4_linear_algebra/2_ed_quantum_ising.ipynb).\n",
    "\n",
    "The [Ising Model](https://en.wikipedia.org/wiki/Ising_model) is a model of ferromagnetism, which considers localized discrete spins of a quantum system.\n",
    "\n",
    "We will study the Ising model in terms of the time-independent Schrödinger equation\n",
    "$$\n",
    "H \\left|{ \\psi }\\right\\rangle = E \\left|{ \\psi }\\right\\rangle,\n",
    "$$\n",
    "\n",
    "where $H$ is to be diagonalized by means of a computational model."
   ]
  },
  {
   "cell_type": "markdown",
   "id": "67415b96",
   "metadata": {},
   "source": [
    "## Transverse field Ising chain\n",
    "We consider the general Ising hamiltonian function\n",
    "\n",
    "$$\n",
    "\\mathscr{H} = - \\sum_{\\left\\langle i,j \\right\\rangle} J_{ij}\\sigma_i \\sigma_j - \\mu \\sum_j h_j \\sigma_j\n",
    "$$\n",
    "\n",
    "for any two adjacent crystal sites $i, j$, with interaction $J_{i,j}$ between sites, and external magnetic field $h_j$. The first sum is across pairs of adjecent spins, with notation $\\left\\langle i,j \\right\\rangle$ denoting nearest neighbour.\n",
    "\n",
    "We will denote the spin states through the Pauli matrices, with the external magnetic field acting perpendicular to the spin orientations -- i.e., we use $\\sigma^z$ for spin directions (the first summation term), and $\\sigma^x$ for interaction with the magnetic field (second summation term)\n",
    "\n",
    "For our notation, we will combine $\\mu h_j =: h$, $\\forall j$.\n",
    "\n",
    "We define"
   ]
  },
  {
   "cell_type": "code",
   "execution_count": 1,
   "id": "f770922d",
   "metadata": {},
   "outputs": [
    {
     "data": {
      "text/plain": [
       "([1 0; 0 -1], [0 1; 1 0])"
      ]
     },
     "execution_count": 1,
     "metadata": {},
     "output_type": "execute_result"
    }
   ],
   "source": [
    "σᶻ = [1 0; 0 -1]\n",
    "σˣ = [0 1; 1 0]\n",
    "\n",
    "σᶻ, σˣ"
   ]
  },
  {
   "cell_type": "markdown",
   "id": "a74a2689",
   "metadata": {},
   "source": [
    "We denote the Eigenvectors of $\\sigma^z$ by $\\left|{ \\uparrow }\\right\\rangle$, $\\left|{ \\downarrow }\\right\\rangle$ respective to their orientation along the $z$ axis -- these will also denote our spin orientations.\n",
    "\n",
    "We can then see that the function of $\\sigma^x$ is to flip the orientation, as it is purely off-diagonal:"
   ]
  },
  {
   "cell_type": "code",
   "execution_count": 2,
   "id": "a4dc566f",
   "metadata": {},
   "outputs": [
    {
     "name": "stdout",
     "output_type": "stream",
     "text": [
      "(s_up, s_down) = ([1.0, 0.0], [0.0, 1.0])\n"
     ]
    },
    {
     "data": {
      "text/plain": [
       "true"
      ]
     },
     "execution_count": 2,
     "metadata": {},
     "output_type": "execute_result"
    }
   ],
   "source": [
    "using LinearAlgebra\n",
    "\n",
    "evecs = eigen(σᶻ).vectors\n",
    "s_down = evecs[1, :]\n",
    "s_up = evecs[2, :]\n",
    "\n",
    "@show s_up, s_down\n",
    "\n",
    "s_up == σˣ * s_down"
   ]
  },
  {
   "cell_type": "markdown",
   "id": "c4f5c265",
   "metadata": {},
   "source": [
    "Expressed symbolically:\n",
    "$$\n",
    "\\sigma^x \\left|{ \\uparrow }\\right\\rangle = \\left|{ \\downarrow }\\right\\rangle.\n",
    "$$"
   ]
  },
  {
   "cell_type": "markdown",
   "id": "4e911bee",
   "metadata": {},
   "source": [
    "## Hamiltonian construction\n",
    "\n",
    "In the case of a trivial (diagonal) Hamiltonian (i.e. no external magnetic field $h=0$), we have a classical system where the spins are flipped and disordered by thermal fluctuations.\n",
    "\n",
    "Such a system exhibits different phases at different temperatures $T$ relative to a critical transition temperature $T_c$:\n",
    "- the *paramagnetic* phase ($T > T_c$)\n",
    "- the *ferromagnetic* phase ($T < T_c$)\n",
    "\n",
    "with an implicit ferromagnetic ground state $T=0$.\n",
    "\n",
    "\n",
    "By introducing $h\\neq0$, we construct a Hamiltonian matrix with off-diagonal elements contributed from $\\sigma^x$ terms. These elements represent the quantum fluctuations of the system, by changing some spins orientated along $z$ to $x$.\n",
    "\n",
    "\n",
    "For now, let us choose $\\sigma^z$ as our Eigenbasis for computation.\n",
    "\n",
    "We will use the Kronecker product"
   ]
  },
  {
   "cell_type": "code",
   "execution_count": 3,
   "id": "5735fd0b",
   "metadata": {},
   "outputs": [
    {
     "data": {
      "text/plain": [
       "4×4 Matrix{Int64}:\n",
       " 1   0   0  0\n",
       " 0  -1   0  0\n",
       " 0   0  -1  0\n",
       " 0   0   0  1"
      ]
     },
     "execution_count": 3,
     "metadata": {},
     "output_type": "execute_result"
    }
   ],
   "source": [
    "kron(σᶻ,σᶻ)"
   ]
  },
  {
   "cell_type": "markdown",
   "id": "06a2cb5f",
   "metadata": {},
   "source": [
    "which we can abreviate with "
   ]
  },
  {
   "cell_type": "code",
   "execution_count": 4,
   "id": "adc3d9ca",
   "metadata": {},
   "outputs": [
    {
     "data": {
      "text/plain": [
       "⊗ (generic function with 4 methods)"
      ]
     },
     "execution_count": 4,
     "metadata": {},
     "output_type": "execute_result"
    }
   ],
   "source": [
    "⊗(x, y) = kron(x, y)\n",
    "# identities\n",
    "⊗(x::Matrix, y::UniformScaling) = x ⊗ [1 0; 0 1]\n",
    "⊗(x::UniformScaling, y::Matrix) = [1 0; 0 1] ⊗ y\n",
    "⊗(x::UniformScaling, y::UniformScaling) = [1 0; 0 1] ⊗ [1 0; 0 1]"
   ]
  },
  {
   "cell_type": "code",
   "execution_count": 5,
   "id": "cd52d3fc",
   "metadata": {},
   "outputs": [
    {
     "data": {
      "text/plain": [
       "4×4 Matrix{Int64}:\n",
       " 1   0   0  0\n",
       " 0  -1   0  0\n",
       " 0   0  -1  0\n",
       " 0   0   0  1"
      ]
     },
     "execution_count": 5,
     "metadata": {},
     "output_type": "execute_result"
    }
   ],
   "source": [
    "σᶻ ⊗ σᶻ"
   ]
  },
  {
   "cell_type": "markdown",
   "id": "9da13c3c",
   "metadata": {},
   "source": [
    "The next step is to calculate permutations of the summation terms, so we can assemble our Hamiltonian as a $2^n \\times 2^n$ matrix, representing a quantum chain of $n$ particles:"
   ]
  },
  {
   "cell_type": "code",
   "execution_count": 6,
   "id": "787c090c",
   "metadata": {},
   "outputs": [
    {
     "data": {
      "text/plain": [
       "4×4 Matrix{Float64}:\n",
       " -1.0  -0.5  -0.5   0.0\n",
       " -0.5   1.0   0.0  -0.5\n",
       " -0.5   0.0   1.0  -0.5\n",
       "  0.0  -0.5  -0.5  -1.0"
      ]
     },
     "execution_count": 6,
     "metadata": {},
     "output_type": "execute_result"
    }
   ],
   "source": [
    "function isingfield(;N::Int, h)\n",
    "    σᶻ = [1 0; 0 -1]\n",
    "    σˣ = [0 1; 1 0]\n",
    "    \n",
    "    # assemble terms\n",
    "    terms = vcat([σᶻ, σᶻ], fill(I, N-2))\n",
    "    \n",
    "    H = zeros(Int, 2^N, 2^N)\n",
    "    \n",
    "    # compute first sum\n",
    "    for i in 1:N-1\n",
    "        H -= foldl(⊗, terms)\n",
    "        terms = circshift(terms, 1)\n",
    "    end\n",
    "    \n",
    "    # sum two terms\n",
    "    terms = fill!(terms, I)\n",
    "    terms[1] = σˣ\n",
    "    \n",
    "    # compute second sum\n",
    "    \n",
    "    for i in 1:N\n",
    "        H -= h * foldl(⊗, terms)\n",
    "        terms = circshift(terms, 1)\n",
    "    end\n",
    "    \n",
    "    H\n",
    "end\n",
    "\n",
    "isingfield(N=2, h=0.5)"
   ]
  },
  {
   "cell_type": "markdown",
   "id": "f90589b1",
   "metadata": {},
   "source": [
    "## Basis states\n",
    "\n",
    "We will choose 0 (false) to represent down spins, and 1 (true) to represent up spins. We can then write basis states in the notation\n",
    "$$\n",
    "\\left\\lvert 0010 \\right\\rangle = \\left\\lvert \\downarrow  \\downarrow \\uparrow \\downarrow \\right\\rangle\n",
    "$$\n",
    "for e.g. a 4 site system.\n",
    "\n",
    "The full basis is then just a counting problem:"
   ]
  },
  {
   "cell_type": "code",
   "execution_count": 7,
   "id": "4c7e4c69",
   "metadata": {},
   "outputs": [
    {
     "data": {
      "text/plain": [
       "16-element Vector{BitVector}:\n",
       " [0, 0, 0, 0]\n",
       " [0, 0, 0, 1]\n",
       " [0, 0, 1, 0]\n",
       " [0, 0, 1, 1]\n",
       " [0, 1, 0, 0]\n",
       " [0, 1, 0, 1]\n",
       " [0, 1, 1, 0]\n",
       " [0, 1, 1, 1]\n",
       " [1, 0, 0, 0]\n",
       " [1, 0, 0, 1]\n",
       " [1, 0, 1, 0]\n",
       " [1, 0, 1, 1]\n",
       " [1, 1, 0, 0]\n",
       " [1, 1, 0, 1]\n",
       " [1, 1, 1, 0]\n",
       " [1, 1, 1, 1]"
      ]
     },
     "execution_count": 7,
     "metadata": {},
     "output_type": "execute_result"
    }
   ],
   "source": [
    "# helper function\n",
    "binrep(i::Int, pad::Int) = BitArray(parse(Bool, j) for j in string(i, base=2, pad=pad))\n",
    "\n",
    "function makebasis(N::Int)\n",
    "    nstates = 2^N\n",
    "    basis = Vector{BitArray{1}}(undef, nstates)\n",
    "    \n",
    "    for i in 0:nstates-1\n",
    "        basis[i+1] = binrep(i, N)\n",
    "    end\n",
    "    \n",
    "    basis\n",
    "end     \n",
    "\n",
    "makebasis(4)"
   ]
  },
  {
   "cell_type": "markdown",
   "id": "bdb4cdeb",
   "metadata": {},
   "source": [
    "## Diagonalization\n",
    "We solve the Schrödinger equation by diagonalizing $\\mathscr{H}$. We will use $N=3$, and $h=1$:"
   ]
  },
  {
   "cell_type": "code",
   "execution_count": 8,
   "id": "30048dc6",
   "metadata": {},
   "outputs": [
    {
     "data": {
      "text/plain": [
       "8-element Vector{Float64}:\n",
       " -3.493959207434932\n",
       " -2.60387547160968\n",
       " -0.9999999999999951\n",
       " -0.10991626417473999\n",
       "  0.10991626417474265\n",
       "  1.0000000000000018\n",
       "  2.6038754716096766\n",
       "  3.493959207434934"
      ]
     },
     "execution_count": 8,
     "metadata": {},
     "output_type": "execute_result"
    }
   ],
   "source": [
    "basis = makebasis(3)\n",
    "H = isingfield(N=3, h=1)\n",
    "\n",
    "vals, vecs = eigen(H)\n",
    "vals"
   ]
  },
  {
   "cell_type": "markdown",
   "id": "f6f64af2",
   "metadata": {},
   "source": [
    "We can read off the ground state as a probability amplitude for each basis vector"
   ]
  },
  {
   "cell_type": "code",
   "execution_count": 9,
   "id": "cfb5dca2",
   "metadata": {},
   "outputs": [
    {
     "data": {
      "text/plain": [
       "8-element Vector{Float64}:\n",
       " 0.532480753352626\n",
       " 0.29550452425304996\n",
       " 0.20449547574694707\n",
       " 0.29550452425305196\n",
       " 0.29550452425305007\n",
       " 0.20449547574694865\n",
       " 0.29550452425305196\n",
       " 0.5324807533526363"
      ]
     },
     "execution_count": 9,
     "metadata": {},
     "output_type": "execute_result"
    }
   ],
   "source": [
    "groundstate = vecs[:, 1]"
   ]
  },
  {
   "cell_type": "markdown",
   "id": "5cdca372",
   "metadata": {},
   "source": [
    "We can pretty print this with some not so pretty string formatting:"
   ]
  },
  {
   "cell_type": "code",
   "execution_count": 10,
   "id": "7bf58b16",
   "metadata": {},
   "outputs": [
    {
     "data": {
      "text/latex": [
       "$\\text{Spin State: Probability}\\\\\\left\\lvert \\downarrow\\downarrow\\downarrow \\right\\rangle: 0.28353575269098014\\\\\\left\\lvert \\downarrow\\downarrow\\uparrow \\right\\rangle: 0.08732292385402139\\\\\\left\\lvert \\downarrow\\uparrow\\downarrow \\right\\rangle: 0.04181839960097022\\\\\\left\\lvert \\downarrow\\uparrow\\uparrow \\right\\rangle: 0.08732292385402257\\\\\\left\\lvert \\uparrow\\downarrow\\downarrow \\right\\rangle: 0.08732292385402146\\\\\\left\\lvert \\uparrow\\downarrow\\uparrow \\right\\rangle: 0.04181839960097086\\\\\\left\\lvert \\uparrow\\uparrow\\downarrow \\right\\rangle: 0.08732292385402257\\\\\\left\\lvert \\uparrow\\uparrow\\uparrow \\right\\rangle: 0.2835357526909911$"
      ],
      "text/plain": [
       "L\"$\\text{Spin State: Probability}\\\\\\left\\lvert \\downarrow\\downarrow\\downarrow \\right\\rangle: 0.28353575269098014\\\\\\left\\lvert \\downarrow\\downarrow\\uparrow \\right\\rangle: 0.08732292385402139\\\\\\left\\lvert \\downarrow\\uparrow\\downarrow \\right\\rangle: 0.04181839960097022\\\\\\left\\lvert \\downarrow\\uparrow\\uparrow \\right\\rangle: 0.08732292385402257\\\\\\left\\lvert \\uparrow\\downarrow\\downarrow \\right\\rangle: 0.08732292385402146\\\\\\left\\lvert \\uparrow\\downarrow\\uparrow \\right\\rangle: 0.04181839960097086\\\\\\left\\lvert \\uparrow\\uparrow\\downarrow \\right\\rangle: 0.08732292385402257\\\\\\left\\lvert \\uparrow\\uparrow\\uparrow \\right\\rangle: 0.2835357526909911$\""
      ]
     },
     "execution_count": 10,
     "metadata": {},
     "output_type": "execute_result"
    }
   ],
   "source": [
    "using LaTeXStrings\n",
    "\n",
    "# fmt function for kets\n",
    "function fmt(x::BitVector)\n",
    "    s = join(i == false ? \"\\\\downarrow\" : \"\\\\uparrow\" for i in x)\n",
    "    \"\\\\left\\\\lvert $s \\\\right\\\\rangle\"\n",
    "end\n",
    "\n",
    "# fmt function for results\n",
    "function fmt(basis, groundstate)\n",
    "    out = String[\"\\\\text{Spin State: Probability}\"]\n",
    "    \n",
    "    for (b, p) in zip(basis, groundstate)\n",
    "        push!(out, \"$(fmt(b)): $(abs2(p))\")\n",
    "    end\n",
    "    \n",
    "    latexstring(join(out, \"\\\\\\\\\"))\n",
    "end\n",
    "\n",
    "fmt(basis, groundstate)"
   ]
  },
  {
   "cell_type": "markdown",
   "id": "ec5fa2de",
   "metadata": {},
   "source": [
    "We can try this again with $h=0$ to see the case of a trivial Hamiltonian:"
   ]
  },
  {
   "cell_type": "code",
   "execution_count": 11,
   "id": "4d2eb7de",
   "metadata": {},
   "outputs": [
    {
     "data": {
      "text/latex": [
       "$\\text{Spin State: Probability}\\\\\\left\\lvert \\downarrow\\downarrow\\downarrow \\right\\rangle: 1.0\\\\\\left\\lvert \\downarrow\\downarrow\\uparrow \\right\\rangle: 0.0\\\\\\left\\lvert \\downarrow\\uparrow\\downarrow \\right\\rangle: 0.0\\\\\\left\\lvert \\downarrow\\uparrow\\uparrow \\right\\rangle: 0.0\\\\\\left\\lvert \\uparrow\\downarrow\\downarrow \\right\\rangle: 0.0\\\\\\left\\lvert \\uparrow\\downarrow\\uparrow \\right\\rangle: 0.0\\\\\\left\\lvert \\uparrow\\uparrow\\downarrow \\right\\rangle: 0.0\\\\\\left\\lvert \\uparrow\\uparrow\\uparrow \\right\\rangle: 0.0$"
      ],
      "text/plain": [
       "L\"$\\text{Spin State: Probability}\\\\\\left\\lvert \\downarrow\\downarrow\\downarrow \\right\\rangle: 1.0\\\\\\left\\lvert \\downarrow\\downarrow\\uparrow \\right\\rangle: 0.0\\\\\\left\\lvert \\downarrow\\uparrow\\downarrow \\right\\rangle: 0.0\\\\\\left\\lvert \\downarrow\\uparrow\\uparrow \\right\\rangle: 0.0\\\\\\left\\lvert \\uparrow\\downarrow\\downarrow \\right\\rangle: 0.0\\\\\\left\\lvert \\uparrow\\downarrow\\uparrow \\right\\rangle: 0.0\\\\\\left\\lvert \\uparrow\\uparrow\\downarrow \\right\\rangle: 0.0\\\\\\left\\lvert \\uparrow\\uparrow\\uparrow \\right\\rangle: 0.0$\""
      ]
     },
     "execution_count": 11,
     "metadata": {},
     "output_type": "execute_result"
    }
   ],
   "source": [
    "basis0 = makebasis(3)\n",
    "H0 = isingfield(N=3, h=0)\n",
    "\n",
    "vals0, vecs0 = eigen(H0)\n",
    "groundstate0 = vecs0[:, 1]\n",
    "\n",
    "fmt(basis0, groundstate0)"
   ]
  },
  {
   "cell_type": "markdown",
   "id": "17e88618",
   "metadata": {},
   "source": [
    "As we expect, all of the spin states are aligned along the $-z$ axis."
   ]
  },
  {
   "cell_type": "markdown",
   "id": "bc1f3689",
   "metadata": {},
   "source": [
    "## Magnetisation\n",
    "\n",
    "Quantum magnetization can be computed through\n",
    "$$\n",
    "M = \\frac{1}{N}\\sum_i \\left( \\sigma_i^z \\right)^2,\n",
    "$$\n",
    "where the sum is over spin sites.\n",
    "\n",
    "Computationally, this may be expressed"
   ]
  },
  {
   "cell_type": "code",
   "execution_count": 12,
   "id": "34ce19ae",
   "metadata": {},
   "outputs": [
    {
     "data": {
      "text/plain": [
       "magnetization (generic function with 1 method)"
      ]
     },
     "execution_count": 12,
     "metadata": {},
     "output_type": "execute_result"
    }
   ],
   "source": [
    "function magnetization(basis, state)\n",
    "    M = 0.\n",
    "    for (i, bstate) in enumerate(basis)\n",
    "        blength = length(bstate)\n",
    "        \n",
    "        bM = mapreduce(\n",
    "            spin -> (state[i]^2 * (spin ? 1 : -1)) / blength, # mult by spin for orientation\n",
    "            +, \n",
    "            bstate,\n",
    "            init=0.\n",
    "        )\n",
    "        \n",
    "        @assert abs(bM) <= 1\n",
    "        M += abs(bM)\n",
    "    end\n",
    "    \n",
    "    M\n",
    "end"
   ]
  },
  {
   "cell_type": "code",
   "execution_count": 13,
   "id": "21cf9515",
   "metadata": {},
   "outputs": [
    {
     "data": {
      "text/plain": [
       "0.711381003587981"
      ]
     },
     "execution_count": 13,
     "metadata": {},
     "output_type": "execute_result"
    }
   ],
   "source": [
    "magnetization(basis, groundstate)"
   ]
  },
  {
   "cell_type": "markdown",
   "id": "3f7add48",
   "metadata": {},
   "source": [
    "Let us investigate how the magnetization changes with $h$ from $10^{-2}$ to $10^2$:"
   ]
  },
  {
   "cell_type": "code",
   "execution_count": 14,
   "id": "7d407d7b",
   "metadata": {},
   "outputs": [
    {
     "name": "stdout",
     "output_type": "stream",
     "text": [
      "  5.495669 seconds (3.26 M allocations: 6.087 GiB, 3.95% gc time, 10.69% compilation time)\n"
     ]
    },
    {
     "data": {
      "image/svg+xml": [
       "<?xml version=\"1.0\" encoding=\"utf-8\"?>\n",
       "<svg xmlns=\"http://www.w3.org/2000/svg\" xmlns:xlink=\"http://www.w3.org/1999/xlink\" width=\"600\" height=\"400\" viewBox=\"0 0 2400 1600\">\n",
       "<defs>\n",
       "  <clipPath id=\"clip480\">\n",
       "    <rect x=\"0\" y=\"0\" width=\"2400\" height=\"1600\"/>\n",
       "  </clipPath>\n",
       "</defs>\n",
       "<path clip-path=\"url(#clip480)\" d=\"\n",
       "M0 1600 L2400 1600 L2400 0 L0 0  Z\n",
       "  \" fill=\"#ffffff\" fill-rule=\"evenodd\" fill-opacity=\"1\"/>\n",
       "<defs>\n",
       "  <clipPath id=\"clip481\">\n",
       "    <rect x=\"480\" y=\"0\" width=\"1681\" height=\"1600\"/>\n",
       "  </clipPath>\n",
       "</defs>\n",
       "<path clip-path=\"url(#clip480)\" d=\"\n",
       "M215.898 1427.71 L2352.76 1427.71 L2352.76 47.2441 L215.898 47.2441  Z\n",
       "  \" fill=\"#ffffff\" fill-rule=\"evenodd\" fill-opacity=\"1\"/>\n",
       "<defs>\n",
       "  <clipPath id=\"clip482\">\n",
       "    <rect x=\"215\" y=\"47\" width=\"2138\" height=\"1381\"/>\n",
       "  </clipPath>\n",
       "</defs>\n",
       "<polyline clip-path=\"url(#clip482)\" style=\"stroke:#000000; stroke-width:2; stroke-opacity:0.1; fill:none\" points=\"\n",
       "  276.375,1427.71 276.375,47.2441 \n",
       "  \"/>\n",
       "<polyline clip-path=\"url(#clip482)\" style=\"stroke:#000000; stroke-width:2; stroke-opacity:0.1; fill:none\" points=\"\n",
       "  780.351,1427.71 780.351,47.2441 \n",
       "  \"/>\n",
       "<polyline clip-path=\"url(#clip482)\" style=\"stroke:#000000; stroke-width:2; stroke-opacity:0.1; fill:none\" points=\"\n",
       "  1284.33,1427.71 1284.33,47.2441 \n",
       "  \"/>\n",
       "<polyline clip-path=\"url(#clip482)\" style=\"stroke:#000000; stroke-width:2; stroke-opacity:0.1; fill:none\" points=\"\n",
       "  1788.3,1427.71 1788.3,47.2441 \n",
       "  \"/>\n",
       "<polyline clip-path=\"url(#clip482)\" style=\"stroke:#000000; stroke-width:2; stroke-opacity:0.1; fill:none\" points=\"\n",
       "  2292.28,1427.71 2292.28,47.2441 \n",
       "  \"/>\n",
       "<polyline clip-path=\"url(#clip480)\" style=\"stroke:#000000; stroke-width:4; stroke-opacity:1; fill:none\" points=\"\n",
       "  215.898,1427.71 2352.76,1427.71 \n",
       "  \"/>\n",
       "<polyline clip-path=\"url(#clip480)\" style=\"stroke:#000000; stroke-width:4; stroke-opacity:1; fill:none\" points=\"\n",
       "  276.375,1427.71 276.375,1411.14 \n",
       "  \"/>\n",
       "<polyline clip-path=\"url(#clip480)\" style=\"stroke:#000000; stroke-width:4; stroke-opacity:1; fill:none\" points=\"\n",
       "  780.351,1427.71 780.351,1411.14 \n",
       "  \"/>\n",
       "<polyline clip-path=\"url(#clip480)\" style=\"stroke:#000000; stroke-width:4; stroke-opacity:1; fill:none\" points=\"\n",
       "  1284.33,1427.71 1284.33,1411.14 \n",
       "  \"/>\n",
       "<polyline clip-path=\"url(#clip480)\" style=\"stroke:#000000; stroke-width:4; stroke-opacity:1; fill:none\" points=\"\n",
       "  1788.3,1427.71 1788.3,1411.14 \n",
       "  \"/>\n",
       "<polyline clip-path=\"url(#clip480)\" style=\"stroke:#000000; stroke-width:4; stroke-opacity:1; fill:none\" points=\"\n",
       "  2292.28,1427.71 2292.28,1411.14 \n",
       "  \"/>\n",
       "<path clip-path=\"url(#clip480)\" d=\"M 0 0 M226.641 1505.98 L234.28 1505.98 L234.28 1479.61 L225.97 1481.28 L225.97 1477.02 L234.234 1475.36 L238.91 1475.36 L238.91 1505.98 L246.548 1505.98 L246.548 1509.92 L226.641 1509.92 L226.641 1505.98 Z\" fill=\"#000000\" fill-rule=\"evenodd\" fill-opacity=\"1\" /><path clip-path=\"url(#clip480)\" d=\"M 0 0 M265.993 1478.43 Q262.382 1478.43 260.553 1482 Q258.748 1485.54 258.748 1492.67 Q258.748 1499.78 260.553 1503.34 Q262.382 1506.88 265.993 1506.88 Q269.627 1506.88 271.433 1503.34 Q273.261 1499.78 273.261 1492.67 Q273.261 1485.54 271.433 1482 Q269.627 1478.43 265.993 1478.43 M265.993 1474.73 Q271.803 1474.73 274.859 1479.34 Q277.937 1483.92 277.937 1492.67 Q277.937 1501.4 274.859 1506 Q271.803 1510.59 265.993 1510.59 Q260.183 1510.59 257.104 1506 Q254.048 1501.4 254.048 1492.67 Q254.048 1483.92 257.104 1479.34 Q260.183 1474.73 265.993 1474.73 Z\" fill=\"#000000\" fill-rule=\"evenodd\" fill-opacity=\"1\" /><path clip-path=\"url(#clip480)\" d=\"M 0 0 M277.937 1468.83 L302.049 1468.83 L302.049 1472.03 L277.937 1472.03 L277.937 1468.83 Z\" fill=\"#000000\" fill-rule=\"evenodd\" fill-opacity=\"1\" /><path clip-path=\"url(#clip480)\" d=\"M 0 0 M313.522 1479.31 L326.781 1479.31 L326.781 1482.51 L308.951 1482.51 L308.951 1479.31 Q311.114 1477.07 314.838 1473.31 Q318.581 1469.53 319.54 1468.44 Q321.364 1466.39 322.079 1464.98 Q322.813 1463.55 322.813 1462.17 Q322.813 1459.94 321.233 1458.53 Q319.672 1457.11 317.151 1457.11 Q315.365 1457.11 313.371 1457.74 Q311.396 1458.36 309.139 1459.62 L309.139 1455.78 Q311.434 1454.86 313.427 1454.39 Q315.421 1453.92 317.076 1453.92 Q321.44 1453.92 324.035 1456.1 Q326.631 1458.28 326.631 1461.93 Q326.631 1463.66 325.972 1465.22 Q325.333 1466.76 323.621 1468.87 Q323.151 1469.41 320.631 1472.03 Q318.111 1474.62 313.522 1479.31 Z\" fill=\"#000000\" fill-rule=\"evenodd\" fill-opacity=\"1\" /><path clip-path=\"url(#clip480)\" d=\"M 0 0 M730.467 1505.98 L738.105 1505.98 L738.105 1479.61 L729.795 1481.28 L729.795 1477.02 L738.059 1475.36 L742.735 1475.36 L742.735 1505.98 L750.374 1505.98 L750.374 1509.92 L730.467 1509.92 L730.467 1505.98 Z\" fill=\"#000000\" fill-rule=\"evenodd\" fill-opacity=\"1\" /><path clip-path=\"url(#clip480)\" d=\"M 0 0 M769.818 1478.43 Q766.207 1478.43 764.378 1482 Q762.573 1485.54 762.573 1492.67 Q762.573 1499.78 764.378 1503.34 Q766.207 1506.88 769.818 1506.88 Q773.452 1506.88 775.258 1503.34 Q777.087 1499.78 777.087 1492.67 Q777.087 1485.54 775.258 1482 Q773.452 1478.43 769.818 1478.43 M769.818 1474.73 Q775.628 1474.73 778.684 1479.34 Q781.763 1483.92 781.763 1492.67 Q781.763 1501.4 778.684 1506 Q775.628 1510.59 769.818 1510.59 Q764.008 1510.59 760.929 1506 Q757.874 1501.4 757.874 1492.67 Q757.874 1483.92 760.929 1479.34 Q764.008 1474.73 769.818 1474.73 Z\" fill=\"#000000\" fill-rule=\"evenodd\" fill-opacity=\"1\" /><path clip-path=\"url(#clip480)\" d=\"M 0 0 M781.763 1468.83 L805.874 1468.83 L805.874 1472.03 L781.763 1472.03 L781.763 1468.83 Z\" fill=\"#000000\" fill-rule=\"evenodd\" fill-opacity=\"1\" /><path clip-path=\"url(#clip480)\" d=\"M 0 0 M814.733 1479.31 L820.939 1479.31 L820.939 1457.89 L814.187 1459.24 L814.187 1455.78 L820.902 1454.43 L824.701 1454.43 L824.701 1479.31 L830.907 1479.31 L830.907 1482.51 L814.733 1482.51 L814.733 1479.31 Z\" fill=\"#000000\" fill-rule=\"evenodd\" fill-opacity=\"1\" /><path clip-path=\"url(#clip480)\" d=\"M 0 0 M1249.31 1505.98 L1256.95 1505.98 L1256.95 1479.61 L1248.64 1481.28 L1248.64 1477.02 L1256.9 1475.36 L1261.58 1475.36 L1261.58 1505.98 L1269.22 1505.98 L1269.22 1509.92 L1249.31 1509.92 L1249.31 1505.98 Z\" fill=\"#000000\" fill-rule=\"evenodd\" fill-opacity=\"1\" /><path clip-path=\"url(#clip480)\" d=\"M 0 0 M1288.66 1478.43 Q1285.05 1478.43 1283.22 1482 Q1281.42 1485.54 1281.42 1492.67 Q1281.42 1499.78 1283.22 1503.34 Q1285.05 1506.88 1288.66 1506.88 Q1292.3 1506.88 1294.1 1503.34 Q1295.93 1499.78 1295.93 1492.67 Q1295.93 1485.54 1294.1 1482 Q1292.3 1478.43 1288.66 1478.43 M1288.66 1474.73 Q1294.47 1474.73 1297.53 1479.34 Q1300.61 1483.92 1300.61 1492.67 Q1300.61 1501.4 1297.53 1506 Q1294.47 1510.59 1288.66 1510.59 Q1282.85 1510.59 1279.77 1506 Q1276.72 1501.4 1276.72 1492.67 Q1276.72 1483.92 1279.77 1479.34 Q1282.85 1474.73 1288.66 1474.73 Z\" fill=\"#000000\" fill-rule=\"evenodd\" fill-opacity=\"1\" /><path clip-path=\"url(#clip480)\" d=\"M 0 0 M1310.31 1456.93 Q1307.38 1456.93 1305.89 1459.82 Q1304.42 1462.7 1304.42 1468.49 Q1304.42 1474.27 1305.89 1477.16 Q1307.38 1480.04 1310.31 1480.04 Q1313.26 1480.04 1314.73 1477.16 Q1316.22 1474.27 1316.22 1468.49 Q1316.22 1462.7 1314.73 1459.82 Q1313.26 1456.93 1310.31 1456.93 M1310.31 1453.92 Q1315.03 1453.92 1317.51 1457.66 Q1320.02 1461.38 1320.02 1468.49 Q1320.02 1475.58 1317.51 1479.33 Q1315.03 1483.05 1310.31 1483.05 Q1305.59 1483.05 1303.09 1479.33 Q1300.61 1475.58 1300.61 1468.49 Q1300.61 1461.38 1303.09 1457.66 Q1305.59 1453.92 1310.31 1453.92 Z\" fill=\"#000000\" fill-rule=\"evenodd\" fill-opacity=\"1\" /><path clip-path=\"url(#clip480)\" d=\"M 0 0 M1754.63 1505.98 L1762.27 1505.98 L1762.27 1479.61 L1753.96 1481.28 L1753.96 1477.02 L1762.22 1475.36 L1766.9 1475.36 L1766.9 1505.98 L1774.54 1505.98 L1774.54 1509.92 L1754.63 1509.92 L1754.63 1505.98 Z\" fill=\"#000000\" fill-rule=\"evenodd\" fill-opacity=\"1\" /><path clip-path=\"url(#clip480)\" d=\"M 0 0 M1793.98 1478.43 Q1790.37 1478.43 1788.54 1482 Q1786.74 1485.54 1786.74 1492.67 Q1786.74 1499.78 1788.54 1503.34 Q1790.37 1506.88 1793.98 1506.88 Q1797.62 1506.88 1799.42 1503.34 Q1801.25 1499.78 1801.25 1492.67 Q1801.25 1485.54 1799.42 1482 Q1797.62 1478.43 1793.98 1478.43 M1793.98 1474.73 Q1799.79 1474.73 1802.85 1479.34 Q1805.93 1483.92 1805.93 1492.67 Q1805.93 1501.4 1802.85 1506 Q1799.79 1510.59 1793.98 1510.59 Q1788.17 1510.59 1785.09 1506 Q1782.04 1501.4 1782.04 1492.67 Q1782.04 1483.92 1785.09 1479.34 Q1788.17 1474.73 1793.98 1474.73 Z\" fill=\"#000000\" fill-rule=\"evenodd\" fill-opacity=\"1\" /><path clip-path=\"url(#clip480)\" d=\"M 0 0 M1806.47 1479.31 L1812.68 1479.31 L1812.68 1457.89 L1805.93 1459.24 L1805.93 1455.78 L1812.64 1454.43 L1816.44 1454.43 L1816.44 1479.31 L1822.65 1479.31 L1822.65 1482.51 L1806.47 1482.51 L1806.47 1479.31 Z\" fill=\"#000000\" fill-rule=\"evenodd\" fill-opacity=\"1\" /><path clip-path=\"url(#clip480)\" d=\"M 0 0 M2258.05 1505.98 L2265.69 1505.98 L2265.69 1479.61 L2257.38 1481.28 L2257.38 1477.02 L2265.64 1475.36 L2270.32 1475.36 L2270.32 1505.98 L2277.96 1505.98 L2277.96 1509.92 L2258.05 1509.92 L2258.05 1505.98 Z\" fill=\"#000000\" fill-rule=\"evenodd\" fill-opacity=\"1\" /><path clip-path=\"url(#clip480)\" d=\"M 0 0 M2297.4 1478.43 Q2293.79 1478.43 2291.96 1482 Q2290.16 1485.54 2290.16 1492.67 Q2290.16 1499.78 2291.96 1503.34 Q2293.79 1506.88 2297.4 1506.88 Q2301.04 1506.88 2302.84 1503.34 Q2304.67 1499.78 2304.67 1492.67 Q2304.67 1485.54 2302.84 1482 Q2301.04 1478.43 2297.4 1478.43 M2297.4 1474.73 Q2303.21 1474.73 2306.27 1479.34 Q2309.35 1483.92 2309.35 1492.67 Q2309.35 1501.4 2306.27 1506 Q2303.21 1510.59 2297.4 1510.59 Q2291.59 1510.59 2288.51 1506 Q2285.46 1501.4 2285.46 1492.67 Q2285.46 1483.92 2288.51 1479.34 Q2291.59 1474.73 2297.4 1474.73 Z\" fill=\"#000000\" fill-rule=\"evenodd\" fill-opacity=\"1\" /><path clip-path=\"url(#clip480)\" d=\"M 0 0 M2313.92 1479.31 L2327.18 1479.31 L2327.18 1482.51 L2309.35 1482.51 L2309.35 1479.31 Q2311.51 1477.07 2315.23 1473.31 Q2318.98 1469.53 2319.94 1468.44 Q2321.76 1466.39 2322.48 1464.98 Q2323.21 1463.55 2323.21 1462.17 Q2323.21 1459.94 2321.63 1458.53 Q2320.07 1457.11 2317.55 1457.11 Q2315.76 1457.11 2313.77 1457.74 Q2311.79 1458.36 2309.54 1459.62 L2309.54 1455.78 Q2311.83 1454.86 2313.82 1454.39 Q2315.82 1453.92 2317.47 1453.92 Q2321.84 1453.92 2324.43 1456.1 Q2327.03 1458.28 2327.03 1461.93 Q2327.03 1463.66 2326.37 1465.22 Q2325.73 1466.76 2324.02 1468.87 Q2323.55 1469.41 2321.03 1472.03 Q2318.51 1474.62 2313.92 1479.31 Z\" fill=\"#000000\" fill-rule=\"evenodd\" fill-opacity=\"1\" /><path clip-path=\"url(#clip480)\" d=\"M 0 0 M1297.89 1565.26 Q1297.89 1565.52 1297.6 1566.51 Q1297.31 1567.51 1296.6 1569.06 Q1295.93 1570.6 1294.99 1572.02 Q1294.06 1573.41 1292.51 1574.44 Q1291 1575.44 1289.26 1575.44 Q1286.94 1575.44 1285.39 1573.89 Q1283.85 1572.34 1283.85 1570.03 Q1283.85 1569.7 1283.88 1569.38 Q1283.91 1569.06 1283.94 1568.87 Q1283.98 1568.64 1284.07 1568.29 Q1284.2 1567.9 1284.23 1567.74 Q1284.3 1567.58 1284.46 1567.09 Q1284.65 1566.58 1284.72 1566.39 Q1288.81 1555.95 1288.81 1551.6 Q1288.81 1547 1285.23 1547 Q1282.04 1547 1278.89 1549.32 Q1277.44 1550.48 1276.05 1552.54 Q1274.67 1554.6 1274.41 1555.37 Q1274.12 1557.05 1273.7 1558.33 Q1273.51 1559.24 1272.58 1562.75 L1271.13 1568.7 L1269.87 1573.7 Q1269.61 1574.41 1268.9 1574.92 Q1268.2 1575.44 1267.42 1575.44 Q1266.78 1575.44 1266.13 1574.98 Q1265.52 1574.57 1265.52 1573.57 Q1265.52 1573.05 1265.78 1572.12 L1275.35 1534.12 L1275.54 1532.83 Q1275.54 1532.44 1275.38 1532.25 Q1275.25 1532.02 1274.48 1531.86 Q1273.74 1531.7 1272.25 1531.7 Q1271.64 1531.7 1271.35 1531.67 Q1271.09 1531.64 1270.87 1531.47 Q1270.64 1531.28 1270.64 1530.9 Q1270.64 1530.35 1270.87 1530.06 Q1271.13 1529.74 1271.32 1529.67 Q1271.51 1529.61 1271.9 1529.57 Q1272.45 1529.54 1274.28 1529.38 Q1276.12 1529.19 1277.7 1529.06 Q1279.27 1528.93 1279.95 1528.93 Q1280.34 1528.93 1280.53 1529.12 Q1280.76 1529.28 1280.79 1529.48 L1280.82 1529.64 L1275.67 1550.6 Q1279.76 1545.55 1285.43 1545.55 Q1289.1 1545.55 1291.06 1547.45 Q1293.03 1549.32 1293.03 1552.6 Q1293.03 1556.37 1289 1567.09 Q1287.81 1570.09 1287.81 1571.8 Q1287.81 1572.92 1288.16 1573.44 Q1288.55 1573.95 1289.39 1573.95 Q1290.68 1573.95 1291.8 1573.21 Q1292.96 1572.44 1293.77 1571.18 Q1294.57 1569.9 1295.12 1568.61 Q1295.7 1567.29 1296.12 1565.81 Q1296.38 1565 1296.51 1564.81 Q1296.67 1564.61 1297.12 1564.61 Q1297.89 1564.61 1297.89 1565.26 Z\" fill=\"#000000\" fill-rule=\"evenodd\" fill-opacity=\"1\" /><polyline clip-path=\"url(#clip482)\" style=\"stroke:#000000; stroke-width:2; stroke-opacity:0.1; fill:none\" points=\"\n",
       "  215.898,1124.47 2352.76,1124.47 \n",
       "  \"/>\n",
       "<polyline clip-path=\"url(#clip482)\" style=\"stroke:#000000; stroke-width:2; stroke-opacity:0.1; fill:none\" points=\"\n",
       "  215.898,778.407 2352.76,778.407 \n",
       "  \"/>\n",
       "<polyline clip-path=\"url(#clip482)\" style=\"stroke:#000000; stroke-width:2; stroke-opacity:0.1; fill:none\" points=\"\n",
       "  215.898,432.343 2352.76,432.343 \n",
       "  \"/>\n",
       "<polyline clip-path=\"url(#clip482)\" style=\"stroke:#000000; stroke-width:2; stroke-opacity:0.1; fill:none\" points=\"\n",
       "  215.898,86.2792 2352.76,86.2792 \n",
       "  \"/>\n",
       "<polyline clip-path=\"url(#clip480)\" style=\"stroke:#000000; stroke-width:4; stroke-opacity:1; fill:none\" points=\"\n",
       "  215.898,1427.71 215.898,47.2441 \n",
       "  \"/>\n",
       "<polyline clip-path=\"url(#clip480)\" style=\"stroke:#000000; stroke-width:4; stroke-opacity:1; fill:none\" points=\"\n",
       "  215.898,1124.47 241.541,1124.47 \n",
       "  \"/>\n",
       "<polyline clip-path=\"url(#clip480)\" style=\"stroke:#000000; stroke-width:4; stroke-opacity:1; fill:none\" points=\"\n",
       "  215.898,778.407 241.541,778.407 \n",
       "  \"/>\n",
       "<polyline clip-path=\"url(#clip480)\" style=\"stroke:#000000; stroke-width:4; stroke-opacity:1; fill:none\" points=\"\n",
       "  215.898,432.343 241.541,432.343 \n",
       "  \"/>\n",
       "<polyline clip-path=\"url(#clip480)\" style=\"stroke:#000000; stroke-width:4; stroke-opacity:1; fill:none\" points=\"\n",
       "  215.898,86.2792 241.541,86.2792 \n",
       "  \"/>\n",
       "<path clip-path=\"url(#clip480)\" d=\"M 0 0 M122.237 1110.27 Q118.626 1110.27 116.797 1113.83 Q114.991 1117.38 114.991 1124.51 Q114.991 1131.61 116.797 1135.18 Q118.626 1138.72 122.237 1138.72 Q125.871 1138.72 127.676 1135.18 Q129.505 1131.61 129.505 1124.51 Q129.505 1117.38 127.676 1113.83 Q125.871 1110.27 122.237 1110.27 M122.237 1106.57 Q128.047 1106.57 131.102 1111.17 Q134.181 1115.76 134.181 1124.51 Q134.181 1133.23 131.102 1137.84 Q128.047 1142.42 122.237 1142.42 Q116.426 1142.42 113.348 1137.84 Q110.292 1133.23 110.292 1124.51 Q110.292 1115.76 113.348 1111.17 Q116.426 1106.57 122.237 1106.57 Z\" fill=\"#000000\" fill-rule=\"evenodd\" fill-opacity=\"1\" /><path clip-path=\"url(#clip480)\" d=\"M 0 0 M142.399 1135.87 L147.283 1135.87 L147.283 1141.75 L142.399 1141.75 L142.399 1135.87 Z\" fill=\"#000000\" fill-rule=\"evenodd\" fill-opacity=\"1\" /><path clip-path=\"url(#clip480)\" d=\"M 0 0 M170.315 1111.26 L158.51 1129.71 L170.315 1129.71 L170.315 1111.26 M169.088 1107.19 L174.968 1107.19 L174.968 1129.71 L179.898 1129.71 L179.898 1133.6 L174.968 1133.6 L174.968 1141.75 L170.315 1141.75 L170.315 1133.6 L154.713 1133.6 L154.713 1129.09 L169.088 1107.19 Z\" fill=\"#000000\" fill-rule=\"evenodd\" fill-opacity=\"1\" /><path clip-path=\"url(#clip480)\" d=\"M 0 0 M122.561 764.205 Q118.95 764.205 117.121 767.77 Q115.315 771.312 115.315 778.441 Q115.315 785.548 117.121 789.113 Q118.95 792.654 122.561 792.654 Q126.195 792.654 128 789.113 Q129.829 785.548 129.829 778.441 Q129.829 771.312 128 767.77 Q126.195 764.205 122.561 764.205 M122.561 760.502 Q128.371 760.502 131.426 765.108 Q134.505 769.691 134.505 778.441 Q134.505 787.168 131.426 791.775 Q128.371 796.358 122.561 796.358 Q116.751 796.358 113.672 791.775 Q110.616 787.168 110.616 778.441 Q110.616 769.691 113.672 765.108 Q116.751 760.502 122.561 760.502 Z\" fill=\"#000000\" fill-rule=\"evenodd\" fill-opacity=\"1\" /><path clip-path=\"url(#clip480)\" d=\"M 0 0 M142.723 789.807 L147.607 789.807 L147.607 795.687 L142.723 795.687 L142.723 789.807 Z\" fill=\"#000000\" fill-rule=\"evenodd\" fill-opacity=\"1\" /><path clip-path=\"url(#clip480)\" d=\"M 0 0 M168.371 776.543 Q165.223 776.543 163.371 778.696 Q161.542 780.849 161.542 784.599 Q161.542 788.326 163.371 790.502 Q165.223 792.654 168.371 792.654 Q171.519 792.654 173.347 790.502 Q175.199 788.326 175.199 784.599 Q175.199 780.849 173.347 778.696 Q171.519 776.543 168.371 776.543 M177.653 761.891 L177.653 766.15 Q175.894 765.316 174.088 764.877 Q172.306 764.437 170.547 764.437 Q165.917 764.437 163.463 767.562 Q161.033 770.687 160.685 777.006 Q162.051 774.992 164.111 773.928 Q166.172 772.84 168.648 772.84 Q173.857 772.84 176.866 776.011 Q179.898 779.159 179.898 784.599 Q179.898 789.923 176.75 793.14 Q173.602 796.358 168.371 796.358 Q162.375 796.358 159.204 791.775 Q156.033 787.168 156.033 778.441 Q156.033 770.247 159.922 765.386 Q163.81 760.502 170.361 760.502 Q172.121 760.502 173.903 760.849 Q175.709 761.196 177.653 761.891 Z\" fill=\"#000000\" fill-rule=\"evenodd\" fill-opacity=\"1\" /><path clip-path=\"url(#clip480)\" d=\"M 0 0 M122.815 418.142 Q119.204 418.142 117.376 421.706 Q115.57 425.248 115.57 432.378 Q115.57 439.484 117.376 443.049 Q119.204 446.591 122.815 446.591 Q126.45 446.591 128.255 443.049 Q130.084 439.484 130.084 432.378 Q130.084 425.248 128.255 421.706 Q126.45 418.142 122.815 418.142 M122.815 414.438 Q128.625 414.438 131.681 419.044 Q134.76 423.628 134.76 432.378 Q134.76 441.104 131.681 445.711 Q128.625 450.294 122.815 450.294 Q117.005 450.294 113.926 445.711 Q110.871 441.104 110.871 432.378 Q110.871 423.628 113.926 419.044 Q117.005 414.438 122.815 414.438 Z\" fill=\"#000000\" fill-rule=\"evenodd\" fill-opacity=\"1\" /><path clip-path=\"url(#clip480)\" d=\"M 0 0 M142.977 443.743 L147.861 443.743 L147.861 449.623 L142.977 449.623 L142.977 443.743 Z\" fill=\"#000000\" fill-rule=\"evenodd\" fill-opacity=\"1\" /><path clip-path=\"url(#clip480)\" d=\"M 0 0 M168.047 433.211 Q164.713 433.211 162.792 434.993 Q160.894 436.776 160.894 439.901 Q160.894 443.026 162.792 444.808 Q164.713 446.591 168.047 446.591 Q171.38 446.591 173.301 444.808 Q175.222 443.003 175.222 439.901 Q175.222 436.776 173.301 434.993 Q171.403 433.211 168.047 433.211 M163.371 431.22 Q160.361 430.48 158.672 428.419 Q157.005 426.359 157.005 423.396 Q157.005 419.253 159.945 416.845 Q162.908 414.438 168.047 414.438 Q173.209 414.438 176.148 416.845 Q179.088 419.253 179.088 423.396 Q179.088 426.359 177.398 428.419 Q175.732 430.48 172.746 431.22 Q176.125 432.007 178 434.299 Q179.898 436.591 179.898 439.901 Q179.898 444.924 176.82 447.609 Q173.764 450.294 168.047 450.294 Q162.329 450.294 159.25 447.609 Q156.195 444.924 156.195 439.901 Q156.195 436.591 158.093 434.299 Q159.991 432.007 163.371 431.22 M161.658 423.836 Q161.658 426.521 163.324 428.026 Q165.014 429.53 168.047 429.53 Q171.056 429.53 172.746 428.026 Q174.459 426.521 174.459 423.836 Q174.459 421.151 172.746 419.646 Q171.056 418.142 168.047 418.142 Q165.014 418.142 163.324 419.646 Q161.658 421.151 161.658 423.836 Z\" fill=\"#000000\" fill-rule=\"evenodd\" fill-opacity=\"1\" /><path clip-path=\"url(#clip480)\" d=\"M 0 0 M113.533 99.6241 L121.172 99.6241 L121.172 73.2585 L112.862 74.9251 L112.862 70.6659 L121.126 68.9992 L125.801 68.9992 L125.801 99.6241 L133.44 99.6241 L133.44 103.559 L113.533 103.559 L113.533 99.6241 Z\" fill=\"#000000\" fill-rule=\"evenodd\" fill-opacity=\"1\" /><path clip-path=\"url(#clip480)\" d=\"M 0 0 M142.885 97.6796 L147.769 97.6796 L147.769 103.559 L142.885 103.559 L142.885 97.6796 Z\" fill=\"#000000\" fill-rule=\"evenodd\" fill-opacity=\"1\" /><path clip-path=\"url(#clip480)\" d=\"M 0 0 M167.954 72.0779 Q164.343 72.0779 162.514 75.6427 Q160.709 79.1844 160.709 86.3139 Q160.709 93.4204 162.514 96.9852 Q164.343 100.527 167.954 100.527 Q171.588 100.527 173.394 96.9852 Q175.222 93.4204 175.222 86.3139 Q175.222 79.1844 173.394 75.6427 Q171.588 72.0779 167.954 72.0779 M167.954 68.3742 Q173.764 68.3742 176.82 72.9807 Q179.898 77.564 179.898 86.3139 Q179.898 95.0408 176.82 99.6472 Q173.764 104.231 167.954 104.231 Q162.144 104.231 159.065 99.6472 Q156.01 95.0408 156.01 86.3139 Q156.01 77.564 159.065 72.9807 Q162.144 68.3742 167.954 68.3742 Z\" fill=\"#000000\" fill-rule=\"evenodd\" fill-opacity=\"1\" /><path clip-path=\"url(#clip480)\" d=\"M 0 0 M20.1817 747.197 Q21.1156 747.197 21.3089 747.615 Q21.5021 748.002 21.5021 749.29 Q21.5021 750.804 21.6309 751.738 Q21.7275 752.672 21.8886 753.251 Q22.0174 753.831 22.4683 754.185 Q22.9192 754.507 23.3056 754.636 Q23.6599 754.765 24.5295 754.99 L59.666 763.75 Q60.8577 764.072 61.2763 764.072 Q61.695 764.072 61.9527 763.815 Q62.2103 763.525 62.3391 762.816 Q62.4358 762.108 62.468 761.56 Q62.468 760.981 62.468 759.789 Q62.468 758.308 62.7256 758.082 Q62.8866 757.953 63.1765 757.953 Q63.7884 757.953 64.1105 758.211 Q64.4003 758.469 64.4647 758.694 Q64.4969 758.887 64.4969 759.209 Q64.4969 760.562 64.4003 763.332 Q64.3037 766.101 64.3037 767.454 L64.4969 775.634 Q64.4969 776.601 63.6918 776.601 Q63.0799 776.601 62.8222 776.343 Q62.5324 776.085 62.5002 775.795 Q62.468 775.506 62.468 774.765 Q62.468 772.124 62.1781 770.997 Q61.8883 769.837 61.373 769.515 Q60.8255 769.161 59.344 768.774 L21.5665 759.338 L21.5665 759.403 L63.3053 786.037 L63.5952 786.23 Q63.8528 786.423 63.9494 786.488 Q64.0138 786.552 64.2071 786.745 Q64.3681 786.906 64.4325 787.1 Q64.4969 787.261 64.4969 787.486 Q64.4969 787.873 64.2393 788.098 Q63.9816 788.291 63.7884 788.356 Q63.563 788.388 62.9833 788.484 L22.0818 794.153 L22.0818 794.217 L58.0236 803.203 Q59.0219 803.46 59.5372 803.46 Q60.8577 803.46 61.6628 802.526 Q62.4358 801.56 62.468 798.984 Q62.468 797.792 63.1765 797.792 Q64.4969 797.792 64.4969 798.984 Q64.4969 800.079 64.4003 802.365 Q64.3037 804.652 64.3037 805.779 Q64.3037 806.874 64.4003 809.096 Q64.4969 811.286 64.4969 812.349 Q64.4969 813.283 63.6918 813.283 Q62.468 813.283 62.468 812.091 Q62.4035 810.159 62.0171 808.839 Q61.6306 807.518 60.8899 806.777 Q60.1491 806.004 59.4084 805.65 Q58.6355 805.264 57.5083 804.974 L23.9175 796.6 Q22.8547 796.343 22.6937 796.343 Q22.1462 796.343 21.953 796.665 Q21.7275 796.955 21.6309 797.792 Q21.5021 799.402 21.5021 800.626 Q21.5021 801.431 21.4699 801.753 Q21.4377 802.043 21.2767 802.301 Q21.0834 802.526 20.697 802.526 Q20.085 802.526 19.8274 802.269 Q19.5375 801.979 19.5053 801.657 Q19.4409 801.335 19.4409 800.562 L19.4409 791.512 Q19.4409 790.191 19.6664 789.902 Q19.8596 789.612 20.9546 789.483 L58.2812 784.33 L20.697 760.24 Q19.763 759.628 19.602 759.306 Q19.4409 758.984 19.4409 757.696 L19.4409 748.968 Q19.4409 748.259 19.4731 747.969 Q19.5053 747.68 19.6664 747.454 Q19.8274 747.197 20.1817 747.197 Z\" fill=\"#000000\" fill-rule=\"evenodd\" fill-opacity=\"1\" /><path clip-path=\"url(#clip480)\" d=\"M 0 0 M48.0075 749.933 Q36.8643 749.933 27.8789 745.778 Q24.1108 744.007 20.9546 741.527 Q17.7984 739.047 16.4136 737.404 Q15.0287 735.762 15.0287 735.311 Q15.0287 734.667 15.6728 734.635 Q15.9949 734.635 16.8 735.504 Q27.6212 746.132 48.0075 746.1 Q68.4582 746.1 78.8607 735.762 Q79.9879 734.635 80.3422 734.635 Q80.9863 734.635 80.9863 735.311 Q80.9863 735.762 79.6659 737.34 Q78.3454 738.918 75.3181 741.366 Q72.2907 743.813 68.5871 745.585 Q59.6016 749.933 48.0075 749.933 Z\" fill=\"#000000\" fill-rule=\"evenodd\" fill-opacity=\"1\" /><path clip-path=\"url(#clip480)\" d=\"M 0 0 M55.0606 692.238 Q55.3183 692.238 56.3166 692.528 Q57.315 692.818 58.8609 693.526 Q60.4068 694.203 61.8238 695.137 Q63.2087 696.071 64.2393 697.617 Q65.2377 699.13 65.2377 700.869 Q65.2377 703.188 63.6918 704.734 Q62.1459 706.28 59.8271 706.28 Q59.505 706.28 59.183 706.248 Q58.8609 706.216 58.6677 706.183 Q58.4422 706.151 58.088 706.055 Q57.7015 705.926 57.5405 705.894 Q57.3794 705.829 56.8963 705.668 Q56.3811 705.475 56.1878 705.41 Q45.7531 701.32 41.4053 701.32 Q36.7999 701.32 36.7999 704.895 Q36.7999 708.084 39.1187 711.24 Q40.2781 712.689 42.3393 714.074 Q44.4005 715.459 45.1734 715.716 Q46.8481 716.006 48.1364 716.425 Q49.0381 716.618 52.5486 717.552 L58.5066 719.001 L63.4985 720.257 Q64.2071 720.515 64.7224 721.224 Q65.2377 721.932 65.2377 722.705 Q65.2377 723.349 64.7868 723.993 Q64.3681 724.605 63.3697 724.605 Q62.8544 724.605 61.9205 724.348 L23.9175 714.782 L22.6293 714.589 Q22.2428 714.589 22.0496 714.75 Q21.8242 714.879 21.6631 715.652 Q21.5021 716.393 21.5021 717.874 Q21.5021 718.486 21.4699 718.776 Q21.4377 719.034 21.2767 719.259 Q21.0834 719.484 20.697 719.484 Q20.1495 719.484 19.8596 719.259 Q19.5375 719.001 19.4731 718.808 Q19.4087 718.615 19.3765 718.228 Q19.3443 717.681 19.1833 715.845 Q18.99 714.009 18.8612 712.431 Q18.7324 710.853 18.7324 710.177 Q18.7324 709.79 18.9256 709.597 Q19.0867 709.372 19.2799 709.34 L19.4409 709.307 L40.4069 714.46 Q35.3506 710.37 35.3506 704.702 Q35.3506 701.03 37.2508 699.066 Q39.1187 697.101 42.4037 697.101 Q46.1718 697.101 56.8963 701.127 Q59.8915 702.319 61.5984 702.319 Q62.7256 702.319 63.2409 701.964 Q63.7562 701.578 63.7562 700.741 Q63.7562 699.452 63.0155 698.325 Q62.2425 697.166 60.9865 696.361 Q59.6983 695.555 58.41 695.008 Q57.0896 694.428 55.6081 694.01 Q54.803 693.752 54.6097 693.623 Q54.4165 693.462 54.4165 693.011 Q54.4165 692.238 55.0606 692.238 Z\" fill=\"#000000\" fill-rule=\"evenodd\" fill-opacity=\"1\" /><path clip-path=\"url(#clip480)\" d=\"M 0 0 M80.3422 686.997 Q80.0202 686.997 79.215 686.159 Q68.3938 675.532 48.0075 675.532 Q27.5568 675.532 17.2187 685.741 Q16.0271 686.997 15.6728 686.997 Q15.0287 686.997 15.0287 686.353 Q15.0287 685.902 16.3492 684.324 Q17.6696 682.713 20.697 680.298 Q23.7243 677.85 27.428 676.047 Q36.4134 671.699 48.0075 671.699 Q59.1508 671.699 68.1362 675.854 Q71.9043 677.625 75.0605 680.105 Q78.2166 682.585 79.6015 684.227 Q80.9863 685.87 80.9863 686.353 Q80.9863 686.997 80.3422 686.997 Z\" fill=\"#000000\" fill-rule=\"evenodd\" fill-opacity=\"1\" /><polyline clip-path=\"url(#clip482)\" style=\"stroke:#009af9; stroke-width:4; stroke-opacity:1; fill:none\" points=\"\n",
       "  276.375,86.4522 500.365,87.6158 724.354,96.4693 948.343,156.899 1172.33,397.296 1396.32,703.033 1620.31,858.778 1844.3,917.971 2068.29,939.403 2292.28,947.113 \n",
       "  \n",
       "  \"/>\n",
       "<circle clip-path=\"url(#clip482)\" cx=\"276.375\" cy=\"86.4522\" r=\"14\" fill=\"#009af9\" fill-rule=\"evenodd\" fill-opacity=\"1\" stroke=\"#000000\" stroke-opacity=\"1\" stroke-width=\"3.2\"/>\n",
       "<circle clip-path=\"url(#clip482)\" cx=\"500.365\" cy=\"87.6158\" r=\"14\" fill=\"#009af9\" fill-rule=\"evenodd\" fill-opacity=\"1\" stroke=\"#000000\" stroke-opacity=\"1\" stroke-width=\"3.2\"/>\n",
       "<circle clip-path=\"url(#clip482)\" cx=\"724.354\" cy=\"96.4693\" r=\"14\" fill=\"#009af9\" fill-rule=\"evenodd\" fill-opacity=\"1\" stroke=\"#000000\" stroke-opacity=\"1\" stroke-width=\"3.2\"/>\n",
       "<circle clip-path=\"url(#clip482)\" cx=\"948.343\" cy=\"156.899\" r=\"14\" fill=\"#009af9\" fill-rule=\"evenodd\" fill-opacity=\"1\" stroke=\"#000000\" stroke-opacity=\"1\" stroke-width=\"3.2\"/>\n",
       "<circle clip-path=\"url(#clip482)\" cx=\"1172.33\" cy=\"397.296\" r=\"14\" fill=\"#009af9\" fill-rule=\"evenodd\" fill-opacity=\"1\" stroke=\"#000000\" stroke-opacity=\"1\" stroke-width=\"3.2\"/>\n",
       "<circle clip-path=\"url(#clip482)\" cx=\"1396.32\" cy=\"703.033\" r=\"14\" fill=\"#009af9\" fill-rule=\"evenodd\" fill-opacity=\"1\" stroke=\"#000000\" stroke-opacity=\"1\" stroke-width=\"3.2\"/>\n",
       "<circle clip-path=\"url(#clip482)\" cx=\"1620.31\" cy=\"858.778\" r=\"14\" fill=\"#009af9\" fill-rule=\"evenodd\" fill-opacity=\"1\" stroke=\"#000000\" stroke-opacity=\"1\" stroke-width=\"3.2\"/>\n",
       "<circle clip-path=\"url(#clip482)\" cx=\"1844.3\" cy=\"917.971\" r=\"14\" fill=\"#009af9\" fill-rule=\"evenodd\" fill-opacity=\"1\" stroke=\"#000000\" stroke-opacity=\"1\" stroke-width=\"3.2\"/>\n",
       "<circle clip-path=\"url(#clip482)\" cx=\"2068.29\" cy=\"939.403\" r=\"14\" fill=\"#009af9\" fill-rule=\"evenodd\" fill-opacity=\"1\" stroke=\"#000000\" stroke-opacity=\"1\" stroke-width=\"3.2\"/>\n",
       "<circle clip-path=\"url(#clip482)\" cx=\"2292.28\" cy=\"947.113\" r=\"14\" fill=\"#009af9\" fill-rule=\"evenodd\" fill-opacity=\"1\" stroke=\"#000000\" stroke-opacity=\"1\" stroke-width=\"3.2\"/>\n",
       "<polyline clip-path=\"url(#clip482)\" style=\"stroke:#e26f46; stroke-width:4; stroke-opacity:1; fill:none\" points=\"\n",
       "  276.375,86.3451 500.365,86.8034 724.354,90.6343 948.343,125.421 1172.33,371.051 1396.32,743.498 1620.31,884.343 1844.3,928.462 2068.29,943.33 2292.28,948.544 \n",
       "  \n",
       "  \"/>\n",
       "<circle clip-path=\"url(#clip482)\" cx=\"276.375\" cy=\"86.3451\" r=\"14\" fill=\"#e26f46\" fill-rule=\"evenodd\" fill-opacity=\"1\" stroke=\"#000000\" stroke-opacity=\"1\" stroke-width=\"3.2\"/>\n",
       "<circle clip-path=\"url(#clip482)\" cx=\"500.365\" cy=\"86.8034\" r=\"14\" fill=\"#e26f46\" fill-rule=\"evenodd\" fill-opacity=\"1\" stroke=\"#000000\" stroke-opacity=\"1\" stroke-width=\"3.2\"/>\n",
       "<circle clip-path=\"url(#clip482)\" cx=\"724.354\" cy=\"90.6343\" r=\"14\" fill=\"#e26f46\" fill-rule=\"evenodd\" fill-opacity=\"1\" stroke=\"#000000\" stroke-opacity=\"1\" stroke-width=\"3.2\"/>\n",
       "<circle clip-path=\"url(#clip482)\" cx=\"948.343\" cy=\"125.421\" r=\"14\" fill=\"#e26f46\" fill-rule=\"evenodd\" fill-opacity=\"1\" stroke=\"#000000\" stroke-opacity=\"1\" stroke-width=\"3.2\"/>\n",
       "<circle clip-path=\"url(#clip482)\" cx=\"1172.33\" cy=\"371.051\" r=\"14\" fill=\"#e26f46\" fill-rule=\"evenodd\" fill-opacity=\"1\" stroke=\"#000000\" stroke-opacity=\"1\" stroke-width=\"3.2\"/>\n",
       "<circle clip-path=\"url(#clip482)\" cx=\"1396.32\" cy=\"743.498\" r=\"14\" fill=\"#e26f46\" fill-rule=\"evenodd\" fill-opacity=\"1\" stroke=\"#000000\" stroke-opacity=\"1\" stroke-width=\"3.2\"/>\n",
       "<circle clip-path=\"url(#clip482)\" cx=\"1620.31\" cy=\"884.343\" r=\"14\" fill=\"#e26f46\" fill-rule=\"evenodd\" fill-opacity=\"1\" stroke=\"#000000\" stroke-opacity=\"1\" stroke-width=\"3.2\"/>\n",
       "<circle clip-path=\"url(#clip482)\" cx=\"1844.3\" cy=\"928.462\" r=\"14\" fill=\"#e26f46\" fill-rule=\"evenodd\" fill-opacity=\"1\" stroke=\"#000000\" stroke-opacity=\"1\" stroke-width=\"3.2\"/>\n",
       "<circle clip-path=\"url(#clip482)\" cx=\"2068.29\" cy=\"943.33\" r=\"14\" fill=\"#e26f46\" fill-rule=\"evenodd\" fill-opacity=\"1\" stroke=\"#000000\" stroke-opacity=\"1\" stroke-width=\"3.2\"/>\n",
       "<circle clip-path=\"url(#clip482)\" cx=\"2292.28\" cy=\"948.544\" r=\"14\" fill=\"#e26f46\" fill-rule=\"evenodd\" fill-opacity=\"1\" stroke=\"#000000\" stroke-opacity=\"1\" stroke-width=\"3.2\"/>\n",
       "<polyline clip-path=\"url(#clip482)\" style=\"stroke:#3da44d; stroke-width:4; stroke-opacity:1; fill:none\" points=\"\n",
       "  276.375,86.3333 500.365,86.6989 724.354,89.583 948.343,114.894 1172.33,378.716 1396.32,920.542 1620.31,1092.03 1844.3,1141.92 2068.29,1158.62 2292.28,1164.47 \n",
       "  \n",
       "  \"/>\n",
       "<circle clip-path=\"url(#clip482)\" cx=\"276.375\" cy=\"86.3333\" r=\"14\" fill=\"#3da44d\" fill-rule=\"evenodd\" fill-opacity=\"1\" stroke=\"#000000\" stroke-opacity=\"1\" stroke-width=\"3.2\"/>\n",
       "<circle clip-path=\"url(#clip482)\" cx=\"500.365\" cy=\"86.6989\" r=\"14\" fill=\"#3da44d\" fill-rule=\"evenodd\" fill-opacity=\"1\" stroke=\"#000000\" stroke-opacity=\"1\" stroke-width=\"3.2\"/>\n",
       "<circle clip-path=\"url(#clip482)\" cx=\"724.354\" cy=\"89.583\" r=\"14\" fill=\"#3da44d\" fill-rule=\"evenodd\" fill-opacity=\"1\" stroke=\"#000000\" stroke-opacity=\"1\" stroke-width=\"3.2\"/>\n",
       "<circle clip-path=\"url(#clip482)\" cx=\"948.343\" cy=\"114.894\" r=\"14\" fill=\"#3da44d\" fill-rule=\"evenodd\" fill-opacity=\"1\" stroke=\"#000000\" stroke-opacity=\"1\" stroke-width=\"3.2\"/>\n",
       "<circle clip-path=\"url(#clip482)\" cx=\"1172.33\" cy=\"378.716\" r=\"14\" fill=\"#3da44d\" fill-rule=\"evenodd\" fill-opacity=\"1\" stroke=\"#000000\" stroke-opacity=\"1\" stroke-width=\"3.2\"/>\n",
       "<circle clip-path=\"url(#clip482)\" cx=\"1396.32\" cy=\"920.542\" r=\"14\" fill=\"#3da44d\" fill-rule=\"evenodd\" fill-opacity=\"1\" stroke=\"#000000\" stroke-opacity=\"1\" stroke-width=\"3.2\"/>\n",
       "<circle clip-path=\"url(#clip482)\" cx=\"1620.31\" cy=\"1092.03\" r=\"14\" fill=\"#3da44d\" fill-rule=\"evenodd\" fill-opacity=\"1\" stroke=\"#000000\" stroke-opacity=\"1\" stroke-width=\"3.2\"/>\n",
       "<circle clip-path=\"url(#clip482)\" cx=\"1844.3\" cy=\"1141.92\" r=\"14\" fill=\"#3da44d\" fill-rule=\"evenodd\" fill-opacity=\"1\" stroke=\"#000000\" stroke-opacity=\"1\" stroke-width=\"3.2\"/>\n",
       "<circle clip-path=\"url(#clip482)\" cx=\"2068.29\" cy=\"1158.62\" r=\"14\" fill=\"#3da44d\" fill-rule=\"evenodd\" fill-opacity=\"1\" stroke=\"#000000\" stroke-opacity=\"1\" stroke-width=\"3.2\"/>\n",
       "<circle clip-path=\"url(#clip482)\" cx=\"2292.28\" cy=\"1164.47\" r=\"14\" fill=\"#3da44d\" fill-rule=\"evenodd\" fill-opacity=\"1\" stroke=\"#000000\" stroke-opacity=\"1\" stroke-width=\"3.2\"/>\n",
       "<polyline clip-path=\"url(#clip482)\" style=\"stroke:#c271d2; stroke-width:4; stroke-opacity:1; fill:none\" points=\"\n",
       "  276.375,86.3268 500.365,86.6479 724.354,89.1479 948.343,109.735 1172.33,346.342 1396.32,950.722 1620.31,1105.66 1844.3,1146.91 2068.29,1160.42 2292.28,1165.12 \n",
       "  \n",
       "  \"/>\n",
       "<circle clip-path=\"url(#clip482)\" cx=\"276.375\" cy=\"86.3268\" r=\"14\" fill=\"#c271d2\" fill-rule=\"evenodd\" fill-opacity=\"1\" stroke=\"#000000\" stroke-opacity=\"1\" stroke-width=\"3.2\"/>\n",
       "<circle clip-path=\"url(#clip482)\" cx=\"500.365\" cy=\"86.6479\" r=\"14\" fill=\"#c271d2\" fill-rule=\"evenodd\" fill-opacity=\"1\" stroke=\"#000000\" stroke-opacity=\"1\" stroke-width=\"3.2\"/>\n",
       "<circle clip-path=\"url(#clip482)\" cx=\"724.354\" cy=\"89.1479\" r=\"14\" fill=\"#c271d2\" fill-rule=\"evenodd\" fill-opacity=\"1\" stroke=\"#000000\" stroke-opacity=\"1\" stroke-width=\"3.2\"/>\n",
       "<circle clip-path=\"url(#clip482)\" cx=\"948.343\" cy=\"109.735\" r=\"14\" fill=\"#c271d2\" fill-rule=\"evenodd\" fill-opacity=\"1\" stroke=\"#000000\" stroke-opacity=\"1\" stroke-width=\"3.2\"/>\n",
       "<circle clip-path=\"url(#clip482)\" cx=\"1172.33\" cy=\"346.342\" r=\"14\" fill=\"#c271d2\" fill-rule=\"evenodd\" fill-opacity=\"1\" stroke=\"#000000\" stroke-opacity=\"1\" stroke-width=\"3.2\"/>\n",
       "<circle clip-path=\"url(#clip482)\" cx=\"1396.32\" cy=\"950.722\" r=\"14\" fill=\"#c271d2\" fill-rule=\"evenodd\" fill-opacity=\"1\" stroke=\"#000000\" stroke-opacity=\"1\" stroke-width=\"3.2\"/>\n",
       "<circle clip-path=\"url(#clip482)\" cx=\"1620.31\" cy=\"1105.66\" r=\"14\" fill=\"#c271d2\" fill-rule=\"evenodd\" fill-opacity=\"1\" stroke=\"#000000\" stroke-opacity=\"1\" stroke-width=\"3.2\"/>\n",
       "<circle clip-path=\"url(#clip482)\" cx=\"1844.3\" cy=\"1146.91\" r=\"14\" fill=\"#c271d2\" fill-rule=\"evenodd\" fill-opacity=\"1\" stroke=\"#000000\" stroke-opacity=\"1\" stroke-width=\"3.2\"/>\n",
       "<circle clip-path=\"url(#clip482)\" cx=\"2068.29\" cy=\"1160.42\" r=\"14\" fill=\"#c271d2\" fill-rule=\"evenodd\" fill-opacity=\"1\" stroke=\"#000000\" stroke-opacity=\"1\" stroke-width=\"3.2\"/>\n",
       "<circle clip-path=\"url(#clip482)\" cx=\"2292.28\" cy=\"1165.12\" r=\"14\" fill=\"#c271d2\" fill-rule=\"evenodd\" fill-opacity=\"1\" stroke=\"#000000\" stroke-opacity=\"1\" stroke-width=\"3.2\"/>\n",
       "<polyline clip-path=\"url(#clip482)\" style=\"stroke:#ac8d18; stroke-width:4; stroke-opacity:1; fill:none\" points=\"\n",
       "  276.375,86.3225 500.365,86.6143 724.354,88.8834 948.343,107.176 1172.33,326.086 1396.32,1047.52 1620.31,1211.55 1844.3,1254.25 2068.29,1268.26 2292.28,1273.16 \n",
       "  \n",
       "  \"/>\n",
       "<circle clip-path=\"url(#clip482)\" cx=\"276.375\" cy=\"86.3225\" r=\"14\" fill=\"#ac8d18\" fill-rule=\"evenodd\" fill-opacity=\"1\" stroke=\"#000000\" stroke-opacity=\"1\" stroke-width=\"3.2\"/>\n",
       "<circle clip-path=\"url(#clip482)\" cx=\"500.365\" cy=\"86.6143\" r=\"14\" fill=\"#ac8d18\" fill-rule=\"evenodd\" fill-opacity=\"1\" stroke=\"#000000\" stroke-opacity=\"1\" stroke-width=\"3.2\"/>\n",
       "<circle clip-path=\"url(#clip482)\" cx=\"724.354\" cy=\"88.8834\" r=\"14\" fill=\"#ac8d18\" fill-rule=\"evenodd\" fill-opacity=\"1\" stroke=\"#000000\" stroke-opacity=\"1\" stroke-width=\"3.2\"/>\n",
       "<circle clip-path=\"url(#clip482)\" cx=\"948.343\" cy=\"107.176\" r=\"14\" fill=\"#ac8d18\" fill-rule=\"evenodd\" fill-opacity=\"1\" stroke=\"#000000\" stroke-opacity=\"1\" stroke-width=\"3.2\"/>\n",
       "<circle clip-path=\"url(#clip482)\" cx=\"1172.33\" cy=\"326.086\" r=\"14\" fill=\"#ac8d18\" fill-rule=\"evenodd\" fill-opacity=\"1\" stroke=\"#000000\" stroke-opacity=\"1\" stroke-width=\"3.2\"/>\n",
       "<circle clip-path=\"url(#clip482)\" cx=\"1396.32\" cy=\"1047.52\" r=\"14\" fill=\"#ac8d18\" fill-rule=\"evenodd\" fill-opacity=\"1\" stroke=\"#000000\" stroke-opacity=\"1\" stroke-width=\"3.2\"/>\n",
       "<circle clip-path=\"url(#clip482)\" cx=\"1620.31\" cy=\"1211.55\" r=\"14\" fill=\"#ac8d18\" fill-rule=\"evenodd\" fill-opacity=\"1\" stroke=\"#000000\" stroke-opacity=\"1\" stroke-width=\"3.2\"/>\n",
       "<circle clip-path=\"url(#clip482)\" cx=\"1844.3\" cy=\"1254.25\" r=\"14\" fill=\"#ac8d18\" fill-rule=\"evenodd\" fill-opacity=\"1\" stroke=\"#000000\" stroke-opacity=\"1\" stroke-width=\"3.2\"/>\n",
       "<circle clip-path=\"url(#clip482)\" cx=\"2068.29\" cy=\"1268.26\" r=\"14\" fill=\"#ac8d18\" fill-rule=\"evenodd\" fill-opacity=\"1\" stroke=\"#000000\" stroke-opacity=\"1\" stroke-width=\"3.2\"/>\n",
       "<circle clip-path=\"url(#clip482)\" cx=\"2292.28\" cy=\"1273.16\" r=\"14\" fill=\"#ac8d18\" fill-rule=\"evenodd\" fill-opacity=\"1\" stroke=\"#000000\" stroke-opacity=\"1\" stroke-width=\"3.2\"/>\n",
       "<polyline clip-path=\"url(#clip482)\" style=\"stroke:#00a9ad; stroke-width:4; stroke-opacity:1; fill:none\" points=\"\n",
       "  276.375,86.3194 500.365,86.5904 724.354,88.6968 948.343,105.553 1172.33,301.643 1396.32,1069.82 1620.31,1220 1844.3,1257.25 2068.29,1269.34 2292.28,1273.55 \n",
       "  \n",
       "  \"/>\n",
       "<circle clip-path=\"url(#clip482)\" cx=\"276.375\" cy=\"86.3194\" r=\"14\" fill=\"#00a9ad\" fill-rule=\"evenodd\" fill-opacity=\"1\" stroke=\"#000000\" stroke-opacity=\"1\" stroke-width=\"3.2\"/>\n",
       "<circle clip-path=\"url(#clip482)\" cx=\"500.365\" cy=\"86.5904\" r=\"14\" fill=\"#00a9ad\" fill-rule=\"evenodd\" fill-opacity=\"1\" stroke=\"#000000\" stroke-opacity=\"1\" stroke-width=\"3.2\"/>\n",
       "<circle clip-path=\"url(#clip482)\" cx=\"724.354\" cy=\"88.6968\" r=\"14\" fill=\"#00a9ad\" fill-rule=\"evenodd\" fill-opacity=\"1\" stroke=\"#000000\" stroke-opacity=\"1\" stroke-width=\"3.2\"/>\n",
       "<circle clip-path=\"url(#clip482)\" cx=\"948.343\" cy=\"105.553\" r=\"14\" fill=\"#00a9ad\" fill-rule=\"evenodd\" fill-opacity=\"1\" stroke=\"#000000\" stroke-opacity=\"1\" stroke-width=\"3.2\"/>\n",
       "<circle clip-path=\"url(#clip482)\" cx=\"1172.33\" cy=\"301.643\" r=\"14\" fill=\"#00a9ad\" fill-rule=\"evenodd\" fill-opacity=\"1\" stroke=\"#000000\" stroke-opacity=\"1\" stroke-width=\"3.2\"/>\n",
       "<circle clip-path=\"url(#clip482)\" cx=\"1396.32\" cy=\"1069.82\" r=\"14\" fill=\"#00a9ad\" fill-rule=\"evenodd\" fill-opacity=\"1\" stroke=\"#000000\" stroke-opacity=\"1\" stroke-width=\"3.2\"/>\n",
       "<circle clip-path=\"url(#clip482)\" cx=\"1620.31\" cy=\"1220\" r=\"14\" fill=\"#00a9ad\" fill-rule=\"evenodd\" fill-opacity=\"1\" stroke=\"#000000\" stroke-opacity=\"1\" stroke-width=\"3.2\"/>\n",
       "<circle clip-path=\"url(#clip482)\" cx=\"1844.3\" cy=\"1257.25\" r=\"14\" fill=\"#00a9ad\" fill-rule=\"evenodd\" fill-opacity=\"1\" stroke=\"#000000\" stroke-opacity=\"1\" stroke-width=\"3.2\"/>\n",
       "<circle clip-path=\"url(#clip482)\" cx=\"2068.29\" cy=\"1269.34\" r=\"14\" fill=\"#00a9ad\" fill-rule=\"evenodd\" fill-opacity=\"1\" stroke=\"#000000\" stroke-opacity=\"1\" stroke-width=\"3.2\"/>\n",
       "<circle clip-path=\"url(#clip482)\" cx=\"2292.28\" cy=\"1273.55\" r=\"14\" fill=\"#00a9ad\" fill-rule=\"evenodd\" fill-opacity=\"1\" stroke=\"#000000\" stroke-opacity=\"1\" stroke-width=\"3.2\"/>\n",
       "<polyline clip-path=\"url(#clip482)\" style=\"stroke:#ed5d92; stroke-width:4; stroke-opacity:1; fill:none\" points=\"\n",
       "  276.375,86.3171 500.365,86.5724 724.354,88.5571 948.343,104.402 1172.33,284.331 1396.32,1133.64 1620.31,1286.72 1844.3,1324.49 2068.29,1336.8 2292.28,1341.09 \n",
       "  \n",
       "  \"/>\n",
       "<circle clip-path=\"url(#clip482)\" cx=\"276.375\" cy=\"86.3171\" r=\"14\" fill=\"#ed5d92\" fill-rule=\"evenodd\" fill-opacity=\"1\" stroke=\"#000000\" stroke-opacity=\"1\" stroke-width=\"3.2\"/>\n",
       "<circle clip-path=\"url(#clip482)\" cx=\"500.365\" cy=\"86.5724\" r=\"14\" fill=\"#ed5d92\" fill-rule=\"evenodd\" fill-opacity=\"1\" stroke=\"#000000\" stroke-opacity=\"1\" stroke-width=\"3.2\"/>\n",
       "<circle clip-path=\"url(#clip482)\" cx=\"724.354\" cy=\"88.5571\" r=\"14\" fill=\"#ed5d92\" fill-rule=\"evenodd\" fill-opacity=\"1\" stroke=\"#000000\" stroke-opacity=\"1\" stroke-width=\"3.2\"/>\n",
       "<circle clip-path=\"url(#clip482)\" cx=\"948.343\" cy=\"104.402\" r=\"14\" fill=\"#ed5d92\" fill-rule=\"evenodd\" fill-opacity=\"1\" stroke=\"#000000\" stroke-opacity=\"1\" stroke-width=\"3.2\"/>\n",
       "<circle clip-path=\"url(#clip482)\" cx=\"1172.33\" cy=\"284.331\" r=\"14\" fill=\"#ed5d92\" fill-rule=\"evenodd\" fill-opacity=\"1\" stroke=\"#000000\" stroke-opacity=\"1\" stroke-width=\"3.2\"/>\n",
       "<circle clip-path=\"url(#clip482)\" cx=\"1396.32\" cy=\"1133.64\" r=\"14\" fill=\"#ed5d92\" fill-rule=\"evenodd\" fill-opacity=\"1\" stroke=\"#000000\" stroke-opacity=\"1\" stroke-width=\"3.2\"/>\n",
       "<circle clip-path=\"url(#clip482)\" cx=\"1620.31\" cy=\"1286.72\" r=\"14\" fill=\"#ed5d92\" fill-rule=\"evenodd\" fill-opacity=\"1\" stroke=\"#000000\" stroke-opacity=\"1\" stroke-width=\"3.2\"/>\n",
       "<circle clip-path=\"url(#clip482)\" cx=\"1844.3\" cy=\"1324.49\" r=\"14\" fill=\"#ed5d92\" fill-rule=\"evenodd\" fill-opacity=\"1\" stroke=\"#000000\" stroke-opacity=\"1\" stroke-width=\"3.2\"/>\n",
       "<circle clip-path=\"url(#clip482)\" cx=\"2068.29\" cy=\"1336.8\" r=\"14\" fill=\"#ed5d92\" fill-rule=\"evenodd\" fill-opacity=\"1\" stroke=\"#000000\" stroke-opacity=\"1\" stroke-width=\"3.2\"/>\n",
       "<circle clip-path=\"url(#clip482)\" cx=\"2292.28\" cy=\"1341.09\" r=\"14\" fill=\"#ed5d92\" fill-rule=\"evenodd\" fill-opacity=\"1\" stroke=\"#000000\" stroke-opacity=\"1\" stroke-width=\"3.2\"/>\n",
       "<polyline clip-path=\"url(#clip482)\" style=\"stroke:#c68125; stroke-width:4; stroke-opacity:1; fill:none\" points=\"\n",
       "  276.375,86.3153 500.365,86.5585 724.354,88.4485 948.343,103.521 1172.33,269.039 1396.32,1150.6 1620.31,1292.57 1844.3,1326.55 2068.29,1337.53 2292.28,1341.35 \n",
       "  \n",
       "  \"/>\n",
       "<circle clip-path=\"url(#clip482)\" cx=\"276.375\" cy=\"86.3153\" r=\"14\" fill=\"#c68125\" fill-rule=\"evenodd\" fill-opacity=\"1\" stroke=\"#000000\" stroke-opacity=\"1\" stroke-width=\"3.2\"/>\n",
       "<circle clip-path=\"url(#clip482)\" cx=\"500.365\" cy=\"86.5585\" r=\"14\" fill=\"#c68125\" fill-rule=\"evenodd\" fill-opacity=\"1\" stroke=\"#000000\" stroke-opacity=\"1\" stroke-width=\"3.2\"/>\n",
       "<circle clip-path=\"url(#clip482)\" cx=\"724.354\" cy=\"88.4485\" r=\"14\" fill=\"#c68125\" fill-rule=\"evenodd\" fill-opacity=\"1\" stroke=\"#000000\" stroke-opacity=\"1\" stroke-width=\"3.2\"/>\n",
       "<circle clip-path=\"url(#clip482)\" cx=\"948.343\" cy=\"103.521\" r=\"14\" fill=\"#c68125\" fill-rule=\"evenodd\" fill-opacity=\"1\" stroke=\"#000000\" stroke-opacity=\"1\" stroke-width=\"3.2\"/>\n",
       "<circle clip-path=\"url(#clip482)\" cx=\"1172.33\" cy=\"269.039\" r=\"14\" fill=\"#c68125\" fill-rule=\"evenodd\" fill-opacity=\"1\" stroke=\"#000000\" stroke-opacity=\"1\" stroke-width=\"3.2\"/>\n",
       "<circle clip-path=\"url(#clip482)\" cx=\"1396.32\" cy=\"1150.6\" r=\"14\" fill=\"#c68125\" fill-rule=\"evenodd\" fill-opacity=\"1\" stroke=\"#000000\" stroke-opacity=\"1\" stroke-width=\"3.2\"/>\n",
       "<circle clip-path=\"url(#clip482)\" cx=\"1620.31\" cy=\"1292.57\" r=\"14\" fill=\"#c68125\" fill-rule=\"evenodd\" fill-opacity=\"1\" stroke=\"#000000\" stroke-opacity=\"1\" stroke-width=\"3.2\"/>\n",
       "<circle clip-path=\"url(#clip482)\" cx=\"1844.3\" cy=\"1326.55\" r=\"14\" fill=\"#c68125\" fill-rule=\"evenodd\" fill-opacity=\"1\" stroke=\"#000000\" stroke-opacity=\"1\" stroke-width=\"3.2\"/>\n",
       "<circle clip-path=\"url(#clip482)\" cx=\"2068.29\" cy=\"1337.53\" r=\"14\" fill=\"#c68125\" fill-rule=\"evenodd\" fill-opacity=\"1\" stroke=\"#000000\" stroke-opacity=\"1\" stroke-width=\"3.2\"/>\n",
       "<circle clip-path=\"url(#clip482)\" cx=\"2292.28\" cy=\"1341.35\" r=\"14\" fill=\"#c68125\" fill-rule=\"evenodd\" fill-opacity=\"1\" stroke=\"#000000\" stroke-opacity=\"1\" stroke-width=\"3.2\"/>\n",
       "<polyline clip-path=\"url(#clip482)\" style=\"stroke:#00a98d; stroke-width:4; stroke-opacity:1; fill:none\" points=\"\n",
       "  276.375,86.3138 500.365,86.5473 724.354,88.3615 948.343,102.821 1172.33,257.819 1396.32,1196.77 1620.31,1339.48 1844.3,1373.68 2068.29,1384.78 2292.28,1388.64 \n",
       "  \n",
       "  \"/>\n",
       "<circle clip-path=\"url(#clip482)\" cx=\"276.375\" cy=\"86.3138\" r=\"14\" fill=\"#00a98d\" fill-rule=\"evenodd\" fill-opacity=\"1\" stroke=\"#000000\" stroke-opacity=\"1\" stroke-width=\"3.2\"/>\n",
       "<circle clip-path=\"url(#clip482)\" cx=\"500.365\" cy=\"86.5473\" r=\"14\" fill=\"#00a98d\" fill-rule=\"evenodd\" fill-opacity=\"1\" stroke=\"#000000\" stroke-opacity=\"1\" stroke-width=\"3.2\"/>\n",
       "<circle clip-path=\"url(#clip482)\" cx=\"724.354\" cy=\"88.3615\" r=\"14\" fill=\"#00a98d\" fill-rule=\"evenodd\" fill-opacity=\"1\" stroke=\"#000000\" stroke-opacity=\"1\" stroke-width=\"3.2\"/>\n",
       "<circle clip-path=\"url(#clip482)\" cx=\"948.343\" cy=\"102.821\" r=\"14\" fill=\"#00a98d\" fill-rule=\"evenodd\" fill-opacity=\"1\" stroke=\"#000000\" stroke-opacity=\"1\" stroke-width=\"3.2\"/>\n",
       "<circle clip-path=\"url(#clip482)\" cx=\"1172.33\" cy=\"257.819\" r=\"14\" fill=\"#00a98d\" fill-rule=\"evenodd\" fill-opacity=\"1\" stroke=\"#000000\" stroke-opacity=\"1\" stroke-width=\"3.2\"/>\n",
       "<circle clip-path=\"url(#clip482)\" cx=\"1396.32\" cy=\"1196.77\" r=\"14\" fill=\"#00a98d\" fill-rule=\"evenodd\" fill-opacity=\"1\" stroke=\"#000000\" stroke-opacity=\"1\" stroke-width=\"3.2\"/>\n",
       "<circle clip-path=\"url(#clip482)\" cx=\"1620.31\" cy=\"1339.48\" r=\"14\" fill=\"#00a98d\" fill-rule=\"evenodd\" fill-opacity=\"1\" stroke=\"#000000\" stroke-opacity=\"1\" stroke-width=\"3.2\"/>\n",
       "<circle clip-path=\"url(#clip482)\" cx=\"1844.3\" cy=\"1373.68\" r=\"14\" fill=\"#00a98d\" fill-rule=\"evenodd\" fill-opacity=\"1\" stroke=\"#000000\" stroke-opacity=\"1\" stroke-width=\"3.2\"/>\n",
       "<circle clip-path=\"url(#clip482)\" cx=\"2068.29\" cy=\"1384.78\" r=\"14\" fill=\"#00a98d\" fill-rule=\"evenodd\" fill-opacity=\"1\" stroke=\"#000000\" stroke-opacity=\"1\" stroke-width=\"3.2\"/>\n",
       "<circle clip-path=\"url(#clip482)\" cx=\"2292.28\" cy=\"1388.64\" r=\"14\" fill=\"#00a98d\" fill-rule=\"evenodd\" fill-opacity=\"1\" stroke=\"#000000\" stroke-opacity=\"1\" stroke-width=\"3.2\"/>\n",
       "<path clip-path=\"url(#clip480)\" d=\"\n",
       "M1886.25 698.06 L2281.53 698.06 L2281.53 93.2596 L1886.25 93.2596  Z\n",
       "  \" fill=\"#ffffff\" fill-rule=\"evenodd\" fill-opacity=\"1\"/>\n",
       "<polyline clip-path=\"url(#clip480)\" style=\"stroke:#000000; stroke-width:4; stroke-opacity:1; fill:none\" points=\"\n",
       "  1886.25,698.06 2281.53,698.06 2281.53,93.2596 1886.25,93.2596 1886.25,698.06 \n",
       "  \"/>\n",
       "<polyline clip-path=\"url(#clip480)\" style=\"stroke:#009af9; stroke-width:4; stroke-opacity:1; fill:none\" points=\"\n",
       "  1910,153.74 2052.45,153.74 \n",
       "  \"/>\n",
       "<circle clip-path=\"url(#clip480)\" cx=\"1981.22\" cy=\"153.74\" r=\"23\" fill=\"#009af9\" fill-rule=\"evenodd\" fill-opacity=\"1\" stroke=\"#000000\" stroke-opacity=\"1\" stroke-width=\"5.12\"/>\n",
       "<path clip-path=\"url(#clip480)\" d=\"M 0 0 M2076.2 136.46 L2082.49 136.46 L2097.82 165.371 L2097.82 136.46 L2102.35 136.46 L2102.35 171.02 L2096.06 171.02 L2080.73 142.108 L2080.73 171.02 L2076.2 171.02 L2076.2 136.46 Z\" fill=\"#000000\" fill-rule=\"evenodd\" fill-opacity=\"1\" /><path clip-path=\"url(#clip480)\" d=\"M 0 0 M2127.1 149.492 L2156.77 149.492 L2156.77 153.381 L2127.1 153.381 L2127.1 149.492 M2127.1 158.936 L2156.77 158.936 L2156.77 162.871 L2127.1 162.871 L2127.1 158.936 Z\" fill=\"#000000\" fill-rule=\"evenodd\" fill-opacity=\"1\" /><path clip-path=\"url(#clip480)\" d=\"M 0 0 M2185.96 167.084 L2202.28 167.084 L2202.28 171.02 L2180.34 171.02 L2180.34 167.084 Q2183 164.33 2187.58 159.7 Q2192.19 155.047 2193.37 153.705 Q2195.62 151.182 2196.5 149.446 Q2197.4 147.686 2197.4 145.997 Q2197.4 143.242 2195.45 141.506 Q2193.53 139.77 2190.43 139.77 Q2188.23 139.77 2185.78 140.534 Q2183.35 141.298 2180.57 142.848 L2180.57 138.126 Q2183.39 136.992 2185.85 136.413 Q2188.3 135.835 2190.34 135.835 Q2195.71 135.835 2198.9 138.52 Q2202.1 141.205 2202.1 145.696 Q2202.1 147.825 2201.29 149.747 Q2200.5 151.645 2198.39 154.237 Q2197.81 154.909 2194.71 158.126 Q2191.61 161.321 2185.96 167.084 Z\" fill=\"#000000\" fill-rule=\"evenodd\" fill-opacity=\"1\" /><polyline clip-path=\"url(#clip480)\" style=\"stroke:#e26f46; stroke-width:4; stroke-opacity:1; fill:none\" points=\"\n",
       "  1910,214.22 2052.45,214.22 \n",
       "  \"/>\n",
       "<circle clip-path=\"url(#clip480)\" cx=\"1981.22\" cy=\"214.22\" r=\"23\" fill=\"#e26f46\" fill-rule=\"evenodd\" fill-opacity=\"1\" stroke=\"#000000\" stroke-opacity=\"1\" stroke-width=\"5.12\"/>\n",
       "<path clip-path=\"url(#clip480)\" d=\"M 0 0 M2076.2 196.94 L2082.49 196.94 L2097.82 225.851 L2097.82 196.94 L2102.35 196.94 L2102.35 231.5 L2096.06 231.5 L2080.73 202.588 L2080.73 231.5 L2076.2 231.5 L2076.2 196.94 Z\" fill=\"#000000\" fill-rule=\"evenodd\" fill-opacity=\"1\" /><path clip-path=\"url(#clip480)\" d=\"M 0 0 M2127.1 209.972 L2156.77 209.972 L2156.77 213.861 L2127.1 213.861 L2127.1 209.972 M2127.1 219.416 L2156.77 219.416 L2156.77 223.351 L2127.1 223.351 L2127.1 219.416 Z\" fill=\"#000000\" fill-rule=\"evenodd\" fill-opacity=\"1\" /><path clip-path=\"url(#clip480)\" d=\"M 0 0 M2196.1 212.865 Q2199.46 213.583 2201.33 215.852 Q2203.23 218.12 2203.23 221.453 Q2203.23 226.569 2199.71 229.37 Q2196.19 232.171 2189.71 232.171 Q2187.54 232.171 2185.22 231.731 Q2182.93 231.314 2180.48 230.458 L2180.48 225.944 Q2182.42 227.078 2184.74 227.657 Q2187.05 228.236 2189.57 228.236 Q2193.97 228.236 2196.26 226.5 Q2198.58 224.763 2198.58 221.453 Q2198.58 218.398 2196.43 216.685 Q2194.3 214.949 2190.48 214.949 L2186.45 214.949 L2186.45 211.106 L2190.66 211.106 Q2194.11 211.106 2195.94 209.74 Q2197.77 208.352 2197.77 205.759 Q2197.77 203.097 2195.87 201.685 Q2194 200.25 2190.48 200.25 Q2188.56 200.25 2186.36 200.666 Q2184.16 201.083 2181.52 201.963 L2181.52 197.796 Q2184.18 197.055 2186.5 196.685 Q2188.83 196.315 2190.89 196.315 Q2196.22 196.315 2199.32 198.745 Q2202.42 201.153 2202.42 205.273 Q2202.42 208.143 2200.78 210.134 Q2199.13 212.102 2196.1 212.865 Z\" fill=\"#000000\" fill-rule=\"evenodd\" fill-opacity=\"1\" /><polyline clip-path=\"url(#clip480)\" style=\"stroke:#3da44d; stroke-width:4; stroke-opacity:1; fill:none\" points=\"\n",
       "  1910,274.7 2052.45,274.7 \n",
       "  \"/>\n",
       "<circle clip-path=\"url(#clip480)\" cx=\"1981.22\" cy=\"274.7\" r=\"23\" fill=\"#3da44d\" fill-rule=\"evenodd\" fill-opacity=\"1\" stroke=\"#000000\" stroke-opacity=\"1\" stroke-width=\"5.12\"/>\n",
       "<path clip-path=\"url(#clip480)\" d=\"M 0 0 M2076.2 257.42 L2082.49 257.42 L2097.82 286.331 L2097.82 257.42 L2102.35 257.42 L2102.35 291.98 L2096.06 291.98 L2080.73 263.068 L2080.73 291.98 L2076.2 291.98 L2076.2 257.42 Z\" fill=\"#000000\" fill-rule=\"evenodd\" fill-opacity=\"1\" /><path clip-path=\"url(#clip480)\" d=\"M 0 0 M2127.1 270.452 L2156.77 270.452 L2156.77 274.341 L2127.1 274.341 L2127.1 270.452 M2127.1 279.896 L2156.77 279.896 L2156.77 283.831 L2127.1 283.831 L2127.1 279.896 Z\" fill=\"#000000\" fill-rule=\"evenodd\" fill-opacity=\"1\" /><path clip-path=\"url(#clip480)\" d=\"M 0 0 M2194.78 261.494 L2182.98 279.943 L2194.78 279.943 L2194.78 261.494 M2193.56 257.42 L2199.44 257.42 L2199.44 279.943 L2204.37 279.943 L2204.37 283.831 L2199.44 283.831 L2199.44 291.98 L2194.78 291.98 L2194.78 283.831 L2179.18 283.831 L2179.18 279.318 L2193.56 257.42 Z\" fill=\"#000000\" fill-rule=\"evenodd\" fill-opacity=\"1\" /><polyline clip-path=\"url(#clip480)\" style=\"stroke:#c271d2; stroke-width:4; stroke-opacity:1; fill:none\" points=\"\n",
       "  1910,335.18 2052.45,335.18 \n",
       "  \"/>\n",
       "<circle clip-path=\"url(#clip480)\" cx=\"1981.22\" cy=\"335.18\" r=\"23\" fill=\"#c271d2\" fill-rule=\"evenodd\" fill-opacity=\"1\" stroke=\"#000000\" stroke-opacity=\"1\" stroke-width=\"5.12\"/>\n",
       "<path clip-path=\"url(#clip480)\" d=\"M 0 0 M2076.2 317.9 L2082.49 317.9 L2097.82 346.811 L2097.82 317.9 L2102.35 317.9 L2102.35 352.46 L2096.06 352.46 L2080.73 323.548 L2080.73 352.46 L2076.2 352.46 L2076.2 317.9 Z\" fill=\"#000000\" fill-rule=\"evenodd\" fill-opacity=\"1\" /><path clip-path=\"url(#clip480)\" d=\"M 0 0 M2127.1 330.932 L2156.77 330.932 L2156.77 334.821 L2127.1 334.821 L2127.1 330.932 M2127.1 340.376 L2156.77 340.376 L2156.77 344.311 L2127.1 344.311 L2127.1 340.376 Z\" fill=\"#000000\" fill-rule=\"evenodd\" fill-opacity=\"1\" /><path clip-path=\"url(#clip480)\" d=\"M 0 0 M2181.98 317.9 L2200.34 317.9 L2200.34 321.835 L2186.26 321.835 L2186.26 330.307 Q2187.28 329.96 2188.3 329.798 Q2189.32 329.612 2190.34 329.612 Q2196.13 329.612 2199.5 332.784 Q2202.88 335.955 2202.88 341.372 Q2202.88 346.95 2199.41 350.052 Q2195.94 353.131 2189.62 353.131 Q2187.44 353.131 2185.18 352.76 Q2182.93 352.39 2180.52 351.649 L2180.52 346.95 Q2182.61 348.085 2184.83 348.64 Q2187.05 349.196 2189.53 349.196 Q2193.53 349.196 2195.87 347.089 Q2198.21 344.983 2198.21 341.372 Q2198.21 337.761 2195.87 335.654 Q2193.53 333.548 2189.53 333.548 Q2187.65 333.548 2185.78 333.964 Q2183.93 334.381 2181.98 335.261 L2181.98 317.9 Z\" fill=\"#000000\" fill-rule=\"evenodd\" fill-opacity=\"1\" /><polyline clip-path=\"url(#clip480)\" style=\"stroke:#ac8d18; stroke-width:4; stroke-opacity:1; fill:none\" points=\"\n",
       "  1910,395.66 2052.45,395.66 \n",
       "  \"/>\n",
       "<circle clip-path=\"url(#clip480)\" cx=\"1981.22\" cy=\"395.66\" r=\"23\" fill=\"#ac8d18\" fill-rule=\"evenodd\" fill-opacity=\"1\" stroke=\"#000000\" stroke-opacity=\"1\" stroke-width=\"5.12\"/>\n",
       "<path clip-path=\"url(#clip480)\" d=\"M 0 0 M2076.2 378.38 L2082.49 378.38 L2097.82 407.291 L2097.82 378.38 L2102.35 378.38 L2102.35 412.94 L2096.06 412.94 L2080.73 384.028 L2080.73 412.94 L2076.2 412.94 L2076.2 378.38 Z\" fill=\"#000000\" fill-rule=\"evenodd\" fill-opacity=\"1\" /><path clip-path=\"url(#clip480)\" d=\"M 0 0 M2127.1 391.412 L2156.77 391.412 L2156.77 395.301 L2127.1 395.301 L2127.1 391.412 M2127.1 400.856 L2156.77 400.856 L2156.77 404.791 L2127.1 404.791 L2127.1 400.856 Z\" fill=\"#000000\" fill-rule=\"evenodd\" fill-opacity=\"1\" /><path clip-path=\"url(#clip480)\" d=\"M 0 0 M2192.51 393.796 Q2189.37 393.796 2187.51 395.949 Q2185.69 398.102 2185.69 401.852 Q2185.69 405.578 2187.51 407.754 Q2189.37 409.907 2192.51 409.907 Q2195.66 409.907 2197.49 407.754 Q2199.34 405.578 2199.34 401.852 Q2199.34 398.102 2197.49 395.949 Q2195.66 393.796 2192.51 393.796 M2201.8 379.143 L2201.8 383.403 Q2200.04 382.569 2198.23 382.13 Q2196.45 381.69 2194.69 381.69 Q2190.06 381.69 2187.61 384.815 Q2185.18 387.94 2184.83 394.259 Q2186.19 392.245 2188.25 391.18 Q2190.31 390.092 2192.79 390.092 Q2198 390.092 2201.01 393.264 Q2204.04 396.412 2204.04 401.852 Q2204.04 407.176 2200.89 410.393 Q2197.75 413.611 2192.51 413.611 Q2186.52 413.611 2183.35 409.028 Q2180.18 404.421 2180.18 395.694 Q2180.18 387.5 2184.07 382.639 Q2187.95 377.755 2194.5 377.755 Q2196.26 377.755 2198.05 378.102 Q2199.85 378.449 2201.8 379.143 Z\" fill=\"#000000\" fill-rule=\"evenodd\" fill-opacity=\"1\" /><polyline clip-path=\"url(#clip480)\" style=\"stroke:#00a9ad; stroke-width:4; stroke-opacity:1; fill:none\" points=\"\n",
       "  1910,456.14 2052.45,456.14 \n",
       "  \"/>\n",
       "<circle clip-path=\"url(#clip480)\" cx=\"1981.22\" cy=\"456.14\" r=\"23\" fill=\"#00a9ad\" fill-rule=\"evenodd\" fill-opacity=\"1\" stroke=\"#000000\" stroke-opacity=\"1\" stroke-width=\"5.12\"/>\n",
       "<path clip-path=\"url(#clip480)\" d=\"M 0 0 M2076.2 438.86 L2082.49 438.86 L2097.82 467.771 L2097.82 438.86 L2102.35 438.86 L2102.35 473.42 L2096.06 473.42 L2080.73 444.508 L2080.73 473.42 L2076.2 473.42 L2076.2 438.86 Z\" fill=\"#000000\" fill-rule=\"evenodd\" fill-opacity=\"1\" /><path clip-path=\"url(#clip480)\" d=\"M 0 0 M2127.1 451.892 L2156.77 451.892 L2156.77 455.781 L2127.1 455.781 L2127.1 451.892 M2127.1 461.336 L2156.77 461.336 L2156.77 465.271 L2127.1 465.271 L2127.1 461.336 Z\" fill=\"#000000\" fill-rule=\"evenodd\" fill-opacity=\"1\" /><path clip-path=\"url(#clip480)\" d=\"M 0 0 M2180.75 438.86 L2202.98 438.86 L2202.98 440.85 L2190.43 473.42 L2185.55 473.42 L2197.35 442.795 L2180.75 442.795 L2180.75 438.86 Z\" fill=\"#000000\" fill-rule=\"evenodd\" fill-opacity=\"1\" /><polyline clip-path=\"url(#clip480)\" style=\"stroke:#ed5d92; stroke-width:4; stroke-opacity:1; fill:none\" points=\"\n",
       "  1910,516.62 2052.45,516.62 \n",
       "  \"/>\n",
       "<circle clip-path=\"url(#clip480)\" cx=\"1981.22\" cy=\"516.62\" r=\"23\" fill=\"#ed5d92\" fill-rule=\"evenodd\" fill-opacity=\"1\" stroke=\"#000000\" stroke-opacity=\"1\" stroke-width=\"5.12\"/>\n",
       "<path clip-path=\"url(#clip480)\" d=\"M 0 0 M2076.2 499.34 L2082.49 499.34 L2097.82 528.251 L2097.82 499.34 L2102.35 499.34 L2102.35 533.9 L2096.06 533.9 L2080.73 504.988 L2080.73 533.9 L2076.2 533.9 L2076.2 499.34 Z\" fill=\"#000000\" fill-rule=\"evenodd\" fill-opacity=\"1\" /><path clip-path=\"url(#clip480)\" d=\"M 0 0 M2127.1 512.372 L2156.77 512.372 L2156.77 516.261 L2127.1 516.261 L2127.1 512.372 M2127.1 521.816 L2156.77 521.816 L2156.77 525.751 L2127.1 525.751 L2127.1 521.816 Z\" fill=\"#000000\" fill-rule=\"evenodd\" fill-opacity=\"1\" /><path clip-path=\"url(#clip480)\" d=\"M 0 0 M2191.94 517.488 Q2188.6 517.488 2186.68 519.27 Q2184.78 521.052 2184.78 524.177 Q2184.78 527.302 2186.68 529.085 Q2188.6 530.867 2191.94 530.867 Q2195.27 530.867 2197.19 529.085 Q2199.11 527.279 2199.11 524.177 Q2199.11 521.052 2197.19 519.27 Q2195.29 517.488 2191.94 517.488 M2187.26 515.497 Q2184.25 514.756 2182.56 512.696 Q2180.89 510.636 2180.89 507.673 Q2180.89 503.529 2183.83 501.122 Q2186.8 498.715 2191.94 498.715 Q2197.1 498.715 2200.04 501.122 Q2202.98 503.529 2202.98 507.673 Q2202.98 510.636 2201.29 512.696 Q2199.62 514.756 2196.63 515.497 Q2200.01 516.284 2201.89 518.576 Q2203.79 520.867 2203.79 524.177 Q2203.79 529.201 2200.71 531.886 Q2197.65 534.571 2191.94 534.571 Q2186.22 534.571 2183.14 531.886 Q2180.08 529.201 2180.08 524.177 Q2180.08 520.867 2181.98 518.576 Q2183.88 516.284 2187.26 515.497 M2185.55 508.113 Q2185.55 510.798 2187.21 512.302 Q2188.9 513.807 2191.94 513.807 Q2194.94 513.807 2196.63 512.302 Q2198.35 510.798 2198.35 508.113 Q2198.35 505.427 2196.63 503.923 Q2194.94 502.418 2191.94 502.418 Q2188.9 502.418 2187.21 503.923 Q2185.55 505.427 2185.55 508.113 Z\" fill=\"#000000\" fill-rule=\"evenodd\" fill-opacity=\"1\" /><polyline clip-path=\"url(#clip480)\" style=\"stroke:#c68125; stroke-width:4; stroke-opacity:1; fill:none\" points=\"\n",
       "  1910,577.1 2052.45,577.1 \n",
       "  \"/>\n",
       "<circle clip-path=\"url(#clip480)\" cx=\"1981.22\" cy=\"577.1\" r=\"23\" fill=\"#c68125\" fill-rule=\"evenodd\" fill-opacity=\"1\" stroke=\"#000000\" stroke-opacity=\"1\" stroke-width=\"5.12\"/>\n",
       "<path clip-path=\"url(#clip480)\" d=\"M 0 0 M2076.2 559.82 L2082.49 559.82 L2097.82 588.731 L2097.82 559.82 L2102.35 559.82 L2102.35 594.38 L2096.06 594.38 L2080.73 565.468 L2080.73 594.38 L2076.2 594.38 L2076.2 559.82 Z\" fill=\"#000000\" fill-rule=\"evenodd\" fill-opacity=\"1\" /><path clip-path=\"url(#clip480)\" d=\"M 0 0 M2127.1 572.852 L2156.77 572.852 L2156.77 576.741 L2127.1 576.741 L2127.1 572.852 M2127.1 582.296 L2156.77 582.296 L2156.77 586.231 L2127.1 586.231 L2127.1 582.296 Z\" fill=\"#000000\" fill-rule=\"evenodd\" fill-opacity=\"1\" /><path clip-path=\"url(#clip480)\" d=\"M 0 0 M2182.07 593.662 L2182.07 589.403 Q2183.83 590.236 2185.64 590.676 Q2187.44 591.116 2189.18 591.116 Q2193.81 591.116 2196.24 588.014 Q2198.69 584.889 2199.04 578.546 Q2197.7 580.537 2195.64 581.602 Q2193.58 582.667 2191.08 582.667 Q2185.89 582.667 2182.86 579.542 Q2179.85 576.394 2179.85 570.954 Q2179.85 565.63 2183 562.412 Q2186.15 559.195 2191.38 559.195 Q2197.38 559.195 2200.52 563.801 Q2203.69 568.384 2203.69 577.134 Q2203.69 585.306 2199.81 590.19 Q2195.94 595.051 2189.39 595.051 Q2187.63 595.051 2185.82 594.704 Q2184.02 594.356 2182.07 593.662 M2191.38 579.009 Q2194.53 579.009 2196.36 576.857 Q2198.21 574.704 2198.21 570.954 Q2198.21 567.227 2196.36 565.074 Q2194.53 562.898 2191.38 562.898 Q2188.23 562.898 2186.38 565.074 Q2184.55 567.227 2184.55 570.954 Q2184.55 574.704 2186.38 576.857 Q2188.23 579.009 2191.38 579.009 Z\" fill=\"#000000\" fill-rule=\"evenodd\" fill-opacity=\"1\" /><polyline clip-path=\"url(#clip480)\" style=\"stroke:#00a98d; stroke-width:4; stroke-opacity:1; fill:none\" points=\"\n",
       "  1910,637.58 2052.45,637.58 \n",
       "  \"/>\n",
       "<circle clip-path=\"url(#clip480)\" cx=\"1981.22\" cy=\"637.58\" r=\"23\" fill=\"#00a98d\" fill-rule=\"evenodd\" fill-opacity=\"1\" stroke=\"#000000\" stroke-opacity=\"1\" stroke-width=\"5.12\"/>\n",
       "<path clip-path=\"url(#clip480)\" d=\"M 0 0 M2076.2 620.3 L2082.49 620.3 L2097.82 649.211 L2097.82 620.3 L2102.35 620.3 L2102.35 654.86 L2096.06 654.86 L2080.73 625.948 L2080.73 654.86 L2076.2 654.86 L2076.2 620.3 Z\" fill=\"#000000\" fill-rule=\"evenodd\" fill-opacity=\"1\" /><path clip-path=\"url(#clip480)\" d=\"M 0 0 M2127.1 633.332 L2156.77 633.332 L2156.77 637.221 L2127.1 637.221 L2127.1 633.332 M2127.1 642.776 L2156.77 642.776 L2156.77 646.711 L2127.1 646.711 L2127.1 642.776 Z\" fill=\"#000000\" fill-rule=\"evenodd\" fill-opacity=\"1\" /><path clip-path=\"url(#clip480)\" d=\"M 0 0 M2182.75 650.924 L2190.38 650.924 L2190.38 624.559 L2182.07 626.225 L2182.07 621.966 L2190.34 620.3 L2195.01 620.3 L2195.01 650.924 L2202.65 650.924 L2202.65 654.86 L2182.75 654.86 L2182.75 650.924 Z\" fill=\"#000000\" fill-rule=\"evenodd\" fill-opacity=\"1\" /><path clip-path=\"url(#clip480)\" d=\"M 0 0 M2222.1 623.378 Q2218.49 623.378 2216.66 626.943 Q2214.85 630.485 2214.85 637.614 Q2214.85 644.721 2216.66 648.286 Q2218.49 651.827 2222.1 651.827 Q2225.73 651.827 2227.54 648.286 Q2229.37 644.721 2229.37 637.614 Q2229.37 630.485 2227.54 626.943 Q2225.73 623.378 2222.1 623.378 M2222.1 619.675 Q2227.91 619.675 2230.96 624.281 Q2234.04 628.864 2234.04 637.614 Q2234.04 646.341 2230.96 650.948 Q2227.91 655.531 2222.1 655.531 Q2216.29 655.531 2213.21 650.948 Q2210.15 646.341 2210.15 637.614 Q2210.15 628.864 2213.21 624.281 Q2216.29 619.675 2222.1 619.675 Z\" fill=\"#000000\" fill-rule=\"evenodd\" fill-opacity=\"1\" /></svg>\n"
      ]
     },
     "execution_count": 14,
     "metadata": {},
     "output_type": "execute_result"
    }
   ],
   "source": [
    "using Plots\n",
    "\n",
    "function makemagplot()\n",
    "    p = plot()\n",
    "\n",
    "    hrange = 10 .^ range(-2., stop=2., length=10)\n",
    "\n",
    "    for N in 2:10\n",
    "        M = zeros(length(hrange))\n",
    "        basis = makebasis(N)\n",
    "\n",
    "        for (i, h) in enumerate(hrange)\n",
    "            # diagonalize\n",
    "            H = isingfield(N=N, h=h)\n",
    "            vals, vecs = eigen(H)\n",
    "\n",
    "            # groundstate magnetization\n",
    "            groundstate = vecs[:, 1]\n",
    "            M[i] = magnetization(basis, groundstate)\n",
    "        end\n",
    "\n",
    "        plot!(\n",
    "            p, hrange, M, xscale=:log10, marker=:circle,\n",
    "            label=\"N = $N\",\n",
    "            xlab=L\"h\",\n",
    "            ylab=L\"M(h)\"\n",
    "        )\n",
    "    end\n",
    "    \n",
    "    p\n",
    "end\n",
    "\n",
    "@time makemagplot()"
   ]
  },
  {
   "cell_type": "markdown",
   "id": "f580b514",
   "metadata": {},
   "source": [
    "## Sparsity\n",
    "\n",
    "The issue with the above implementation is that the Hamiltonian scales with $2^{2N}$, which can quickly cause memory issues.\n",
    "\n",
    "However, most of the entries of the Hamiltonian will be zero entries. We can instead use a more memory efficient array implementation with `SparseArrays`:"
   ]
  },
  {
   "cell_type": "code",
   "execution_count": 15,
   "id": "7c9a7a21",
   "metadata": {},
   "outputs": [
    {
     "data": {
      "text/plain": [
       "16×16 SparseMatrixCSC{Int64, Int64} with 80 stored entries:\n",
       "⢟⣵⠑⢄⠑⢄⠀⠀\n",
       "⠑⢄⢟⣵⠀⠀⠑⢄\n",
       "⠑⢄⠀⠀⢟⣵⠑⢄\n",
       "⠀⠀⠑⢄⠑⢄⢟⣵"
      ]
     },
     "execution_count": 15,
     "metadata": {},
     "output_type": "execute_result"
    }
   ],
   "source": [
    "using SparseArrays\n",
    "\n",
    "isingfield(N=4, h=1) |> sparse"
   ]
  },
  {
   "cell_type": "markdown",
   "id": "34618cb5",
   "metadata": {},
   "source": [
    "We'll now reimplement our `isingfield` function to use these `SparseArrays`:"
   ]
  },
  {
   "cell_type": "code",
   "execution_count": 16,
   "id": "89ac975f",
   "metadata": {},
   "outputs": [
    {
     "name": "stdout",
     "output_type": "stream",
     "text": [
      "  0.000637 seconds (673 allocations: 2.618 MiB)\n"
     ]
    },
    {
     "data": {
      "text/plain": [
       "1024×1024 SparseMatrixCSC{Int64, Int64} with 11264 stored entries:\n",
       "⣿⣿⣾⢦⡀⠳⣄⠀⠀⠀⠳⣄⠀⠀⠀⠀⠀⠀⠀⠀⠳⣄⠀⠀⠀⠀⠀⠀⠀⠀⠀⠀⠀⠀⠀⠀⠀⠀⠀⠀\n",
       "⠺⣟⢻⣶⣿⡂⠈⠳⣄⠀⠀⠈⠳⣄⠀⠀⠀⠀⠀⠀⠀⠈⠳⣄⠀⠀⠀⠀⠀⠀⠀⠀⠀⠀⠀⠀⠀⠀⠀⠀\n",
       "⢤⡈⠻⠻⠿⣧⣤⣠⡈⠳⠄⠀⠀⠈⠳⣄⠀⠀⠀⠀⠀⠀⠀⠈⠳⣄⠀⠀⠀⠀⠀⠀⠀⠀⠀⠀⠀⠀⠀⠀\n",
       "⠀⠙⢦⡀⠀⣻⣿⣿⣙⣦⡀⠀⠀⠀⠀⠈⠳⣄⠀⠀⠀⠀⠀⠀⠀⠈⠳⣄⠀⠀⠀⠀⠀⠀⠀⠀⠀⠀⠀⠀\n",
       "⠀⠀⠀⠙⢦⡈⠳⣼⣿⣿⡆⠀⠀⠀⠀⠀⠀⠈⠳⣄⠀⠀⠀⠀⠀⠀⠀⠈⠳⣄⠀⠀⠀⠀⠀⠀⠀⠀⠀⠀\n",
       "⠙⢦⡀⠀⠀⠁⠀⠈⠈⠉⣿⣿⣾⢦⡀⠳⣄⠀⠀⠈⠀⠀⠀⠀⠀⠀⠀⠀⠀⠈⠳⣄⠀⠀⠀⠀⠀⠀⠀⠀\n",
       "⠀⠀⠙⢦⡀⠀⠀⠀⠀⠀⠺⣟⢻⣶⣿⡂⠈⠳⣄⠀⠀⠀⠀⠀⠀⠀⠀⠀⠀⠀⠀⠈⠳⣄⠀⠀⠀⠀⠀⠀\n",
       "⠀⠀⠀⠀⠙⢦⡀⠀⠀⠀⢤⡈⠻⠻⠿⣧⣤⣠⡈⠳⠀⠀⠀⠀⠀⠀⠀⠀⠀⠀⠀⠀⠀⠈⠳⣄⠀⠀⠀⠀\n",
       "⠀⠀⠀⠀⠀⠀⠙⢦⡀⠀⠀⠙⢦⡀⠀⣻⣿⣿⣙⣦⠀⠀⠀⠀⠀⠀⠀⠀⠀⠀⠀⠀⠀⠀⠀⠈⠳⣄⠀⠀\n",
       "⠀⠀⠀⠀⠀⠀⠀⠀⠙⢦⡀⠀⠀⠙⢦⡈⠳⣼⣿⣿⠀⠀⠀⠀⠀⠀⠀⠀⠀⠀⠀⠀⠀⠀⠀⠀⠀⠈⠳⣄\n",
       "⠙⢦⡀⠀⠀⠀⠀⠀⠀⠀⠀⠀⠀⠀⠀⠀⠀⠀⠀⠀⣿⣿⡟⢦⡈⠳⣄⠀⠀⠈⠳⣄⠀⠀⠀⠀⠀⠀⠀⠀\n",
       "⠀⠀⠙⢦⡀⠀⠀⠀⠀⠀⠀⠀⠀⠀⠀⠀⠀⠀⠀⠀⠻⣍⣿⣿⣯⠀⠈⠳⣄⠀⠀⠈⠳⣄⠀⠀⠀⠀⠀⠀\n",
       "⠀⠀⠀⠀⠙⢦⡀⠀⠀⠀⠀⠀⠀⠀⠀⠀⠀⠀⠀⠀⢦⡈⠋⠛⢻⣶⣦⣦⡈⠓⠀⠀⠀⠈⠳⣄⠀⠀⠀⠀\n",
       "⠀⠀⠀⠀⠀⠀⠙⢦⡀⠀⠀⠀⠀⠀⠀⠀⠀⠀⠀⠀⠀⠙⢦⡀⠨⣿⠿⣧⣽⡦⠀⠀⠀⠀⠀⠈⠳⣄⠀⠀\n",
       "⠀⠀⠀⠀⠀⠀⠀⠀⠙⢦⡀⠀⠀⠀⠀⠀⠀⠀⠀⠀⡀⠀⠀⠙⢦⠈⠳⡿⣿⣿⣀⡀⡀⠀⢀⠀⠀⠈⠳⣄\n",
       "⠀⠀⠀⠀⠀⠀⠀⠀⠀⠀⠙⢦⡀⠀⠀⠀⠀⠀⠀⠀⠙⢦⡀⠀⠀⠀⠀⠀⠀⠸⣿⣿⡟⢦⡈⠳⣄⠀⠀⠀\n",
       "⠀⠀⠀⠀⠀⠀⠀⠀⠀⠀⠀⠀⠙⢦⡀⠀⠀⠀⠀⠀⠀⠀⠙⢦⡀⠀⠀⠀⠀⠈⠻⣍⣿⣿⣯⠀⠈⠳⣄⠀\n",
       "⠀⠀⠀⠀⠀⠀⠀⠀⠀⠀⠀⠀⠀⠀⠙⢦⡀⠀⠀⠀⠀⠀⠀⠀⠙⢦⡀⠀⠀⠐⢦⡈⠋⠛⢻⣶⣦⣦⡈⠓\n",
       "⠀⠀⠀⠀⠀⠀⠀⠀⠀⠀⠀⠀⠀⠀⠀⠀⠙⢦⡀⠀⠀⠀⠀⠀⠀⠀⠙⢦⡀⠀⠀⠙⢦⡀⠨⣿⠿⣧⣽⡦\n",
       "⠀⠀⠀⠀⠀⠀⠀⠀⠀⠀⠀⠀⠀⠀⠀⠀⠀⠀⠙⢦⠀⠀⠀⠀⠀⠀⠀⠀⠙⢦⠀⠀⠀⠙⢦⠈⠳⡿⣿⣿"
      ]
     },
     "execution_count": 16,
     "metadata": {},
     "output_type": "execute_result"
    }
   ],
   "source": [
    "function isingfield(; N::Int, h)\n",
    "    σᶻ = [1 0; 0 -1] |> sparse\n",
    "    σˣ = [0 1; 1 0] |> sparse\n",
    "    \n",
    "    # add identity\n",
    "    id = sparse(1 * I, 2, 2)\n",
    "    \n",
    "    # assemble terms\n",
    "    terms = fill(id, N)\n",
    "    terms[1] = σᶻ\n",
    "    terms[2] = σᶻ\n",
    "    \n",
    "    # sparse H\n",
    "    H = spzeros(Int, 2^N, 2^N)\n",
    "    \n",
    "    # compute first sum\n",
    "    for i in 1:N-1\n",
    "        H -= foldl(⊗, terms)\n",
    "        terms = circshift(terms, 1)\n",
    "    end\n",
    "    \n",
    "    # sum two terms\n",
    "    terms = fill!(terms, id)\n",
    "    terms[1] = σˣ\n",
    "    \n",
    "    # compute second sum\n",
    "    for i in 1:N\n",
    "        H -= h * foldl(⊗, terms)\n",
    "        terms = circshift(terms, 1)\n",
    "    end\n",
    "    \n",
    "    H\n",
    "end\n",
    "\n",
    "@time isingfield(N=10, h=1)"
   ]
  },
  {
   "cell_type": "markdown",
   "id": "fbb1d07a",
   "metadata": {},
   "source": [
    "Which is incredibly fast and memory efficient. This allows us to compute much larger Hamiltonians:"
   ]
  },
  {
   "cell_type": "code",
   "execution_count": 17,
   "id": "c33dc8bd",
   "metadata": {},
   "outputs": [
    {
     "name": "stdout",
     "output_type": "stream",
     "text": [
      "  2.219281 seconds (3.77 k allocations: 6.742 GiB, 21.26% gc time)\n"
     ]
    },
    {
     "data": {
      "text/plain": [
       "1048576×1048576 SparseMatrixCSC{Int64, Int64} with 22020096 stored entries:\n",
       "⣿⣿⣾⢦⡀⠳⣄⠀⠀⠀⠳⣄⠀⠀⠀⠀⠀⠀⠀⠀⠳⣄⠀⠀⠀⠀⠀⠀⠀⠀⠀⠀⠀⠀⠀⠀⠀⠀⠀⠀\n",
       "⠺⣟⢻⣶⣿⡂⠈⠳⣄⠀⠀⠈⠳⣄⠀⠀⠀⠀⠀⠀⠀⠈⠳⣄⠀⠀⠀⠀⠀⠀⠀⠀⠀⠀⠀⠀⠀⠀⠀⠀\n",
       "⢤⡈⠻⠻⠿⣧⣤⣠⡈⠳⠄⠀⠀⠈⠳⣄⠀⠀⠀⠀⠀⠀⠀⠈⠳⣄⠀⠀⠀⠀⠀⠀⠀⠀⠀⠀⠀⠀⠀⠀\n",
       "⠀⠙⢦⡀⠀⣻⣿⣿⣙⣦⡀⠀⠀⠀⠀⠈⠳⣄⠀⠀⠀⠀⠀⠀⠀⠈⠳⣄⠀⠀⠀⠀⠀⠀⠀⠀⠀⠀⠀⠀\n",
       "⠀⠀⠀⠙⢦⡈⠳⣼⣿⣿⡆⠀⠀⠀⠀⠀⠀⠈⠳⣄⠀⠀⠀⠀⠀⠀⠀⠈⠳⣄⠀⠀⠀⠀⠀⠀⠀⠀⠀⠀\n",
       "⠙⢦⡀⠀⠀⠁⠀⠈⠈⠉⣿⣿⣾⢦⡀⠳⣄⠀⠀⠈⠀⠀⠀⠀⠀⠀⠀⠀⠀⠈⠳⣄⠀⠀⠀⠀⠀⠀⠀⠀\n",
       "⠀⠀⠙⢦⡀⠀⠀⠀⠀⠀⠺⣟⢻⣶⣿⡂⠈⠳⣄⠀⠀⠀⠀⠀⠀⠀⠀⠀⠀⠀⠀⠈⠳⣄⠀⠀⠀⠀⠀⠀\n",
       "⠀⠀⠀⠀⠙⢦⡀⠀⠀⠀⢤⡈⠻⠻⠿⣧⣤⣠⡈⠳⠀⠀⠀⠀⠀⠀⠀⠀⠀⠀⠀⠀⠀⠈⠳⣄⠀⠀⠀⠀\n",
       "⠀⠀⠀⠀⠀⠀⠙⢦⡀⠀⠀⠙⢦⡀⠀⣻⣿⣿⣙⣦⠀⠀⠀⠀⠀⠀⠀⠀⠀⠀⠀⠀⠀⠀⠀⠈⠳⣄⠀⠀\n",
       "⠀⠀⠀⠀⠀⠀⠀⠀⠙⢦⡀⠀⠀⠙⢦⡈⠳⣼⣿⣿⠀⠀⠀⠀⠀⠀⠀⠀⠀⠀⠀⠀⠀⠀⠀⠀⠀⠈⠳⣄\n",
       "⠙⢦⡀⠀⠀⠀⠀⠀⠀⠀⠀⠀⠀⠀⠀⠀⠀⠀⠀⠀⣿⣿⡟⢦⡈⠳⣄⠀⠀⠈⠳⣄⠀⠀⠀⠀⠀⠀⠀⠀\n",
       "⠀⠀⠙⢦⡀⠀⠀⠀⠀⠀⠀⠀⠀⠀⠀⠀⠀⠀⠀⠀⠻⣍⣿⣿⣯⠀⠈⠳⣄⠀⠀⠈⠳⣄⠀⠀⠀⠀⠀⠀\n",
       "⠀⠀⠀⠀⠙⢦⡀⠀⠀⠀⠀⠀⠀⠀⠀⠀⠀⠀⠀⠀⢦⡈⠋⠛⢻⣶⣦⣦⡈⠓⠀⠀⠀⠈⠳⣄⠀⠀⠀⠀\n",
       "⠀⠀⠀⠀⠀⠀⠙⢦⡀⠀⠀⠀⠀⠀⠀⠀⠀⠀⠀⠀⠀⠙⢦⡀⠨⣿⠿⣧⣽⡦⠀⠀⠀⠀⠀⠈⠳⣄⠀⠀\n",
       "⠀⠀⠀⠀⠀⠀⠀⠀⠙⢦⡀⠀⠀⠀⠀⠀⠀⠀⠀⠀⡀⠀⠀⠙⢦⠈⠳⡿⣿⣿⣀⡀⡀⠀⢀⠀⠀⠈⠳⣄\n",
       "⠀⠀⠀⠀⠀⠀⠀⠀⠀⠀⠙⢦⡀⠀⠀⠀⠀⠀⠀⠀⠙⢦⡀⠀⠀⠀⠀⠀⠀⠸⣿⣿⡟⢦⡈⠳⣄⠀⠀⠀\n",
       "⠀⠀⠀⠀⠀⠀⠀⠀⠀⠀⠀⠀⠙⢦⡀⠀⠀⠀⠀⠀⠀⠀⠙⢦⡀⠀⠀⠀⠀⠈⠻⣍⣿⣿⣯⠀⠈⠳⣄⠀\n",
       "⠀⠀⠀⠀⠀⠀⠀⠀⠀⠀⠀⠀⠀⠀⠙⢦⡀⠀⠀⠀⠀⠀⠀⠀⠙⢦⡀⠀⠀⠐⢦⡈⠋⠛⢻⣶⣦⣦⡈⠓\n",
       "⠀⠀⠀⠀⠀⠀⠀⠀⠀⠀⠀⠀⠀⠀⠀⠀⠙⢦⡀⠀⠀⠀⠀⠀⠀⠀⠙⢦⡀⠀⠀⠙⢦⡀⠨⣿⠿⣧⣽⡦\n",
       "⠀⠀⠀⠀⠀⠀⠀⠀⠀⠀⠀⠀⠀⠀⠀⠀⠀⠀⠙⢦⠀⠀⠀⠀⠀⠀⠀⠀⠙⢦⠀⠀⠀⠙⢦⠈⠳⡿⣿⣿"
      ]
     },
     "execution_count": 17,
     "metadata": {},
     "output_type": "execute_result"
    }
   ],
   "source": [
    "@time isingfield(N=20, h=1)"
   ]
  },
  {
   "cell_type": "markdown",
   "id": "e44356be",
   "metadata": {},
   "source": [
    "### Diagonalization of sparse matrices\n",
    "\n",
    "The regular `eigen` function does not support `SparseMatrix` types. The Julia warning suggests use of [`Arpack.jl`](https://github.com/JuliaLinearAlgebra/Arpack.jl), a wrapper for [Fortran's ARPACK](https://www.caam.rice.edu/software/ARPACK/). However, there also exist pure Julia implementations, such as [`ArnoldiMethod.jl`](https://github.com/haampie/ArnoldiMethod.jl)"
   ]
  },
  {
   "cell_type": "code",
   "execution_count": 18,
   "id": "fcda4f96",
   "metadata": {},
   "outputs": [
    {
     "data": {
      "text/plain": [
       "(vals = [-12.381489999654747], vecs = [0.2933991129750299; 0.14835657714581163; … ; 0.14835657691347928; 0.2933991125796642])"
      ]
     },
     "execution_count": 18,
     "metadata": {},
     "output_type": "execute_result"
    }
   ],
   "source": [
    "using ArnoldiMethod\n",
    "import LinearAlgebra: eigen\n",
    "\n",
    "function eigen(x::SparseMatrixCSC)\n",
    "    decomp, history = partialschur(x, nev=1, which=SR()) # only solve ground state\n",
    "    vals, vecs = partialeigen(decomp)\n",
    "    (vals=vals, vecs=vecs)\n",
    "end\n",
    "\n",
    "eigen(isingfield(N=10, h=1))"
   ]
  },
  {
   "cell_type": "markdown",
   "id": "5cb30f9b",
   "metadata": {},
   "source": [
    "Now we have the same interface for our functions, and can recreate our plot from above using a much more efficient implementation:"
   ]
  },
  {
   "cell_type": "code",
   "execution_count": 20,
   "id": "b57bf84c",
   "metadata": {},
   "outputs": [
    {
     "name": "stdout",
     "output_type": "stream",
     "text": [
      "  0.123960 seconds (64.21 k allocations: 64.731 MiB, 71.46% gc time)\n"
     ]
    },
    {
     "data": {
      "image/svg+xml": [
       "<?xml version=\"1.0\" encoding=\"utf-8\"?>\n",
       "<svg xmlns=\"http://www.w3.org/2000/svg\" xmlns:xlink=\"http://www.w3.org/1999/xlink\" width=\"600\" height=\"400\" viewBox=\"0 0 2400 1600\">\n",
       "<defs>\n",
       "  <clipPath id=\"clip520\">\n",
       "    <rect x=\"0\" y=\"0\" width=\"2400\" height=\"1600\"/>\n",
       "  </clipPath>\n",
       "</defs>\n",
       "<path clip-path=\"url(#clip520)\" d=\"\n",
       "M0 1600 L2400 1600 L2400 0 L0 0  Z\n",
       "  \" fill=\"#ffffff\" fill-rule=\"evenodd\" fill-opacity=\"1\"/>\n",
       "<defs>\n",
       "  <clipPath id=\"clip521\">\n",
       "    <rect x=\"480\" y=\"0\" width=\"1681\" height=\"1600\"/>\n",
       "  </clipPath>\n",
       "</defs>\n",
       "<defs>\n",
       "  <clipPath id=\"clip522\">\n",
       "    <rect x=\"215\" y=\"47\" width=\"2138\" height=\"1381\"/>\n",
       "  </clipPath>\n",
       "</defs>\n",
       "<path clip-path=\"url(#clip520)\" d=\"\n",
       "M215.898 1427.71 L2352.76 1427.71 L2352.76 47.2441 L215.898 47.2441  Z\n",
       "  \" fill=\"#ffffff\" fill-rule=\"evenodd\" fill-opacity=\"1\"/>\n",
       "<polyline clip-path=\"url(#clip522)\" style=\"stroke:#000000; stroke-width:2; stroke-opacity:0.1; fill:none\" points=\"\n",
       "  276.375,1427.71 276.375,47.2441 \n",
       "  \"/>\n",
       "<polyline clip-path=\"url(#clip522)\" style=\"stroke:#000000; stroke-width:2; stroke-opacity:0.1; fill:none\" points=\"\n",
       "  780.351,1427.71 780.351,47.2441 \n",
       "  \"/>\n",
       "<polyline clip-path=\"url(#clip522)\" style=\"stroke:#000000; stroke-width:2; stroke-opacity:0.1; fill:none\" points=\"\n",
       "  1284.33,1427.71 1284.33,47.2441 \n",
       "  \"/>\n",
       "<polyline clip-path=\"url(#clip522)\" style=\"stroke:#000000; stroke-width:2; stroke-opacity:0.1; fill:none\" points=\"\n",
       "  1788.3,1427.71 1788.3,47.2441 \n",
       "  \"/>\n",
       "<polyline clip-path=\"url(#clip522)\" style=\"stroke:#000000; stroke-width:2; stroke-opacity:0.1; fill:none\" points=\"\n",
       "  2292.28,1427.71 2292.28,47.2441 \n",
       "  \"/>\n",
       "<polyline clip-path=\"url(#clip520)\" style=\"stroke:#000000; stroke-width:4; stroke-opacity:1; fill:none\" points=\"\n",
       "  215.898,1427.71 2352.76,1427.71 \n",
       "  \"/>\n",
       "<polyline clip-path=\"url(#clip520)\" style=\"stroke:#000000; stroke-width:4; stroke-opacity:1; fill:none\" points=\"\n",
       "  276.375,1427.71 276.375,1411.14 \n",
       "  \"/>\n",
       "<polyline clip-path=\"url(#clip520)\" style=\"stroke:#000000; stroke-width:4; stroke-opacity:1; fill:none\" points=\"\n",
       "  780.351,1427.71 780.351,1411.14 \n",
       "  \"/>\n",
       "<polyline clip-path=\"url(#clip520)\" style=\"stroke:#000000; stroke-width:4; stroke-opacity:1; fill:none\" points=\"\n",
       "  1284.33,1427.71 1284.33,1411.14 \n",
       "  \"/>\n",
       "<polyline clip-path=\"url(#clip520)\" style=\"stroke:#000000; stroke-width:4; stroke-opacity:1; fill:none\" points=\"\n",
       "  1788.3,1427.71 1788.3,1411.14 \n",
       "  \"/>\n",
       "<polyline clip-path=\"url(#clip520)\" style=\"stroke:#000000; stroke-width:4; stroke-opacity:1; fill:none\" points=\"\n",
       "  2292.28,1427.71 2292.28,1411.14 \n",
       "  \"/>\n",
       "<path clip-path=\"url(#clip520)\" d=\"M 0 0 M226.641 1505.98 L234.28 1505.98 L234.28 1479.61 L225.97 1481.28 L225.97 1477.02 L234.234 1475.36 L238.91 1475.36 L238.91 1505.98 L246.548 1505.98 L246.548 1509.92 L226.641 1509.92 L226.641 1505.98 Z\" fill=\"#000000\" fill-rule=\"evenodd\" fill-opacity=\"1\" /><path clip-path=\"url(#clip520)\" d=\"M 0 0 M265.993 1478.43 Q262.382 1478.43 260.553 1482 Q258.748 1485.54 258.748 1492.67 Q258.748 1499.78 260.553 1503.34 Q262.382 1506.88 265.993 1506.88 Q269.627 1506.88 271.433 1503.34 Q273.261 1499.78 273.261 1492.67 Q273.261 1485.54 271.433 1482 Q269.627 1478.43 265.993 1478.43 M265.993 1474.73 Q271.803 1474.73 274.859 1479.34 Q277.937 1483.92 277.937 1492.67 Q277.937 1501.4 274.859 1506 Q271.803 1510.59 265.993 1510.59 Q260.183 1510.59 257.104 1506 Q254.048 1501.4 254.048 1492.67 Q254.048 1483.92 257.104 1479.34 Q260.183 1474.73 265.993 1474.73 Z\" fill=\"#000000\" fill-rule=\"evenodd\" fill-opacity=\"1\" /><path clip-path=\"url(#clip520)\" d=\"M 0 0 M277.937 1468.83 L302.049 1468.83 L302.049 1472.03 L277.937 1472.03 L277.937 1468.83 Z\" fill=\"#000000\" fill-rule=\"evenodd\" fill-opacity=\"1\" /><path clip-path=\"url(#clip520)\" d=\"M 0 0 M313.522 1479.31 L326.781 1479.31 L326.781 1482.51 L308.951 1482.51 L308.951 1479.31 Q311.114 1477.07 314.838 1473.31 Q318.581 1469.53 319.54 1468.44 Q321.364 1466.39 322.079 1464.98 Q322.813 1463.55 322.813 1462.17 Q322.813 1459.94 321.233 1458.53 Q319.672 1457.11 317.151 1457.11 Q315.365 1457.11 313.371 1457.74 Q311.396 1458.36 309.139 1459.62 L309.139 1455.78 Q311.434 1454.86 313.427 1454.39 Q315.421 1453.92 317.076 1453.92 Q321.44 1453.92 324.035 1456.1 Q326.631 1458.28 326.631 1461.93 Q326.631 1463.66 325.972 1465.22 Q325.333 1466.76 323.621 1468.87 Q323.151 1469.41 320.631 1472.03 Q318.111 1474.62 313.522 1479.31 Z\" fill=\"#000000\" fill-rule=\"evenodd\" fill-opacity=\"1\" /><path clip-path=\"url(#clip520)\" d=\"M 0 0 M730.467 1505.98 L738.105 1505.98 L738.105 1479.61 L729.795 1481.28 L729.795 1477.02 L738.059 1475.36 L742.735 1475.36 L742.735 1505.98 L750.374 1505.98 L750.374 1509.92 L730.467 1509.92 L730.467 1505.98 Z\" fill=\"#000000\" fill-rule=\"evenodd\" fill-opacity=\"1\" /><path clip-path=\"url(#clip520)\" d=\"M 0 0 M769.818 1478.43 Q766.207 1478.43 764.378 1482 Q762.573 1485.54 762.573 1492.67 Q762.573 1499.78 764.378 1503.34 Q766.207 1506.88 769.818 1506.88 Q773.452 1506.88 775.258 1503.34 Q777.087 1499.78 777.087 1492.67 Q777.087 1485.54 775.258 1482 Q773.452 1478.43 769.818 1478.43 M769.818 1474.73 Q775.628 1474.73 778.684 1479.34 Q781.763 1483.92 781.763 1492.67 Q781.763 1501.4 778.684 1506 Q775.628 1510.59 769.818 1510.59 Q764.008 1510.59 760.929 1506 Q757.874 1501.4 757.874 1492.67 Q757.874 1483.92 760.929 1479.34 Q764.008 1474.73 769.818 1474.73 Z\" fill=\"#000000\" fill-rule=\"evenodd\" fill-opacity=\"1\" /><path clip-path=\"url(#clip520)\" d=\"M 0 0 M781.763 1468.83 L805.874 1468.83 L805.874 1472.03 L781.763 1472.03 L781.763 1468.83 Z\" fill=\"#000000\" fill-rule=\"evenodd\" fill-opacity=\"1\" /><path clip-path=\"url(#clip520)\" d=\"M 0 0 M814.733 1479.31 L820.939 1479.31 L820.939 1457.89 L814.187 1459.24 L814.187 1455.78 L820.902 1454.43 L824.701 1454.43 L824.701 1479.31 L830.907 1479.31 L830.907 1482.51 L814.733 1482.51 L814.733 1479.31 Z\" fill=\"#000000\" fill-rule=\"evenodd\" fill-opacity=\"1\" /><path clip-path=\"url(#clip520)\" d=\"M 0 0 M1249.31 1505.98 L1256.95 1505.98 L1256.95 1479.61 L1248.64 1481.28 L1248.64 1477.02 L1256.9 1475.36 L1261.58 1475.36 L1261.58 1505.98 L1269.22 1505.98 L1269.22 1509.92 L1249.31 1509.92 L1249.31 1505.98 Z\" fill=\"#000000\" fill-rule=\"evenodd\" fill-opacity=\"1\" /><path clip-path=\"url(#clip520)\" d=\"M 0 0 M1288.66 1478.43 Q1285.05 1478.43 1283.22 1482 Q1281.42 1485.54 1281.42 1492.67 Q1281.42 1499.78 1283.22 1503.34 Q1285.05 1506.88 1288.66 1506.88 Q1292.3 1506.88 1294.1 1503.34 Q1295.93 1499.78 1295.93 1492.67 Q1295.93 1485.54 1294.1 1482 Q1292.3 1478.43 1288.66 1478.43 M1288.66 1474.73 Q1294.47 1474.73 1297.53 1479.34 Q1300.61 1483.92 1300.61 1492.67 Q1300.61 1501.4 1297.53 1506 Q1294.47 1510.59 1288.66 1510.59 Q1282.85 1510.59 1279.77 1506 Q1276.72 1501.4 1276.72 1492.67 Q1276.72 1483.92 1279.77 1479.34 Q1282.85 1474.73 1288.66 1474.73 Z\" fill=\"#000000\" fill-rule=\"evenodd\" fill-opacity=\"1\" /><path clip-path=\"url(#clip520)\" d=\"M 0 0 M1310.31 1456.93 Q1307.38 1456.93 1305.89 1459.82 Q1304.42 1462.7 1304.42 1468.49 Q1304.42 1474.27 1305.89 1477.16 Q1307.38 1480.04 1310.31 1480.04 Q1313.26 1480.04 1314.73 1477.16 Q1316.22 1474.27 1316.22 1468.49 Q1316.22 1462.7 1314.73 1459.82 Q1313.26 1456.93 1310.31 1456.93 M1310.31 1453.92 Q1315.03 1453.92 1317.51 1457.66 Q1320.02 1461.38 1320.02 1468.49 Q1320.02 1475.58 1317.51 1479.33 Q1315.03 1483.05 1310.31 1483.05 Q1305.59 1483.05 1303.09 1479.33 Q1300.61 1475.58 1300.61 1468.49 Q1300.61 1461.38 1303.09 1457.66 Q1305.59 1453.92 1310.31 1453.92 Z\" fill=\"#000000\" fill-rule=\"evenodd\" fill-opacity=\"1\" /><path clip-path=\"url(#clip520)\" d=\"M 0 0 M1754.63 1505.98 L1762.27 1505.98 L1762.27 1479.61 L1753.96 1481.28 L1753.96 1477.02 L1762.22 1475.36 L1766.9 1475.36 L1766.9 1505.98 L1774.54 1505.98 L1774.54 1509.92 L1754.63 1509.92 L1754.63 1505.98 Z\" fill=\"#000000\" fill-rule=\"evenodd\" fill-opacity=\"1\" /><path clip-path=\"url(#clip520)\" d=\"M 0 0 M1793.98 1478.43 Q1790.37 1478.43 1788.54 1482 Q1786.74 1485.54 1786.74 1492.67 Q1786.74 1499.78 1788.54 1503.34 Q1790.37 1506.88 1793.98 1506.88 Q1797.62 1506.88 1799.42 1503.34 Q1801.25 1499.78 1801.25 1492.67 Q1801.25 1485.54 1799.42 1482 Q1797.62 1478.43 1793.98 1478.43 M1793.98 1474.73 Q1799.79 1474.73 1802.85 1479.34 Q1805.93 1483.92 1805.93 1492.67 Q1805.93 1501.4 1802.85 1506 Q1799.79 1510.59 1793.98 1510.59 Q1788.17 1510.59 1785.09 1506 Q1782.04 1501.4 1782.04 1492.67 Q1782.04 1483.92 1785.09 1479.34 Q1788.17 1474.73 1793.98 1474.73 Z\" fill=\"#000000\" fill-rule=\"evenodd\" fill-opacity=\"1\" /><path clip-path=\"url(#clip520)\" d=\"M 0 0 M1806.47 1479.31 L1812.68 1479.31 L1812.68 1457.89 L1805.93 1459.24 L1805.93 1455.78 L1812.64 1454.43 L1816.44 1454.43 L1816.44 1479.31 L1822.65 1479.31 L1822.65 1482.51 L1806.47 1482.51 L1806.47 1479.31 Z\" fill=\"#000000\" fill-rule=\"evenodd\" fill-opacity=\"1\" /><path clip-path=\"url(#clip520)\" d=\"M 0 0 M2258.05 1505.98 L2265.69 1505.98 L2265.69 1479.61 L2257.38 1481.28 L2257.38 1477.02 L2265.64 1475.36 L2270.32 1475.36 L2270.32 1505.98 L2277.96 1505.98 L2277.96 1509.92 L2258.05 1509.92 L2258.05 1505.98 Z\" fill=\"#000000\" fill-rule=\"evenodd\" fill-opacity=\"1\" /><path clip-path=\"url(#clip520)\" d=\"M 0 0 M2297.4 1478.43 Q2293.79 1478.43 2291.96 1482 Q2290.16 1485.54 2290.16 1492.67 Q2290.16 1499.78 2291.96 1503.34 Q2293.79 1506.88 2297.4 1506.88 Q2301.04 1506.88 2302.84 1503.34 Q2304.67 1499.78 2304.67 1492.67 Q2304.67 1485.54 2302.84 1482 Q2301.04 1478.43 2297.4 1478.43 M2297.4 1474.73 Q2303.21 1474.73 2306.27 1479.34 Q2309.35 1483.92 2309.35 1492.67 Q2309.35 1501.4 2306.27 1506 Q2303.21 1510.59 2297.4 1510.59 Q2291.59 1510.59 2288.51 1506 Q2285.46 1501.4 2285.46 1492.67 Q2285.46 1483.92 2288.51 1479.34 Q2291.59 1474.73 2297.4 1474.73 Z\" fill=\"#000000\" fill-rule=\"evenodd\" fill-opacity=\"1\" /><path clip-path=\"url(#clip520)\" d=\"M 0 0 M2313.92 1479.31 L2327.18 1479.31 L2327.18 1482.51 L2309.35 1482.51 L2309.35 1479.31 Q2311.51 1477.07 2315.23 1473.31 Q2318.98 1469.53 2319.94 1468.44 Q2321.76 1466.39 2322.48 1464.98 Q2323.21 1463.55 2323.21 1462.17 Q2323.21 1459.94 2321.63 1458.53 Q2320.07 1457.11 2317.55 1457.11 Q2315.76 1457.11 2313.77 1457.74 Q2311.79 1458.36 2309.54 1459.62 L2309.54 1455.78 Q2311.83 1454.86 2313.82 1454.39 Q2315.82 1453.92 2317.47 1453.92 Q2321.84 1453.92 2324.43 1456.1 Q2327.03 1458.28 2327.03 1461.93 Q2327.03 1463.66 2326.37 1465.22 Q2325.73 1466.76 2324.02 1468.87 Q2323.55 1469.41 2321.03 1472.03 Q2318.51 1474.62 2313.92 1479.31 Z\" fill=\"#000000\" fill-rule=\"evenodd\" fill-opacity=\"1\" /><path clip-path=\"url(#clip520)\" d=\"M 0 0 M1297.89 1565.26 Q1297.89 1565.52 1297.6 1566.51 Q1297.31 1567.51 1296.6 1569.06 Q1295.93 1570.6 1294.99 1572.02 Q1294.06 1573.41 1292.51 1574.44 Q1291 1575.44 1289.26 1575.44 Q1286.94 1575.44 1285.39 1573.89 Q1283.85 1572.34 1283.85 1570.03 Q1283.85 1569.7 1283.88 1569.38 Q1283.91 1569.06 1283.94 1568.87 Q1283.98 1568.64 1284.07 1568.29 Q1284.2 1567.9 1284.23 1567.74 Q1284.3 1567.58 1284.46 1567.09 Q1284.65 1566.58 1284.72 1566.39 Q1288.81 1555.95 1288.81 1551.6 Q1288.81 1547 1285.23 1547 Q1282.04 1547 1278.89 1549.32 Q1277.44 1550.48 1276.05 1552.54 Q1274.67 1554.6 1274.41 1555.37 Q1274.12 1557.05 1273.7 1558.33 Q1273.51 1559.24 1272.58 1562.75 L1271.13 1568.7 L1269.87 1573.7 Q1269.61 1574.41 1268.9 1574.92 Q1268.2 1575.44 1267.42 1575.44 Q1266.78 1575.44 1266.13 1574.98 Q1265.52 1574.57 1265.52 1573.57 Q1265.52 1573.05 1265.78 1572.12 L1275.35 1534.12 L1275.54 1532.83 Q1275.54 1532.44 1275.38 1532.25 Q1275.25 1532.02 1274.48 1531.86 Q1273.74 1531.7 1272.25 1531.7 Q1271.64 1531.7 1271.35 1531.67 Q1271.09 1531.64 1270.87 1531.47 Q1270.64 1531.28 1270.64 1530.9 Q1270.64 1530.35 1270.87 1530.06 Q1271.13 1529.74 1271.32 1529.67 Q1271.51 1529.61 1271.9 1529.57 Q1272.45 1529.54 1274.28 1529.38 Q1276.12 1529.19 1277.7 1529.06 Q1279.27 1528.93 1279.95 1528.93 Q1280.34 1528.93 1280.53 1529.12 Q1280.76 1529.28 1280.79 1529.48 L1280.82 1529.64 L1275.67 1550.6 Q1279.76 1545.55 1285.43 1545.55 Q1289.1 1545.55 1291.06 1547.45 Q1293.03 1549.32 1293.03 1552.6 Q1293.03 1556.37 1289 1567.09 Q1287.81 1570.09 1287.81 1571.8 Q1287.81 1572.92 1288.16 1573.44 Q1288.55 1573.95 1289.39 1573.95 Q1290.68 1573.95 1291.8 1573.21 Q1292.96 1572.44 1293.77 1571.18 Q1294.57 1569.9 1295.12 1568.61 Q1295.7 1567.29 1296.12 1565.81 Q1296.38 1565 1296.51 1564.81 Q1296.67 1564.61 1297.12 1564.61 Q1297.89 1564.61 1297.89 1565.26 Z\" fill=\"#000000\" fill-rule=\"evenodd\" fill-opacity=\"1\" /><polyline clip-path=\"url(#clip522)\" style=\"stroke:#000000; stroke-width:2; stroke-opacity:0.1; fill:none\" points=\"\n",
       "  215.898,1124.47 2352.76,1124.47 \n",
       "  \"/>\n",
       "<polyline clip-path=\"url(#clip522)\" style=\"stroke:#000000; stroke-width:2; stroke-opacity:0.1; fill:none\" points=\"\n",
       "  215.898,778.407 2352.76,778.407 \n",
       "  \"/>\n",
       "<polyline clip-path=\"url(#clip522)\" style=\"stroke:#000000; stroke-width:2; stroke-opacity:0.1; fill:none\" points=\"\n",
       "  215.898,432.343 2352.76,432.343 \n",
       "  \"/>\n",
       "<polyline clip-path=\"url(#clip522)\" style=\"stroke:#000000; stroke-width:2; stroke-opacity:0.1; fill:none\" points=\"\n",
       "  215.898,86.2792 2352.76,86.2792 \n",
       "  \"/>\n",
       "<polyline clip-path=\"url(#clip520)\" style=\"stroke:#000000; stroke-width:4; stroke-opacity:1; fill:none\" points=\"\n",
       "  215.898,1427.71 215.898,47.2441 \n",
       "  \"/>\n",
       "<polyline clip-path=\"url(#clip520)\" style=\"stroke:#000000; stroke-width:4; stroke-opacity:1; fill:none\" points=\"\n",
       "  215.898,1124.47 241.541,1124.47 \n",
       "  \"/>\n",
       "<polyline clip-path=\"url(#clip520)\" style=\"stroke:#000000; stroke-width:4; stroke-opacity:1; fill:none\" points=\"\n",
       "  215.898,778.407 241.541,778.407 \n",
       "  \"/>\n",
       "<polyline clip-path=\"url(#clip520)\" style=\"stroke:#000000; stroke-width:4; stroke-opacity:1; fill:none\" points=\"\n",
       "  215.898,432.343 241.541,432.343 \n",
       "  \"/>\n",
       "<polyline clip-path=\"url(#clip520)\" style=\"stroke:#000000; stroke-width:4; stroke-opacity:1; fill:none\" points=\"\n",
       "  215.898,86.2792 241.541,86.2792 \n",
       "  \"/>\n",
       "<path clip-path=\"url(#clip520)\" d=\"M 0 0 M122.237 1110.27 Q118.626 1110.27 116.797 1113.83 Q114.991 1117.38 114.991 1124.51 Q114.991 1131.61 116.797 1135.18 Q118.626 1138.72 122.237 1138.72 Q125.871 1138.72 127.676 1135.18 Q129.505 1131.61 129.505 1124.51 Q129.505 1117.38 127.676 1113.83 Q125.871 1110.27 122.237 1110.27 M122.237 1106.57 Q128.047 1106.57 131.102 1111.17 Q134.181 1115.76 134.181 1124.51 Q134.181 1133.23 131.102 1137.84 Q128.047 1142.42 122.237 1142.42 Q116.426 1142.42 113.348 1137.84 Q110.292 1133.23 110.292 1124.51 Q110.292 1115.76 113.348 1111.17 Q116.426 1106.57 122.237 1106.57 Z\" fill=\"#000000\" fill-rule=\"evenodd\" fill-opacity=\"1\" /><path clip-path=\"url(#clip520)\" d=\"M 0 0 M142.399 1135.87 L147.283 1135.87 L147.283 1141.75 L142.399 1141.75 L142.399 1135.87 Z\" fill=\"#000000\" fill-rule=\"evenodd\" fill-opacity=\"1\" /><path clip-path=\"url(#clip520)\" d=\"M 0 0 M170.315 1111.26 L158.51 1129.71 L170.315 1129.71 L170.315 1111.26 M169.088 1107.19 L174.968 1107.19 L174.968 1129.71 L179.898 1129.71 L179.898 1133.6 L174.968 1133.6 L174.968 1141.75 L170.315 1141.75 L170.315 1133.6 L154.713 1133.6 L154.713 1129.09 L169.088 1107.19 Z\" fill=\"#000000\" fill-rule=\"evenodd\" fill-opacity=\"1\" /><path clip-path=\"url(#clip520)\" d=\"M 0 0 M122.561 764.205 Q118.95 764.205 117.121 767.77 Q115.315 771.312 115.315 778.441 Q115.315 785.548 117.121 789.113 Q118.95 792.654 122.561 792.654 Q126.195 792.654 128 789.113 Q129.829 785.548 129.829 778.441 Q129.829 771.312 128 767.77 Q126.195 764.205 122.561 764.205 M122.561 760.502 Q128.371 760.502 131.426 765.108 Q134.505 769.691 134.505 778.441 Q134.505 787.168 131.426 791.775 Q128.371 796.358 122.561 796.358 Q116.751 796.358 113.672 791.775 Q110.616 787.168 110.616 778.441 Q110.616 769.691 113.672 765.108 Q116.751 760.502 122.561 760.502 Z\" fill=\"#000000\" fill-rule=\"evenodd\" fill-opacity=\"1\" /><path clip-path=\"url(#clip520)\" d=\"M 0 0 M142.723 789.807 L147.607 789.807 L147.607 795.687 L142.723 795.687 L142.723 789.807 Z\" fill=\"#000000\" fill-rule=\"evenodd\" fill-opacity=\"1\" /><path clip-path=\"url(#clip520)\" d=\"M 0 0 M168.371 776.543 Q165.223 776.543 163.371 778.696 Q161.542 780.849 161.542 784.599 Q161.542 788.326 163.371 790.502 Q165.223 792.654 168.371 792.654 Q171.519 792.654 173.347 790.502 Q175.199 788.326 175.199 784.599 Q175.199 780.849 173.347 778.696 Q171.519 776.543 168.371 776.543 M177.653 761.891 L177.653 766.15 Q175.894 765.316 174.088 764.877 Q172.306 764.437 170.547 764.437 Q165.917 764.437 163.463 767.562 Q161.033 770.687 160.685 777.006 Q162.051 774.992 164.111 773.928 Q166.172 772.84 168.648 772.84 Q173.857 772.84 176.866 776.011 Q179.898 779.159 179.898 784.599 Q179.898 789.923 176.75 793.14 Q173.602 796.358 168.371 796.358 Q162.375 796.358 159.204 791.775 Q156.033 787.168 156.033 778.441 Q156.033 770.247 159.922 765.386 Q163.81 760.502 170.361 760.502 Q172.121 760.502 173.903 760.849 Q175.709 761.196 177.653 761.891 Z\" fill=\"#000000\" fill-rule=\"evenodd\" fill-opacity=\"1\" /><path clip-path=\"url(#clip520)\" d=\"M 0 0 M122.815 418.142 Q119.204 418.142 117.376 421.706 Q115.57 425.248 115.57 432.378 Q115.57 439.484 117.376 443.049 Q119.204 446.591 122.815 446.591 Q126.45 446.591 128.255 443.049 Q130.084 439.484 130.084 432.378 Q130.084 425.248 128.255 421.706 Q126.45 418.142 122.815 418.142 M122.815 414.438 Q128.625 414.438 131.681 419.044 Q134.76 423.628 134.76 432.378 Q134.76 441.104 131.681 445.711 Q128.625 450.294 122.815 450.294 Q117.005 450.294 113.926 445.711 Q110.871 441.104 110.871 432.378 Q110.871 423.628 113.926 419.044 Q117.005 414.438 122.815 414.438 Z\" fill=\"#000000\" fill-rule=\"evenodd\" fill-opacity=\"1\" /><path clip-path=\"url(#clip520)\" d=\"M 0 0 M142.977 443.743 L147.861 443.743 L147.861 449.623 L142.977 449.623 L142.977 443.743 Z\" fill=\"#000000\" fill-rule=\"evenodd\" fill-opacity=\"1\" /><path clip-path=\"url(#clip520)\" d=\"M 0 0 M168.047 433.211 Q164.713 433.211 162.792 434.993 Q160.894 436.776 160.894 439.901 Q160.894 443.026 162.792 444.808 Q164.713 446.591 168.047 446.591 Q171.38 446.591 173.301 444.808 Q175.222 443.003 175.222 439.901 Q175.222 436.776 173.301 434.993 Q171.403 433.211 168.047 433.211 M163.371 431.22 Q160.361 430.48 158.672 428.419 Q157.005 426.359 157.005 423.396 Q157.005 419.253 159.945 416.845 Q162.908 414.438 168.047 414.438 Q173.209 414.438 176.148 416.845 Q179.088 419.253 179.088 423.396 Q179.088 426.359 177.398 428.419 Q175.732 430.48 172.746 431.22 Q176.125 432.007 178 434.299 Q179.898 436.591 179.898 439.901 Q179.898 444.924 176.82 447.609 Q173.764 450.294 168.047 450.294 Q162.329 450.294 159.25 447.609 Q156.195 444.924 156.195 439.901 Q156.195 436.591 158.093 434.299 Q159.991 432.007 163.371 431.22 M161.658 423.836 Q161.658 426.521 163.324 428.026 Q165.014 429.53 168.047 429.53 Q171.056 429.53 172.746 428.026 Q174.459 426.521 174.459 423.836 Q174.459 421.151 172.746 419.646 Q171.056 418.142 168.047 418.142 Q165.014 418.142 163.324 419.646 Q161.658 421.151 161.658 423.836 Z\" fill=\"#000000\" fill-rule=\"evenodd\" fill-opacity=\"1\" /><path clip-path=\"url(#clip520)\" d=\"M 0 0 M113.533 99.6241 L121.172 99.6241 L121.172 73.2585 L112.862 74.9251 L112.862 70.6659 L121.126 68.9992 L125.801 68.9992 L125.801 99.6241 L133.44 99.6241 L133.44 103.559 L113.533 103.559 L113.533 99.6241 Z\" fill=\"#000000\" fill-rule=\"evenodd\" fill-opacity=\"1\" /><path clip-path=\"url(#clip520)\" d=\"M 0 0 M142.885 97.6796 L147.769 97.6796 L147.769 103.559 L142.885 103.559 L142.885 97.6796 Z\" fill=\"#000000\" fill-rule=\"evenodd\" fill-opacity=\"1\" /><path clip-path=\"url(#clip520)\" d=\"M 0 0 M167.954 72.0779 Q164.343 72.0779 162.514 75.6427 Q160.709 79.1844 160.709 86.3139 Q160.709 93.4204 162.514 96.9852 Q164.343 100.527 167.954 100.527 Q171.588 100.527 173.394 96.9852 Q175.222 93.4204 175.222 86.3139 Q175.222 79.1844 173.394 75.6427 Q171.588 72.0779 167.954 72.0779 M167.954 68.3742 Q173.764 68.3742 176.82 72.9807 Q179.898 77.564 179.898 86.3139 Q179.898 95.0408 176.82 99.6472 Q173.764 104.231 167.954 104.231 Q162.144 104.231 159.065 99.6472 Q156.01 95.0408 156.01 86.3139 Q156.01 77.564 159.065 72.9807 Q162.144 68.3742 167.954 68.3742 Z\" fill=\"#000000\" fill-rule=\"evenodd\" fill-opacity=\"1\" /><path clip-path=\"url(#clip520)\" d=\"M 0 0 M20.1817 747.197 Q21.1156 747.197 21.3089 747.615 Q21.5021 748.002 21.5021 749.29 Q21.5021 750.804 21.6309 751.738 Q21.7275 752.672 21.8886 753.251 Q22.0174 753.831 22.4683 754.185 Q22.9192 754.507 23.3056 754.636 Q23.6599 754.765 24.5295 754.99 L59.666 763.75 Q60.8577 764.072 61.2763 764.072 Q61.695 764.072 61.9527 763.815 Q62.2103 763.525 62.3391 762.816 Q62.4358 762.108 62.468 761.56 Q62.468 760.981 62.468 759.789 Q62.468 758.308 62.7256 758.082 Q62.8866 757.953 63.1765 757.953 Q63.7884 757.953 64.1105 758.211 Q64.4003 758.469 64.4647 758.694 Q64.4969 758.887 64.4969 759.209 Q64.4969 760.562 64.4003 763.332 Q64.3037 766.101 64.3037 767.454 L64.4969 775.634 Q64.4969 776.601 63.6918 776.601 Q63.0799 776.601 62.8222 776.343 Q62.5324 776.085 62.5002 775.795 Q62.468 775.506 62.468 774.765 Q62.468 772.124 62.1781 770.997 Q61.8883 769.837 61.373 769.515 Q60.8255 769.161 59.344 768.774 L21.5665 759.338 L21.5665 759.403 L63.3053 786.037 L63.5952 786.23 Q63.8528 786.423 63.9494 786.488 Q64.0138 786.552 64.2071 786.745 Q64.3681 786.906 64.4325 787.1 Q64.4969 787.261 64.4969 787.486 Q64.4969 787.873 64.2393 788.098 Q63.9816 788.291 63.7884 788.356 Q63.563 788.388 62.9833 788.484 L22.0818 794.153 L22.0818 794.217 L58.0236 803.203 Q59.0219 803.46 59.5372 803.46 Q60.8577 803.46 61.6628 802.526 Q62.4358 801.56 62.468 798.984 Q62.468 797.792 63.1765 797.792 Q64.4969 797.792 64.4969 798.984 Q64.4969 800.079 64.4003 802.365 Q64.3037 804.652 64.3037 805.779 Q64.3037 806.874 64.4003 809.096 Q64.4969 811.286 64.4969 812.349 Q64.4969 813.283 63.6918 813.283 Q62.468 813.283 62.468 812.091 Q62.4035 810.159 62.0171 808.839 Q61.6306 807.518 60.8899 806.777 Q60.1491 806.004 59.4084 805.65 Q58.6355 805.264 57.5083 804.974 L23.9175 796.6 Q22.8547 796.343 22.6937 796.343 Q22.1462 796.343 21.953 796.665 Q21.7275 796.955 21.6309 797.792 Q21.5021 799.402 21.5021 800.626 Q21.5021 801.431 21.4699 801.753 Q21.4377 802.043 21.2767 802.301 Q21.0834 802.526 20.697 802.526 Q20.085 802.526 19.8274 802.269 Q19.5375 801.979 19.5053 801.657 Q19.4409 801.335 19.4409 800.562 L19.4409 791.512 Q19.4409 790.191 19.6664 789.902 Q19.8596 789.612 20.9546 789.483 L58.2812 784.33 L20.697 760.24 Q19.763 759.628 19.602 759.306 Q19.4409 758.984 19.4409 757.696 L19.4409 748.968 Q19.4409 748.259 19.4731 747.969 Q19.5053 747.68 19.6664 747.454 Q19.8274 747.197 20.1817 747.197 Z\" fill=\"#000000\" fill-rule=\"evenodd\" fill-opacity=\"1\" /><path clip-path=\"url(#clip520)\" d=\"M 0 0 M48.0075 749.933 Q36.8643 749.933 27.8789 745.778 Q24.1108 744.007 20.9546 741.527 Q17.7984 739.047 16.4136 737.404 Q15.0287 735.762 15.0287 735.311 Q15.0287 734.667 15.6728 734.635 Q15.9949 734.635 16.8 735.504 Q27.6212 746.132 48.0075 746.1 Q68.4582 746.1 78.8607 735.762 Q79.9879 734.635 80.3422 734.635 Q80.9863 734.635 80.9863 735.311 Q80.9863 735.762 79.6659 737.34 Q78.3454 738.918 75.3181 741.366 Q72.2907 743.813 68.5871 745.585 Q59.6016 749.933 48.0075 749.933 Z\" fill=\"#000000\" fill-rule=\"evenodd\" fill-opacity=\"1\" /><path clip-path=\"url(#clip520)\" d=\"M 0 0 M55.0606 692.238 Q55.3183 692.238 56.3166 692.528 Q57.315 692.818 58.8609 693.526 Q60.4068 694.203 61.8238 695.137 Q63.2087 696.071 64.2393 697.617 Q65.2377 699.13 65.2377 700.869 Q65.2377 703.188 63.6918 704.734 Q62.1459 706.28 59.8271 706.28 Q59.505 706.28 59.183 706.248 Q58.8609 706.216 58.6677 706.183 Q58.4422 706.151 58.088 706.055 Q57.7015 705.926 57.5405 705.894 Q57.3794 705.829 56.8963 705.668 Q56.3811 705.475 56.1878 705.41 Q45.7531 701.32 41.4053 701.32 Q36.7999 701.32 36.7999 704.895 Q36.7999 708.084 39.1187 711.24 Q40.2781 712.689 42.3393 714.074 Q44.4005 715.459 45.1734 715.716 Q46.8481 716.006 48.1364 716.425 Q49.0381 716.618 52.5486 717.552 L58.5066 719.001 L63.4985 720.257 Q64.2071 720.515 64.7224 721.224 Q65.2377 721.932 65.2377 722.705 Q65.2377 723.349 64.7868 723.993 Q64.3681 724.605 63.3697 724.605 Q62.8544 724.605 61.9205 724.348 L23.9175 714.782 L22.6293 714.589 Q22.2428 714.589 22.0496 714.75 Q21.8242 714.879 21.6631 715.652 Q21.5021 716.393 21.5021 717.874 Q21.5021 718.486 21.4699 718.776 Q21.4377 719.034 21.2767 719.259 Q21.0834 719.484 20.697 719.484 Q20.1495 719.484 19.8596 719.259 Q19.5375 719.001 19.4731 718.808 Q19.4087 718.615 19.3765 718.228 Q19.3443 717.681 19.1833 715.845 Q18.99 714.009 18.8612 712.431 Q18.7324 710.853 18.7324 710.177 Q18.7324 709.79 18.9256 709.597 Q19.0867 709.372 19.2799 709.34 L19.4409 709.307 L40.4069 714.46 Q35.3506 710.37 35.3506 704.702 Q35.3506 701.03 37.2508 699.066 Q39.1187 697.101 42.4037 697.101 Q46.1718 697.101 56.8963 701.127 Q59.8915 702.319 61.5984 702.319 Q62.7256 702.319 63.2409 701.964 Q63.7562 701.578 63.7562 700.741 Q63.7562 699.452 63.0155 698.325 Q62.2425 697.166 60.9865 696.361 Q59.6983 695.555 58.41 695.008 Q57.0896 694.428 55.6081 694.01 Q54.803 693.752 54.6097 693.623 Q54.4165 693.462 54.4165 693.011 Q54.4165 692.238 55.0606 692.238 Z\" fill=\"#000000\" fill-rule=\"evenodd\" fill-opacity=\"1\" /><path clip-path=\"url(#clip520)\" d=\"M 0 0 M80.3422 686.997 Q80.0202 686.997 79.215 686.159 Q68.3938 675.532 48.0075 675.532 Q27.5568 675.532 17.2187 685.741 Q16.0271 686.997 15.6728 686.997 Q15.0287 686.997 15.0287 686.353 Q15.0287 685.902 16.3492 684.324 Q17.6696 682.713 20.697 680.298 Q23.7243 677.85 27.428 676.047 Q36.4134 671.699 48.0075 671.699 Q59.1508 671.699 68.1362 675.854 Q71.9043 677.625 75.0605 680.105 Q78.2166 682.585 79.6015 684.227 Q80.9863 685.87 80.9863 686.353 Q80.9863 686.997 80.3422 686.997 Z\" fill=\"#000000\" fill-rule=\"evenodd\" fill-opacity=\"1\" /><polyline clip-path=\"url(#clip522)\" style=\"stroke:#009af9; stroke-width:4; stroke-opacity:1; fill:none\" points=\"\n",
       "  276.375,86.4522 500.365,87.6158 724.354,96.4693 948.343,156.899 1172.33,397.296 1396.32,703.033 1620.31,858.778 1844.3,917.971 2068.29,939.403 2292.28,947.113 \n",
       "  \n",
       "  \"/>\n",
       "<circle clip-path=\"url(#clip522)\" cx=\"276.375\" cy=\"86.4522\" r=\"14\" fill=\"#009af9\" fill-rule=\"evenodd\" fill-opacity=\"1\" stroke=\"#000000\" stroke-opacity=\"1\" stroke-width=\"3.2\"/>\n",
       "<circle clip-path=\"url(#clip522)\" cx=\"500.365\" cy=\"87.6158\" r=\"14\" fill=\"#009af9\" fill-rule=\"evenodd\" fill-opacity=\"1\" stroke=\"#000000\" stroke-opacity=\"1\" stroke-width=\"3.2\"/>\n",
       "<circle clip-path=\"url(#clip522)\" cx=\"724.354\" cy=\"96.4693\" r=\"14\" fill=\"#009af9\" fill-rule=\"evenodd\" fill-opacity=\"1\" stroke=\"#000000\" stroke-opacity=\"1\" stroke-width=\"3.2\"/>\n",
       "<circle clip-path=\"url(#clip522)\" cx=\"948.343\" cy=\"156.899\" r=\"14\" fill=\"#009af9\" fill-rule=\"evenodd\" fill-opacity=\"1\" stroke=\"#000000\" stroke-opacity=\"1\" stroke-width=\"3.2\"/>\n",
       "<circle clip-path=\"url(#clip522)\" cx=\"1172.33\" cy=\"397.296\" r=\"14\" fill=\"#009af9\" fill-rule=\"evenodd\" fill-opacity=\"1\" stroke=\"#000000\" stroke-opacity=\"1\" stroke-width=\"3.2\"/>\n",
       "<circle clip-path=\"url(#clip522)\" cx=\"1396.32\" cy=\"703.033\" r=\"14\" fill=\"#009af9\" fill-rule=\"evenodd\" fill-opacity=\"1\" stroke=\"#000000\" stroke-opacity=\"1\" stroke-width=\"3.2\"/>\n",
       "<circle clip-path=\"url(#clip522)\" cx=\"1620.31\" cy=\"858.778\" r=\"14\" fill=\"#009af9\" fill-rule=\"evenodd\" fill-opacity=\"1\" stroke=\"#000000\" stroke-opacity=\"1\" stroke-width=\"3.2\"/>\n",
       "<circle clip-path=\"url(#clip522)\" cx=\"1844.3\" cy=\"917.971\" r=\"14\" fill=\"#009af9\" fill-rule=\"evenodd\" fill-opacity=\"1\" stroke=\"#000000\" stroke-opacity=\"1\" stroke-width=\"3.2\"/>\n",
       "<circle clip-path=\"url(#clip522)\" cx=\"2068.29\" cy=\"939.403\" r=\"14\" fill=\"#009af9\" fill-rule=\"evenodd\" fill-opacity=\"1\" stroke=\"#000000\" stroke-opacity=\"1\" stroke-width=\"3.2\"/>\n",
       "<circle clip-path=\"url(#clip522)\" cx=\"2292.28\" cy=\"947.113\" r=\"14\" fill=\"#009af9\" fill-rule=\"evenodd\" fill-opacity=\"1\" stroke=\"#000000\" stroke-opacity=\"1\" stroke-width=\"3.2\"/>\n",
       "<polyline clip-path=\"url(#clip522)\" style=\"stroke:#e26f46; stroke-width:4; stroke-opacity:1; fill:none\" points=\"\n",
       "  276.375,86.3451 500.365,86.8034 724.354,90.6343 948.343,125.421 1172.33,371.051 1396.32,743.498 1620.31,884.343 1844.3,928.462 2068.29,943.33 2292.28,948.544 \n",
       "  \n",
       "  \"/>\n",
       "<circle clip-path=\"url(#clip522)\" cx=\"276.375\" cy=\"86.3451\" r=\"14\" fill=\"#e26f46\" fill-rule=\"evenodd\" fill-opacity=\"1\" stroke=\"#000000\" stroke-opacity=\"1\" stroke-width=\"3.2\"/>\n",
       "<circle clip-path=\"url(#clip522)\" cx=\"500.365\" cy=\"86.8034\" r=\"14\" fill=\"#e26f46\" fill-rule=\"evenodd\" fill-opacity=\"1\" stroke=\"#000000\" stroke-opacity=\"1\" stroke-width=\"3.2\"/>\n",
       "<circle clip-path=\"url(#clip522)\" cx=\"724.354\" cy=\"90.6343\" r=\"14\" fill=\"#e26f46\" fill-rule=\"evenodd\" fill-opacity=\"1\" stroke=\"#000000\" stroke-opacity=\"1\" stroke-width=\"3.2\"/>\n",
       "<circle clip-path=\"url(#clip522)\" cx=\"948.343\" cy=\"125.421\" r=\"14\" fill=\"#e26f46\" fill-rule=\"evenodd\" fill-opacity=\"1\" stroke=\"#000000\" stroke-opacity=\"1\" stroke-width=\"3.2\"/>\n",
       "<circle clip-path=\"url(#clip522)\" cx=\"1172.33\" cy=\"371.051\" r=\"14\" fill=\"#e26f46\" fill-rule=\"evenodd\" fill-opacity=\"1\" stroke=\"#000000\" stroke-opacity=\"1\" stroke-width=\"3.2\"/>\n",
       "<circle clip-path=\"url(#clip522)\" cx=\"1396.32\" cy=\"743.498\" r=\"14\" fill=\"#e26f46\" fill-rule=\"evenodd\" fill-opacity=\"1\" stroke=\"#000000\" stroke-opacity=\"1\" stroke-width=\"3.2\"/>\n",
       "<circle clip-path=\"url(#clip522)\" cx=\"1620.31\" cy=\"884.343\" r=\"14\" fill=\"#e26f46\" fill-rule=\"evenodd\" fill-opacity=\"1\" stroke=\"#000000\" stroke-opacity=\"1\" stroke-width=\"3.2\"/>\n",
       "<circle clip-path=\"url(#clip522)\" cx=\"1844.3\" cy=\"928.462\" r=\"14\" fill=\"#e26f46\" fill-rule=\"evenodd\" fill-opacity=\"1\" stroke=\"#000000\" stroke-opacity=\"1\" stroke-width=\"3.2\"/>\n",
       "<circle clip-path=\"url(#clip522)\" cx=\"2068.29\" cy=\"943.33\" r=\"14\" fill=\"#e26f46\" fill-rule=\"evenodd\" fill-opacity=\"1\" stroke=\"#000000\" stroke-opacity=\"1\" stroke-width=\"3.2\"/>\n",
       "<circle clip-path=\"url(#clip522)\" cx=\"2292.28\" cy=\"948.544\" r=\"14\" fill=\"#e26f46\" fill-rule=\"evenodd\" fill-opacity=\"1\" stroke=\"#000000\" stroke-opacity=\"1\" stroke-width=\"3.2\"/>\n",
       "<polyline clip-path=\"url(#clip522)\" style=\"stroke:#3da44d; stroke-width:4; stroke-opacity:1; fill:none\" points=\"\n",
       "  276.375,86.3333 500.365,86.6989 724.354,89.583 948.343,114.894 1172.33,378.716 1396.32,920.542 1620.31,1092.03 1844.3,1141.92 2068.29,1158.62 2292.28,1164.47 \n",
       "  \n",
       "  \"/>\n",
       "<circle clip-path=\"url(#clip522)\" cx=\"276.375\" cy=\"86.3333\" r=\"14\" fill=\"#3da44d\" fill-rule=\"evenodd\" fill-opacity=\"1\" stroke=\"#000000\" stroke-opacity=\"1\" stroke-width=\"3.2\"/>\n",
       "<circle clip-path=\"url(#clip522)\" cx=\"500.365\" cy=\"86.6989\" r=\"14\" fill=\"#3da44d\" fill-rule=\"evenodd\" fill-opacity=\"1\" stroke=\"#000000\" stroke-opacity=\"1\" stroke-width=\"3.2\"/>\n",
       "<circle clip-path=\"url(#clip522)\" cx=\"724.354\" cy=\"89.583\" r=\"14\" fill=\"#3da44d\" fill-rule=\"evenodd\" fill-opacity=\"1\" stroke=\"#000000\" stroke-opacity=\"1\" stroke-width=\"3.2\"/>\n",
       "<circle clip-path=\"url(#clip522)\" cx=\"948.343\" cy=\"114.894\" r=\"14\" fill=\"#3da44d\" fill-rule=\"evenodd\" fill-opacity=\"1\" stroke=\"#000000\" stroke-opacity=\"1\" stroke-width=\"3.2\"/>\n",
       "<circle clip-path=\"url(#clip522)\" cx=\"1172.33\" cy=\"378.716\" r=\"14\" fill=\"#3da44d\" fill-rule=\"evenodd\" fill-opacity=\"1\" stroke=\"#000000\" stroke-opacity=\"1\" stroke-width=\"3.2\"/>\n",
       "<circle clip-path=\"url(#clip522)\" cx=\"1396.32\" cy=\"920.542\" r=\"14\" fill=\"#3da44d\" fill-rule=\"evenodd\" fill-opacity=\"1\" stroke=\"#000000\" stroke-opacity=\"1\" stroke-width=\"3.2\"/>\n",
       "<circle clip-path=\"url(#clip522)\" cx=\"1620.31\" cy=\"1092.03\" r=\"14\" fill=\"#3da44d\" fill-rule=\"evenodd\" fill-opacity=\"1\" stroke=\"#000000\" stroke-opacity=\"1\" stroke-width=\"3.2\"/>\n",
       "<circle clip-path=\"url(#clip522)\" cx=\"1844.3\" cy=\"1141.92\" r=\"14\" fill=\"#3da44d\" fill-rule=\"evenodd\" fill-opacity=\"1\" stroke=\"#000000\" stroke-opacity=\"1\" stroke-width=\"3.2\"/>\n",
       "<circle clip-path=\"url(#clip522)\" cx=\"2068.29\" cy=\"1158.62\" r=\"14\" fill=\"#3da44d\" fill-rule=\"evenodd\" fill-opacity=\"1\" stroke=\"#000000\" stroke-opacity=\"1\" stroke-width=\"3.2\"/>\n",
       "<circle clip-path=\"url(#clip522)\" cx=\"2292.28\" cy=\"1164.47\" r=\"14\" fill=\"#3da44d\" fill-rule=\"evenodd\" fill-opacity=\"1\" stroke=\"#000000\" stroke-opacity=\"1\" stroke-width=\"3.2\"/>\n",
       "<polyline clip-path=\"url(#clip522)\" style=\"stroke:#c271d2; stroke-width:4; stroke-opacity:1; fill:none\" points=\"\n",
       "  276.375,86.3268 500.365,86.6479 724.354,89.1479 948.343,109.735 1172.33,346.342 1396.32,950.722 1620.31,1105.66 1844.3,1146.91 2068.29,1160.42 2292.28,1165.12 \n",
       "  \n",
       "  \"/>\n",
       "<circle clip-path=\"url(#clip522)\" cx=\"276.375\" cy=\"86.3268\" r=\"14\" fill=\"#c271d2\" fill-rule=\"evenodd\" fill-opacity=\"1\" stroke=\"#000000\" stroke-opacity=\"1\" stroke-width=\"3.2\"/>\n",
       "<circle clip-path=\"url(#clip522)\" cx=\"500.365\" cy=\"86.6479\" r=\"14\" fill=\"#c271d2\" fill-rule=\"evenodd\" fill-opacity=\"1\" stroke=\"#000000\" stroke-opacity=\"1\" stroke-width=\"3.2\"/>\n",
       "<circle clip-path=\"url(#clip522)\" cx=\"724.354\" cy=\"89.1479\" r=\"14\" fill=\"#c271d2\" fill-rule=\"evenodd\" fill-opacity=\"1\" stroke=\"#000000\" stroke-opacity=\"1\" stroke-width=\"3.2\"/>\n",
       "<circle clip-path=\"url(#clip522)\" cx=\"948.343\" cy=\"109.735\" r=\"14\" fill=\"#c271d2\" fill-rule=\"evenodd\" fill-opacity=\"1\" stroke=\"#000000\" stroke-opacity=\"1\" stroke-width=\"3.2\"/>\n",
       "<circle clip-path=\"url(#clip522)\" cx=\"1172.33\" cy=\"346.342\" r=\"14\" fill=\"#c271d2\" fill-rule=\"evenodd\" fill-opacity=\"1\" stroke=\"#000000\" stroke-opacity=\"1\" stroke-width=\"3.2\"/>\n",
       "<circle clip-path=\"url(#clip522)\" cx=\"1396.32\" cy=\"950.722\" r=\"14\" fill=\"#c271d2\" fill-rule=\"evenodd\" fill-opacity=\"1\" stroke=\"#000000\" stroke-opacity=\"1\" stroke-width=\"3.2\"/>\n",
       "<circle clip-path=\"url(#clip522)\" cx=\"1620.31\" cy=\"1105.66\" r=\"14\" fill=\"#c271d2\" fill-rule=\"evenodd\" fill-opacity=\"1\" stroke=\"#000000\" stroke-opacity=\"1\" stroke-width=\"3.2\"/>\n",
       "<circle clip-path=\"url(#clip522)\" cx=\"1844.3\" cy=\"1146.91\" r=\"14\" fill=\"#c271d2\" fill-rule=\"evenodd\" fill-opacity=\"1\" stroke=\"#000000\" stroke-opacity=\"1\" stroke-width=\"3.2\"/>\n",
       "<circle clip-path=\"url(#clip522)\" cx=\"2068.29\" cy=\"1160.42\" r=\"14\" fill=\"#c271d2\" fill-rule=\"evenodd\" fill-opacity=\"1\" stroke=\"#000000\" stroke-opacity=\"1\" stroke-width=\"3.2\"/>\n",
       "<circle clip-path=\"url(#clip522)\" cx=\"2292.28\" cy=\"1165.12\" r=\"14\" fill=\"#c271d2\" fill-rule=\"evenodd\" fill-opacity=\"1\" stroke=\"#000000\" stroke-opacity=\"1\" stroke-width=\"3.2\"/>\n",
       "<polyline clip-path=\"url(#clip522)\" style=\"stroke:#ac8d18; stroke-width:4; stroke-opacity:1; fill:none\" points=\"\n",
       "  276.375,86.3225 500.365,86.6143 724.354,88.8834 948.343,107.176 1172.33,326.086 1396.32,1047.52 1620.31,1211.55 1844.3,1254.25 2068.29,1268.26 2292.28,1273.16 \n",
       "  \n",
       "  \"/>\n",
       "<circle clip-path=\"url(#clip522)\" cx=\"276.375\" cy=\"86.3225\" r=\"14\" fill=\"#ac8d18\" fill-rule=\"evenodd\" fill-opacity=\"1\" stroke=\"#000000\" stroke-opacity=\"1\" stroke-width=\"3.2\"/>\n",
       "<circle clip-path=\"url(#clip522)\" cx=\"500.365\" cy=\"86.6143\" r=\"14\" fill=\"#ac8d18\" fill-rule=\"evenodd\" fill-opacity=\"1\" stroke=\"#000000\" stroke-opacity=\"1\" stroke-width=\"3.2\"/>\n",
       "<circle clip-path=\"url(#clip522)\" cx=\"724.354\" cy=\"88.8834\" r=\"14\" fill=\"#ac8d18\" fill-rule=\"evenodd\" fill-opacity=\"1\" stroke=\"#000000\" stroke-opacity=\"1\" stroke-width=\"3.2\"/>\n",
       "<circle clip-path=\"url(#clip522)\" cx=\"948.343\" cy=\"107.176\" r=\"14\" fill=\"#ac8d18\" fill-rule=\"evenodd\" fill-opacity=\"1\" stroke=\"#000000\" stroke-opacity=\"1\" stroke-width=\"3.2\"/>\n",
       "<circle clip-path=\"url(#clip522)\" cx=\"1172.33\" cy=\"326.086\" r=\"14\" fill=\"#ac8d18\" fill-rule=\"evenodd\" fill-opacity=\"1\" stroke=\"#000000\" stroke-opacity=\"1\" stroke-width=\"3.2\"/>\n",
       "<circle clip-path=\"url(#clip522)\" cx=\"1396.32\" cy=\"1047.52\" r=\"14\" fill=\"#ac8d18\" fill-rule=\"evenodd\" fill-opacity=\"1\" stroke=\"#000000\" stroke-opacity=\"1\" stroke-width=\"3.2\"/>\n",
       "<circle clip-path=\"url(#clip522)\" cx=\"1620.31\" cy=\"1211.55\" r=\"14\" fill=\"#ac8d18\" fill-rule=\"evenodd\" fill-opacity=\"1\" stroke=\"#000000\" stroke-opacity=\"1\" stroke-width=\"3.2\"/>\n",
       "<circle clip-path=\"url(#clip522)\" cx=\"1844.3\" cy=\"1254.25\" r=\"14\" fill=\"#ac8d18\" fill-rule=\"evenodd\" fill-opacity=\"1\" stroke=\"#000000\" stroke-opacity=\"1\" stroke-width=\"3.2\"/>\n",
       "<circle clip-path=\"url(#clip522)\" cx=\"2068.29\" cy=\"1268.26\" r=\"14\" fill=\"#ac8d18\" fill-rule=\"evenodd\" fill-opacity=\"1\" stroke=\"#000000\" stroke-opacity=\"1\" stroke-width=\"3.2\"/>\n",
       "<circle clip-path=\"url(#clip522)\" cx=\"2292.28\" cy=\"1273.16\" r=\"14\" fill=\"#ac8d18\" fill-rule=\"evenodd\" fill-opacity=\"1\" stroke=\"#000000\" stroke-opacity=\"1\" stroke-width=\"3.2\"/>\n",
       "<polyline clip-path=\"url(#clip522)\" style=\"stroke:#00a9ad; stroke-width:4; stroke-opacity:1; fill:none\" points=\"\n",
       "  276.375,86.3194 500.365,86.5904 724.354,88.6968 948.343,105.553 1172.33,301.643 1396.32,1069.82 1620.31,1220 1844.3,1257.25 2068.29,1269.34 2292.28,1273.55 \n",
       "  \n",
       "  \"/>\n",
       "<circle clip-path=\"url(#clip522)\" cx=\"276.375\" cy=\"86.3194\" r=\"14\" fill=\"#00a9ad\" fill-rule=\"evenodd\" fill-opacity=\"1\" stroke=\"#000000\" stroke-opacity=\"1\" stroke-width=\"3.2\"/>\n",
       "<circle clip-path=\"url(#clip522)\" cx=\"500.365\" cy=\"86.5904\" r=\"14\" fill=\"#00a9ad\" fill-rule=\"evenodd\" fill-opacity=\"1\" stroke=\"#000000\" stroke-opacity=\"1\" stroke-width=\"3.2\"/>\n",
       "<circle clip-path=\"url(#clip522)\" cx=\"724.354\" cy=\"88.6968\" r=\"14\" fill=\"#00a9ad\" fill-rule=\"evenodd\" fill-opacity=\"1\" stroke=\"#000000\" stroke-opacity=\"1\" stroke-width=\"3.2\"/>\n",
       "<circle clip-path=\"url(#clip522)\" cx=\"948.343\" cy=\"105.553\" r=\"14\" fill=\"#00a9ad\" fill-rule=\"evenodd\" fill-opacity=\"1\" stroke=\"#000000\" stroke-opacity=\"1\" stroke-width=\"3.2\"/>\n",
       "<circle clip-path=\"url(#clip522)\" cx=\"1172.33\" cy=\"301.643\" r=\"14\" fill=\"#00a9ad\" fill-rule=\"evenodd\" fill-opacity=\"1\" stroke=\"#000000\" stroke-opacity=\"1\" stroke-width=\"3.2\"/>\n",
       "<circle clip-path=\"url(#clip522)\" cx=\"1396.32\" cy=\"1069.82\" r=\"14\" fill=\"#00a9ad\" fill-rule=\"evenodd\" fill-opacity=\"1\" stroke=\"#000000\" stroke-opacity=\"1\" stroke-width=\"3.2\"/>\n",
       "<circle clip-path=\"url(#clip522)\" cx=\"1620.31\" cy=\"1220\" r=\"14\" fill=\"#00a9ad\" fill-rule=\"evenodd\" fill-opacity=\"1\" stroke=\"#000000\" stroke-opacity=\"1\" stroke-width=\"3.2\"/>\n",
       "<circle clip-path=\"url(#clip522)\" cx=\"1844.3\" cy=\"1257.25\" r=\"14\" fill=\"#00a9ad\" fill-rule=\"evenodd\" fill-opacity=\"1\" stroke=\"#000000\" stroke-opacity=\"1\" stroke-width=\"3.2\"/>\n",
       "<circle clip-path=\"url(#clip522)\" cx=\"2068.29\" cy=\"1269.34\" r=\"14\" fill=\"#00a9ad\" fill-rule=\"evenodd\" fill-opacity=\"1\" stroke=\"#000000\" stroke-opacity=\"1\" stroke-width=\"3.2\"/>\n",
       "<circle clip-path=\"url(#clip522)\" cx=\"2292.28\" cy=\"1273.55\" r=\"14\" fill=\"#00a9ad\" fill-rule=\"evenodd\" fill-opacity=\"1\" stroke=\"#000000\" stroke-opacity=\"1\" stroke-width=\"3.2\"/>\n",
       "<polyline clip-path=\"url(#clip522)\" style=\"stroke:#ed5d92; stroke-width:4; stroke-opacity:1; fill:none\" points=\"\n",
       "  276.375,86.3171 500.365,86.5724 724.354,88.5571 948.343,104.402 1172.33,284.331 1396.32,1133.64 1620.31,1286.72 1844.3,1324.49 2068.29,1336.8 2292.28,1341.09 \n",
       "  \n",
       "  \"/>\n",
       "<circle clip-path=\"url(#clip522)\" cx=\"276.375\" cy=\"86.3171\" r=\"14\" fill=\"#ed5d92\" fill-rule=\"evenodd\" fill-opacity=\"1\" stroke=\"#000000\" stroke-opacity=\"1\" stroke-width=\"3.2\"/>\n",
       "<circle clip-path=\"url(#clip522)\" cx=\"500.365\" cy=\"86.5724\" r=\"14\" fill=\"#ed5d92\" fill-rule=\"evenodd\" fill-opacity=\"1\" stroke=\"#000000\" stroke-opacity=\"1\" stroke-width=\"3.2\"/>\n",
       "<circle clip-path=\"url(#clip522)\" cx=\"724.354\" cy=\"88.5571\" r=\"14\" fill=\"#ed5d92\" fill-rule=\"evenodd\" fill-opacity=\"1\" stroke=\"#000000\" stroke-opacity=\"1\" stroke-width=\"3.2\"/>\n",
       "<circle clip-path=\"url(#clip522)\" cx=\"948.343\" cy=\"104.402\" r=\"14\" fill=\"#ed5d92\" fill-rule=\"evenodd\" fill-opacity=\"1\" stroke=\"#000000\" stroke-opacity=\"1\" stroke-width=\"3.2\"/>\n",
       "<circle clip-path=\"url(#clip522)\" cx=\"1172.33\" cy=\"284.331\" r=\"14\" fill=\"#ed5d92\" fill-rule=\"evenodd\" fill-opacity=\"1\" stroke=\"#000000\" stroke-opacity=\"1\" stroke-width=\"3.2\"/>\n",
       "<circle clip-path=\"url(#clip522)\" cx=\"1396.32\" cy=\"1133.64\" r=\"14\" fill=\"#ed5d92\" fill-rule=\"evenodd\" fill-opacity=\"1\" stroke=\"#000000\" stroke-opacity=\"1\" stroke-width=\"3.2\"/>\n",
       "<circle clip-path=\"url(#clip522)\" cx=\"1620.31\" cy=\"1286.72\" r=\"14\" fill=\"#ed5d92\" fill-rule=\"evenodd\" fill-opacity=\"1\" stroke=\"#000000\" stroke-opacity=\"1\" stroke-width=\"3.2\"/>\n",
       "<circle clip-path=\"url(#clip522)\" cx=\"1844.3\" cy=\"1324.49\" r=\"14\" fill=\"#ed5d92\" fill-rule=\"evenodd\" fill-opacity=\"1\" stroke=\"#000000\" stroke-opacity=\"1\" stroke-width=\"3.2\"/>\n",
       "<circle clip-path=\"url(#clip522)\" cx=\"2068.29\" cy=\"1336.8\" r=\"14\" fill=\"#ed5d92\" fill-rule=\"evenodd\" fill-opacity=\"1\" stroke=\"#000000\" stroke-opacity=\"1\" stroke-width=\"3.2\"/>\n",
       "<circle clip-path=\"url(#clip522)\" cx=\"2292.28\" cy=\"1341.09\" r=\"14\" fill=\"#ed5d92\" fill-rule=\"evenodd\" fill-opacity=\"1\" stroke=\"#000000\" stroke-opacity=\"1\" stroke-width=\"3.2\"/>\n",
       "<polyline clip-path=\"url(#clip522)\" style=\"stroke:#c68125; stroke-width:4; stroke-opacity:1; fill:none\" points=\"\n",
       "  276.375,86.3153 500.365,86.5585 724.354,88.4485 948.343,103.521 1172.33,269.039 1396.32,1150.6 1620.31,1292.57 1844.3,1326.55 2068.29,1337.53 2292.28,1341.35 \n",
       "  \n",
       "  \"/>\n",
       "<circle clip-path=\"url(#clip522)\" cx=\"276.375\" cy=\"86.3153\" r=\"14\" fill=\"#c68125\" fill-rule=\"evenodd\" fill-opacity=\"1\" stroke=\"#000000\" stroke-opacity=\"1\" stroke-width=\"3.2\"/>\n",
       "<circle clip-path=\"url(#clip522)\" cx=\"500.365\" cy=\"86.5585\" r=\"14\" fill=\"#c68125\" fill-rule=\"evenodd\" fill-opacity=\"1\" stroke=\"#000000\" stroke-opacity=\"1\" stroke-width=\"3.2\"/>\n",
       "<circle clip-path=\"url(#clip522)\" cx=\"724.354\" cy=\"88.4485\" r=\"14\" fill=\"#c68125\" fill-rule=\"evenodd\" fill-opacity=\"1\" stroke=\"#000000\" stroke-opacity=\"1\" stroke-width=\"3.2\"/>\n",
       "<circle clip-path=\"url(#clip522)\" cx=\"948.343\" cy=\"103.521\" r=\"14\" fill=\"#c68125\" fill-rule=\"evenodd\" fill-opacity=\"1\" stroke=\"#000000\" stroke-opacity=\"1\" stroke-width=\"3.2\"/>\n",
       "<circle clip-path=\"url(#clip522)\" cx=\"1172.33\" cy=\"269.039\" r=\"14\" fill=\"#c68125\" fill-rule=\"evenodd\" fill-opacity=\"1\" stroke=\"#000000\" stroke-opacity=\"1\" stroke-width=\"3.2\"/>\n",
       "<circle clip-path=\"url(#clip522)\" cx=\"1396.32\" cy=\"1150.6\" r=\"14\" fill=\"#c68125\" fill-rule=\"evenodd\" fill-opacity=\"1\" stroke=\"#000000\" stroke-opacity=\"1\" stroke-width=\"3.2\"/>\n",
       "<circle clip-path=\"url(#clip522)\" cx=\"1620.31\" cy=\"1292.57\" r=\"14\" fill=\"#c68125\" fill-rule=\"evenodd\" fill-opacity=\"1\" stroke=\"#000000\" stroke-opacity=\"1\" stroke-width=\"3.2\"/>\n",
       "<circle clip-path=\"url(#clip522)\" cx=\"1844.3\" cy=\"1326.55\" r=\"14\" fill=\"#c68125\" fill-rule=\"evenodd\" fill-opacity=\"1\" stroke=\"#000000\" stroke-opacity=\"1\" stroke-width=\"3.2\"/>\n",
       "<circle clip-path=\"url(#clip522)\" cx=\"2068.29\" cy=\"1337.53\" r=\"14\" fill=\"#c68125\" fill-rule=\"evenodd\" fill-opacity=\"1\" stroke=\"#000000\" stroke-opacity=\"1\" stroke-width=\"3.2\"/>\n",
       "<circle clip-path=\"url(#clip522)\" cx=\"2292.28\" cy=\"1341.35\" r=\"14\" fill=\"#c68125\" fill-rule=\"evenodd\" fill-opacity=\"1\" stroke=\"#000000\" stroke-opacity=\"1\" stroke-width=\"3.2\"/>\n",
       "<polyline clip-path=\"url(#clip522)\" style=\"stroke:#00a98d; stroke-width:4; stroke-opacity:1; fill:none\" points=\"\n",
       "  276.375,86.3138 500.365,86.5473 724.354,88.3615 948.343,102.821 1172.33,257.819 1396.32,1196.77 1620.31,1339.48 1844.3,1373.68 2068.29,1384.78 2292.28,1388.64 \n",
       "  \n",
       "  \"/>\n",
       "<circle clip-path=\"url(#clip522)\" cx=\"276.375\" cy=\"86.3138\" r=\"14\" fill=\"#00a98d\" fill-rule=\"evenodd\" fill-opacity=\"1\" stroke=\"#000000\" stroke-opacity=\"1\" stroke-width=\"3.2\"/>\n",
       "<circle clip-path=\"url(#clip522)\" cx=\"500.365\" cy=\"86.5473\" r=\"14\" fill=\"#00a98d\" fill-rule=\"evenodd\" fill-opacity=\"1\" stroke=\"#000000\" stroke-opacity=\"1\" stroke-width=\"3.2\"/>\n",
       "<circle clip-path=\"url(#clip522)\" cx=\"724.354\" cy=\"88.3615\" r=\"14\" fill=\"#00a98d\" fill-rule=\"evenodd\" fill-opacity=\"1\" stroke=\"#000000\" stroke-opacity=\"1\" stroke-width=\"3.2\"/>\n",
       "<circle clip-path=\"url(#clip522)\" cx=\"948.343\" cy=\"102.821\" r=\"14\" fill=\"#00a98d\" fill-rule=\"evenodd\" fill-opacity=\"1\" stroke=\"#000000\" stroke-opacity=\"1\" stroke-width=\"3.2\"/>\n",
       "<circle clip-path=\"url(#clip522)\" cx=\"1172.33\" cy=\"257.819\" r=\"14\" fill=\"#00a98d\" fill-rule=\"evenodd\" fill-opacity=\"1\" stroke=\"#000000\" stroke-opacity=\"1\" stroke-width=\"3.2\"/>\n",
       "<circle clip-path=\"url(#clip522)\" cx=\"1396.32\" cy=\"1196.77\" r=\"14\" fill=\"#00a98d\" fill-rule=\"evenodd\" fill-opacity=\"1\" stroke=\"#000000\" stroke-opacity=\"1\" stroke-width=\"3.2\"/>\n",
       "<circle clip-path=\"url(#clip522)\" cx=\"1620.31\" cy=\"1339.48\" r=\"14\" fill=\"#00a98d\" fill-rule=\"evenodd\" fill-opacity=\"1\" stroke=\"#000000\" stroke-opacity=\"1\" stroke-width=\"3.2\"/>\n",
       "<circle clip-path=\"url(#clip522)\" cx=\"1844.3\" cy=\"1373.68\" r=\"14\" fill=\"#00a98d\" fill-rule=\"evenodd\" fill-opacity=\"1\" stroke=\"#000000\" stroke-opacity=\"1\" stroke-width=\"3.2\"/>\n",
       "<circle clip-path=\"url(#clip522)\" cx=\"2068.29\" cy=\"1384.78\" r=\"14\" fill=\"#00a98d\" fill-rule=\"evenodd\" fill-opacity=\"1\" stroke=\"#000000\" stroke-opacity=\"1\" stroke-width=\"3.2\"/>\n",
       "<circle clip-path=\"url(#clip522)\" cx=\"2292.28\" cy=\"1388.64\" r=\"14\" fill=\"#00a98d\" fill-rule=\"evenodd\" fill-opacity=\"1\" stroke=\"#000000\" stroke-opacity=\"1\" stroke-width=\"3.2\"/>\n",
       "<path clip-path=\"url(#clip520)\" d=\"\n",
       "M1886.25 698.06 L2281.53 698.06 L2281.53 93.2596 L1886.25 93.2596  Z\n",
       "  \" fill=\"#ffffff\" fill-rule=\"evenodd\" fill-opacity=\"1\"/>\n",
       "<polyline clip-path=\"url(#clip520)\" style=\"stroke:#000000; stroke-width:4; stroke-opacity:1; fill:none\" points=\"\n",
       "  1886.25,698.06 2281.53,698.06 2281.53,93.2596 1886.25,93.2596 1886.25,698.06 \n",
       "  \"/>\n",
       "<polyline clip-path=\"url(#clip520)\" style=\"stroke:#009af9; stroke-width:4; stroke-opacity:1; fill:none\" points=\"\n",
       "  1910,153.74 2052.45,153.74 \n",
       "  \"/>\n",
       "<circle clip-path=\"url(#clip520)\" cx=\"1981.22\" cy=\"153.74\" r=\"23\" fill=\"#009af9\" fill-rule=\"evenodd\" fill-opacity=\"1\" stroke=\"#000000\" stroke-opacity=\"1\" stroke-width=\"5.12\"/>\n",
       "<path clip-path=\"url(#clip520)\" d=\"M 0 0 M2076.2 136.46 L2082.49 136.46 L2097.82 165.371 L2097.82 136.46 L2102.35 136.46 L2102.35 171.02 L2096.06 171.02 L2080.73 142.108 L2080.73 171.02 L2076.2 171.02 L2076.2 136.46 Z\" fill=\"#000000\" fill-rule=\"evenodd\" fill-opacity=\"1\" /><path clip-path=\"url(#clip520)\" d=\"M 0 0 M2127.1 149.492 L2156.77 149.492 L2156.77 153.381 L2127.1 153.381 L2127.1 149.492 M2127.1 158.936 L2156.77 158.936 L2156.77 162.871 L2127.1 162.871 L2127.1 158.936 Z\" fill=\"#000000\" fill-rule=\"evenodd\" fill-opacity=\"1\" /><path clip-path=\"url(#clip520)\" d=\"M 0 0 M2185.96 167.084 L2202.28 167.084 L2202.28 171.02 L2180.34 171.02 L2180.34 167.084 Q2183 164.33 2187.58 159.7 Q2192.19 155.047 2193.37 153.705 Q2195.62 151.182 2196.5 149.446 Q2197.4 147.686 2197.4 145.997 Q2197.4 143.242 2195.45 141.506 Q2193.53 139.77 2190.43 139.77 Q2188.23 139.77 2185.78 140.534 Q2183.35 141.298 2180.57 142.848 L2180.57 138.126 Q2183.39 136.992 2185.85 136.413 Q2188.3 135.835 2190.34 135.835 Q2195.71 135.835 2198.9 138.52 Q2202.1 141.205 2202.1 145.696 Q2202.1 147.825 2201.29 149.747 Q2200.5 151.645 2198.39 154.237 Q2197.81 154.909 2194.71 158.126 Q2191.61 161.321 2185.96 167.084 Z\" fill=\"#000000\" fill-rule=\"evenodd\" fill-opacity=\"1\" /><polyline clip-path=\"url(#clip520)\" style=\"stroke:#e26f46; stroke-width:4; stroke-opacity:1; fill:none\" points=\"\n",
       "  1910,214.22 2052.45,214.22 \n",
       "  \"/>\n",
       "<circle clip-path=\"url(#clip520)\" cx=\"1981.22\" cy=\"214.22\" r=\"23\" fill=\"#e26f46\" fill-rule=\"evenodd\" fill-opacity=\"1\" stroke=\"#000000\" stroke-opacity=\"1\" stroke-width=\"5.12\"/>\n",
       "<path clip-path=\"url(#clip520)\" d=\"M 0 0 M2076.2 196.94 L2082.49 196.94 L2097.82 225.851 L2097.82 196.94 L2102.35 196.94 L2102.35 231.5 L2096.06 231.5 L2080.73 202.588 L2080.73 231.5 L2076.2 231.5 L2076.2 196.94 Z\" fill=\"#000000\" fill-rule=\"evenodd\" fill-opacity=\"1\" /><path clip-path=\"url(#clip520)\" d=\"M 0 0 M2127.1 209.972 L2156.77 209.972 L2156.77 213.861 L2127.1 213.861 L2127.1 209.972 M2127.1 219.416 L2156.77 219.416 L2156.77 223.351 L2127.1 223.351 L2127.1 219.416 Z\" fill=\"#000000\" fill-rule=\"evenodd\" fill-opacity=\"1\" /><path clip-path=\"url(#clip520)\" d=\"M 0 0 M2196.1 212.865 Q2199.46 213.583 2201.33 215.852 Q2203.23 218.12 2203.23 221.453 Q2203.23 226.569 2199.71 229.37 Q2196.19 232.171 2189.71 232.171 Q2187.54 232.171 2185.22 231.731 Q2182.93 231.314 2180.48 230.458 L2180.48 225.944 Q2182.42 227.078 2184.74 227.657 Q2187.05 228.236 2189.57 228.236 Q2193.97 228.236 2196.26 226.5 Q2198.58 224.763 2198.58 221.453 Q2198.58 218.398 2196.43 216.685 Q2194.3 214.949 2190.48 214.949 L2186.45 214.949 L2186.45 211.106 L2190.66 211.106 Q2194.11 211.106 2195.94 209.74 Q2197.77 208.352 2197.77 205.759 Q2197.77 203.097 2195.87 201.685 Q2194 200.25 2190.48 200.25 Q2188.56 200.25 2186.36 200.666 Q2184.16 201.083 2181.52 201.963 L2181.52 197.796 Q2184.18 197.055 2186.5 196.685 Q2188.83 196.315 2190.89 196.315 Q2196.22 196.315 2199.32 198.745 Q2202.42 201.153 2202.42 205.273 Q2202.42 208.143 2200.78 210.134 Q2199.13 212.102 2196.1 212.865 Z\" fill=\"#000000\" fill-rule=\"evenodd\" fill-opacity=\"1\" /><polyline clip-path=\"url(#clip520)\" style=\"stroke:#3da44d; stroke-width:4; stroke-opacity:1; fill:none\" points=\"\n",
       "  1910,274.7 2052.45,274.7 \n",
       "  \"/>\n",
       "<circle clip-path=\"url(#clip520)\" cx=\"1981.22\" cy=\"274.7\" r=\"23\" fill=\"#3da44d\" fill-rule=\"evenodd\" fill-opacity=\"1\" stroke=\"#000000\" stroke-opacity=\"1\" stroke-width=\"5.12\"/>\n",
       "<path clip-path=\"url(#clip520)\" d=\"M 0 0 M2076.2 257.42 L2082.49 257.42 L2097.82 286.331 L2097.82 257.42 L2102.35 257.42 L2102.35 291.98 L2096.06 291.98 L2080.73 263.068 L2080.73 291.98 L2076.2 291.98 L2076.2 257.42 Z\" fill=\"#000000\" fill-rule=\"evenodd\" fill-opacity=\"1\" /><path clip-path=\"url(#clip520)\" d=\"M 0 0 M2127.1 270.452 L2156.77 270.452 L2156.77 274.341 L2127.1 274.341 L2127.1 270.452 M2127.1 279.896 L2156.77 279.896 L2156.77 283.831 L2127.1 283.831 L2127.1 279.896 Z\" fill=\"#000000\" fill-rule=\"evenodd\" fill-opacity=\"1\" /><path clip-path=\"url(#clip520)\" d=\"M 0 0 M2194.78 261.494 L2182.98 279.943 L2194.78 279.943 L2194.78 261.494 M2193.56 257.42 L2199.44 257.42 L2199.44 279.943 L2204.37 279.943 L2204.37 283.831 L2199.44 283.831 L2199.44 291.98 L2194.78 291.98 L2194.78 283.831 L2179.18 283.831 L2179.18 279.318 L2193.56 257.42 Z\" fill=\"#000000\" fill-rule=\"evenodd\" fill-opacity=\"1\" /><polyline clip-path=\"url(#clip520)\" style=\"stroke:#c271d2; stroke-width:4; stroke-opacity:1; fill:none\" points=\"\n",
       "  1910,335.18 2052.45,335.18 \n",
       "  \"/>\n",
       "<circle clip-path=\"url(#clip520)\" cx=\"1981.22\" cy=\"335.18\" r=\"23\" fill=\"#c271d2\" fill-rule=\"evenodd\" fill-opacity=\"1\" stroke=\"#000000\" stroke-opacity=\"1\" stroke-width=\"5.12\"/>\n",
       "<path clip-path=\"url(#clip520)\" d=\"M 0 0 M2076.2 317.9 L2082.49 317.9 L2097.82 346.811 L2097.82 317.9 L2102.35 317.9 L2102.35 352.46 L2096.06 352.46 L2080.73 323.548 L2080.73 352.46 L2076.2 352.46 L2076.2 317.9 Z\" fill=\"#000000\" fill-rule=\"evenodd\" fill-opacity=\"1\" /><path clip-path=\"url(#clip520)\" d=\"M 0 0 M2127.1 330.932 L2156.77 330.932 L2156.77 334.821 L2127.1 334.821 L2127.1 330.932 M2127.1 340.376 L2156.77 340.376 L2156.77 344.311 L2127.1 344.311 L2127.1 340.376 Z\" fill=\"#000000\" fill-rule=\"evenodd\" fill-opacity=\"1\" /><path clip-path=\"url(#clip520)\" d=\"M 0 0 M2181.98 317.9 L2200.34 317.9 L2200.34 321.835 L2186.26 321.835 L2186.26 330.307 Q2187.28 329.96 2188.3 329.798 Q2189.32 329.612 2190.34 329.612 Q2196.13 329.612 2199.5 332.784 Q2202.88 335.955 2202.88 341.372 Q2202.88 346.95 2199.41 350.052 Q2195.94 353.131 2189.62 353.131 Q2187.44 353.131 2185.18 352.76 Q2182.93 352.39 2180.52 351.649 L2180.52 346.95 Q2182.61 348.085 2184.83 348.64 Q2187.05 349.196 2189.53 349.196 Q2193.53 349.196 2195.87 347.089 Q2198.21 344.983 2198.21 341.372 Q2198.21 337.761 2195.87 335.654 Q2193.53 333.548 2189.53 333.548 Q2187.65 333.548 2185.78 333.964 Q2183.93 334.381 2181.98 335.261 L2181.98 317.9 Z\" fill=\"#000000\" fill-rule=\"evenodd\" fill-opacity=\"1\" /><polyline clip-path=\"url(#clip520)\" style=\"stroke:#ac8d18; stroke-width:4; stroke-opacity:1; fill:none\" points=\"\n",
       "  1910,395.66 2052.45,395.66 \n",
       "  \"/>\n",
       "<circle clip-path=\"url(#clip520)\" cx=\"1981.22\" cy=\"395.66\" r=\"23\" fill=\"#ac8d18\" fill-rule=\"evenodd\" fill-opacity=\"1\" stroke=\"#000000\" stroke-opacity=\"1\" stroke-width=\"5.12\"/>\n",
       "<path clip-path=\"url(#clip520)\" d=\"M 0 0 M2076.2 378.38 L2082.49 378.38 L2097.82 407.291 L2097.82 378.38 L2102.35 378.38 L2102.35 412.94 L2096.06 412.94 L2080.73 384.028 L2080.73 412.94 L2076.2 412.94 L2076.2 378.38 Z\" fill=\"#000000\" fill-rule=\"evenodd\" fill-opacity=\"1\" /><path clip-path=\"url(#clip520)\" d=\"M 0 0 M2127.1 391.412 L2156.77 391.412 L2156.77 395.301 L2127.1 395.301 L2127.1 391.412 M2127.1 400.856 L2156.77 400.856 L2156.77 404.791 L2127.1 404.791 L2127.1 400.856 Z\" fill=\"#000000\" fill-rule=\"evenodd\" fill-opacity=\"1\" /><path clip-path=\"url(#clip520)\" d=\"M 0 0 M2192.51 393.796 Q2189.37 393.796 2187.51 395.949 Q2185.69 398.102 2185.69 401.852 Q2185.69 405.578 2187.51 407.754 Q2189.37 409.907 2192.51 409.907 Q2195.66 409.907 2197.49 407.754 Q2199.34 405.578 2199.34 401.852 Q2199.34 398.102 2197.49 395.949 Q2195.66 393.796 2192.51 393.796 M2201.8 379.143 L2201.8 383.403 Q2200.04 382.569 2198.23 382.13 Q2196.45 381.69 2194.69 381.69 Q2190.06 381.69 2187.61 384.815 Q2185.18 387.94 2184.83 394.259 Q2186.19 392.245 2188.25 391.18 Q2190.31 390.092 2192.79 390.092 Q2198 390.092 2201.01 393.264 Q2204.04 396.412 2204.04 401.852 Q2204.04 407.176 2200.89 410.393 Q2197.75 413.611 2192.51 413.611 Q2186.52 413.611 2183.35 409.028 Q2180.18 404.421 2180.18 395.694 Q2180.18 387.5 2184.07 382.639 Q2187.95 377.755 2194.5 377.755 Q2196.26 377.755 2198.05 378.102 Q2199.85 378.449 2201.8 379.143 Z\" fill=\"#000000\" fill-rule=\"evenodd\" fill-opacity=\"1\" /><polyline clip-path=\"url(#clip520)\" style=\"stroke:#00a9ad; stroke-width:4; stroke-opacity:1; fill:none\" points=\"\n",
       "  1910,456.14 2052.45,456.14 \n",
       "  \"/>\n",
       "<circle clip-path=\"url(#clip520)\" cx=\"1981.22\" cy=\"456.14\" r=\"23\" fill=\"#00a9ad\" fill-rule=\"evenodd\" fill-opacity=\"1\" stroke=\"#000000\" stroke-opacity=\"1\" stroke-width=\"5.12\"/>\n",
       "<path clip-path=\"url(#clip520)\" d=\"M 0 0 M2076.2 438.86 L2082.49 438.86 L2097.82 467.771 L2097.82 438.86 L2102.35 438.86 L2102.35 473.42 L2096.06 473.42 L2080.73 444.508 L2080.73 473.42 L2076.2 473.42 L2076.2 438.86 Z\" fill=\"#000000\" fill-rule=\"evenodd\" fill-opacity=\"1\" /><path clip-path=\"url(#clip520)\" d=\"M 0 0 M2127.1 451.892 L2156.77 451.892 L2156.77 455.781 L2127.1 455.781 L2127.1 451.892 M2127.1 461.336 L2156.77 461.336 L2156.77 465.271 L2127.1 465.271 L2127.1 461.336 Z\" fill=\"#000000\" fill-rule=\"evenodd\" fill-opacity=\"1\" /><path clip-path=\"url(#clip520)\" d=\"M 0 0 M2180.75 438.86 L2202.98 438.86 L2202.98 440.85 L2190.43 473.42 L2185.55 473.42 L2197.35 442.795 L2180.75 442.795 L2180.75 438.86 Z\" fill=\"#000000\" fill-rule=\"evenodd\" fill-opacity=\"1\" /><polyline clip-path=\"url(#clip520)\" style=\"stroke:#ed5d92; stroke-width:4; stroke-opacity:1; fill:none\" points=\"\n",
       "  1910,516.62 2052.45,516.62 \n",
       "  \"/>\n",
       "<circle clip-path=\"url(#clip520)\" cx=\"1981.22\" cy=\"516.62\" r=\"23\" fill=\"#ed5d92\" fill-rule=\"evenodd\" fill-opacity=\"1\" stroke=\"#000000\" stroke-opacity=\"1\" stroke-width=\"5.12\"/>\n",
       "<path clip-path=\"url(#clip520)\" d=\"M 0 0 M2076.2 499.34 L2082.49 499.34 L2097.82 528.251 L2097.82 499.34 L2102.35 499.34 L2102.35 533.9 L2096.06 533.9 L2080.73 504.988 L2080.73 533.9 L2076.2 533.9 L2076.2 499.34 Z\" fill=\"#000000\" fill-rule=\"evenodd\" fill-opacity=\"1\" /><path clip-path=\"url(#clip520)\" d=\"M 0 0 M2127.1 512.372 L2156.77 512.372 L2156.77 516.261 L2127.1 516.261 L2127.1 512.372 M2127.1 521.816 L2156.77 521.816 L2156.77 525.751 L2127.1 525.751 L2127.1 521.816 Z\" fill=\"#000000\" fill-rule=\"evenodd\" fill-opacity=\"1\" /><path clip-path=\"url(#clip520)\" d=\"M 0 0 M2191.94 517.488 Q2188.6 517.488 2186.68 519.27 Q2184.78 521.052 2184.78 524.177 Q2184.78 527.302 2186.68 529.085 Q2188.6 530.867 2191.94 530.867 Q2195.27 530.867 2197.19 529.085 Q2199.11 527.279 2199.11 524.177 Q2199.11 521.052 2197.19 519.27 Q2195.29 517.488 2191.94 517.488 M2187.26 515.497 Q2184.25 514.756 2182.56 512.696 Q2180.89 510.636 2180.89 507.673 Q2180.89 503.529 2183.83 501.122 Q2186.8 498.715 2191.94 498.715 Q2197.1 498.715 2200.04 501.122 Q2202.98 503.529 2202.98 507.673 Q2202.98 510.636 2201.29 512.696 Q2199.62 514.756 2196.63 515.497 Q2200.01 516.284 2201.89 518.576 Q2203.79 520.867 2203.79 524.177 Q2203.79 529.201 2200.71 531.886 Q2197.65 534.571 2191.94 534.571 Q2186.22 534.571 2183.14 531.886 Q2180.08 529.201 2180.08 524.177 Q2180.08 520.867 2181.98 518.576 Q2183.88 516.284 2187.26 515.497 M2185.55 508.113 Q2185.55 510.798 2187.21 512.302 Q2188.9 513.807 2191.94 513.807 Q2194.94 513.807 2196.63 512.302 Q2198.35 510.798 2198.35 508.113 Q2198.35 505.427 2196.63 503.923 Q2194.94 502.418 2191.94 502.418 Q2188.9 502.418 2187.21 503.923 Q2185.55 505.427 2185.55 508.113 Z\" fill=\"#000000\" fill-rule=\"evenodd\" fill-opacity=\"1\" /><polyline clip-path=\"url(#clip520)\" style=\"stroke:#c68125; stroke-width:4; stroke-opacity:1; fill:none\" points=\"\n",
       "  1910,577.1 2052.45,577.1 \n",
       "  \"/>\n",
       "<circle clip-path=\"url(#clip520)\" cx=\"1981.22\" cy=\"577.1\" r=\"23\" fill=\"#c68125\" fill-rule=\"evenodd\" fill-opacity=\"1\" stroke=\"#000000\" stroke-opacity=\"1\" stroke-width=\"5.12\"/>\n",
       "<path clip-path=\"url(#clip520)\" d=\"M 0 0 M2076.2 559.82 L2082.49 559.82 L2097.82 588.731 L2097.82 559.82 L2102.35 559.82 L2102.35 594.38 L2096.06 594.38 L2080.73 565.468 L2080.73 594.38 L2076.2 594.38 L2076.2 559.82 Z\" fill=\"#000000\" fill-rule=\"evenodd\" fill-opacity=\"1\" /><path clip-path=\"url(#clip520)\" d=\"M 0 0 M2127.1 572.852 L2156.77 572.852 L2156.77 576.741 L2127.1 576.741 L2127.1 572.852 M2127.1 582.296 L2156.77 582.296 L2156.77 586.231 L2127.1 586.231 L2127.1 582.296 Z\" fill=\"#000000\" fill-rule=\"evenodd\" fill-opacity=\"1\" /><path clip-path=\"url(#clip520)\" d=\"M 0 0 M2182.07 593.662 L2182.07 589.403 Q2183.83 590.236 2185.64 590.676 Q2187.44 591.116 2189.18 591.116 Q2193.81 591.116 2196.24 588.014 Q2198.69 584.889 2199.04 578.546 Q2197.7 580.537 2195.64 581.602 Q2193.58 582.667 2191.08 582.667 Q2185.89 582.667 2182.86 579.542 Q2179.85 576.394 2179.85 570.954 Q2179.85 565.63 2183 562.412 Q2186.15 559.195 2191.38 559.195 Q2197.38 559.195 2200.52 563.801 Q2203.69 568.384 2203.69 577.134 Q2203.69 585.306 2199.81 590.19 Q2195.94 595.051 2189.39 595.051 Q2187.63 595.051 2185.82 594.704 Q2184.02 594.356 2182.07 593.662 M2191.38 579.009 Q2194.53 579.009 2196.36 576.857 Q2198.21 574.704 2198.21 570.954 Q2198.21 567.227 2196.36 565.074 Q2194.53 562.898 2191.38 562.898 Q2188.23 562.898 2186.38 565.074 Q2184.55 567.227 2184.55 570.954 Q2184.55 574.704 2186.38 576.857 Q2188.23 579.009 2191.38 579.009 Z\" fill=\"#000000\" fill-rule=\"evenodd\" fill-opacity=\"1\" /><polyline clip-path=\"url(#clip520)\" style=\"stroke:#00a98d; stroke-width:4; stroke-opacity:1; fill:none\" points=\"\n",
       "  1910,637.58 2052.45,637.58 \n",
       "  \"/>\n",
       "<circle clip-path=\"url(#clip520)\" cx=\"1981.22\" cy=\"637.58\" r=\"23\" fill=\"#00a98d\" fill-rule=\"evenodd\" fill-opacity=\"1\" stroke=\"#000000\" stroke-opacity=\"1\" stroke-width=\"5.12\"/>\n",
       "<path clip-path=\"url(#clip520)\" d=\"M 0 0 M2076.2 620.3 L2082.49 620.3 L2097.82 649.211 L2097.82 620.3 L2102.35 620.3 L2102.35 654.86 L2096.06 654.86 L2080.73 625.948 L2080.73 654.86 L2076.2 654.86 L2076.2 620.3 Z\" fill=\"#000000\" fill-rule=\"evenodd\" fill-opacity=\"1\" /><path clip-path=\"url(#clip520)\" d=\"M 0 0 M2127.1 633.332 L2156.77 633.332 L2156.77 637.221 L2127.1 637.221 L2127.1 633.332 M2127.1 642.776 L2156.77 642.776 L2156.77 646.711 L2127.1 646.711 L2127.1 642.776 Z\" fill=\"#000000\" fill-rule=\"evenodd\" fill-opacity=\"1\" /><path clip-path=\"url(#clip520)\" d=\"M 0 0 M2182.75 650.924 L2190.38 650.924 L2190.38 624.559 L2182.07 626.225 L2182.07 621.966 L2190.34 620.3 L2195.01 620.3 L2195.01 650.924 L2202.65 650.924 L2202.65 654.86 L2182.75 654.86 L2182.75 650.924 Z\" fill=\"#000000\" fill-rule=\"evenodd\" fill-opacity=\"1\" /><path clip-path=\"url(#clip520)\" d=\"M 0 0 M2222.1 623.378 Q2218.49 623.378 2216.66 626.943 Q2214.85 630.485 2214.85 637.614 Q2214.85 644.721 2216.66 648.286 Q2218.49 651.827 2222.1 651.827 Q2225.73 651.827 2227.54 648.286 Q2229.37 644.721 2229.37 637.614 Q2229.37 630.485 2227.54 626.943 Q2225.73 623.378 2222.1 623.378 M2222.1 619.675 Q2227.91 619.675 2230.96 624.281 Q2234.04 628.864 2234.04 637.614 Q2234.04 646.341 2230.96 650.948 Q2227.91 655.531 2222.1 655.531 Q2216.29 655.531 2213.21 650.948 Q2210.15 646.341 2210.15 637.614 Q2210.15 628.864 2213.21 624.281 Q2216.29 619.675 2222.1 619.675 Z\" fill=\"#000000\" fill-rule=\"evenodd\" fill-opacity=\"1\" /></svg>\n"
      ]
     },
     "execution_count": 20,
     "metadata": {},
     "output_type": "execute_result"
    }
   ],
   "source": [
    "@time makemagplot()"
   ]
  },
  {
   "cell_type": "markdown",
   "id": "6905a86c",
   "metadata": {},
   "source": [
    "### Sparse magnetization\n",
    "We'll adapt our `magnetizaion` function to calculate the basis states of $\\mathscr{H}$ as `BitVectors` dynamically:"
   ]
  },
  {
   "cell_type": "code",
   "execution_count": 24,
   "id": "5474535a",
   "metadata": {},
   "outputs": [
    {
     "data": {
      "text/plain": [
       "magnetization (generic function with 2 methods)"
      ]
     },
     "execution_count": 24,
     "metadata": {},
     "output_type": "execute_result"
    }
   ],
   "source": [
    "function magnetization(state)\n",
    "    slength = length(state)\n",
    "    N = Int(log2(slength))\n",
    "    M = 0.\n",
    "    \n",
    "    for i in 1:slength\n",
    "        bstate = binrep(i-1, N)\n",
    "        \n",
    "        bM = mapreduce(\n",
    "            spin -> (state[i]^2 * (spin ? 1 : -1)) / N, # mult by spin for orientation\n",
    "            +, \n",
    "            bstate,\n",
    "            init=0.\n",
    "        )\n",
    "        \n",
    "        @assert abs(bM) <= 1\n",
    "        M += abs(bM)\n",
    "    end\n",
    "    \n",
    "    M\n",
    "end"
   ]
  },
  {
   "cell_type": "markdown",
   "id": "fd6279f1",
   "metadata": {},
   "source": [
    "And then create a new implementation of `makemagplot` to use this alternative function:"
   ]
  },
  {
   "cell_type": "code",
   "execution_count": 30,
   "id": "e024ecd5",
   "metadata": {},
   "outputs": [
    {
     "name": "stdout",
     "output_type": "stream",
     "text": [
      " 83.496897 seconds (70.07 M allocations: 149.035 GiB, 4.06% gc time)\n"
     ]
    },
    {
     "data": {
      "image/svg+xml": [
       "<?xml version=\"1.0\" encoding=\"utf-8\"?>\n",
       "<svg xmlns=\"http://www.w3.org/2000/svg\" xmlns:xlink=\"http://www.w3.org/1999/xlink\" width=\"600\" height=\"400\" viewBox=\"0 0 2400 1600\">\n",
       "<defs>\n",
       "  <clipPath id=\"clip720\">\n",
       "    <rect x=\"0\" y=\"0\" width=\"2400\" height=\"1600\"/>\n",
       "  </clipPath>\n",
       "</defs>\n",
       "<path clip-path=\"url(#clip720)\" d=\"\n",
       "M0 1600 L2400 1600 L2400 0 L0 0  Z\n",
       "  \" fill=\"#ffffff\" fill-rule=\"evenodd\" fill-opacity=\"1\"/>\n",
       "<defs>\n",
       "  <clipPath id=\"clip721\">\n",
       "    <rect x=\"480\" y=\"0\" width=\"1681\" height=\"1600\"/>\n",
       "  </clipPath>\n",
       "</defs>\n",
       "<defs>\n",
       "  <clipPath id=\"clip722\">\n",
       "    <rect x=\"215\" y=\"47\" width=\"2138\" height=\"1381\"/>\n",
       "  </clipPath>\n",
       "</defs>\n",
       "<path clip-path=\"url(#clip720)\" d=\"\n",
       "M215.898 1427.71 L2352.76 1427.71 L2352.76 47.2441 L215.898 47.2441  Z\n",
       "  \" fill=\"#ffffff\" fill-rule=\"evenodd\" fill-opacity=\"1\"/>\n",
       "<polyline clip-path=\"url(#clip722)\" style=\"stroke:#000000; stroke-width:2; stroke-opacity:0.1; fill:none\" points=\"\n",
       "  276.375,1427.71 276.375,47.2441 \n",
       "  \"/>\n",
       "<polyline clip-path=\"url(#clip722)\" style=\"stroke:#000000; stroke-width:2; stroke-opacity:0.1; fill:none\" points=\"\n",
       "  780.351,1427.71 780.351,47.2441 \n",
       "  \"/>\n",
       "<polyline clip-path=\"url(#clip722)\" style=\"stroke:#000000; stroke-width:2; stroke-opacity:0.1; fill:none\" points=\"\n",
       "  1284.33,1427.71 1284.33,47.2441 \n",
       "  \"/>\n",
       "<polyline clip-path=\"url(#clip722)\" style=\"stroke:#000000; stroke-width:2; stroke-opacity:0.1; fill:none\" points=\"\n",
       "  1788.3,1427.71 1788.3,47.2441 \n",
       "  \"/>\n",
       "<polyline clip-path=\"url(#clip722)\" style=\"stroke:#000000; stroke-width:2; stroke-opacity:0.1; fill:none\" points=\"\n",
       "  2292.28,1427.71 2292.28,47.2441 \n",
       "  \"/>\n",
       "<polyline clip-path=\"url(#clip720)\" style=\"stroke:#000000; stroke-width:4; stroke-opacity:1; fill:none\" points=\"\n",
       "  215.898,1427.71 2352.76,1427.71 \n",
       "  \"/>\n",
       "<polyline clip-path=\"url(#clip720)\" style=\"stroke:#000000; stroke-width:4; stroke-opacity:1; fill:none\" points=\"\n",
       "  276.375,1427.71 276.375,1411.14 \n",
       "  \"/>\n",
       "<polyline clip-path=\"url(#clip720)\" style=\"stroke:#000000; stroke-width:4; stroke-opacity:1; fill:none\" points=\"\n",
       "  780.351,1427.71 780.351,1411.14 \n",
       "  \"/>\n",
       "<polyline clip-path=\"url(#clip720)\" style=\"stroke:#000000; stroke-width:4; stroke-opacity:1; fill:none\" points=\"\n",
       "  1284.33,1427.71 1284.33,1411.14 \n",
       "  \"/>\n",
       "<polyline clip-path=\"url(#clip720)\" style=\"stroke:#000000; stroke-width:4; stroke-opacity:1; fill:none\" points=\"\n",
       "  1788.3,1427.71 1788.3,1411.14 \n",
       "  \"/>\n",
       "<polyline clip-path=\"url(#clip720)\" style=\"stroke:#000000; stroke-width:4; stroke-opacity:1; fill:none\" points=\"\n",
       "  2292.28,1427.71 2292.28,1411.14 \n",
       "  \"/>\n",
       "<path clip-path=\"url(#clip720)\" d=\"M 0 0 M226.641 1505.98 L234.28 1505.98 L234.28 1479.61 L225.97 1481.28 L225.97 1477.02 L234.234 1475.36 L238.91 1475.36 L238.91 1505.98 L246.548 1505.98 L246.548 1509.92 L226.641 1509.92 L226.641 1505.98 Z\" fill=\"#000000\" fill-rule=\"evenodd\" fill-opacity=\"1\" /><path clip-path=\"url(#clip720)\" d=\"M 0 0 M265.993 1478.43 Q262.382 1478.43 260.553 1482 Q258.748 1485.54 258.748 1492.67 Q258.748 1499.78 260.553 1503.34 Q262.382 1506.88 265.993 1506.88 Q269.627 1506.88 271.433 1503.34 Q273.261 1499.78 273.261 1492.67 Q273.261 1485.54 271.433 1482 Q269.627 1478.43 265.993 1478.43 M265.993 1474.73 Q271.803 1474.73 274.859 1479.34 Q277.937 1483.92 277.937 1492.67 Q277.937 1501.4 274.859 1506 Q271.803 1510.59 265.993 1510.59 Q260.183 1510.59 257.104 1506 Q254.048 1501.4 254.048 1492.67 Q254.048 1483.92 257.104 1479.34 Q260.183 1474.73 265.993 1474.73 Z\" fill=\"#000000\" fill-rule=\"evenodd\" fill-opacity=\"1\" /><path clip-path=\"url(#clip720)\" d=\"M 0 0 M277.937 1468.83 L302.049 1468.83 L302.049 1472.03 L277.937 1472.03 L277.937 1468.83 Z\" fill=\"#000000\" fill-rule=\"evenodd\" fill-opacity=\"1\" /><path clip-path=\"url(#clip720)\" d=\"M 0 0 M313.522 1479.31 L326.781 1479.31 L326.781 1482.51 L308.951 1482.51 L308.951 1479.31 Q311.114 1477.07 314.838 1473.31 Q318.581 1469.53 319.54 1468.44 Q321.364 1466.39 322.079 1464.98 Q322.813 1463.55 322.813 1462.17 Q322.813 1459.94 321.233 1458.53 Q319.672 1457.11 317.151 1457.11 Q315.365 1457.11 313.371 1457.74 Q311.396 1458.36 309.139 1459.62 L309.139 1455.78 Q311.434 1454.86 313.427 1454.39 Q315.421 1453.92 317.076 1453.92 Q321.44 1453.92 324.035 1456.1 Q326.631 1458.28 326.631 1461.93 Q326.631 1463.66 325.972 1465.22 Q325.333 1466.76 323.621 1468.87 Q323.151 1469.41 320.631 1472.03 Q318.111 1474.62 313.522 1479.31 Z\" fill=\"#000000\" fill-rule=\"evenodd\" fill-opacity=\"1\" /><path clip-path=\"url(#clip720)\" d=\"M 0 0 M730.467 1505.98 L738.105 1505.98 L738.105 1479.61 L729.795 1481.28 L729.795 1477.02 L738.059 1475.36 L742.735 1475.36 L742.735 1505.98 L750.374 1505.98 L750.374 1509.92 L730.467 1509.92 L730.467 1505.98 Z\" fill=\"#000000\" fill-rule=\"evenodd\" fill-opacity=\"1\" /><path clip-path=\"url(#clip720)\" d=\"M 0 0 M769.818 1478.43 Q766.207 1478.43 764.378 1482 Q762.573 1485.54 762.573 1492.67 Q762.573 1499.78 764.378 1503.34 Q766.207 1506.88 769.818 1506.88 Q773.452 1506.88 775.258 1503.34 Q777.087 1499.78 777.087 1492.67 Q777.087 1485.54 775.258 1482 Q773.452 1478.43 769.818 1478.43 M769.818 1474.73 Q775.628 1474.73 778.684 1479.34 Q781.763 1483.92 781.763 1492.67 Q781.763 1501.4 778.684 1506 Q775.628 1510.59 769.818 1510.59 Q764.008 1510.59 760.929 1506 Q757.874 1501.4 757.874 1492.67 Q757.874 1483.92 760.929 1479.34 Q764.008 1474.73 769.818 1474.73 Z\" fill=\"#000000\" fill-rule=\"evenodd\" fill-opacity=\"1\" /><path clip-path=\"url(#clip720)\" d=\"M 0 0 M781.763 1468.83 L805.874 1468.83 L805.874 1472.03 L781.763 1472.03 L781.763 1468.83 Z\" fill=\"#000000\" fill-rule=\"evenodd\" fill-opacity=\"1\" /><path clip-path=\"url(#clip720)\" d=\"M 0 0 M814.733 1479.31 L820.939 1479.31 L820.939 1457.89 L814.187 1459.24 L814.187 1455.78 L820.902 1454.43 L824.701 1454.43 L824.701 1479.31 L830.907 1479.31 L830.907 1482.51 L814.733 1482.51 L814.733 1479.31 Z\" fill=\"#000000\" fill-rule=\"evenodd\" fill-opacity=\"1\" /><path clip-path=\"url(#clip720)\" d=\"M 0 0 M1249.31 1505.98 L1256.95 1505.98 L1256.95 1479.61 L1248.64 1481.28 L1248.64 1477.02 L1256.9 1475.36 L1261.58 1475.36 L1261.58 1505.98 L1269.22 1505.98 L1269.22 1509.92 L1249.31 1509.92 L1249.31 1505.98 Z\" fill=\"#000000\" fill-rule=\"evenodd\" fill-opacity=\"1\" /><path clip-path=\"url(#clip720)\" d=\"M 0 0 M1288.66 1478.43 Q1285.05 1478.43 1283.22 1482 Q1281.42 1485.54 1281.42 1492.67 Q1281.42 1499.78 1283.22 1503.34 Q1285.05 1506.88 1288.66 1506.88 Q1292.3 1506.88 1294.1 1503.34 Q1295.93 1499.78 1295.93 1492.67 Q1295.93 1485.54 1294.1 1482 Q1292.3 1478.43 1288.66 1478.43 M1288.66 1474.73 Q1294.47 1474.73 1297.53 1479.34 Q1300.61 1483.92 1300.61 1492.67 Q1300.61 1501.4 1297.53 1506 Q1294.47 1510.59 1288.66 1510.59 Q1282.85 1510.59 1279.77 1506 Q1276.72 1501.4 1276.72 1492.67 Q1276.72 1483.92 1279.77 1479.34 Q1282.85 1474.73 1288.66 1474.73 Z\" fill=\"#000000\" fill-rule=\"evenodd\" fill-opacity=\"1\" /><path clip-path=\"url(#clip720)\" d=\"M 0 0 M1310.31 1456.93 Q1307.38 1456.93 1305.89 1459.82 Q1304.42 1462.7 1304.42 1468.49 Q1304.42 1474.27 1305.89 1477.16 Q1307.38 1480.04 1310.31 1480.04 Q1313.26 1480.04 1314.73 1477.16 Q1316.22 1474.27 1316.22 1468.49 Q1316.22 1462.7 1314.73 1459.82 Q1313.26 1456.93 1310.31 1456.93 M1310.31 1453.92 Q1315.03 1453.92 1317.51 1457.66 Q1320.02 1461.38 1320.02 1468.49 Q1320.02 1475.58 1317.51 1479.33 Q1315.03 1483.05 1310.31 1483.05 Q1305.59 1483.05 1303.09 1479.33 Q1300.61 1475.58 1300.61 1468.49 Q1300.61 1461.38 1303.09 1457.66 Q1305.59 1453.92 1310.31 1453.92 Z\" fill=\"#000000\" fill-rule=\"evenodd\" fill-opacity=\"1\" /><path clip-path=\"url(#clip720)\" d=\"M 0 0 M1754.63 1505.98 L1762.27 1505.98 L1762.27 1479.61 L1753.96 1481.28 L1753.96 1477.02 L1762.22 1475.36 L1766.9 1475.36 L1766.9 1505.98 L1774.54 1505.98 L1774.54 1509.92 L1754.63 1509.92 L1754.63 1505.98 Z\" fill=\"#000000\" fill-rule=\"evenodd\" fill-opacity=\"1\" /><path clip-path=\"url(#clip720)\" d=\"M 0 0 M1793.98 1478.43 Q1790.37 1478.43 1788.54 1482 Q1786.74 1485.54 1786.74 1492.67 Q1786.74 1499.78 1788.54 1503.34 Q1790.37 1506.88 1793.98 1506.88 Q1797.62 1506.88 1799.42 1503.34 Q1801.25 1499.78 1801.25 1492.67 Q1801.25 1485.54 1799.42 1482 Q1797.62 1478.43 1793.98 1478.43 M1793.98 1474.73 Q1799.79 1474.73 1802.85 1479.34 Q1805.93 1483.92 1805.93 1492.67 Q1805.93 1501.4 1802.85 1506 Q1799.79 1510.59 1793.98 1510.59 Q1788.17 1510.59 1785.09 1506 Q1782.04 1501.4 1782.04 1492.67 Q1782.04 1483.92 1785.09 1479.34 Q1788.17 1474.73 1793.98 1474.73 Z\" fill=\"#000000\" fill-rule=\"evenodd\" fill-opacity=\"1\" /><path clip-path=\"url(#clip720)\" d=\"M 0 0 M1806.47 1479.31 L1812.68 1479.31 L1812.68 1457.89 L1805.93 1459.24 L1805.93 1455.78 L1812.64 1454.43 L1816.44 1454.43 L1816.44 1479.31 L1822.65 1479.31 L1822.65 1482.51 L1806.47 1482.51 L1806.47 1479.31 Z\" fill=\"#000000\" fill-rule=\"evenodd\" fill-opacity=\"1\" /><path clip-path=\"url(#clip720)\" d=\"M 0 0 M2258.05 1505.98 L2265.69 1505.98 L2265.69 1479.61 L2257.38 1481.28 L2257.38 1477.02 L2265.64 1475.36 L2270.32 1475.36 L2270.32 1505.98 L2277.96 1505.98 L2277.96 1509.92 L2258.05 1509.92 L2258.05 1505.98 Z\" fill=\"#000000\" fill-rule=\"evenodd\" fill-opacity=\"1\" /><path clip-path=\"url(#clip720)\" d=\"M 0 0 M2297.4 1478.43 Q2293.79 1478.43 2291.96 1482 Q2290.16 1485.54 2290.16 1492.67 Q2290.16 1499.78 2291.96 1503.34 Q2293.79 1506.88 2297.4 1506.88 Q2301.04 1506.88 2302.84 1503.34 Q2304.67 1499.78 2304.67 1492.67 Q2304.67 1485.54 2302.84 1482 Q2301.04 1478.43 2297.4 1478.43 M2297.4 1474.73 Q2303.21 1474.73 2306.27 1479.34 Q2309.35 1483.92 2309.35 1492.67 Q2309.35 1501.4 2306.27 1506 Q2303.21 1510.59 2297.4 1510.59 Q2291.59 1510.59 2288.51 1506 Q2285.46 1501.4 2285.46 1492.67 Q2285.46 1483.92 2288.51 1479.34 Q2291.59 1474.73 2297.4 1474.73 Z\" fill=\"#000000\" fill-rule=\"evenodd\" fill-opacity=\"1\" /><path clip-path=\"url(#clip720)\" d=\"M 0 0 M2313.92 1479.31 L2327.18 1479.31 L2327.18 1482.51 L2309.35 1482.51 L2309.35 1479.31 Q2311.51 1477.07 2315.23 1473.31 Q2318.98 1469.53 2319.94 1468.44 Q2321.76 1466.39 2322.48 1464.98 Q2323.21 1463.55 2323.21 1462.17 Q2323.21 1459.94 2321.63 1458.53 Q2320.07 1457.11 2317.55 1457.11 Q2315.76 1457.11 2313.77 1457.74 Q2311.79 1458.36 2309.54 1459.62 L2309.54 1455.78 Q2311.83 1454.86 2313.82 1454.39 Q2315.82 1453.92 2317.47 1453.92 Q2321.84 1453.92 2324.43 1456.1 Q2327.03 1458.28 2327.03 1461.93 Q2327.03 1463.66 2326.37 1465.22 Q2325.73 1466.76 2324.02 1468.87 Q2323.55 1469.41 2321.03 1472.03 Q2318.51 1474.62 2313.92 1479.31 Z\" fill=\"#000000\" fill-rule=\"evenodd\" fill-opacity=\"1\" /><path clip-path=\"url(#clip720)\" d=\"M 0 0 M1297.89 1565.26 Q1297.89 1565.52 1297.6 1566.51 Q1297.31 1567.51 1296.6 1569.06 Q1295.93 1570.6 1294.99 1572.02 Q1294.06 1573.41 1292.51 1574.44 Q1291 1575.44 1289.26 1575.44 Q1286.94 1575.44 1285.39 1573.89 Q1283.85 1572.34 1283.85 1570.03 Q1283.85 1569.7 1283.88 1569.38 Q1283.91 1569.06 1283.94 1568.87 Q1283.98 1568.64 1284.07 1568.29 Q1284.2 1567.9 1284.23 1567.74 Q1284.3 1567.58 1284.46 1567.09 Q1284.65 1566.58 1284.72 1566.39 Q1288.81 1555.95 1288.81 1551.6 Q1288.81 1547 1285.23 1547 Q1282.04 1547 1278.89 1549.32 Q1277.44 1550.48 1276.05 1552.54 Q1274.67 1554.6 1274.41 1555.37 Q1274.12 1557.05 1273.7 1558.33 Q1273.51 1559.24 1272.58 1562.75 L1271.13 1568.7 L1269.87 1573.7 Q1269.61 1574.41 1268.9 1574.92 Q1268.2 1575.44 1267.42 1575.44 Q1266.78 1575.44 1266.13 1574.98 Q1265.52 1574.57 1265.52 1573.57 Q1265.52 1573.05 1265.78 1572.12 L1275.35 1534.12 L1275.54 1532.83 Q1275.54 1532.44 1275.38 1532.25 Q1275.25 1532.02 1274.48 1531.86 Q1273.74 1531.7 1272.25 1531.7 Q1271.64 1531.7 1271.35 1531.67 Q1271.09 1531.64 1270.87 1531.47 Q1270.64 1531.28 1270.64 1530.9 Q1270.64 1530.35 1270.87 1530.06 Q1271.13 1529.74 1271.32 1529.67 Q1271.51 1529.61 1271.9 1529.57 Q1272.45 1529.54 1274.28 1529.38 Q1276.12 1529.19 1277.7 1529.06 Q1279.27 1528.93 1279.95 1528.93 Q1280.34 1528.93 1280.53 1529.12 Q1280.76 1529.28 1280.79 1529.48 L1280.82 1529.64 L1275.67 1550.6 Q1279.76 1545.55 1285.43 1545.55 Q1289.1 1545.55 1291.06 1547.45 Q1293.03 1549.32 1293.03 1552.6 Q1293.03 1556.37 1289 1567.09 Q1287.81 1570.09 1287.81 1571.8 Q1287.81 1572.92 1288.16 1573.44 Q1288.55 1573.95 1289.39 1573.95 Q1290.68 1573.95 1291.8 1573.21 Q1292.96 1572.44 1293.77 1571.18 Q1294.57 1569.9 1295.12 1568.61 Q1295.7 1567.29 1296.12 1565.81 Q1296.38 1565 1296.51 1564.81 Q1296.67 1564.61 1297.12 1564.61 Q1297.89 1564.61 1297.89 1565.26 Z\" fill=\"#000000\" fill-rule=\"evenodd\" fill-opacity=\"1\" /><polyline clip-path=\"url(#clip722)\" style=\"stroke:#000000; stroke-width:2; stroke-opacity:0.1; fill:none\" points=\"\n",
       "  215.898,1352.37 2352.76,1352.37 \n",
       "  \"/>\n",
       "<polyline clip-path=\"url(#clip722)\" style=\"stroke:#000000; stroke-width:2; stroke-opacity:0.1; fill:none\" points=\"\n",
       "  215.898,1035.85 2352.76,1035.85 \n",
       "  \"/>\n",
       "<polyline clip-path=\"url(#clip722)\" style=\"stroke:#000000; stroke-width:2; stroke-opacity:0.1; fill:none\" points=\"\n",
       "  215.898,719.329 2352.76,719.329 \n",
       "  \"/>\n",
       "<polyline clip-path=\"url(#clip722)\" style=\"stroke:#000000; stroke-width:2; stroke-opacity:0.1; fill:none\" points=\"\n",
       "  215.898,402.808 2352.76,402.808 \n",
       "  \"/>\n",
       "<polyline clip-path=\"url(#clip722)\" style=\"stroke:#000000; stroke-width:2; stroke-opacity:0.1; fill:none\" points=\"\n",
       "  215.898,86.2881 2352.76,86.2881 \n",
       "  \"/>\n",
       "<polyline clip-path=\"url(#clip720)\" style=\"stroke:#000000; stroke-width:4; stroke-opacity:1; fill:none\" points=\"\n",
       "  215.898,1427.71 215.898,47.2441 \n",
       "  \"/>\n",
       "<polyline clip-path=\"url(#clip720)\" style=\"stroke:#000000; stroke-width:4; stroke-opacity:1; fill:none\" points=\"\n",
       "  215.898,1352.37 241.541,1352.37 \n",
       "  \"/>\n",
       "<polyline clip-path=\"url(#clip720)\" style=\"stroke:#000000; stroke-width:4; stroke-opacity:1; fill:none\" points=\"\n",
       "  215.898,1035.85 241.541,1035.85 \n",
       "  \"/>\n",
       "<polyline clip-path=\"url(#clip720)\" style=\"stroke:#000000; stroke-width:4; stroke-opacity:1; fill:none\" points=\"\n",
       "  215.898,719.329 241.541,719.329 \n",
       "  \"/>\n",
       "<polyline clip-path=\"url(#clip720)\" style=\"stroke:#000000; stroke-width:4; stroke-opacity:1; fill:none\" points=\"\n",
       "  215.898,402.808 241.541,402.808 \n",
       "  \"/>\n",
       "<polyline clip-path=\"url(#clip720)\" style=\"stroke:#000000; stroke-width:4; stroke-opacity:1; fill:none\" points=\"\n",
       "  215.898,86.2881 241.541,86.2881 \n",
       "  \"/>\n",
       "<path clip-path=\"url(#clip720)\" d=\"M 0 0 M124.32 1338.17 Q120.709 1338.17 118.88 1341.73 Q117.075 1345.27 117.075 1352.4 Q117.075 1359.51 118.88 1363.07 Q120.709 1366.62 124.32 1366.62 Q127.954 1366.62 129.76 1363.07 Q131.588 1359.51 131.588 1352.4 Q131.588 1345.27 129.76 1341.73 Q127.954 1338.17 124.32 1338.17 M124.32 1334.46 Q130.13 1334.46 133.186 1339.07 Q136.264 1343.65 136.264 1352.4 Q136.264 1361.13 133.186 1365.74 Q130.13 1370.32 124.32 1370.32 Q118.51 1370.32 115.431 1365.74 Q112.376 1361.13 112.376 1352.4 Q112.376 1343.65 115.431 1339.07 Q118.51 1334.46 124.32 1334.46 Z\" fill=\"#000000\" fill-rule=\"evenodd\" fill-opacity=\"1\" /><path clip-path=\"url(#clip720)\" d=\"M 0 0 M144.482 1363.77 L149.366 1363.77 L149.366 1369.65 L144.482 1369.65 L144.482 1363.77 Z\" fill=\"#000000\" fill-rule=\"evenodd\" fill-opacity=\"1\" /><path clip-path=\"url(#clip720)\" d=\"M 0 0 M163.579 1365.71 L179.898 1365.71 L179.898 1369.65 L157.954 1369.65 L157.954 1365.71 Q160.616 1362.96 165.199 1358.33 Q169.806 1353.68 170.986 1352.33 Q173.232 1349.81 174.111 1348.07 Q175.014 1346.32 175.014 1344.63 Q175.014 1341.87 173.07 1340.14 Q171.148 1338.4 168.047 1338.4 Q165.847 1338.4 163.394 1339.16 Q160.963 1339.93 158.186 1341.48 L158.186 1336.76 Q161.01 1335.62 163.463 1335.04 Q165.917 1334.46 167.954 1334.46 Q173.324 1334.46 176.519 1337.15 Q179.713 1339.83 179.713 1344.32 Q179.713 1346.45 178.903 1348.38 Q178.116 1350.27 176.009 1352.87 Q175.431 1353.54 172.329 1356.76 Q169.227 1359.95 163.579 1365.71 Z\" fill=\"#000000\" fill-rule=\"evenodd\" fill-opacity=\"1\" /><path clip-path=\"url(#clip720)\" d=\"M 0 0 M122.237 1021.65 Q118.626 1021.65 116.797 1025.21 Q114.991 1028.75 114.991 1035.88 Q114.991 1042.99 116.797 1046.55 Q118.626 1050.1 122.237 1050.1 Q125.871 1050.1 127.676 1046.55 Q129.505 1042.99 129.505 1035.88 Q129.505 1028.75 127.676 1025.21 Q125.871 1021.65 122.237 1021.65 M122.237 1017.94 Q128.047 1017.94 131.102 1022.55 Q134.181 1027.13 134.181 1035.88 Q134.181 1044.61 131.102 1049.22 Q128.047 1053.8 122.237 1053.8 Q116.426 1053.8 113.348 1049.22 Q110.292 1044.61 110.292 1035.88 Q110.292 1027.13 113.348 1022.55 Q116.426 1017.94 122.237 1017.94 Z\" fill=\"#000000\" fill-rule=\"evenodd\" fill-opacity=\"1\" /><path clip-path=\"url(#clip720)\" d=\"M 0 0 M142.399 1047.25 L147.283 1047.25 L147.283 1053.13 L142.399 1053.13 L142.399 1047.25 Z\" fill=\"#000000\" fill-rule=\"evenodd\" fill-opacity=\"1\" /><path clip-path=\"url(#clip720)\" d=\"M 0 0 M170.315 1022.64 L158.51 1041.09 L170.315 1041.09 L170.315 1022.64 M169.088 1018.57 L174.968 1018.57 L174.968 1041.09 L179.898 1041.09 L179.898 1044.98 L174.968 1044.98 L174.968 1053.13 L170.315 1053.13 L170.315 1044.98 L154.713 1044.98 L154.713 1040.47 L169.088 1018.57 Z\" fill=\"#000000\" fill-rule=\"evenodd\" fill-opacity=\"1\" /><path clip-path=\"url(#clip720)\" d=\"M 0 0 M122.561 705.127 Q118.95 705.127 117.121 708.692 Q115.315 712.234 115.315 719.363 Q115.315 726.47 117.121 730.034 Q118.95 733.576 122.561 733.576 Q126.195 733.576 128 730.034 Q129.829 726.47 129.829 719.363 Q129.829 712.234 128 708.692 Q126.195 705.127 122.561 705.127 M122.561 701.424 Q128.371 701.424 131.426 706.03 Q134.505 710.613 134.505 719.363 Q134.505 728.09 131.426 732.697 Q128.371 737.28 122.561 737.28 Q116.751 737.28 113.672 732.697 Q110.616 728.09 110.616 719.363 Q110.616 710.613 113.672 706.03 Q116.751 701.424 122.561 701.424 Z\" fill=\"#000000\" fill-rule=\"evenodd\" fill-opacity=\"1\" /><path clip-path=\"url(#clip720)\" d=\"M 0 0 M142.723 730.729 L147.607 730.729 L147.607 736.609 L142.723 736.609 L142.723 730.729 Z\" fill=\"#000000\" fill-rule=\"evenodd\" fill-opacity=\"1\" /><path clip-path=\"url(#clip720)\" d=\"M 0 0 M168.371 717.465 Q165.223 717.465 163.371 719.618 Q161.542 721.771 161.542 725.521 Q161.542 729.247 163.371 731.423 Q165.223 733.576 168.371 733.576 Q171.519 733.576 173.347 731.423 Q175.199 729.247 175.199 725.521 Q175.199 721.771 173.347 719.618 Q171.519 717.465 168.371 717.465 M177.653 702.812 L177.653 707.072 Q175.894 706.238 174.088 705.798 Q172.306 705.359 170.547 705.359 Q165.917 705.359 163.463 708.484 Q161.033 711.609 160.685 717.928 Q162.051 715.914 164.111 714.849 Q166.172 713.761 168.648 713.761 Q173.857 713.761 176.866 716.933 Q179.898 720.081 179.898 725.521 Q179.898 730.845 176.75 734.062 Q173.602 737.28 168.371 737.28 Q162.375 737.28 159.204 732.697 Q156.033 728.09 156.033 719.363 Q156.033 711.169 159.922 706.308 Q163.81 701.424 170.361 701.424 Q172.121 701.424 173.903 701.771 Q175.709 702.118 177.653 702.812 Z\" fill=\"#000000\" fill-rule=\"evenodd\" fill-opacity=\"1\" /><path clip-path=\"url(#clip720)\" d=\"M 0 0 M122.815 388.607 Q119.204 388.607 117.376 392.172 Q115.57 395.713 115.57 402.843 Q115.57 409.949 117.376 413.514 Q119.204 417.056 122.815 417.056 Q126.45 417.056 128.255 413.514 Q130.084 409.949 130.084 402.843 Q130.084 395.713 128.255 392.172 Q126.45 388.607 122.815 388.607 M122.815 384.903 Q128.625 384.903 131.681 389.51 Q134.76 394.093 134.76 402.843 Q134.76 411.57 131.681 416.176 Q128.625 420.76 122.815 420.76 Q117.005 420.76 113.926 416.176 Q110.871 411.57 110.871 402.843 Q110.871 394.093 113.926 389.51 Q117.005 384.903 122.815 384.903 Z\" fill=\"#000000\" fill-rule=\"evenodd\" fill-opacity=\"1\" /><path clip-path=\"url(#clip720)\" d=\"M 0 0 M142.977 414.209 L147.861 414.209 L147.861 420.088 L142.977 420.088 L142.977 414.209 Z\" fill=\"#000000\" fill-rule=\"evenodd\" fill-opacity=\"1\" /><path clip-path=\"url(#clip720)\" d=\"M 0 0 M168.047 403.676 Q164.713 403.676 162.792 405.459 Q160.894 407.241 160.894 410.366 Q160.894 413.491 162.792 415.274 Q164.713 417.056 168.047 417.056 Q171.38 417.056 173.301 415.274 Q175.222 413.468 175.222 410.366 Q175.222 407.241 173.301 405.459 Q171.403 403.676 168.047 403.676 M163.371 401.686 Q160.361 400.945 158.672 398.885 Q157.005 396.825 157.005 393.862 Q157.005 389.718 159.945 387.311 Q162.908 384.903 168.047 384.903 Q173.209 384.903 176.148 387.311 Q179.088 389.718 179.088 393.862 Q179.088 396.825 177.398 398.885 Q175.732 400.945 172.746 401.686 Q176.125 402.473 178 404.764 Q179.898 407.056 179.898 410.366 Q179.898 415.389 176.82 418.074 Q173.764 420.76 168.047 420.76 Q162.329 420.76 159.25 418.074 Q156.195 415.389 156.195 410.366 Q156.195 407.056 158.093 404.764 Q159.991 402.473 163.371 401.686 M161.658 394.301 Q161.658 396.987 163.324 398.491 Q165.014 399.996 168.047 399.996 Q171.056 399.996 172.746 398.491 Q174.459 396.987 174.459 394.301 Q174.459 391.616 172.746 390.112 Q171.056 388.607 168.047 388.607 Q165.014 388.607 163.324 390.112 Q161.658 391.616 161.658 394.301 Z\" fill=\"#000000\" fill-rule=\"evenodd\" fill-opacity=\"1\" /><path clip-path=\"url(#clip720)\" d=\"M 0 0 M113.533 99.633 L121.172 99.633 L121.172 73.2674 L112.862 74.934 L112.862 70.6748 L121.126 69.0081 L125.801 69.0081 L125.801 99.633 L133.44 99.633 L133.44 103.568 L113.533 103.568 L113.533 99.633 Z\" fill=\"#000000\" fill-rule=\"evenodd\" fill-opacity=\"1\" /><path clip-path=\"url(#clip720)\" d=\"M 0 0 M142.885 97.6885 L147.769 97.6885 L147.769 103.568 L142.885 103.568 L142.885 97.6885 Z\" fill=\"#000000\" fill-rule=\"evenodd\" fill-opacity=\"1\" /><path clip-path=\"url(#clip720)\" d=\"M 0 0 M167.954 72.0868 Q164.343 72.0868 162.514 75.6516 Q160.709 79.1932 160.709 86.3228 Q160.709 93.4293 162.514 96.9941 Q164.343 100.536 167.954 100.536 Q171.588 100.536 173.394 96.9941 Q175.222 93.4293 175.222 86.3228 Q175.222 79.1932 173.394 75.6516 Q171.588 72.0868 167.954 72.0868 M167.954 68.3831 Q173.764 68.3831 176.82 72.9896 Q179.898 77.5729 179.898 86.3228 Q179.898 95.0496 176.82 99.6561 Q173.764 104.239 167.954 104.239 Q162.144 104.239 159.065 99.6561 Q156.01 95.0496 156.01 86.3228 Q156.01 77.5729 159.065 72.9896 Q162.144 68.3831 167.954 68.3831 Z\" fill=\"#000000\" fill-rule=\"evenodd\" fill-opacity=\"1\" /><path clip-path=\"url(#clip720)\" d=\"M 0 0 M20.1817 747.197 Q21.1156 747.197 21.3089 747.615 Q21.5021 748.002 21.5021 749.29 Q21.5021 750.804 21.6309 751.738 Q21.7275 752.672 21.8886 753.251 Q22.0174 753.831 22.4683 754.185 Q22.9192 754.507 23.3056 754.636 Q23.6599 754.765 24.5295 754.99 L59.666 763.75 Q60.8577 764.072 61.2763 764.072 Q61.695 764.072 61.9527 763.815 Q62.2103 763.525 62.3391 762.816 Q62.4358 762.108 62.468 761.56 Q62.468 760.981 62.468 759.789 Q62.468 758.308 62.7256 758.082 Q62.8866 757.953 63.1765 757.953 Q63.7884 757.953 64.1105 758.211 Q64.4003 758.469 64.4647 758.694 Q64.4969 758.887 64.4969 759.209 Q64.4969 760.562 64.4003 763.332 Q64.3037 766.101 64.3037 767.454 L64.4969 775.634 Q64.4969 776.601 63.6918 776.601 Q63.0799 776.601 62.8222 776.343 Q62.5324 776.085 62.5002 775.795 Q62.468 775.506 62.468 774.765 Q62.468 772.124 62.1781 770.997 Q61.8883 769.837 61.373 769.515 Q60.8255 769.161 59.344 768.774 L21.5665 759.338 L21.5665 759.403 L63.3053 786.037 L63.5952 786.23 Q63.8528 786.423 63.9494 786.488 Q64.0138 786.552 64.2071 786.745 Q64.3681 786.906 64.4325 787.1 Q64.4969 787.261 64.4969 787.486 Q64.4969 787.873 64.2393 788.098 Q63.9816 788.291 63.7884 788.356 Q63.563 788.388 62.9833 788.484 L22.0818 794.153 L22.0818 794.217 L58.0236 803.203 Q59.0219 803.46 59.5372 803.46 Q60.8577 803.46 61.6628 802.526 Q62.4358 801.56 62.468 798.984 Q62.468 797.792 63.1765 797.792 Q64.4969 797.792 64.4969 798.984 Q64.4969 800.079 64.4003 802.365 Q64.3037 804.652 64.3037 805.779 Q64.3037 806.874 64.4003 809.096 Q64.4969 811.286 64.4969 812.349 Q64.4969 813.283 63.6918 813.283 Q62.468 813.283 62.468 812.091 Q62.4035 810.159 62.0171 808.839 Q61.6306 807.518 60.8899 806.777 Q60.1491 806.004 59.4084 805.65 Q58.6355 805.264 57.5083 804.974 L23.9175 796.6 Q22.8547 796.343 22.6937 796.343 Q22.1462 796.343 21.953 796.665 Q21.7275 796.955 21.6309 797.792 Q21.5021 799.402 21.5021 800.626 Q21.5021 801.431 21.4699 801.753 Q21.4377 802.043 21.2767 802.301 Q21.0834 802.526 20.697 802.526 Q20.085 802.526 19.8274 802.269 Q19.5375 801.979 19.5053 801.657 Q19.4409 801.335 19.4409 800.562 L19.4409 791.512 Q19.4409 790.191 19.6664 789.902 Q19.8596 789.612 20.9546 789.483 L58.2812 784.33 L20.697 760.24 Q19.763 759.628 19.602 759.306 Q19.4409 758.984 19.4409 757.696 L19.4409 748.968 Q19.4409 748.259 19.4731 747.969 Q19.5053 747.68 19.6664 747.454 Q19.8274 747.197 20.1817 747.197 Z\" fill=\"#000000\" fill-rule=\"evenodd\" fill-opacity=\"1\" /><path clip-path=\"url(#clip720)\" d=\"M 0 0 M48.0075 749.933 Q36.8643 749.933 27.8789 745.778 Q24.1108 744.007 20.9546 741.527 Q17.7984 739.047 16.4136 737.404 Q15.0287 735.762 15.0287 735.311 Q15.0287 734.667 15.6728 734.635 Q15.9949 734.635 16.8 735.504 Q27.6212 746.132 48.0075 746.1 Q68.4582 746.1 78.8607 735.762 Q79.9879 734.635 80.3422 734.635 Q80.9863 734.635 80.9863 735.311 Q80.9863 735.762 79.6659 737.34 Q78.3454 738.918 75.3181 741.366 Q72.2907 743.813 68.5871 745.585 Q59.6016 749.933 48.0075 749.933 Z\" fill=\"#000000\" fill-rule=\"evenodd\" fill-opacity=\"1\" /><path clip-path=\"url(#clip720)\" d=\"M 0 0 M55.0606 692.238 Q55.3183 692.238 56.3166 692.528 Q57.315 692.818 58.8609 693.526 Q60.4068 694.203 61.8238 695.137 Q63.2087 696.071 64.2393 697.617 Q65.2377 699.13 65.2377 700.869 Q65.2377 703.188 63.6918 704.734 Q62.1459 706.28 59.8271 706.28 Q59.505 706.28 59.183 706.248 Q58.8609 706.216 58.6677 706.183 Q58.4422 706.151 58.088 706.055 Q57.7015 705.926 57.5405 705.894 Q57.3794 705.829 56.8963 705.668 Q56.3811 705.475 56.1878 705.41 Q45.7531 701.32 41.4053 701.32 Q36.7999 701.32 36.7999 704.895 Q36.7999 708.084 39.1187 711.24 Q40.2781 712.689 42.3393 714.074 Q44.4005 715.459 45.1734 715.716 Q46.8481 716.006 48.1364 716.425 Q49.0381 716.618 52.5486 717.552 L58.5066 719.001 L63.4985 720.257 Q64.2071 720.515 64.7224 721.224 Q65.2377 721.932 65.2377 722.705 Q65.2377 723.349 64.7868 723.993 Q64.3681 724.605 63.3697 724.605 Q62.8544 724.605 61.9205 724.348 L23.9175 714.782 L22.6293 714.589 Q22.2428 714.589 22.0496 714.75 Q21.8242 714.879 21.6631 715.652 Q21.5021 716.393 21.5021 717.874 Q21.5021 718.486 21.4699 718.776 Q21.4377 719.034 21.2767 719.259 Q21.0834 719.484 20.697 719.484 Q20.1495 719.484 19.8596 719.259 Q19.5375 719.001 19.4731 718.808 Q19.4087 718.615 19.3765 718.228 Q19.3443 717.681 19.1833 715.845 Q18.99 714.009 18.8612 712.431 Q18.7324 710.853 18.7324 710.177 Q18.7324 709.79 18.9256 709.597 Q19.0867 709.372 19.2799 709.34 L19.4409 709.307 L40.4069 714.46 Q35.3506 710.37 35.3506 704.702 Q35.3506 701.03 37.2508 699.066 Q39.1187 697.101 42.4037 697.101 Q46.1718 697.101 56.8963 701.127 Q59.8915 702.319 61.5984 702.319 Q62.7256 702.319 63.2409 701.964 Q63.7562 701.578 63.7562 700.741 Q63.7562 699.452 63.0155 698.325 Q62.2425 697.166 60.9865 696.361 Q59.6983 695.555 58.41 695.008 Q57.0896 694.428 55.6081 694.01 Q54.803 693.752 54.6097 693.623 Q54.4165 693.462 54.4165 693.011 Q54.4165 692.238 55.0606 692.238 Z\" fill=\"#000000\" fill-rule=\"evenodd\" fill-opacity=\"1\" /><path clip-path=\"url(#clip720)\" d=\"M 0 0 M80.3422 686.997 Q80.0202 686.997 79.215 686.159 Q68.3938 675.532 48.0075 675.532 Q27.5568 675.532 17.2187 685.741 Q16.0271 686.997 15.6728 686.997 Q15.0287 686.997 15.0287 686.353 Q15.0287 685.902 16.3492 684.324 Q17.6696 682.713 20.697 680.298 Q23.7243 677.85 27.428 676.047 Q36.4134 671.699 48.0075 671.699 Q59.1508 671.699 68.1362 675.854 Q71.9043 677.625 75.0605 680.105 Q78.2166 682.585 79.6015 684.227 Q80.9863 685.87 80.9863 686.353 Q80.9863 686.997 80.3422 686.997 Z\" fill=\"#000000\" fill-rule=\"evenodd\" fill-opacity=\"1\" /><polyline clip-path=\"url(#clip722)\" style=\"stroke:#009af9; stroke-width:4; stroke-opacity:1; fill:none\" points=\"\n",
       "  276.375,86.4463 500.365,87.5106 724.354,95.6083 948.343,150.879 1172.33,370.753 1396.32,650.389 1620.31,792.839 1844.3,846.978 2068.29,866.58 2292.28,873.632 \n",
       "  \n",
       "  \"/>\n",
       "<circle clip-path=\"url(#clip722)\" cx=\"276.375\" cy=\"86.4463\" r=\"14\" fill=\"#009af9\" fill-rule=\"evenodd\" fill-opacity=\"1\" stroke=\"#000000\" stroke-opacity=\"1\" stroke-width=\"3.2\"/>\n",
       "<circle clip-path=\"url(#clip722)\" cx=\"500.365\" cy=\"87.5106\" r=\"14\" fill=\"#009af9\" fill-rule=\"evenodd\" fill-opacity=\"1\" stroke=\"#000000\" stroke-opacity=\"1\" stroke-width=\"3.2\"/>\n",
       "<circle clip-path=\"url(#clip722)\" cx=\"724.354\" cy=\"95.6083\" r=\"14\" fill=\"#009af9\" fill-rule=\"evenodd\" fill-opacity=\"1\" stroke=\"#000000\" stroke-opacity=\"1\" stroke-width=\"3.2\"/>\n",
       "<circle clip-path=\"url(#clip722)\" cx=\"948.343\" cy=\"150.879\" r=\"14\" fill=\"#009af9\" fill-rule=\"evenodd\" fill-opacity=\"1\" stroke=\"#000000\" stroke-opacity=\"1\" stroke-width=\"3.2\"/>\n",
       "<circle clip-path=\"url(#clip722)\" cx=\"1172.33\" cy=\"370.753\" r=\"14\" fill=\"#009af9\" fill-rule=\"evenodd\" fill-opacity=\"1\" stroke=\"#000000\" stroke-opacity=\"1\" stroke-width=\"3.2\"/>\n",
       "<circle clip-path=\"url(#clip722)\" cx=\"1396.32\" cy=\"650.389\" r=\"14\" fill=\"#009af9\" fill-rule=\"evenodd\" fill-opacity=\"1\" stroke=\"#000000\" stroke-opacity=\"1\" stroke-width=\"3.2\"/>\n",
       "<circle clip-path=\"url(#clip722)\" cx=\"1620.31\" cy=\"792.839\" r=\"14\" fill=\"#009af9\" fill-rule=\"evenodd\" fill-opacity=\"1\" stroke=\"#000000\" stroke-opacity=\"1\" stroke-width=\"3.2\"/>\n",
       "<circle clip-path=\"url(#clip722)\" cx=\"1844.3\" cy=\"846.978\" r=\"14\" fill=\"#009af9\" fill-rule=\"evenodd\" fill-opacity=\"1\" stroke=\"#000000\" stroke-opacity=\"1\" stroke-width=\"3.2\"/>\n",
       "<circle clip-path=\"url(#clip722)\" cx=\"2068.29\" cy=\"866.58\" r=\"14\" fill=\"#009af9\" fill-rule=\"evenodd\" fill-opacity=\"1\" stroke=\"#000000\" stroke-opacity=\"1\" stroke-width=\"3.2\"/>\n",
       "<circle clip-path=\"url(#clip722)\" cx=\"2292.28\" cy=\"873.632\" r=\"14\" fill=\"#009af9\" fill-rule=\"evenodd\" fill-opacity=\"1\" stroke=\"#000000\" stroke-opacity=\"1\" stroke-width=\"3.2\"/>\n",
       "<polyline clip-path=\"url(#clip722)\" style=\"stroke:#e26f46; stroke-width:4; stroke-opacity:1; fill:none\" points=\"\n",
       "  276.375,86.3376 500.365,86.672 724.354,89.3098 948.343,112.46 1172.33,353.759 1396.32,849.33 1620.31,1006.18 1844.3,1051.81 2068.29,1067.08 2292.28,1072.44 \n",
       "  \n",
       "  \"/>\n",
       "<circle clip-path=\"url(#clip722)\" cx=\"276.375\" cy=\"86.3376\" r=\"14\" fill=\"#e26f46\" fill-rule=\"evenodd\" fill-opacity=\"1\" stroke=\"#000000\" stroke-opacity=\"1\" stroke-width=\"3.2\"/>\n",
       "<circle clip-path=\"url(#clip722)\" cx=\"500.365\" cy=\"86.672\" r=\"14\" fill=\"#e26f46\" fill-rule=\"evenodd\" fill-opacity=\"1\" stroke=\"#000000\" stroke-opacity=\"1\" stroke-width=\"3.2\"/>\n",
       "<circle clip-path=\"url(#clip722)\" cx=\"724.354\" cy=\"89.3098\" r=\"14\" fill=\"#e26f46\" fill-rule=\"evenodd\" fill-opacity=\"1\" stroke=\"#000000\" stroke-opacity=\"1\" stroke-width=\"3.2\"/>\n",
       "<circle clip-path=\"url(#clip722)\" cx=\"948.343\" cy=\"112.46\" r=\"14\" fill=\"#e26f46\" fill-rule=\"evenodd\" fill-opacity=\"1\" stroke=\"#000000\" stroke-opacity=\"1\" stroke-width=\"3.2\"/>\n",
       "<circle clip-path=\"url(#clip722)\" cx=\"1172.33\" cy=\"353.759\" r=\"14\" fill=\"#e26f46\" fill-rule=\"evenodd\" fill-opacity=\"1\" stroke=\"#000000\" stroke-opacity=\"1\" stroke-width=\"3.2\"/>\n",
       "<circle clip-path=\"url(#clip722)\" cx=\"1396.32\" cy=\"849.33\" r=\"14\" fill=\"#e26f46\" fill-rule=\"evenodd\" fill-opacity=\"1\" stroke=\"#000000\" stroke-opacity=\"1\" stroke-width=\"3.2\"/>\n",
       "<circle clip-path=\"url(#clip722)\" cx=\"1620.31\" cy=\"1006.18\" r=\"14\" fill=\"#e26f46\" fill-rule=\"evenodd\" fill-opacity=\"1\" stroke=\"#000000\" stroke-opacity=\"1\" stroke-width=\"3.2\"/>\n",
       "<circle clip-path=\"url(#clip722)\" cx=\"1844.3\" cy=\"1051.81\" r=\"14\" fill=\"#e26f46\" fill-rule=\"evenodd\" fill-opacity=\"1\" stroke=\"#000000\" stroke-opacity=\"1\" stroke-width=\"3.2\"/>\n",
       "<circle clip-path=\"url(#clip722)\" cx=\"2068.29\" cy=\"1067.08\" r=\"14\" fill=\"#e26f46\" fill-rule=\"evenodd\" fill-opacity=\"1\" stroke=\"#000000\" stroke-opacity=\"1\" stroke-width=\"3.2\"/>\n",
       "<circle clip-path=\"url(#clip722)\" cx=\"2292.28\" cy=\"1072.44\" r=\"14\" fill=\"#e26f46\" fill-rule=\"evenodd\" fill-opacity=\"1\" stroke=\"#000000\" stroke-opacity=\"1\" stroke-width=\"3.2\"/>\n",
       "<polyline clip-path=\"url(#clip722)\" style=\"stroke:#3da44d; stroke-width:4; stroke-opacity:1; fill:none\" points=\"\n",
       "  276.375,86.3277 500.365,86.5946 724.354,88.67 948.343,105.401 1172.33,305.622 1396.32,965.465 1620.31,1115.5 1844.3,1154.55 2068.29,1167.37 2292.28,1171.84 \n",
       "  \n",
       "  \"/>\n",
       "<circle clip-path=\"url(#clip722)\" cx=\"276.375\" cy=\"86.3277\" r=\"14\" fill=\"#3da44d\" fill-rule=\"evenodd\" fill-opacity=\"1\" stroke=\"#000000\" stroke-opacity=\"1\" stroke-width=\"3.2\"/>\n",
       "<circle clip-path=\"url(#clip722)\" cx=\"500.365\" cy=\"86.5946\" r=\"14\" fill=\"#3da44d\" fill-rule=\"evenodd\" fill-opacity=\"1\" stroke=\"#000000\" stroke-opacity=\"1\" stroke-width=\"3.2\"/>\n",
       "<circle clip-path=\"url(#clip722)\" cx=\"724.354\" cy=\"88.67\" r=\"14\" fill=\"#3da44d\" fill-rule=\"evenodd\" fill-opacity=\"1\" stroke=\"#000000\" stroke-opacity=\"1\" stroke-width=\"3.2\"/>\n",
       "<circle clip-path=\"url(#clip722)\" cx=\"948.343\" cy=\"105.401\" r=\"14\" fill=\"#3da44d\" fill-rule=\"evenodd\" fill-opacity=\"1\" stroke=\"#000000\" stroke-opacity=\"1\" stroke-width=\"3.2\"/>\n",
       "<circle clip-path=\"url(#clip722)\" cx=\"1172.33\" cy=\"305.622\" r=\"14\" fill=\"#3da44d\" fill-rule=\"evenodd\" fill-opacity=\"1\" stroke=\"#000000\" stroke-opacity=\"1\" stroke-width=\"3.2\"/>\n",
       "<circle clip-path=\"url(#clip722)\" cx=\"1396.32\" cy=\"965.465\" r=\"14\" fill=\"#3da44d\" fill-rule=\"evenodd\" fill-opacity=\"1\" stroke=\"#000000\" stroke-opacity=\"1\" stroke-width=\"3.2\"/>\n",
       "<circle clip-path=\"url(#clip722)\" cx=\"1620.31\" cy=\"1115.5\" r=\"14\" fill=\"#3da44d\" fill-rule=\"evenodd\" fill-opacity=\"1\" stroke=\"#000000\" stroke-opacity=\"1\" stroke-width=\"3.2\"/>\n",
       "<circle clip-path=\"url(#clip722)\" cx=\"1844.3\" cy=\"1154.55\" r=\"14\" fill=\"#3da44d\" fill-rule=\"evenodd\" fill-opacity=\"1\" stroke=\"#000000\" stroke-opacity=\"1\" stroke-width=\"3.2\"/>\n",
       "<circle clip-path=\"url(#clip722)\" cx=\"2068.29\" cy=\"1167.37\" r=\"14\" fill=\"#3da44d\" fill-rule=\"evenodd\" fill-opacity=\"1\" stroke=\"#000000\" stroke-opacity=\"1\" stroke-width=\"3.2\"/>\n",
       "<circle clip-path=\"url(#clip722)\" cx=\"2292.28\" cy=\"1171.84\" r=\"14\" fill=\"#3da44d\" fill-rule=\"evenodd\" fill-opacity=\"1\" stroke=\"#000000\" stroke-opacity=\"1\" stroke-width=\"3.2\"/>\n",
       "<polyline clip-path=\"url(#clip722)\" style=\"stroke:#c271d2; stroke-width:4; stroke-opacity:1; fill:none\" points=\"\n",
       "  276.375,86.3227 500.365,86.5563 724.354,88.3715 948.343,102.864 1172.33,267.432 1396.32,1044.24 1620.31,1184.25 1844.3,1218.8 2068.29,1230.05 2292.28,1233.97 \n",
       "  \n",
       "  \"/>\n",
       "<circle clip-path=\"url(#clip722)\" cx=\"276.375\" cy=\"86.3227\" r=\"14\" fill=\"#c271d2\" fill-rule=\"evenodd\" fill-opacity=\"1\" stroke=\"#000000\" stroke-opacity=\"1\" stroke-width=\"3.2\"/>\n",
       "<circle clip-path=\"url(#clip722)\" cx=\"500.365\" cy=\"86.5563\" r=\"14\" fill=\"#c271d2\" fill-rule=\"evenodd\" fill-opacity=\"1\" stroke=\"#000000\" stroke-opacity=\"1\" stroke-width=\"3.2\"/>\n",
       "<circle clip-path=\"url(#clip722)\" cx=\"724.354\" cy=\"88.3715\" r=\"14\" fill=\"#c271d2\" fill-rule=\"evenodd\" fill-opacity=\"1\" stroke=\"#000000\" stroke-opacity=\"1\" stroke-width=\"3.2\"/>\n",
       "<circle clip-path=\"url(#clip722)\" cx=\"948.343\" cy=\"102.864\" r=\"14\" fill=\"#c271d2\" fill-rule=\"evenodd\" fill-opacity=\"1\" stroke=\"#000000\" stroke-opacity=\"1\" stroke-width=\"3.2\"/>\n",
       "<circle clip-path=\"url(#clip722)\" cx=\"1172.33\" cy=\"267.432\" r=\"14\" fill=\"#c271d2\" fill-rule=\"evenodd\" fill-opacity=\"1\" stroke=\"#000000\" stroke-opacity=\"1\" stroke-width=\"3.2\"/>\n",
       "<circle clip-path=\"url(#clip722)\" cx=\"1396.32\" cy=\"1044.24\" r=\"14\" fill=\"#c271d2\" fill-rule=\"evenodd\" fill-opacity=\"1\" stroke=\"#000000\" stroke-opacity=\"1\" stroke-width=\"3.2\"/>\n",
       "<circle clip-path=\"url(#clip722)\" cx=\"1620.31\" cy=\"1184.25\" r=\"14\" fill=\"#c271d2\" fill-rule=\"evenodd\" fill-opacity=\"1\" stroke=\"#000000\" stroke-opacity=\"1\" stroke-width=\"3.2\"/>\n",
       "<circle clip-path=\"url(#clip722)\" cx=\"1844.3\" cy=\"1218.8\" r=\"14\" fill=\"#c271d2\" fill-rule=\"evenodd\" fill-opacity=\"1\" stroke=\"#000000\" stroke-opacity=\"1\" stroke-width=\"3.2\"/>\n",
       "<circle clip-path=\"url(#clip722)\" cx=\"2068.29\" cy=\"1230.05\" r=\"14\" fill=\"#c271d2\" fill-rule=\"evenodd\" fill-opacity=\"1\" stroke=\"#000000\" stroke-opacity=\"1\" stroke-width=\"3.2\"/>\n",
       "<circle clip-path=\"url(#clip722)\" cx=\"2292.28\" cy=\"1233.97\" r=\"14\" fill=\"#c271d2\" fill-rule=\"evenodd\" fill-opacity=\"1\" stroke=\"#000000\" stroke-opacity=\"1\" stroke-width=\"3.2\"/>\n",
       "<polyline clip-path=\"url(#clip722)\" style=\"stroke:#ac8d18; stroke-width:4; stroke-opacity:1; fill:none\" points=\"\n",
       "  276.375,86.3198 500.365,86.5333 724.354,88.1927 948.343,101.417 1172.33,243.183 1396.32,1101.97 1620.31,1232.51 1844.3,1263.78 2068.29,1273.93 2292.28,1277.46 \n",
       "  \n",
       "  \"/>\n",
       "<circle clip-path=\"url(#clip722)\" cx=\"276.375\" cy=\"86.3198\" r=\"14\" fill=\"#ac8d18\" fill-rule=\"evenodd\" fill-opacity=\"1\" stroke=\"#000000\" stroke-opacity=\"1\" stroke-width=\"3.2\"/>\n",
       "<circle clip-path=\"url(#clip722)\" cx=\"500.365\" cy=\"86.5333\" r=\"14\" fill=\"#ac8d18\" fill-rule=\"evenodd\" fill-opacity=\"1\" stroke=\"#000000\" stroke-opacity=\"1\" stroke-width=\"3.2\"/>\n",
       "<circle clip-path=\"url(#clip722)\" cx=\"724.354\" cy=\"88.1927\" r=\"14\" fill=\"#ac8d18\" fill-rule=\"evenodd\" fill-opacity=\"1\" stroke=\"#000000\" stroke-opacity=\"1\" stroke-width=\"3.2\"/>\n",
       "<circle clip-path=\"url(#clip722)\" cx=\"948.343\" cy=\"101.417\" r=\"14\" fill=\"#ac8d18\" fill-rule=\"evenodd\" fill-opacity=\"1\" stroke=\"#000000\" stroke-opacity=\"1\" stroke-width=\"3.2\"/>\n",
       "<circle clip-path=\"url(#clip722)\" cx=\"1172.33\" cy=\"243.183\" r=\"14\" fill=\"#ac8d18\" fill-rule=\"evenodd\" fill-opacity=\"1\" stroke=\"#000000\" stroke-opacity=\"1\" stroke-width=\"3.2\"/>\n",
       "<circle clip-path=\"url(#clip722)\" cx=\"1396.32\" cy=\"1101.97\" r=\"14\" fill=\"#ac8d18\" fill-rule=\"evenodd\" fill-opacity=\"1\" stroke=\"#000000\" stroke-opacity=\"1\" stroke-width=\"3.2\"/>\n",
       "<circle clip-path=\"url(#clip722)\" cx=\"1620.31\" cy=\"1232.51\" r=\"14\" fill=\"#ac8d18\" fill-rule=\"evenodd\" fill-opacity=\"1\" stroke=\"#000000\" stroke-opacity=\"1\" stroke-width=\"3.2\"/>\n",
       "<circle clip-path=\"url(#clip722)\" cx=\"1844.3\" cy=\"1263.78\" r=\"14\" fill=\"#ac8d18\" fill-rule=\"evenodd\" fill-opacity=\"1\" stroke=\"#000000\" stroke-opacity=\"1\" stroke-width=\"3.2\"/>\n",
       "<circle clip-path=\"url(#clip722)\" cx=\"2068.29\" cy=\"1273.93\" r=\"14\" fill=\"#ac8d18\" fill-rule=\"evenodd\" fill-opacity=\"1\" stroke=\"#000000\" stroke-opacity=\"1\" stroke-width=\"3.2\"/>\n",
       "<circle clip-path=\"url(#clip722)\" cx=\"2292.28\" cy=\"1277.46\" r=\"14\" fill=\"#ac8d18\" fill-rule=\"evenodd\" fill-opacity=\"1\" stroke=\"#000000\" stroke-opacity=\"1\" stroke-width=\"3.2\"/>\n",
       "<polyline clip-path=\"url(#clip722)\" style=\"stroke:#00a9ad; stroke-width:4; stroke-opacity:1; fill:none\" points=\"\n",
       "  276.375,86.3178 500.365,86.518 724.354,88.0734 948.343,100.458 1172.33,228.371 1396.32,1146.48 1620.31,1268.75 1844.3,1297.53 2068.29,1306.85 2292.28,1310.08 \n",
       "  \n",
       "  \"/>\n",
       "<circle clip-path=\"url(#clip722)\" cx=\"276.375\" cy=\"86.3178\" r=\"14\" fill=\"#00a9ad\" fill-rule=\"evenodd\" fill-opacity=\"1\" stroke=\"#000000\" stroke-opacity=\"1\" stroke-width=\"3.2\"/>\n",
       "<circle clip-path=\"url(#clip722)\" cx=\"500.365\" cy=\"86.518\" r=\"14\" fill=\"#00a9ad\" fill-rule=\"evenodd\" fill-opacity=\"1\" stroke=\"#000000\" stroke-opacity=\"1\" stroke-width=\"3.2\"/>\n",
       "<circle clip-path=\"url(#clip722)\" cx=\"724.354\" cy=\"88.0734\" r=\"14\" fill=\"#00a9ad\" fill-rule=\"evenodd\" fill-opacity=\"1\" stroke=\"#000000\" stroke-opacity=\"1\" stroke-width=\"3.2\"/>\n",
       "<circle clip-path=\"url(#clip722)\" cx=\"948.343\" cy=\"100.458\" r=\"14\" fill=\"#00a9ad\" fill-rule=\"evenodd\" fill-opacity=\"1\" stroke=\"#000000\" stroke-opacity=\"1\" stroke-width=\"3.2\"/>\n",
       "<circle clip-path=\"url(#clip722)\" cx=\"1172.33\" cy=\"228.371\" r=\"14\" fill=\"#00a9ad\" fill-rule=\"evenodd\" fill-opacity=\"1\" stroke=\"#000000\" stroke-opacity=\"1\" stroke-width=\"3.2\"/>\n",
       "<circle clip-path=\"url(#clip722)\" cx=\"1396.32\" cy=\"1146.48\" r=\"14\" fill=\"#00a9ad\" fill-rule=\"evenodd\" fill-opacity=\"1\" stroke=\"#000000\" stroke-opacity=\"1\" stroke-width=\"3.2\"/>\n",
       "<circle clip-path=\"url(#clip722)\" cx=\"1620.31\" cy=\"1268.75\" r=\"14\" fill=\"#00a9ad\" fill-rule=\"evenodd\" fill-opacity=\"1\" stroke=\"#000000\" stroke-opacity=\"1\" stroke-width=\"3.2\"/>\n",
       "<circle clip-path=\"url(#clip722)\" cx=\"1844.3\" cy=\"1297.53\" r=\"14\" fill=\"#00a9ad\" fill-rule=\"evenodd\" fill-opacity=\"1\" stroke=\"#000000\" stroke-opacity=\"1\" stroke-width=\"3.2\"/>\n",
       "<circle clip-path=\"url(#clip722)\" cx=\"2068.29\" cy=\"1306.85\" r=\"14\" fill=\"#00a9ad\" fill-rule=\"evenodd\" fill-opacity=\"1\" stroke=\"#000000\" stroke-opacity=\"1\" stroke-width=\"3.2\"/>\n",
       "<circle clip-path=\"url(#clip722)\" cx=\"2292.28\" cy=\"1310.08\" r=\"14\" fill=\"#00a9ad\" fill-rule=\"evenodd\" fill-opacity=\"1\" stroke=\"#000000\" stroke-opacity=\"1\" stroke-width=\"3.2\"/>\n",
       "<polyline clip-path=\"url(#clip722)\" style=\"stroke:#ed5d92; stroke-width:4; stroke-opacity:1; fill:none\" points=\"\n",
       "  276.375,86.3164 500.365,86.507 724.354,87.9882 948.343,99.7727 1172.33,218.923 1396.32,1182.06 1620.31,1297.25 1844.3,1324.05 2068.29,1332.7 2292.28,1335.71 \n",
       "  \n",
       "  \"/>\n",
       "<circle clip-path=\"url(#clip722)\" cx=\"276.375\" cy=\"86.3164\" r=\"14\" fill=\"#ed5d92\" fill-rule=\"evenodd\" fill-opacity=\"1\" stroke=\"#000000\" stroke-opacity=\"1\" stroke-width=\"3.2\"/>\n",
       "<circle clip-path=\"url(#clip722)\" cx=\"500.365\" cy=\"86.507\" r=\"14\" fill=\"#ed5d92\" fill-rule=\"evenodd\" fill-opacity=\"1\" stroke=\"#000000\" stroke-opacity=\"1\" stroke-width=\"3.2\"/>\n",
       "<circle clip-path=\"url(#clip722)\" cx=\"724.354\" cy=\"87.9882\" r=\"14\" fill=\"#ed5d92\" fill-rule=\"evenodd\" fill-opacity=\"1\" stroke=\"#000000\" stroke-opacity=\"1\" stroke-width=\"3.2\"/>\n",
       "<circle clip-path=\"url(#clip722)\" cx=\"948.343\" cy=\"99.7727\" r=\"14\" fill=\"#ed5d92\" fill-rule=\"evenodd\" fill-opacity=\"1\" stroke=\"#000000\" stroke-opacity=\"1\" stroke-width=\"3.2\"/>\n",
       "<circle clip-path=\"url(#clip722)\" cx=\"1172.33\" cy=\"218.923\" r=\"14\" fill=\"#ed5d92\" fill-rule=\"evenodd\" fill-opacity=\"1\" stroke=\"#000000\" stroke-opacity=\"1\" stroke-width=\"3.2\"/>\n",
       "<circle clip-path=\"url(#clip722)\" cx=\"1396.32\" cy=\"1182.06\" r=\"14\" fill=\"#ed5d92\" fill-rule=\"evenodd\" fill-opacity=\"1\" stroke=\"#000000\" stroke-opacity=\"1\" stroke-width=\"3.2\"/>\n",
       "<circle clip-path=\"url(#clip722)\" cx=\"1620.31\" cy=\"1297.25\" r=\"14\" fill=\"#ed5d92\" fill-rule=\"evenodd\" fill-opacity=\"1\" stroke=\"#000000\" stroke-opacity=\"1\" stroke-width=\"3.2\"/>\n",
       "<circle clip-path=\"url(#clip722)\" cx=\"1844.3\" cy=\"1324.05\" r=\"14\" fill=\"#ed5d92\" fill-rule=\"evenodd\" fill-opacity=\"1\" stroke=\"#000000\" stroke-opacity=\"1\" stroke-width=\"3.2\"/>\n",
       "<circle clip-path=\"url(#clip722)\" cx=\"2068.29\" cy=\"1332.7\" r=\"14\" fill=\"#ed5d92\" fill-rule=\"evenodd\" fill-opacity=\"1\" stroke=\"#000000\" stroke-opacity=\"1\" stroke-width=\"3.2\"/>\n",
       "<circle clip-path=\"url(#clip722)\" cx=\"2292.28\" cy=\"1335.71\" r=\"14\" fill=\"#ed5d92\" fill-rule=\"evenodd\" fill-opacity=\"1\" stroke=\"#000000\" stroke-opacity=\"1\" stroke-width=\"3.2\"/>\n",
       "<polyline clip-path=\"url(#clip722)\" style=\"stroke:#c68125; stroke-width:4; stroke-opacity:1; fill:none\" points=\"\n",
       "  276.375,86.3153 500.365,86.4988 724.354,87.9244 948.343,99.2589 1172.33,212.452 1396.32,1211.32 1620.31,1320.43 1844.3,1345.6 2068.29,1353.72 2292.28,1356.54 \n",
       "  \n",
       "  \"/>\n",
       "<circle clip-path=\"url(#clip722)\" cx=\"276.375\" cy=\"86.3153\" r=\"14\" fill=\"#c68125\" fill-rule=\"evenodd\" fill-opacity=\"1\" stroke=\"#000000\" stroke-opacity=\"1\" stroke-width=\"3.2\"/>\n",
       "<circle clip-path=\"url(#clip722)\" cx=\"500.365\" cy=\"86.4988\" r=\"14\" fill=\"#c68125\" fill-rule=\"evenodd\" fill-opacity=\"1\" stroke=\"#000000\" stroke-opacity=\"1\" stroke-width=\"3.2\"/>\n",
       "<circle clip-path=\"url(#clip722)\" cx=\"724.354\" cy=\"87.9244\" r=\"14\" fill=\"#c68125\" fill-rule=\"evenodd\" fill-opacity=\"1\" stroke=\"#000000\" stroke-opacity=\"1\" stroke-width=\"3.2\"/>\n",
       "<circle clip-path=\"url(#clip722)\" cx=\"948.343\" cy=\"99.2589\" r=\"14\" fill=\"#c68125\" fill-rule=\"evenodd\" fill-opacity=\"1\" stroke=\"#000000\" stroke-opacity=\"1\" stroke-width=\"3.2\"/>\n",
       "<circle clip-path=\"url(#clip722)\" cx=\"1172.33\" cy=\"212.452\" r=\"14\" fill=\"#c68125\" fill-rule=\"evenodd\" fill-opacity=\"1\" stroke=\"#000000\" stroke-opacity=\"1\" stroke-width=\"3.2\"/>\n",
       "<circle clip-path=\"url(#clip722)\" cx=\"1396.32\" cy=\"1211.32\" r=\"14\" fill=\"#c68125\" fill-rule=\"evenodd\" fill-opacity=\"1\" stroke=\"#000000\" stroke-opacity=\"1\" stroke-width=\"3.2\"/>\n",
       "<circle clip-path=\"url(#clip722)\" cx=\"1620.31\" cy=\"1320.43\" r=\"14\" fill=\"#c68125\" fill-rule=\"evenodd\" fill-opacity=\"1\" stroke=\"#000000\" stroke-opacity=\"1\" stroke-width=\"3.2\"/>\n",
       "<circle clip-path=\"url(#clip722)\" cx=\"1844.3\" cy=\"1345.6\" r=\"14\" fill=\"#c68125\" fill-rule=\"evenodd\" fill-opacity=\"1\" stroke=\"#000000\" stroke-opacity=\"1\" stroke-width=\"3.2\"/>\n",
       "<circle clip-path=\"url(#clip722)\" cx=\"2068.29\" cy=\"1353.72\" r=\"14\" fill=\"#c68125\" fill-rule=\"evenodd\" fill-opacity=\"1\" stroke=\"#000000\" stroke-opacity=\"1\" stroke-width=\"3.2\"/>\n",
       "<circle clip-path=\"url(#clip722)\" cx=\"2292.28\" cy=\"1356.54\" r=\"14\" fill=\"#c68125\" fill-rule=\"evenodd\" fill-opacity=\"1\" stroke=\"#000000\" stroke-opacity=\"1\" stroke-width=\"3.2\"/>\n",
       "<polyline clip-path=\"url(#clip722)\" style=\"stroke:#00a98d; stroke-width:4; stroke-opacity:1; fill:none\" points=\"\n",
       "  276.375,86.3145 500.365,86.4924 724.354,87.8747 948.343,98.8593 1172.33,207.705 1396.32,1235.9 1620.31,1339.75 1844.3,1363.55 2068.29,1371.22 2292.28,1373.89 \n",
       "  \n",
       "  \"/>\n",
       "<circle clip-path=\"url(#clip722)\" cx=\"276.375\" cy=\"86.3145\" r=\"14\" fill=\"#00a98d\" fill-rule=\"evenodd\" fill-opacity=\"1\" stroke=\"#000000\" stroke-opacity=\"1\" stroke-width=\"3.2\"/>\n",
       "<circle clip-path=\"url(#clip722)\" cx=\"500.365\" cy=\"86.4924\" r=\"14\" fill=\"#00a98d\" fill-rule=\"evenodd\" fill-opacity=\"1\" stroke=\"#000000\" stroke-opacity=\"1\" stroke-width=\"3.2\"/>\n",
       "<circle clip-path=\"url(#clip722)\" cx=\"724.354\" cy=\"87.8747\" r=\"14\" fill=\"#00a98d\" fill-rule=\"evenodd\" fill-opacity=\"1\" stroke=\"#000000\" stroke-opacity=\"1\" stroke-width=\"3.2\"/>\n",
       "<circle clip-path=\"url(#clip722)\" cx=\"948.343\" cy=\"98.8593\" r=\"14\" fill=\"#00a98d\" fill-rule=\"evenodd\" fill-opacity=\"1\" stroke=\"#000000\" stroke-opacity=\"1\" stroke-width=\"3.2\"/>\n",
       "<circle clip-path=\"url(#clip722)\" cx=\"1172.33\" cy=\"207.705\" r=\"14\" fill=\"#00a98d\" fill-rule=\"evenodd\" fill-opacity=\"1\" stroke=\"#000000\" stroke-opacity=\"1\" stroke-width=\"3.2\"/>\n",
       "<circle clip-path=\"url(#clip722)\" cx=\"1396.32\" cy=\"1235.9\" r=\"14\" fill=\"#00a98d\" fill-rule=\"evenodd\" fill-opacity=\"1\" stroke=\"#000000\" stroke-opacity=\"1\" stroke-width=\"3.2\"/>\n",
       "<circle clip-path=\"url(#clip722)\" cx=\"1620.31\" cy=\"1339.75\" r=\"14\" fill=\"#00a98d\" fill-rule=\"evenodd\" fill-opacity=\"1\" stroke=\"#000000\" stroke-opacity=\"1\" stroke-width=\"3.2\"/>\n",
       "<circle clip-path=\"url(#clip722)\" cx=\"1844.3\" cy=\"1363.55\" r=\"14\" fill=\"#00a98d\" fill-rule=\"evenodd\" fill-opacity=\"1\" stroke=\"#000000\" stroke-opacity=\"1\" stroke-width=\"3.2\"/>\n",
       "<circle clip-path=\"url(#clip722)\" cx=\"2068.29\" cy=\"1371.22\" r=\"14\" fill=\"#00a98d\" fill-rule=\"evenodd\" fill-opacity=\"1\" stroke=\"#000000\" stroke-opacity=\"1\" stroke-width=\"3.2\"/>\n",
       "<circle clip-path=\"url(#clip722)\" cx=\"2292.28\" cy=\"1373.89\" r=\"14\" fill=\"#00a98d\" fill-rule=\"evenodd\" fill-opacity=\"1\" stroke=\"#000000\" stroke-opacity=\"1\" stroke-width=\"3.2\"/>\n",
       "<polyline clip-path=\"url(#clip722)\" style=\"stroke:#8e971d; stroke-width:4; stroke-opacity:1; fill:none\" points=\"\n",
       "  276.375,86.3138 500.365,86.4873 724.354,87.8349 948.343,98.5396 1172.33,204.032 1396.32,1256.93 1620.31,1356.18 1844.3,1378.82 2068.29,1386.11 2292.28,1388.64 \n",
       "  \n",
       "  \"/>\n",
       "<circle clip-path=\"url(#clip722)\" cx=\"276.375\" cy=\"86.3138\" r=\"14\" fill=\"#8e971d\" fill-rule=\"evenodd\" fill-opacity=\"1\" stroke=\"#000000\" stroke-opacity=\"1\" stroke-width=\"3.2\"/>\n",
       "<circle clip-path=\"url(#clip722)\" cx=\"500.365\" cy=\"86.4873\" r=\"14\" fill=\"#8e971d\" fill-rule=\"evenodd\" fill-opacity=\"1\" stroke=\"#000000\" stroke-opacity=\"1\" stroke-width=\"3.2\"/>\n",
       "<circle clip-path=\"url(#clip722)\" cx=\"724.354\" cy=\"87.8349\" r=\"14\" fill=\"#8e971d\" fill-rule=\"evenodd\" fill-opacity=\"1\" stroke=\"#000000\" stroke-opacity=\"1\" stroke-width=\"3.2\"/>\n",
       "<circle clip-path=\"url(#clip722)\" cx=\"948.343\" cy=\"98.5396\" r=\"14\" fill=\"#8e971d\" fill-rule=\"evenodd\" fill-opacity=\"1\" stroke=\"#000000\" stroke-opacity=\"1\" stroke-width=\"3.2\"/>\n",
       "<circle clip-path=\"url(#clip722)\" cx=\"1172.33\" cy=\"204.032\" r=\"14\" fill=\"#8e971d\" fill-rule=\"evenodd\" fill-opacity=\"1\" stroke=\"#000000\" stroke-opacity=\"1\" stroke-width=\"3.2\"/>\n",
       "<circle clip-path=\"url(#clip722)\" cx=\"1396.32\" cy=\"1256.93\" r=\"14\" fill=\"#8e971d\" fill-rule=\"evenodd\" fill-opacity=\"1\" stroke=\"#000000\" stroke-opacity=\"1\" stroke-width=\"3.2\"/>\n",
       "<circle clip-path=\"url(#clip722)\" cx=\"1620.31\" cy=\"1356.18\" r=\"14\" fill=\"#8e971d\" fill-rule=\"evenodd\" fill-opacity=\"1\" stroke=\"#000000\" stroke-opacity=\"1\" stroke-width=\"3.2\"/>\n",
       "<circle clip-path=\"url(#clip722)\" cx=\"1844.3\" cy=\"1378.82\" r=\"14\" fill=\"#8e971d\" fill-rule=\"evenodd\" fill-opacity=\"1\" stroke=\"#000000\" stroke-opacity=\"1\" stroke-width=\"3.2\"/>\n",
       "<circle clip-path=\"url(#clip722)\" cx=\"2068.29\" cy=\"1386.11\" r=\"14\" fill=\"#8e971d\" fill-rule=\"evenodd\" fill-opacity=\"1\" stroke=\"#000000\" stroke-opacity=\"1\" stroke-width=\"3.2\"/>\n",
       "<circle clip-path=\"url(#clip722)\" cx=\"2292.28\" cy=\"1388.64\" r=\"14\" fill=\"#8e971d\" fill-rule=\"evenodd\" fill-opacity=\"1\" stroke=\"#000000\" stroke-opacity=\"1\" stroke-width=\"3.2\"/>\n",
       "<path clip-path=\"url(#clip720)\" d=\"\n",
       "M1885.77 758.54 L2281.53 758.54 L2281.53 93.2596 L1885.77 93.2596  Z\n",
       "  \" fill=\"#ffffff\" fill-rule=\"evenodd\" fill-opacity=\"1\"/>\n",
       "<polyline clip-path=\"url(#clip720)\" style=\"stroke:#000000; stroke-width:4; stroke-opacity:1; fill:none\" points=\"\n",
       "  1885.77,758.54 2281.53,758.54 2281.53,93.2596 1885.77,93.2596 1885.77,758.54 \n",
       "  \"/>\n",
       "<polyline clip-path=\"url(#clip720)\" style=\"stroke:#009af9; stroke-width:4; stroke-opacity:1; fill:none\" points=\"\n",
       "  1909.51,153.74 2051.97,153.74 \n",
       "  \"/>\n",
       "<circle clip-path=\"url(#clip720)\" cx=\"1980.74\" cy=\"153.74\" r=\"23\" fill=\"#009af9\" fill-rule=\"evenodd\" fill-opacity=\"1\" stroke=\"#000000\" stroke-opacity=\"1\" stroke-width=\"5.12\"/>\n",
       "<path clip-path=\"url(#clip720)\" d=\"M 0 0 M2075.71 136.46 L2082.01 136.46 L2097.33 165.371 L2097.33 136.46 L2101.87 136.46 L2101.87 171.02 L2095.57 171.02 L2080.25 142.108 L2080.25 171.02 L2075.71 171.02 L2075.71 136.46 Z\" fill=\"#000000\" fill-rule=\"evenodd\" fill-opacity=\"1\" /><path clip-path=\"url(#clip720)\" d=\"M 0 0 M2126.61 149.492 L2156.29 149.492 L2156.29 153.381 L2126.61 153.381 L2126.61 149.492 M2126.61 158.936 L2156.29 158.936 L2156.29 162.871 L2126.61 162.871 L2126.61 158.936 Z\" fill=\"#000000\" fill-rule=\"evenodd\" fill-opacity=\"1\" /><path clip-path=\"url(#clip720)\" d=\"M 0 0 M2185.48 167.084 L2201.8 167.084 L2201.8 171.02 L2179.85 171.02 L2179.85 167.084 Q2182.51 164.33 2187.1 159.7 Q2191.7 155.047 2192.88 153.705 Q2195.13 151.182 2196.01 149.446 Q2196.91 147.686 2196.91 145.997 Q2196.91 143.242 2194.97 141.506 Q2193.05 139.77 2189.94 139.77 Q2187.75 139.77 2185.29 140.534 Q2182.86 141.298 2180.08 142.848 L2180.08 138.126 Q2182.91 136.992 2185.36 136.413 Q2187.81 135.835 2189.85 135.835 Q2195.22 135.835 2198.42 138.52 Q2201.61 141.205 2201.61 145.696 Q2201.61 147.825 2200.8 149.747 Q2200.01 151.645 2197.91 154.237 Q2197.33 154.909 2194.23 158.126 Q2191.13 161.321 2185.48 167.084 Z\" fill=\"#000000\" fill-rule=\"evenodd\" fill-opacity=\"1\" /><polyline clip-path=\"url(#clip720)\" style=\"stroke:#e26f46; stroke-width:4; stroke-opacity:1; fill:none\" points=\"\n",
       "  1909.51,214.22 2051.97,214.22 \n",
       "  \"/>\n",
       "<circle clip-path=\"url(#clip720)\" cx=\"1980.74\" cy=\"214.22\" r=\"23\" fill=\"#e26f46\" fill-rule=\"evenodd\" fill-opacity=\"1\" stroke=\"#000000\" stroke-opacity=\"1\" stroke-width=\"5.12\"/>\n",
       "<path clip-path=\"url(#clip720)\" d=\"M 0 0 M2075.71 196.94 L2082.01 196.94 L2097.33 225.851 L2097.33 196.94 L2101.87 196.94 L2101.87 231.5 L2095.57 231.5 L2080.25 202.588 L2080.25 231.5 L2075.71 231.5 L2075.71 196.94 Z\" fill=\"#000000\" fill-rule=\"evenodd\" fill-opacity=\"1\" /><path clip-path=\"url(#clip720)\" d=\"M 0 0 M2126.61 209.972 L2156.29 209.972 L2156.29 213.861 L2126.61 213.861 L2126.61 209.972 M2126.61 219.416 L2156.29 219.416 L2156.29 223.351 L2126.61 223.351 L2126.61 219.416 Z\" fill=\"#000000\" fill-rule=\"evenodd\" fill-opacity=\"1\" /><path clip-path=\"url(#clip720)\" d=\"M 0 0 M2194.3 201.014 L2182.49 219.463 L2194.3 219.463 L2194.3 201.014 M2193.07 196.94 L2198.95 196.94 L2198.95 219.463 L2203.88 219.463 L2203.88 223.351 L2198.95 223.351 L2198.95 231.5 L2194.3 231.5 L2194.3 223.351 L2178.69 223.351 L2178.69 218.838 L2193.07 196.94 Z\" fill=\"#000000\" fill-rule=\"evenodd\" fill-opacity=\"1\" /><polyline clip-path=\"url(#clip720)\" style=\"stroke:#3da44d; stroke-width:4; stroke-opacity:1; fill:none\" points=\"\n",
       "  1909.51,274.7 2051.97,274.7 \n",
       "  \"/>\n",
       "<circle clip-path=\"url(#clip720)\" cx=\"1980.74\" cy=\"274.7\" r=\"23\" fill=\"#3da44d\" fill-rule=\"evenodd\" fill-opacity=\"1\" stroke=\"#000000\" stroke-opacity=\"1\" stroke-width=\"5.12\"/>\n",
       "<path clip-path=\"url(#clip720)\" d=\"M 0 0 M2075.71 257.42 L2082.01 257.42 L2097.33 286.331 L2097.33 257.42 L2101.87 257.42 L2101.87 291.98 L2095.57 291.98 L2080.25 263.068 L2080.25 291.98 L2075.71 291.98 L2075.71 257.42 Z\" fill=\"#000000\" fill-rule=\"evenodd\" fill-opacity=\"1\" /><path clip-path=\"url(#clip720)\" d=\"M 0 0 M2126.61 270.452 L2156.29 270.452 L2156.29 274.341 L2126.61 274.341 L2126.61 270.452 M2126.61 279.896 L2156.29 279.896 L2156.29 283.831 L2126.61 283.831 L2126.61 279.896 Z\" fill=\"#000000\" fill-rule=\"evenodd\" fill-opacity=\"1\" /><path clip-path=\"url(#clip720)\" d=\"M 0 0 M2192.03 272.836 Q2188.88 272.836 2187.03 274.989 Q2185.2 277.142 2185.2 280.892 Q2185.2 284.618 2187.03 286.794 Q2188.88 288.947 2192.03 288.947 Q2195.18 288.947 2197 286.794 Q2198.86 284.618 2198.86 280.892 Q2198.86 277.142 2197 274.989 Q2195.18 272.836 2192.03 272.836 M2201.31 258.183 L2201.31 262.443 Q2199.55 261.609 2197.75 261.17 Q2195.96 260.73 2194.2 260.73 Q2189.57 260.73 2187.12 263.855 Q2184.69 266.98 2184.34 273.299 Q2185.71 271.285 2187.77 270.22 Q2189.83 269.132 2192.31 269.132 Q2197.51 269.132 2200.52 272.304 Q2203.56 275.452 2203.56 280.892 Q2203.56 286.216 2200.41 289.433 Q2197.26 292.651 2192.03 292.651 Q2186.03 292.651 2182.86 288.068 Q2179.69 283.461 2179.69 274.734 Q2179.69 266.54 2183.58 261.679 Q2187.47 256.795 2194.02 256.795 Q2195.78 256.795 2197.56 257.142 Q2199.37 257.489 2201.31 258.183 Z\" fill=\"#000000\" fill-rule=\"evenodd\" fill-opacity=\"1\" /><polyline clip-path=\"url(#clip720)\" style=\"stroke:#c271d2; stroke-width:4; stroke-opacity:1; fill:none\" points=\"\n",
       "  1909.51,335.18 2051.97,335.18 \n",
       "  \"/>\n",
       "<circle clip-path=\"url(#clip720)\" cx=\"1980.74\" cy=\"335.18\" r=\"23\" fill=\"#c271d2\" fill-rule=\"evenodd\" fill-opacity=\"1\" stroke=\"#000000\" stroke-opacity=\"1\" stroke-width=\"5.12\"/>\n",
       "<path clip-path=\"url(#clip720)\" d=\"M 0 0 M2075.71 317.9 L2082.01 317.9 L2097.33 346.811 L2097.33 317.9 L2101.87 317.9 L2101.87 352.46 L2095.57 352.46 L2080.25 323.548 L2080.25 352.46 L2075.71 352.46 L2075.71 317.9 Z\" fill=\"#000000\" fill-rule=\"evenodd\" fill-opacity=\"1\" /><path clip-path=\"url(#clip720)\" d=\"M 0 0 M2126.61 330.932 L2156.29 330.932 L2156.29 334.821 L2126.61 334.821 L2126.61 330.932 M2126.61 340.376 L2156.29 340.376 L2156.29 344.311 L2126.61 344.311 L2126.61 340.376 Z\" fill=\"#000000\" fill-rule=\"evenodd\" fill-opacity=\"1\" /><path clip-path=\"url(#clip720)\" d=\"M 0 0 M2191.45 336.048 Q2188.12 336.048 2186.19 337.83 Q2184.3 339.612 2184.3 342.737 Q2184.3 345.862 2186.19 347.645 Q2188.12 349.427 2191.45 349.427 Q2194.78 349.427 2196.7 347.645 Q2198.63 345.839 2198.63 342.737 Q2198.63 339.612 2196.7 337.83 Q2194.81 336.048 2191.45 336.048 M2186.77 334.057 Q2183.76 333.316 2182.07 331.256 Q2180.41 329.196 2180.41 326.233 Q2180.41 322.089 2183.35 319.682 Q2186.31 317.275 2191.45 317.275 Q2196.61 317.275 2199.55 319.682 Q2202.49 322.089 2202.49 326.233 Q2202.49 329.196 2200.8 331.256 Q2199.13 333.316 2196.15 334.057 Q2199.53 334.844 2201.4 337.136 Q2203.3 339.427 2203.3 342.737 Q2203.3 347.761 2200.22 350.446 Q2197.17 353.131 2191.45 353.131 Q2185.73 353.131 2182.65 350.446 Q2179.6 347.761 2179.6 342.737 Q2179.6 339.427 2181.5 337.136 Q2183.39 334.844 2186.77 334.057 M2185.06 326.673 Q2185.06 329.358 2186.73 330.862 Q2188.42 332.367 2191.45 332.367 Q2194.46 332.367 2196.15 330.862 Q2197.86 329.358 2197.86 326.673 Q2197.86 323.987 2196.15 322.483 Q2194.46 320.978 2191.45 320.978 Q2188.42 320.978 2186.73 322.483 Q2185.06 323.987 2185.06 326.673 Z\" fill=\"#000000\" fill-rule=\"evenodd\" fill-opacity=\"1\" /><polyline clip-path=\"url(#clip720)\" style=\"stroke:#ac8d18; stroke-width:4; stroke-opacity:1; fill:none\" points=\"\n",
       "  1909.51,395.66 2051.97,395.66 \n",
       "  \"/>\n",
       "<circle clip-path=\"url(#clip720)\" cx=\"1980.74\" cy=\"395.66\" r=\"23\" fill=\"#ac8d18\" fill-rule=\"evenodd\" fill-opacity=\"1\" stroke=\"#000000\" stroke-opacity=\"1\" stroke-width=\"5.12\"/>\n",
       "<path clip-path=\"url(#clip720)\" d=\"M 0 0 M2075.71 378.38 L2082.01 378.38 L2097.33 407.291 L2097.33 378.38 L2101.87 378.38 L2101.87 412.94 L2095.57 412.94 L2080.25 384.028 L2080.25 412.94 L2075.71 412.94 L2075.71 378.38 Z\" fill=\"#000000\" fill-rule=\"evenodd\" fill-opacity=\"1\" /><path clip-path=\"url(#clip720)\" d=\"M 0 0 M2126.61 391.412 L2156.29 391.412 L2156.29 395.301 L2126.61 395.301 L2126.61 391.412 M2126.61 400.856 L2156.29 400.856 L2156.29 404.791 L2126.61 404.791 L2126.61 400.856 Z\" fill=\"#000000\" fill-rule=\"evenodd\" fill-opacity=\"1\" /><path clip-path=\"url(#clip720)\" d=\"M 0 0 M2182.26 409.004 L2189.9 409.004 L2189.9 382.639 L2181.59 384.305 L2181.59 380.046 L2189.85 378.38 L2194.53 378.38 L2194.53 409.004 L2202.17 409.004 L2202.17 412.94 L2182.26 412.94 L2182.26 409.004 Z\" fill=\"#000000\" fill-rule=\"evenodd\" fill-opacity=\"1\" /><path clip-path=\"url(#clip720)\" d=\"M 0 0 M2221.61 381.458 Q2218 381.458 2216.17 385.023 Q2214.37 388.565 2214.37 395.694 Q2214.37 402.801 2216.17 406.366 Q2218 409.907 2221.61 409.907 Q2225.25 409.907 2227.05 406.366 Q2228.88 402.801 2228.88 395.694 Q2228.88 388.565 2227.05 385.023 Q2225.25 381.458 2221.61 381.458 M2221.61 377.755 Q2227.42 377.755 2230.48 382.361 Q2233.56 386.944 2233.56 395.694 Q2233.56 404.421 2230.48 409.028 Q2227.42 413.611 2221.61 413.611 Q2215.8 413.611 2212.72 409.028 Q2209.67 404.421 2209.67 395.694 Q2209.67 386.944 2212.72 382.361 Q2215.8 377.755 2221.61 377.755 Z\" fill=\"#000000\" fill-rule=\"evenodd\" fill-opacity=\"1\" /><polyline clip-path=\"url(#clip720)\" style=\"stroke:#00a9ad; stroke-width:4; stroke-opacity:1; fill:none\" points=\"\n",
       "  1909.51,456.14 2051.97,456.14 \n",
       "  \"/>\n",
       "<circle clip-path=\"url(#clip720)\" cx=\"1980.74\" cy=\"456.14\" r=\"23\" fill=\"#00a9ad\" fill-rule=\"evenodd\" fill-opacity=\"1\" stroke=\"#000000\" stroke-opacity=\"1\" stroke-width=\"5.12\"/>\n",
       "<path clip-path=\"url(#clip720)\" d=\"M 0 0 M2075.71 438.86 L2082.01 438.86 L2097.33 467.771 L2097.33 438.86 L2101.87 438.86 L2101.87 473.42 L2095.57 473.42 L2080.25 444.508 L2080.25 473.42 L2075.71 473.42 L2075.71 438.86 Z\" fill=\"#000000\" fill-rule=\"evenodd\" fill-opacity=\"1\" /><path clip-path=\"url(#clip720)\" d=\"M 0 0 M2126.61 451.892 L2156.29 451.892 L2156.29 455.781 L2126.61 455.781 L2126.61 451.892 M2126.61 461.336 L2156.29 461.336 L2156.29 465.271 L2126.61 465.271 L2126.61 461.336 Z\" fill=\"#000000\" fill-rule=\"evenodd\" fill-opacity=\"1\" /><path clip-path=\"url(#clip720)\" d=\"M 0 0 M2182.26 469.484 L2189.9 469.484 L2189.9 443.119 L2181.59 444.785 L2181.59 440.526 L2189.85 438.86 L2194.53 438.86 L2194.53 469.484 L2202.17 469.484 L2202.17 473.42 L2182.26 473.42 L2182.26 469.484 Z\" fill=\"#000000\" fill-rule=\"evenodd\" fill-opacity=\"1\" /><path clip-path=\"url(#clip720)\" d=\"M 0 0 M2215.64 469.484 L2231.96 469.484 L2231.96 473.42 L2210.01 473.42 L2210.01 469.484 Q2212.68 466.73 2217.26 462.1 Q2221.87 457.447 2223.05 456.105 Q2225.29 453.582 2226.17 451.846 Q2227.07 450.086 2227.07 448.397 Q2227.07 445.642 2225.13 443.906 Q2223.21 442.17 2220.11 442.17 Q2217.91 442.17 2215.45 442.934 Q2213.02 443.698 2210.25 445.248 L2210.25 440.526 Q2213.07 439.392 2215.52 438.813 Q2217.98 438.235 2220.01 438.235 Q2225.38 438.235 2228.58 440.92 Q2231.77 443.605 2231.77 448.096 Q2231.77 450.225 2230.96 452.147 Q2230.18 454.045 2228.07 456.637 Q2227.49 457.309 2224.39 460.526 Q2221.29 463.721 2215.64 469.484 Z\" fill=\"#000000\" fill-rule=\"evenodd\" fill-opacity=\"1\" /><polyline clip-path=\"url(#clip720)\" style=\"stroke:#ed5d92; stroke-width:4; stroke-opacity:1; fill:none\" points=\"\n",
       "  1909.51,516.62 2051.97,516.62 \n",
       "  \"/>\n",
       "<circle clip-path=\"url(#clip720)\" cx=\"1980.74\" cy=\"516.62\" r=\"23\" fill=\"#ed5d92\" fill-rule=\"evenodd\" fill-opacity=\"1\" stroke=\"#000000\" stroke-opacity=\"1\" stroke-width=\"5.12\"/>\n",
       "<path clip-path=\"url(#clip720)\" d=\"M 0 0 M2075.71 499.34 L2082.01 499.34 L2097.33 528.251 L2097.33 499.34 L2101.87 499.34 L2101.87 533.9 L2095.57 533.9 L2080.25 504.988 L2080.25 533.9 L2075.71 533.9 L2075.71 499.34 Z\" fill=\"#000000\" fill-rule=\"evenodd\" fill-opacity=\"1\" /><path clip-path=\"url(#clip720)\" d=\"M 0 0 M2126.61 512.372 L2156.29 512.372 L2156.29 516.261 L2126.61 516.261 L2126.61 512.372 M2126.61 521.816 L2156.29 521.816 L2156.29 525.751 L2126.61 525.751 L2126.61 521.816 Z\" fill=\"#000000\" fill-rule=\"evenodd\" fill-opacity=\"1\" /><path clip-path=\"url(#clip720)\" d=\"M 0 0 M2182.26 529.964 L2189.9 529.964 L2189.9 503.599 L2181.59 505.265 L2181.59 501.006 L2189.85 499.34 L2194.53 499.34 L2194.53 529.964 L2202.17 529.964 L2202.17 533.9 L2182.26 533.9 L2182.26 529.964 Z\" fill=\"#000000\" fill-rule=\"evenodd\" fill-opacity=\"1\" /><path clip-path=\"url(#clip720)\" d=\"M 0 0 M2224.46 503.414 L2212.65 521.863 L2224.46 521.863 L2224.46 503.414 M2223.23 499.34 L2229.11 499.34 L2229.11 521.863 L2234.04 521.863 L2234.04 525.751 L2229.11 525.751 L2229.11 533.9 L2224.46 533.9 L2224.46 525.751 L2208.86 525.751 L2208.86 521.238 L2223.23 499.34 Z\" fill=\"#000000\" fill-rule=\"evenodd\" fill-opacity=\"1\" /><polyline clip-path=\"url(#clip720)\" style=\"stroke:#c68125; stroke-width:4; stroke-opacity:1; fill:none\" points=\"\n",
       "  1909.51,577.1 2051.97,577.1 \n",
       "  \"/>\n",
       "<circle clip-path=\"url(#clip720)\" cx=\"1980.74\" cy=\"577.1\" r=\"23\" fill=\"#c68125\" fill-rule=\"evenodd\" fill-opacity=\"1\" stroke=\"#000000\" stroke-opacity=\"1\" stroke-width=\"5.12\"/>\n",
       "<path clip-path=\"url(#clip720)\" d=\"M 0 0 M2075.71 559.82 L2082.01 559.82 L2097.33 588.731 L2097.33 559.82 L2101.87 559.82 L2101.87 594.38 L2095.57 594.38 L2080.25 565.468 L2080.25 594.38 L2075.71 594.38 L2075.71 559.82 Z\" fill=\"#000000\" fill-rule=\"evenodd\" fill-opacity=\"1\" /><path clip-path=\"url(#clip720)\" d=\"M 0 0 M2126.61 572.852 L2156.29 572.852 L2156.29 576.741 L2126.61 576.741 L2126.61 572.852 M2126.61 582.296 L2156.29 582.296 L2156.29 586.231 L2126.61 586.231 L2126.61 582.296 Z\" fill=\"#000000\" fill-rule=\"evenodd\" fill-opacity=\"1\" /><path clip-path=\"url(#clip720)\" d=\"M 0 0 M2182.26 590.444 L2189.9 590.444 L2189.9 564.079 L2181.59 565.745 L2181.59 561.486 L2189.85 559.82 L2194.53 559.82 L2194.53 590.444 L2202.17 590.444 L2202.17 594.38 L2182.26 594.38 L2182.26 590.444 Z\" fill=\"#000000\" fill-rule=\"evenodd\" fill-opacity=\"1\" /><path clip-path=\"url(#clip720)\" d=\"M 0 0 M2222.19 575.236 Q2219.04 575.236 2217.19 577.389 Q2215.36 579.542 2215.36 583.292 Q2215.36 587.018 2217.19 589.194 Q2219.04 591.347 2222.19 591.347 Q2225.34 591.347 2227.17 589.194 Q2229.02 587.018 2229.02 583.292 Q2229.02 579.542 2227.17 577.389 Q2225.34 575.236 2222.19 575.236 M2231.47 560.583 L2231.47 564.843 Q2229.71 564.009 2227.91 563.57 Q2226.12 563.13 2224.37 563.13 Q2219.74 563.13 2217.28 566.255 Q2214.85 569.38 2214.5 575.699 Q2215.87 573.685 2217.93 572.62 Q2219.99 571.532 2222.47 571.532 Q2227.68 571.532 2230.69 574.704 Q2233.72 577.852 2233.72 583.292 Q2233.72 588.616 2230.57 591.833 Q2227.42 595.051 2222.19 595.051 Q2216.19 595.051 2213.02 590.468 Q2209.85 585.861 2209.85 577.134 Q2209.85 568.94 2213.74 564.079 Q2217.63 559.195 2224.18 559.195 Q2225.94 559.195 2227.72 559.542 Q2229.53 559.889 2231.47 560.583 Z\" fill=\"#000000\" fill-rule=\"evenodd\" fill-opacity=\"1\" /><polyline clip-path=\"url(#clip720)\" style=\"stroke:#00a98d; stroke-width:4; stroke-opacity:1; fill:none\" points=\"\n",
       "  1909.51,637.58 2051.97,637.58 \n",
       "  \"/>\n",
       "<circle clip-path=\"url(#clip720)\" cx=\"1980.74\" cy=\"637.58\" r=\"23\" fill=\"#00a98d\" fill-rule=\"evenodd\" fill-opacity=\"1\" stroke=\"#000000\" stroke-opacity=\"1\" stroke-width=\"5.12\"/>\n",
       "<path clip-path=\"url(#clip720)\" d=\"M 0 0 M2075.71 620.3 L2082.01 620.3 L2097.33 649.211 L2097.33 620.3 L2101.87 620.3 L2101.87 654.86 L2095.57 654.86 L2080.25 625.948 L2080.25 654.86 L2075.71 654.86 L2075.71 620.3 Z\" fill=\"#000000\" fill-rule=\"evenodd\" fill-opacity=\"1\" /><path clip-path=\"url(#clip720)\" d=\"M 0 0 M2126.61 633.332 L2156.29 633.332 L2156.29 637.221 L2126.61 637.221 L2126.61 633.332 M2126.61 642.776 L2156.29 642.776 L2156.29 646.711 L2126.61 646.711 L2126.61 642.776 Z\" fill=\"#000000\" fill-rule=\"evenodd\" fill-opacity=\"1\" /><path clip-path=\"url(#clip720)\" d=\"M 0 0 M2182.26 650.924 L2189.9 650.924 L2189.9 624.559 L2181.59 626.225 L2181.59 621.966 L2189.85 620.3 L2194.53 620.3 L2194.53 650.924 L2202.17 650.924 L2202.17 654.86 L2182.26 654.86 L2182.26 650.924 Z\" fill=\"#000000\" fill-rule=\"evenodd\" fill-opacity=\"1\" /><path clip-path=\"url(#clip720)\" d=\"M 0 0 M2221.61 638.448 Q2218.28 638.448 2216.36 640.23 Q2214.46 642.012 2214.46 645.137 Q2214.46 648.262 2216.36 650.045 Q2218.28 651.827 2221.61 651.827 Q2224.94 651.827 2226.87 650.045 Q2228.79 648.239 2228.79 645.137 Q2228.79 642.012 2226.87 640.23 Q2224.97 638.448 2221.61 638.448 M2216.94 636.457 Q2213.93 635.716 2212.24 633.656 Q2210.57 631.596 2210.57 628.633 Q2210.57 624.489 2213.51 622.082 Q2216.47 619.675 2221.61 619.675 Q2226.77 619.675 2229.71 622.082 Q2232.65 624.489 2232.65 628.633 Q2232.65 631.596 2230.96 633.656 Q2229.3 635.716 2226.31 636.457 Q2229.69 637.244 2231.56 639.536 Q2233.46 641.827 2233.46 645.137 Q2233.46 650.161 2230.38 652.846 Q2227.33 655.531 2221.61 655.531 Q2215.89 655.531 2212.81 652.846 Q2209.76 650.161 2209.76 645.137 Q2209.76 641.827 2211.66 639.536 Q2213.56 637.244 2216.94 636.457 M2215.22 629.073 Q2215.22 631.758 2216.89 633.262 Q2218.58 634.767 2221.61 634.767 Q2224.62 634.767 2226.31 633.262 Q2228.02 631.758 2228.02 629.073 Q2228.02 626.387 2226.31 624.883 Q2224.62 623.378 2221.61 623.378 Q2218.58 623.378 2216.89 624.883 Q2215.22 626.387 2215.22 629.073 Z\" fill=\"#000000\" fill-rule=\"evenodd\" fill-opacity=\"1\" /><polyline clip-path=\"url(#clip720)\" style=\"stroke:#8e971d; stroke-width:4; stroke-opacity:1; fill:none\" points=\"\n",
       "  1909.51,698.06 2051.97,698.06 \n",
       "  \"/>\n",
       "<circle clip-path=\"url(#clip720)\" cx=\"1980.74\" cy=\"698.06\" r=\"23\" fill=\"#8e971d\" fill-rule=\"evenodd\" fill-opacity=\"1\" stroke=\"#000000\" stroke-opacity=\"1\" stroke-width=\"5.12\"/>\n",
       "<path clip-path=\"url(#clip720)\" d=\"M 0 0 M2075.71 680.78 L2082.01 680.78 L2097.33 709.691 L2097.33 680.78 L2101.87 680.78 L2101.87 715.34 L2095.57 715.34 L2080.25 686.428 L2080.25 715.34 L2075.71 715.34 L2075.71 680.78 Z\" fill=\"#000000\" fill-rule=\"evenodd\" fill-opacity=\"1\" /><path clip-path=\"url(#clip720)\" d=\"M 0 0 M2126.61 693.812 L2156.29 693.812 L2156.29 697.701 L2126.61 697.701 L2126.61 693.812 M2126.61 703.256 L2156.29 703.256 L2156.29 707.191 L2126.61 707.191 L2126.61 703.256 Z\" fill=\"#000000\" fill-rule=\"evenodd\" fill-opacity=\"1\" /><path clip-path=\"url(#clip720)\" d=\"M 0 0 M2185.48 711.404 L2201.8 711.404 L2201.8 715.34 L2179.85 715.34 L2179.85 711.404 Q2182.51 708.65 2187.1 704.02 Q2191.7 699.367 2192.88 698.025 Q2195.13 695.502 2196.01 693.766 Q2196.91 692.006 2196.91 690.317 Q2196.91 687.562 2194.97 685.826 Q2193.05 684.09 2189.94 684.09 Q2187.75 684.09 2185.29 684.854 Q2182.86 685.618 2180.08 687.168 L2180.08 682.446 Q2182.91 681.312 2185.36 680.733 Q2187.81 680.155 2189.85 680.155 Q2195.22 680.155 2198.42 682.84 Q2201.61 685.525 2201.61 690.016 Q2201.61 692.145 2200.8 694.067 Q2200.01 695.965 2197.91 698.557 Q2197.33 699.229 2194.23 702.446 Q2191.13 705.641 2185.48 711.404 Z\" fill=\"#000000\" fill-rule=\"evenodd\" fill-opacity=\"1\" /><path clip-path=\"url(#clip720)\" d=\"M 0 0 M2221.61 683.858 Q2218 683.858 2216.17 687.423 Q2214.37 690.965 2214.37 698.094 Q2214.37 705.201 2216.17 708.766 Q2218 712.307 2221.61 712.307 Q2225.25 712.307 2227.05 708.766 Q2228.88 705.201 2228.88 698.094 Q2228.88 690.965 2227.05 687.423 Q2225.25 683.858 2221.61 683.858 M2221.61 680.155 Q2227.42 680.155 2230.48 684.761 Q2233.56 689.344 2233.56 698.094 Q2233.56 706.821 2230.48 711.428 Q2227.42 716.011 2221.61 716.011 Q2215.8 716.011 2212.72 711.428 Q2209.67 706.821 2209.67 698.094 Q2209.67 689.344 2212.72 684.761 Q2215.8 680.155 2221.61 680.155 Z\" fill=\"#000000\" fill-rule=\"evenodd\" fill-opacity=\"1\" /></svg>\n"
      ]
     },
     "execution_count": 30,
     "metadata": {},
     "output_type": "execute_result"
    }
   ],
   "source": [
    "function makemagplot(;nmax=10, nstep=1)\n",
    "    p = plot()\n",
    "\n",
    "    hrange = 10 .^ range(-2., stop=2., length=10)\n",
    "\n",
    "    for N in 2:nstep:nmax\n",
    "        M = zeros(length(hrange))\n",
    "\n",
    "        for (i, h) in enumerate(hrange)\n",
    "            # diagonalize\n",
    "            H = isingfield(N=N, h=h)\n",
    "            vals, vecs = eigen(H)\n",
    "\n",
    "            # groundstate magnetization\n",
    "            groundstate = @view vecs[:, 1] # no need to copy\n",
    "            M[i] = magnetization(groundstate)\n",
    "        end\n",
    "\n",
    "        plot!(\n",
    "            p, hrange, M, xscale=:log10, marker=:circle,\n",
    "            label=\"N = $N\",\n",
    "            xlab=L\"h\",\n",
    "            ylab=L\"M(h)\"\n",
    "        )\n",
    "    end\n",
    "    \n",
    "    p\n",
    "end\n",
    "\n",
    "@time makemagplot(nmax=20, nstep=2)"
   ]
  }
 ],
 "metadata": {
  "@webio": {
   "lastCommId": null,
   "lastKernelId": null
  },
  "kernelspec": {
   "display_name": "Julia 1.6.0",
   "language": "julia",
   "name": "julia-1.6"
  },
  "language_info": {
   "file_extension": ".jl",
   "mimetype": "application/julia",
   "name": "julia",
   "version": "1.6.0"
  }
 },
 "nbformat": 4,
 "nbformat_minor": 5
}
