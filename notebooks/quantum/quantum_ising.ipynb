{
 "cells": [
  {
   "cell_type": "markdown",
   "id": "f05909fc",
   "metadata": {},
   "source": [
    "# Quantum Ising Model\n",
    "Following a notebook by [Carsten Bauer & Katharine Hyatt](https://github.com/crstnbr/JuliaOulu20/blob/master/Day2/4_linear_algebra/2_ed_quantum_ising.ipynb).\n",
    "\n",
    "The [Ising Model](https://en.wikipedia.org/wiki/Ising_model) is a model of ferromagnetism, which considers localized discrete spins of a quantum system.\n",
    "\n",
    "We will study the Ising model in terms of the time-independent Schrödinger equation\n",
    "$$\n",
    "H \\left|{ \\psi }\\right\\rangle = E \\left|{ \\psi }\\right\\rangle,\n",
    "$$\n",
    "\n",
    "where $H$ is to be diagonalized by means of a computational model."
   ]
  },
  {
   "cell_type": "markdown",
   "id": "67415b96",
   "metadata": {},
   "source": [
    "## Transverse field Ising chain\n",
    "We consider the general Ising hamiltonian function\n",
    "\n",
    "$$\n",
    "\\mathscr{H} = - \\sum_{\\left\\langle i,j \\right\\rangle} J_{ij}\\sigma_i \\sigma_j - \\mu \\sum_j h_j \\sigma_j\n",
    "$$\n",
    "\n",
    "for any two adjacent crystal sites $i, j$, with interaction $J_{i,j}$ between sites, and external magnetic field $h_j$. The first sum is across pairs of adjecent spins, with notation $\\left\\langle i,j \\right\\rangle$ denoting nearest neighbour.\n",
    "\n",
    "We will denote the spin states through the Pauli matrices, with the external magnetic field acting perpendicular to the spin orientations -- i.e., we use $\\sigma^z$ for spin directions (the first summation term), and $\\sigma^x$ for interaction with the magnetic field (second summation term)\n",
    "\n",
    "For our notation, we will combine $\\mu h_j =: h$, $\\forall j$.\n",
    "\n",
    "We define"
   ]
  },
  {
   "cell_type": "code",
   "execution_count": 1,
   "id": "f770922d",
   "metadata": {},
   "outputs": [
    {
     "data": {
      "text/plain": [
       "([1 0; 0 -1], [0 1; 1 0])"
      ]
     },
     "execution_count": 1,
     "metadata": {},
     "output_type": "execute_result"
    }
   ],
   "source": [
    "σᶻ = [1 0; 0 -1]\n",
    "σˣ = [0 1; 1 0]\n",
    "\n",
    "σᶻ, σˣ"
   ]
  },
  {
   "cell_type": "markdown",
   "id": "a74a2689",
   "metadata": {},
   "source": [
    "We denote the Eigenvectors of $\\sigma^z$ by $\\left|{ \\uparrow }\\right\\rangle$, $\\left|{ \\downarrow }\\right\\rangle$ respective to their orientation along the $z$ axis -- these will also denote our spin orientations.\n",
    "\n",
    "We can then see that the function of $\\sigma^x$ is to flip the orientation, as it is purely off-diagonal:"
   ]
  },
  {
   "cell_type": "code",
   "execution_count": 2,
   "id": "a4dc566f",
   "metadata": {},
   "outputs": [
    {
     "name": "stdout",
     "output_type": "stream",
     "text": [
      "(s_up, s_down) = ([1.0, 0.0], [0.0, 1.0])\n"
     ]
    },
    {
     "data": {
      "text/plain": [
       "true"
      ]
     },
     "execution_count": 2,
     "metadata": {},
     "output_type": "execute_result"
    }
   ],
   "source": [
    "using LinearAlgebra\n",
    "\n",
    "evecs = eigen(σᶻ).vectors\n",
    "s_down = evecs[1, :]\n",
    "s_up = evecs[2, :]\n",
    "\n",
    "@show s_up, s_down\n",
    "\n",
    "s_up == σˣ * s_down"
   ]
  },
  {
   "cell_type": "markdown",
   "id": "c4f5c265",
   "metadata": {},
   "source": [
    "Expressed symbolically:\n",
    "$$\n",
    "\\sigma^x \\left|{ \\uparrow }\\right\\rangle = \\left|{ \\downarrow }\\right\\rangle.\n",
    "$$"
   ]
  },
  {
   "cell_type": "markdown",
   "id": "4e911bee",
   "metadata": {},
   "source": [
    "## Hamiltonian construction\n",
    "\n",
    "In the case of a trivial (diagonal) Hamiltonian (i.e. no external magnetic field $h=0$), we have a classical system where the spins are flipped and disordered by thermal fluctuations.\n",
    "\n",
    "Such a system exhibits different phases at different temperatures $T$ relative to a critical transition temperature $T_c$:\n",
    "- the *paramagnetic* phase ($T > T_c$)\n",
    "- the *ferromagnetic* phase ($T < T_c$)\n",
    "\n",
    "with an implicit ferromagnetic ground state $T=0$.\n",
    "\n",
    "\n",
    "By introducing $h\\neq0$, we construct a Hamiltonian matrix with off-diagonal elements contributed from $\\sigma^x$ terms. These elements represent the quantum fluctuations of the system, by changing some spins orientated along $z$ to $x$.\n",
    "\n",
    "\n",
    "For now, let us choose $\\sigma^z$ as our Eigenbasis for computation.\n",
    "\n",
    "We will use the Kronecker product"
   ]
  },
  {
   "cell_type": "code",
   "execution_count": 3,
   "id": "5735fd0b",
   "metadata": {},
   "outputs": [
    {
     "data": {
      "text/plain": [
       "4×4 Matrix{Int64}:\n",
       " 1   0   0  0\n",
       " 0  -1   0  0\n",
       " 0   0  -1  0\n",
       " 0   0   0  1"
      ]
     },
     "execution_count": 3,
     "metadata": {},
     "output_type": "execute_result"
    }
   ],
   "source": [
    "kron(σᶻ,σᶻ)"
   ]
  },
  {
   "cell_type": "markdown",
   "id": "06a2cb5f",
   "metadata": {},
   "source": [
    "which we can abreviate with "
   ]
  },
  {
   "cell_type": "code",
   "execution_count": 11,
   "id": "adc3d9ca",
   "metadata": {},
   "outputs": [
    {
     "data": {
      "text/plain": [
       "⊗ (generic function with 4 methods)"
      ]
     },
     "execution_count": 11,
     "metadata": {},
     "output_type": "execute_result"
    }
   ],
   "source": [
    "⊗(x, y) = kron(x, y)\n",
    "# identities\n",
    "⊗(x, y::UniformScaling) = x ⊗ [1 0; 0 1]\n",
    "⊗(x::UniformScaling, y) = [1 0; 0 1] ⊗ y\n",
    "⊗(x::UniformScaling, y::UniformScaling) = [1 0; 0 1] ⊗ [1 0; 0 1]"
   ]
  },
  {
   "cell_type": "code",
   "execution_count": 12,
   "id": "cd52d3fc",
   "metadata": {},
   "outputs": [
    {
     "data": {
      "text/plain": [
       "4×4 Matrix{Int64}:\n",
       " 1   0   0  0\n",
       " 0  -1   0  0\n",
       " 0   0  -1  0\n",
       " 0   0   0  1"
      ]
     },
     "execution_count": 12,
     "metadata": {},
     "output_type": "execute_result"
    }
   ],
   "source": [
    "σᶻ ⊗ σᶻ"
   ]
  },
  {
   "cell_type": "markdown",
   "id": "9da13c3c",
   "metadata": {},
   "source": [
    "The next step is to calculate permutations of the summation terms, so we can assemble our Hamiltonian as a $2^n \\times 2^n$ matrix, representing a quantum chain of $n$ particles:"
   ]
  },
  {
   "cell_type": "code",
   "execution_count": 23,
   "id": "787c090c",
   "metadata": {},
   "outputs": [
    {
     "data": {
      "text/plain": [
       "4×4 Matrix{Float64}:\n",
       " -1.0  -0.5  -0.5   0.0\n",
       " -0.5   1.0   0.0  -0.5\n",
       " -0.5   0.0   1.0  -0.5\n",
       "  0.0  -0.5  -0.5  -1.0"
      ]
     },
     "execution_count": 23,
     "metadata": {},
     "output_type": "execute_result"
    }
   ],
   "source": [
    "function isingfield(;N::Int, h)\n",
    "    σᶻ = [1 0; 0 -1]\n",
    "    σˣ = [0 1; 1 0]\n",
    "    \n",
    "    # assemble terms\n",
    "    terms = vcat([σᶻ, σᶻ], fill(I, N-2))\n",
    "    \n",
    "    H = zeros(Int, 2^N, 2^N)\n",
    "    \n",
    "    # compute first sum\n",
    "    for i in 1:N-1\n",
    "        H -= foldl(⊗, terms)\n",
    "        terms = circshift(terms, 1)\n",
    "    end\n",
    "    \n",
    "    # sum two terms\n",
    "    terms[1] = σˣ\n",
    "    terms[2] = I\n",
    "    \n",
    "    # compute second sum\n",
    "    \n",
    "    for i in 1:N\n",
    "        H -= h * foldl(⊗, terms)\n",
    "        terms = circshift(terms, 1)\n",
    "    end\n",
    "    \n",
    "    H\n",
    "end\n",
    "\n",
    "isingfield(N=2, h=0.5)"
   ]
  },
  {
   "cell_type": "markdown",
   "id": "105746db",
   "metadata": {},
   "source": [
    "## Basis states\n",
    "\n",
    "We will choose 0 (false) to represent down spins, and 1 (true) to represent up spins. We can then write basis states in the notation\n",
    "$$\n",
    "\\left\\lvert 0010 \\right\\rangle = \\left\\lvert \\downarrow  \\downarrow \\uparrow \\downarrow \\right\\rangle\n",
    "$$\n",
    "for e.g. a 4 site system.\n",
    "\n",
    "The full basis is then just a counting problem:"
   ]
  },
  {
   "cell_type": "code",
   "execution_count": 34,
   "id": "a714f5d7",
   "metadata": {},
   "outputs": [
    {
     "data": {
      "text/plain": [
       "16-element Vector{BitVector}:\n",
       " [0, 0, 0, 0]\n",
       " [0, 0, 0, 1]\n",
       " [0, 0, 1, 0]\n",
       " [0, 0, 1, 1]\n",
       " [0, 1, 0, 0]\n",
       " [0, 1, 0, 1]\n",
       " [0, 1, 1, 0]\n",
       " [0, 1, 1, 1]\n",
       " [1, 0, 0, 0]\n",
       " [1, 0, 0, 1]\n",
       " [1, 0, 1, 0]\n",
       " [1, 0, 1, 1]\n",
       " [1, 1, 0, 0]\n",
       " [1, 1, 0, 1]\n",
       " [1, 1, 1, 0]\n",
       " [1, 1, 1, 1]"
      ]
     },
     "execution_count": 34,
     "metadata": {},
     "output_type": "execute_result"
    }
   ],
   "source": [
    "# helper function\n",
    "binrep(i::Int, pad::Int) = BitArray(parse(Bool, j) for j in string(i, base=2, pad=pad))\n",
    "\n",
    "function makebasis(N::Int)\n",
    "    nstates = 2^N\n",
    "    basis = Vector{BitArray{1}}(undef, nstates)\n",
    "    \n",
    "    for i in 0:nstates-1\n",
    "        basis[i+1] = binrep(i, N)\n",
    "    end\n",
    "    \n",
    "    basis\n",
    "end     \n",
    "\n",
    "makebasis(4)"
   ]
  },
  {
   "cell_type": "markdown",
   "id": "c06a1ead",
   "metadata": {},
   "source": [
    "## Diagonalization\n",
    "We solve the Schrödinger equation by diagonalizing $\\mathscr{H}$. We will use $N=3$, and $h=1$:"
   ]
  },
  {
   "cell_type": "code",
   "execution_count": 134,
   "id": "ac9ac93f",
   "metadata": {},
   "outputs": [
    {
     "data": {
      "text/plain": [
       "8-element Vector{Float64}:\n",
       " -2.9093129111764067\n",
       " -2.9093129111763933\n",
       " -1.2393136749274754\n",
       " -1.2393136749274718\n",
       "  1.2393136749274782\n",
       "  1.239313674927481\n",
       "  2.909312911176408\n",
       "  2.9093129111764093"
      ]
     },
     "execution_count": 134,
     "metadata": {},
     "output_type": "execute_result"
    }
   ],
   "source": [
    "basis = makebasis(3)\n",
    "H = isingfield(N=3, h=1)\n",
    "\n",
    "vals, vecs = eigen(H)\n",
    "vals"
   ]
  },
  {
   "cell_type": "markdown",
   "id": "fe77da55",
   "metadata": {},
   "source": [
    "We can read off the ground state as a probability amplitude for each basis vector"
   ]
  },
  {
   "cell_type": "code",
   "execution_count": 135,
   "id": "7336900d",
   "metadata": {},
   "outputs": [
    {
     "data": {
      "text/plain": [
       "8-element Vector{Float64}:\n",
       "  0.0\n",
       " -0.05673591158528354\n",
       "  0.0\n",
       " -0.3200679131671591\n",
       "  0.056735911585283544\n",
       " -0.15500539306473066\n",
       " -0.3200679131671591\n",
       "  0.8744418006452241"
      ]
     },
     "execution_count": 135,
     "metadata": {},
     "output_type": "execute_result"
    }
   ],
   "source": [
    "groundstate = vecs[:, 1]"
   ]
  },
  {
   "cell_type": "markdown",
   "id": "5dfbd112",
   "metadata": {},
   "source": [
    "We can pretty print this with some not so pretty string formatting:"
   ]
  },
  {
   "cell_type": "code",
   "execution_count": 136,
   "id": "1a6dac70",
   "metadata": {},
   "outputs": [
    {
     "data": {
      "text/latex": [
       "$\\text{Spin State: Probability}\\\\\\left\\lvert \\downarrow\\downarrow\\downarrow \\right\\rangle: 0.0\\\\\\left\\lvert \\downarrow\\downarrow\\uparrow \\right\\rangle: 0.0032189636634131105\\\\\\left\\lvert \\downarrow\\uparrow\\downarrow \\right\\rangle: 0.0\\\\\\left\\lvert \\downarrow\\uparrow\\uparrow \\right\\rangle: 0.1024434690391801\\\\\\left\\lvert \\uparrow\\downarrow\\downarrow \\right\\rangle: 0.0032189636634131114\\\\\\left\\lvert \\uparrow\\downarrow\\uparrow \\right\\rangle: 0.02402667187915165\\\\\\left\\lvert \\uparrow\\uparrow\\downarrow \\right\\rangle: 0.1024434690391801\\\\\\left\\lvert \\uparrow\\uparrow\\uparrow \\right\\rangle: 0.7646484627156619$"
      ],
      "text/plain": [
       "L\"$\\text{Spin State: Probability}\\\\\\left\\lvert \\downarrow\\downarrow\\downarrow \\right\\rangle: 0.0\\\\\\left\\lvert \\downarrow\\downarrow\\uparrow \\right\\rangle: 0.0032189636634131105\\\\\\left\\lvert \\downarrow\\uparrow\\downarrow \\right\\rangle: 0.0\\\\\\left\\lvert \\downarrow\\uparrow\\uparrow \\right\\rangle: 0.1024434690391801\\\\\\left\\lvert \\uparrow\\downarrow\\downarrow \\right\\rangle: 0.0032189636634131114\\\\\\left\\lvert \\uparrow\\downarrow\\uparrow \\right\\rangle: 0.02402667187915165\\\\\\left\\lvert \\uparrow\\uparrow\\downarrow \\right\\rangle: 0.1024434690391801\\\\\\left\\lvert \\uparrow\\uparrow\\uparrow \\right\\rangle: 0.7646484627156619$\""
      ]
     },
     "execution_count": 136,
     "metadata": {},
     "output_type": "execute_result"
    }
   ],
   "source": [
    "using LaTeXStrings\n",
    "\n",
    "# fmt function for kets\n",
    "function fmt(x::BitVector)\n",
    "    s = join(i == false ? \"\\\\downarrow\" : \"\\\\uparrow\" for i in x)\n",
    "    \"\\\\left\\\\lvert $s \\\\right\\\\rangle\"\n",
    "end\n",
    "\n",
    "# fmt function for results\n",
    "function fmt(basis::Vector{BitVector}, groundstate::Vector)\n",
    "    out = String[\"\\\\text{Spin State: Probability}\"]\n",
    "    \n",
    "    for (b, p) in zip(basis, groundstate)\n",
    "        push!(out, \"$(fmt(b)): $(abs2(p))\")\n",
    "    end\n",
    "    \n",
    "    latexstring(join(out, \"\\\\\\\\\"))\n",
    "end\n",
    "\n",
    "fmt(basis, groundstate)"
   ]
  },
  {
   "cell_type": "markdown",
   "id": "edc4c9fc",
   "metadata": {},
   "source": [
    "We can try this again with $h=0$ to see the case of a trivial Hamiltonian:"
   ]
  },
  {
   "cell_type": "code",
   "execution_count": 137,
   "id": "9efae010",
   "metadata": {},
   "outputs": [
    {
     "data": {
      "text/latex": [
       "$\\text{Spin State: Probability}\\\\\\left\\lvert \\downarrow\\downarrow\\downarrow \\right\\rangle: 1.0\\\\\\left\\lvert \\downarrow\\downarrow\\uparrow \\right\\rangle: 0.0\\\\\\left\\lvert \\downarrow\\uparrow\\downarrow \\right\\rangle: 0.0\\\\\\left\\lvert \\downarrow\\uparrow\\uparrow \\right\\rangle: 0.0\\\\\\left\\lvert \\uparrow\\downarrow\\downarrow \\right\\rangle: 0.0\\\\\\left\\lvert \\uparrow\\downarrow\\uparrow \\right\\rangle: 0.0\\\\\\left\\lvert \\uparrow\\uparrow\\downarrow \\right\\rangle: 0.0\\\\\\left\\lvert \\uparrow\\uparrow\\uparrow \\right\\rangle: 0.0$"
      ],
      "text/plain": [
       "L\"$\\text{Spin State: Probability}\\\\\\left\\lvert \\downarrow\\downarrow\\downarrow \\right\\rangle: 1.0\\\\\\left\\lvert \\downarrow\\downarrow\\uparrow \\right\\rangle: 0.0\\\\\\left\\lvert \\downarrow\\uparrow\\downarrow \\right\\rangle: 0.0\\\\\\left\\lvert \\downarrow\\uparrow\\uparrow \\right\\rangle: 0.0\\\\\\left\\lvert \\uparrow\\downarrow\\downarrow \\right\\rangle: 0.0\\\\\\left\\lvert \\uparrow\\downarrow\\uparrow \\right\\rangle: 0.0\\\\\\left\\lvert \\uparrow\\uparrow\\downarrow \\right\\rangle: 0.0\\\\\\left\\lvert \\uparrow\\uparrow\\uparrow \\right\\rangle: 0.0$\""
      ]
     },
     "execution_count": 137,
     "metadata": {},
     "output_type": "execute_result"
    }
   ],
   "source": [
    "basis = makebasis(3)\n",
    "H = isingfield(N=3, h=0)\n",
    "\n",
    "vals, vecs = eigen(H)\n",
    "groundstate = vecs[:, 1]\n",
    "\n",
    "fmt(basis, groundstate)"
   ]
  },
  {
   "cell_type": "markdown",
   "id": "dfbbde04",
   "metadata": {},
   "source": [
    "As we expect, all of the spin states are aligned along the $-z$ axis."
   ]
  }
 ],
 "metadata": {
  "@webio": {
   "lastCommId": null,
   "lastKernelId": null
  },
  "kernelspec": {
   "display_name": "Julia 1.6.0",
   "language": "julia",
   "name": "julia-1.6"
  },
  "language_info": {
   "file_extension": ".jl",
   "mimetype": "application/julia",
   "name": "julia",
   "version": "1.6.0"
  }
 },
 "nbformat": 4,
 "nbformat_minor": 5
}
