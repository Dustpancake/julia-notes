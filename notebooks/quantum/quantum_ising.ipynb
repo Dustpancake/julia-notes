{
 "cells": [
  {
   "cell_type": "markdown",
   "id": "36b677d9",
   "metadata": {},
   "source": [
    "# Quantum Ising Model\n",
    "Following a notebook by [Carsten Bauer & Katharine Hyatt](https://github.com/crstnbr/JuliaOulu20/blob/master/Day2/4_linear_algebra/2_ed_quantum_ising.ipynb).\n",
    "\n",
    "The [Ising Model](https://en.wikipedia.org/wiki/Ising_model) is a model of ferromagnetism, which considers localized discrete spins of a quantum system.\n",
    "\n",
    "We will study the Ising model in terms of the time-independent Schrödinger equation\n",
    "$$\n",
    "H \\left|{ \\psi }\\right\\rangle = E \\left|{ \\psi }\\right\\rangle,\n",
    "$$\n",
    "\n",
    "where $H$ is to be diagonalized by means of a computational model."
   ]
  },
  {
   "cell_type": "markdown",
   "id": "0cc5ceba",
   "metadata": {},
   "source": [
    "## Transverse field Ising chain\n",
    "We consider the general Ising hamiltonian function\n",
    "\n",
    "$$\n",
    "\\mathscr{H} = - \\sum_{\\left\\langle i,j \\right\\rangle} J_{ij}\\sigma_i \\sigma_j - \\mu \\sum_j h_j \\sigma_j\n",
    "$$\n",
    "\n",
    "for any two adjacent crystal sites $i, j$, with interaction $J_{i,j}$ between sites, and external magnetic field $h_j$. The first sum is across pairs of adjecent spins, with notation $\\left\\langle i,j \\right\\rangle$ denoting nearest neighbour.\n",
    "\n",
    "We will denote the spin states through the Pauli matrices, with the external magnetic field acting perpendicular to the spin orientations -- i.e., we use $\\sigma^z$ for spin directions (the first summation term), and $\\sigma^x$ for interaction with the magnetic field (second summation term).\n",
    "\n",
    "We define"
   ]
  },
  {
   "cell_type": "code",
   "execution_count": 3,
   "id": "e2c42b6d",
   "metadata": {},
   "outputs": [
    {
     "data": {
      "text/plain": [
       "([1 0; 0 -1], [0 1; 1 0])"
      ]
     },
     "execution_count": 3,
     "metadata": {},
     "output_type": "execute_result"
    }
   ],
   "source": [
    "σᶻ = [1 0; 0 -1]\n",
    "σˣ = [0 1; 1 0]\n",
    "\n",
    "σᶻ, σˣ"
   ]
  },
  {
   "cell_type": "markdown",
   "id": "2c0b68e7",
   "metadata": {},
   "source": [
    "We denote the Eigenvectors of $\\sigma^z$ by $\\left|{ \\uparrow }\\right\\rangle$, \\left|{ \\downarrow }\\right\\rangle respective to their orientation along the $z$ axis -- these will also denote our spin orientations.\n",
    "\n",
    "We can then see that the function of $\\sigma^x$ is to flip the orientation, as it is purely off-diagonal:"
   ]
  },
  {
   "cell_type": "code",
   "execution_count": 29,
   "id": "346bd5bf",
   "metadata": {},
   "outputs": [
    {
     "name": "stdout",
     "output_type": "stream",
     "text": [
      "(s_up, s_down) = ([1.0, 0.0], [0.0, 1.0])\n"
     ]
    },
    {
     "data": {
      "text/plain": [
       "true"
      ]
     },
     "execution_count": 29,
     "metadata": {},
     "output_type": "execute_result"
    }
   ],
   "source": [
    "using LinearAlgebra\n",
    "\n",
    "evecs = eigen(σᶻ).vectors\n",
    "s_down = evecs[1, :]\n",
    "s_up = evecs[2, :]\n",
    "\n",
    "@show s_up, s_down\n",
    "\n",
    "s_up == σˣ * s_down"
   ]
  },
  {
   "cell_type": "code",
   "execution_count": null,
   "id": "b3792dfd",
   "metadata": {},
   "outputs": [],
   "source": []
  }
 ],
 "metadata": {
  "kernelspec": {
   "display_name": "Julia 1.6.0",
   "language": "julia",
   "name": "julia-1.6"
  },
  "language_info": {
   "file_extension": ".jl",
   "mimetype": "application/julia",
   "name": "julia",
   "version": "1.6.0"
  }
 },
 "nbformat": 4,
 "nbformat_minor": 5
}
