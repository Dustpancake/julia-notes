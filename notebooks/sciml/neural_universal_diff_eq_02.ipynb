{
 "cells": [
  {
   "cell_type": "markdown",
   "id": "employed-private",
   "metadata": {},
   "source": [
    "# Neural and Universal Ordinary Differential Equations: Part 02\n",
    "Following along from notes by [Chris Rackauckas](https://mitmath.github.io/18S096SciML/lecture3/diffeq_ml).\n",
    "\n",
    "In the previous notebook is documented how we can use a neural network to solve a parameter problem relating to an ODE -- we essentially trained a neural network on an ODE model, and attempted to find a best fit for the model parameters.\n"
   ]
  },
  {
   "cell_type": "code",
   "execution_count": 1,
   "id": "seeing-inspector",
   "metadata": {},
   "outputs": [
    {
     "data": {
      "text/html": [
       "<script>\n",
       "// Immediately-invoked-function-expression to avoid global variables.\n",
       "(function() {\n",
       "    var warning_div = document.getElementById(\"webio-warning-8865852048788061964\");\n",
       "    var hide = function () {\n",
       "        var script = document.getElementById(\"webio-setup-4660998905325239785\");\n",
       "        var parent = script && script.parentElement;\n",
       "        var grandparent = parent && parent.parentElement;\n",
       "        if (grandparent) {\n",
       "            grandparent.style.display = \"none\";\n",
       "        }\n",
       "        warning_div.style.display = \"none\";\n",
       "    };\n",
       "    if (typeof Jupyter !== \"undefined\") {\n",
       "        console.log(\"WebIO detected Jupyter notebook environment.\");\n",
       "        // Jupyter notebook.\n",
       "        var extensions = (\n",
       "            Jupyter\n",
       "            && Jupyter.notebook.config.data\n",
       "            && Jupyter.notebook.config.data.load_extensions\n",
       "        );\n",
       "        if (extensions && extensions[\"webio-jupyter-notebook\"]) {\n",
       "            // Extension already loaded.\n",
       "            console.log(\"Jupyter WebIO nbextension detected; not loading ad-hoc.\");\n",
       "            hide();\n",
       "            return;\n",
       "        }\n",
       "    } else if (window.location.pathname.includes(\"/lab\")) {\n",
       "        // Guessing JupyterLa\n",
       "        console.log(\"Jupyter Lab detected; make sure the @webio/jupyter-lab-provider labextension is installed.\");\n",
       "        hide();\n",
       "        return;\n",
       "    }\n",
       "})();\n",
       "\n",
       "</script>\n",
       "<p\n",
       "    id=\"webio-warning-8865852048788061964\"\n",
       "    class=\"output_text output_stderr\"\n",
       "    style=\"padding: 1em; font-weight: bold;\"\n",
       ">\n",
       "    Unable to load WebIO. Please make sure WebIO works for your Jupyter client.\n",
       "    For troubleshooting, please see <a href=\"https://juliagizmos.github.io/WebIO.jl/latest/providers/ijulia/\">\n",
       "    the WebIO/IJulia documentation</a>.\n",
       "    <!-- TODO: link to installation docs. -->\n",
       "</p>\n"
      ],
      "text/plain": [
       "HTML{String}(\"<script>\\n// Immediately-invoked-function-expression to avoid global variables.\\n(function() {\\n    var warning_div = document.getElementById(\\\"webio-warning-8865852048788061964\\\");\\n    var hide = function () {\\n        var script = document.getElementById(\\\"webio-setup-4660998905325239785\\\");\\n        var parent = script && script.parentElement;\\n        var grandparent = parent && parent.parentElement;\\n        if (grandparent) {\\n            grandparent.style.display = \\\"none\\\";\\n        }\\n        warning_div.style.display = \\\"none\\\";\\n    };\\n    if (typeof Jupyter !== \\\"undefined\\\") {\\n        console.log(\\\"WebIO detected Jupyter notebook environment.\\\");\\n        // Jupyter notebook.\\n        var extensions = (\\n            Jupyter\\n            && Jupyter.notebook.config.data\\n            && Jupyter.notebook.config.data.load_extensions\\n        );\\n        if (extensions && extensions[\\\"webio-jupyter-notebook\\\"]) {\\n            // Extension already loaded.\\n            console.log(\\\"Jupyter WebIO nbextension detected; not loading ad-hoc.\\\");\\n            hide();\\n            return;\\n        }\\n    } else if (window.location.pathname.includes(\\\"/lab\\\")) {\\n        // Guessing JupyterLa\\n        console.log(\\\"Jupyter Lab detected; make sure the @webio/jupyter-lab-provider labextension is installed.\\\");\\n        hide();\\n        return;\\n    }\\n})();\\n\\n</script>\\n<p\\n    id=\\\"webio-warning-8865852048788061964\\\"\\n    class=\\\"output_text output_stderr\\\"\\n    style=\\\"padding: 1em; font-weight: bold;\\\"\\n>\\n    Unable to load WebIO. Please make sure WebIO works for your Jupyter client.\\n    For troubleshooting, please see <a href=\\\"https://juliagizmos.github.io/WebIO.jl/latest/providers/ijulia/\\\">\\n    the WebIO/IJulia documentation</a>.\\n    <!-- TODO: link to installation docs. -->\\n</p>\\n\")"
      ]
     },
     "metadata": {},
     "output_type": "display_data"
    }
   ],
   "source": [
    "using OrdinaryDiffEq, Flux, DiffEqFlux, Plots, Interact"
   ]
  },
  {
   "cell_type": "markdown",
   "id": "lyric-entry",
   "metadata": {},
   "source": [
    "## Defining and Training Neural ODEs\n",
    "\n",
    "Defining a neural ODE is the same as defining a parameterized differential equation, except here the parameterized ODE is a NN. \n",
    "\n",
    "Consider the following example; we wish to match the following data:"
   ]
  },
  {
   "cell_type": "code",
   "execution_count": 2,
   "id": "involved-scanning",
   "metadata": {},
   "outputs": [
    {
     "data": {
      "text/plain": [
       "2×30 Array{Float32,2}:\n",
       " 2.0  1.9465    1.74178  1.23837  0.577126  …  1.40688   1.37022   1.29214\n",
       " 0.0  0.798831  1.46473  1.80877  1.86465      0.451381  0.728698  0.972098"
      ]
     },
     "execution_count": 2,
     "metadata": {},
     "output_type": "execute_result"
    }
   ],
   "source": [
    "u0 = Float32[2.; 0.]\n",
    "datasize = 30\n",
    "tspan = (0.0f0, 1.5f0)\n",
    "\n",
    "function trueODE!(du, u, p, t)\n",
    "    true_A = [-0.1 2.0; -2.0 -0.1]\n",
    "    du .= ((u.^3)'true_A)'\n",
    "end\n",
    "\n",
    "t = range(tspan[1], tspan[2], length=datasize)\n",
    "prob = ODEProblem(trueODE!, u0, tspan)\n",
    "ode_data = Array(solve(prob, Tsit5(), saveat=t))"
   ]
  },
  {
   "cell_type": "markdown",
   "id": "western-waterproof",
   "metadata": {},
   "source": [
    "Let us quickly visualise this data:"
   ]
  },
  {
   "cell_type": "code",
   "execution_count": 3,
   "id": "hawaiian-river",
   "metadata": {},
   "outputs": [
    {
     "data": {
      "image/svg+xml": [
       "<?xml version=\"1.0\" encoding=\"utf-8\"?>\n",
       "<svg xmlns=\"http://www.w3.org/2000/svg\" xmlns:xlink=\"http://www.w3.org/1999/xlink\" width=\"600\" height=\"400\" viewBox=\"0 0 2400 1600\">\n",
       "<defs>\n",
       "  <clipPath id=\"clip430\">\n",
       "    <rect x=\"0\" y=\"0\" width=\"2400\" height=\"1600\"/>\n",
       "  </clipPath>\n",
       "</defs>\n",
       "<path clip-path=\"url(#clip430)\" d=\"\n",
       "M0 1600 L2400 1600 L2400 0 L0 0  Z\n",
       "  \" fill=\"#ffffff\" fill-rule=\"evenodd\" fill-opacity=\"1\"/>\n",
       "<defs>\n",
       "  <clipPath id=\"clip431\">\n",
       "    <rect x=\"480\" y=\"0\" width=\"1681\" height=\"1600\"/>\n",
       "  </clipPath>\n",
       "</defs>\n",
       "<path clip-path=\"url(#clip430)\" d=\"\n",
       "M142.455 1486.45 L2352.76 1486.45 L2352.76 47.2441 L142.455 47.2441  Z\n",
       "  \" fill=\"#ffffff\" fill-rule=\"evenodd\" fill-opacity=\"1\"/>\n",
       "<defs>\n",
       "  <clipPath id=\"clip432\">\n",
       "    <rect x=\"142\" y=\"47\" width=\"2211\" height=\"1440\"/>\n",
       "  </clipPath>\n",
       "</defs>\n",
       "<polyline clip-path=\"url(#clip432)\" style=\"stroke:#000000; stroke-width:2; stroke-opacity:0.1; fill:none\" points=\"\n",
       "  492.623,1486.45 492.623,47.2441 \n",
       "  \"/>\n",
       "<polyline clip-path=\"url(#clip432)\" style=\"stroke:#000000; stroke-width:2; stroke-opacity:0.1; fill:none\" points=\"\n",
       "  852.138,1486.45 852.138,47.2441 \n",
       "  \"/>\n",
       "<polyline clip-path=\"url(#clip432)\" style=\"stroke:#000000; stroke-width:2; stroke-opacity:0.1; fill:none\" points=\"\n",
       "  1211.65,1486.45 1211.65,47.2441 \n",
       "  \"/>\n",
       "<polyline clip-path=\"url(#clip432)\" style=\"stroke:#000000; stroke-width:2; stroke-opacity:0.1; fill:none\" points=\"\n",
       "  1571.17,1486.45 1571.17,47.2441 \n",
       "  \"/>\n",
       "<polyline clip-path=\"url(#clip432)\" style=\"stroke:#000000; stroke-width:2; stroke-opacity:0.1; fill:none\" points=\"\n",
       "  1930.68,1486.45 1930.68,47.2441 \n",
       "  \"/>\n",
       "<polyline clip-path=\"url(#clip432)\" style=\"stroke:#000000; stroke-width:2; stroke-opacity:0.1; fill:none\" points=\"\n",
       "  2290.2,1486.45 2290.2,47.2441 \n",
       "  \"/>\n",
       "<polyline clip-path=\"url(#clip430)\" style=\"stroke:#000000; stroke-width:4; stroke-opacity:1; fill:none\" points=\"\n",
       "  142.455,1486.45 2352.76,1486.45 \n",
       "  \"/>\n",
       "<polyline clip-path=\"url(#clip430)\" style=\"stroke:#000000; stroke-width:4; stroke-opacity:1; fill:none\" points=\"\n",
       "  492.623,1486.45 492.623,1469.18 \n",
       "  \"/>\n",
       "<polyline clip-path=\"url(#clip430)\" style=\"stroke:#000000; stroke-width:4; stroke-opacity:1; fill:none\" points=\"\n",
       "  852.138,1486.45 852.138,1469.18 \n",
       "  \"/>\n",
       "<polyline clip-path=\"url(#clip430)\" style=\"stroke:#000000; stroke-width:4; stroke-opacity:1; fill:none\" points=\"\n",
       "  1211.65,1486.45 1211.65,1469.18 \n",
       "  \"/>\n",
       "<polyline clip-path=\"url(#clip430)\" style=\"stroke:#000000; stroke-width:4; stroke-opacity:1; fill:none\" points=\"\n",
       "  1571.17,1486.45 1571.17,1469.18 \n",
       "  \"/>\n",
       "<polyline clip-path=\"url(#clip430)\" style=\"stroke:#000000; stroke-width:4; stroke-opacity:1; fill:none\" points=\"\n",
       "  1930.68,1486.45 1930.68,1469.18 \n",
       "  \"/>\n",
       "<polyline clip-path=\"url(#clip430)\" style=\"stroke:#000000; stroke-width:4; stroke-opacity:1; fill:none\" points=\"\n",
       "  2290.2,1486.45 2290.2,1469.18 \n",
       "  \"/>\n",
       "<path clip-path=\"url(#clip430)\" d=\"M 0 0 M482.901 1512.56 L501.257 1512.56 L501.257 1516.5 L487.183 1516.5 L487.183 1524.97 Q488.202 1524.62 489.22 1524.46 Q490.239 1524.27 491.257 1524.27 Q497.044 1524.27 500.424 1527.44 Q503.803 1530.62 503.803 1536.03 Q503.803 1541.61 500.331 1544.71 Q496.859 1547.79 490.54 1547.79 Q488.364 1547.79 486.095 1547.42 Q483.85 1547.05 481.442 1546.31 L481.442 1541.61 Q483.526 1542.74 485.748 1543.3 Q487.97 1543.86 490.447 1543.86 Q494.452 1543.86 496.79 1541.75 Q499.127 1539.64 499.127 1536.03 Q499.127 1532.42 496.79 1530.31 Q494.452 1528.21 490.447 1528.21 Q488.572 1528.21 486.697 1528.62 Q484.845 1529.04 482.901 1529.92 L482.901 1512.56 Z\" fill=\"#000000\" fill-rule=\"evenodd\" fill-opacity=\"1\" /><path clip-path=\"url(#clip430)\" d=\"M 0 0 M829.013 1543.18 L836.652 1543.18 L836.652 1516.82 L828.342 1518.49 L828.342 1514.23 L836.606 1512.56 L841.282 1512.56 L841.282 1543.18 L848.921 1543.18 L848.921 1547.12 L829.013 1547.12 L829.013 1543.18 Z\" fill=\"#000000\" fill-rule=\"evenodd\" fill-opacity=\"1\" /><path clip-path=\"url(#clip430)\" d=\"M 0 0 M863.99 1515.64 Q860.379 1515.64 858.55 1519.2 Q856.745 1522.75 856.745 1529.87 Q856.745 1536.98 858.55 1540.55 Q860.379 1544.09 863.99 1544.09 Q867.624 1544.09 869.43 1540.55 Q871.259 1536.98 871.259 1529.87 Q871.259 1522.75 869.43 1519.2 Q867.624 1515.64 863.99 1515.64 M863.99 1511.93 Q869.8 1511.93 872.856 1516.54 Q875.934 1521.12 875.934 1529.87 Q875.934 1538.6 872.856 1543.21 Q869.8 1547.79 863.99 1547.79 Q858.18 1547.79 855.101 1543.21 Q852.046 1538.6 852.046 1529.87 Q852.046 1521.12 855.101 1516.54 Q858.18 1511.93 863.99 1511.93 Z\" fill=\"#000000\" fill-rule=\"evenodd\" fill-opacity=\"1\" /><path clip-path=\"url(#clip430)\" d=\"M 0 0 M1189.03 1543.18 L1196.67 1543.18 L1196.67 1516.82 L1188.36 1518.49 L1188.36 1514.23 L1196.62 1512.56 L1201.3 1512.56 L1201.3 1543.18 L1208.93 1543.18 L1208.93 1547.12 L1189.03 1547.12 L1189.03 1543.18 Z\" fill=\"#000000\" fill-rule=\"evenodd\" fill-opacity=\"1\" /><path clip-path=\"url(#clip430)\" d=\"M 0 0 M1214.05 1512.56 L1232.41 1512.56 L1232.41 1516.5 L1218.33 1516.5 L1218.33 1524.97 Q1219.35 1524.62 1220.37 1524.46 Q1221.39 1524.27 1222.41 1524.27 Q1228.19 1524.27 1231.57 1527.44 Q1234.95 1530.62 1234.95 1536.03 Q1234.95 1541.61 1231.48 1544.71 Q1228.01 1547.79 1221.69 1547.79 Q1219.51 1547.79 1217.24 1547.42 Q1215 1547.05 1212.59 1546.31 L1212.59 1541.61 Q1214.67 1542.74 1216.9 1543.3 Q1219.12 1543.86 1221.6 1543.86 Q1225.6 1543.86 1227.94 1541.75 Q1230.28 1539.64 1230.28 1536.03 Q1230.28 1532.42 1227.94 1530.31 Q1225.6 1528.21 1221.6 1528.21 Q1219.72 1528.21 1217.85 1528.62 Q1215.99 1529.04 1214.05 1529.92 L1214.05 1512.56 Z\" fill=\"#000000\" fill-rule=\"evenodd\" fill-opacity=\"1\" /><path clip-path=\"url(#clip430)\" d=\"M 0 0 M1552.32 1543.18 L1568.63 1543.18 L1568.63 1547.12 L1546.69 1547.12 L1546.69 1543.18 Q1549.35 1540.43 1553.94 1535.8 Q1558.54 1531.15 1559.72 1529.81 Q1561.97 1527.28 1562.85 1525.55 Q1563.75 1523.79 1563.75 1522.1 Q1563.75 1519.34 1561.81 1517.61 Q1559.88 1515.87 1556.78 1515.87 Q1554.58 1515.87 1552.13 1516.63 Q1549.7 1517.4 1546.92 1518.95 L1546.92 1514.23 Q1549.75 1513.09 1552.2 1512.51 Q1554.65 1511.93 1556.69 1511.93 Q1562.06 1511.93 1565.25 1514.62 Q1568.45 1517.31 1568.45 1521.8 Q1568.45 1523.93 1567.64 1525.85 Q1566.85 1527.74 1564.75 1530.34 Q1564.17 1531.01 1561.07 1534.23 Q1557.96 1537.42 1552.32 1543.18 Z\" fill=\"#000000\" fill-rule=\"evenodd\" fill-opacity=\"1\" /><path clip-path=\"url(#clip430)\" d=\"M 0 0 M1583.7 1515.64 Q1580.09 1515.64 1578.26 1519.2 Q1576.46 1522.75 1576.46 1529.87 Q1576.46 1536.98 1578.26 1540.55 Q1580.09 1544.09 1583.7 1544.09 Q1587.34 1544.09 1589.14 1540.55 Q1590.97 1536.98 1590.97 1529.87 Q1590.97 1522.75 1589.14 1519.2 Q1587.34 1515.64 1583.7 1515.64 M1583.7 1511.93 Q1589.51 1511.93 1592.57 1516.54 Q1595.65 1521.12 1595.65 1529.87 Q1595.65 1538.6 1592.57 1543.21 Q1589.51 1547.79 1583.7 1547.79 Q1577.89 1547.79 1574.82 1543.21 Q1571.76 1538.6 1571.76 1529.87 Q1571.76 1521.12 1574.82 1516.54 Q1577.89 1511.93 1583.7 1511.93 Z\" fill=\"#000000\" fill-rule=\"evenodd\" fill-opacity=\"1\" /><path clip-path=\"url(#clip430)\" d=\"M 0 0 M1912.33 1543.18 L1928.65 1543.18 L1928.65 1547.12 L1906.7 1547.12 L1906.7 1543.18 Q1909.37 1540.43 1913.95 1535.8 Q1918.56 1531.15 1919.74 1529.81 Q1921.98 1527.28 1922.86 1525.55 Q1923.76 1523.79 1923.76 1522.1 Q1923.76 1519.34 1921.82 1517.61 Q1919.9 1515.87 1916.8 1515.87 Q1914.6 1515.87 1912.14 1516.63 Q1909.71 1517.4 1906.93 1518.95 L1906.93 1514.23 Q1909.76 1513.09 1912.21 1512.51 Q1914.67 1511.93 1916.7 1511.93 Q1922.07 1511.93 1925.27 1514.62 Q1928.46 1517.31 1928.46 1521.8 Q1928.46 1523.93 1927.65 1525.85 Q1926.87 1527.74 1924.76 1530.34 Q1924.18 1531.01 1921.08 1534.23 Q1917.98 1537.42 1912.33 1543.18 Z\" fill=\"#000000\" fill-rule=\"evenodd\" fill-opacity=\"1\" /><path clip-path=\"url(#clip430)\" d=\"M 0 0 M1933.76 1512.56 L1952.12 1512.56 L1952.12 1516.5 L1938.05 1516.5 L1938.05 1524.97 Q1939.06 1524.62 1940.08 1524.46 Q1941.1 1524.27 1942.12 1524.27 Q1947.91 1524.27 1951.29 1527.44 Q1954.67 1530.62 1954.67 1536.03 Q1954.67 1541.61 1951.19 1544.71 Q1947.72 1547.79 1941.4 1547.79 Q1939.23 1547.79 1936.96 1547.42 Q1934.71 1547.05 1932.31 1546.31 L1932.31 1541.61 Q1934.39 1542.74 1936.61 1543.3 Q1938.83 1543.86 1941.31 1543.86 Q1945.31 1543.86 1947.65 1541.75 Q1949.99 1539.64 1949.99 1536.03 Q1949.99 1532.42 1947.65 1530.31 Q1945.31 1528.21 1941.31 1528.21 Q1939.43 1528.21 1937.56 1528.62 Q1935.71 1529.04 1933.76 1529.92 L1933.76 1512.56 Z\" fill=\"#000000\" fill-rule=\"evenodd\" fill-opacity=\"1\" /><path clip-path=\"url(#clip430)\" d=\"M 0 0 M2280.94 1528.49 Q2284.3 1529.2 2286.17 1531.47 Q2288.07 1533.74 2288.07 1537.07 Q2288.07 1542.19 2284.55 1544.99 Q2281.03 1547.79 2274.55 1547.79 Q2272.38 1547.79 2270.06 1547.35 Q2267.77 1546.93 2265.32 1546.08 L2265.32 1541.56 Q2267.26 1542.7 2269.58 1543.28 Q2271.89 1543.86 2274.41 1543.86 Q2278.81 1543.86 2281.1 1542.12 Q2283.42 1540.38 2283.42 1537.07 Q2283.42 1534.02 2281.27 1532.31 Q2279.14 1530.57 2275.32 1530.57 L2271.29 1530.57 L2271.29 1526.73 L2275.5 1526.73 Q2278.95 1526.73 2280.78 1525.36 Q2282.61 1523.97 2282.61 1521.38 Q2282.61 1518.72 2280.71 1517.31 Q2278.83 1515.87 2275.32 1515.87 Q2273.39 1515.87 2271.2 1516.29 Q2269 1516.7 2266.36 1517.58 L2266.36 1513.42 Q2269.02 1512.68 2271.33 1512.31 Q2273.67 1511.93 2275.73 1511.93 Q2281.06 1511.93 2284.16 1514.37 Q2287.26 1516.77 2287.26 1520.89 Q2287.26 1523.76 2285.62 1525.75 Q2283.97 1527.72 2280.94 1528.49 Z\" fill=\"#000000\" fill-rule=\"evenodd\" fill-opacity=\"1\" /><path clip-path=\"url(#clip430)\" d=\"M 0 0 M2303.14 1515.64 Q2299.53 1515.64 2297.7 1519.2 Q2295.89 1522.75 2295.89 1529.87 Q2295.89 1536.98 2297.7 1540.55 Q2299.53 1544.09 2303.14 1544.09 Q2306.77 1544.09 2308.58 1540.55 Q2310.41 1536.98 2310.41 1529.87 Q2310.41 1522.75 2308.58 1519.2 Q2306.77 1515.64 2303.14 1515.64 M2303.14 1511.93 Q2308.95 1511.93 2312.01 1516.54 Q2315.08 1521.12 2315.08 1529.87 Q2315.08 1538.6 2312.01 1543.21 Q2308.95 1547.79 2303.14 1547.79 Q2297.33 1547.79 2294.25 1543.21 Q2291.2 1538.6 2291.2 1529.87 Q2291.2 1521.12 2294.25 1516.54 Q2297.33 1511.93 2303.14 1511.93 Z\" fill=\"#000000\" fill-rule=\"evenodd\" fill-opacity=\"1\" /><polyline clip-path=\"url(#clip432)\" style=\"stroke:#000000; stroke-width:2; stroke-opacity:0.1; fill:none\" points=\"\n",
       "  142.455,1185.84 2352.76,1185.84 \n",
       "  \"/>\n",
       "<polyline clip-path=\"url(#clip432)\" style=\"stroke:#000000; stroke-width:2; stroke-opacity:0.1; fill:none\" points=\"\n",
       "  142.455,819.884 2352.76,819.884 \n",
       "  \"/>\n",
       "<polyline clip-path=\"url(#clip432)\" style=\"stroke:#000000; stroke-width:2; stroke-opacity:0.1; fill:none\" points=\"\n",
       "  142.455,453.93 2352.76,453.93 \n",
       "  \"/>\n",
       "<polyline clip-path=\"url(#clip432)\" style=\"stroke:#000000; stroke-width:2; stroke-opacity:0.1; fill:none\" points=\"\n",
       "  142.455,87.9763 2352.76,87.9763 \n",
       "  \"/>\n",
       "<polyline clip-path=\"url(#clip430)\" style=\"stroke:#000000; stroke-width:4; stroke-opacity:1; fill:none\" points=\"\n",
       "  142.455,1486.45 142.455,47.2441 \n",
       "  \"/>\n",
       "<polyline clip-path=\"url(#clip430)\" style=\"stroke:#000000; stroke-width:4; stroke-opacity:1; fill:none\" points=\"\n",
       "  142.455,1185.84 168.978,1185.84 \n",
       "  \"/>\n",
       "<polyline clip-path=\"url(#clip430)\" style=\"stroke:#000000; stroke-width:4; stroke-opacity:1; fill:none\" points=\"\n",
       "  142.455,819.884 168.978,819.884 \n",
       "  \"/>\n",
       "<polyline clip-path=\"url(#clip430)\" style=\"stroke:#000000; stroke-width:4; stroke-opacity:1; fill:none\" points=\"\n",
       "  142.455,453.93 168.978,453.93 \n",
       "  \"/>\n",
       "<polyline clip-path=\"url(#clip430)\" style=\"stroke:#000000; stroke-width:4; stroke-opacity:1; fill:none\" points=\"\n",
       "  142.455,87.9763 168.978,87.9763 \n",
       "  \"/>\n",
       "<path clip-path=\"url(#clip430)\" d=\"M 0 0 M50.9921 1186.29 L80.6679 1186.29 L80.6679 1190.22 L50.9921 1190.22 L50.9921 1186.29 Z\" fill=\"#000000\" fill-rule=\"evenodd\" fill-opacity=\"1\" /><path clip-path=\"url(#clip430)\" d=\"M 0 0 M86.5475 1199.18 L94.1863 1199.18 L94.1863 1172.82 L85.8762 1174.48 L85.8762 1170.22 L94.14 1168.56 L98.8159 1168.56 L98.8159 1199.18 L106.455 1199.18 L106.455 1203.12 L86.5475 1203.12 L86.5475 1199.18 Z\" fill=\"#000000\" fill-rule=\"evenodd\" fill-opacity=\"1\" /><path clip-path=\"url(#clip430)\" d=\"M 0 0 M94.5104 805.682 Q90.8993 805.682 89.0706 809.247 Q87.2651 812.789 87.2651 819.918 Q87.2651 827.025 89.0706 830.59 Q90.8993 834.131 94.5104 834.131 Q98.1447 834.131 99.9502 830.59 Q101.779 827.025 101.779 819.918 Q101.779 812.789 99.9502 809.247 Q98.1447 805.682 94.5104 805.682 M94.5104 801.979 Q100.321 801.979 103.376 806.585 Q106.455 811.168 106.455 819.918 Q106.455 828.645 103.376 833.252 Q100.321 837.835 94.5104 837.835 Q88.7003 837.835 85.6216 833.252 Q82.566 828.645 82.566 819.918 Q82.566 811.168 85.6216 806.585 Q88.7003 801.979 94.5104 801.979 Z\" fill=\"#000000\" fill-rule=\"evenodd\" fill-opacity=\"1\" /><path clip-path=\"url(#clip430)\" d=\"M 0 0 M86.5475 467.275 L94.1863 467.275 L94.1863 440.909 L85.8762 442.576 L85.8762 438.317 L94.14 436.65 L98.8159 436.65 L98.8159 467.275 L106.455 467.275 L106.455 471.21 L86.5475 471.21 L86.5475 467.275 Z\" fill=\"#000000\" fill-rule=\"evenodd\" fill-opacity=\"1\" /><path clip-path=\"url(#clip430)\" d=\"M 0 0 M90.1354 101.321 L106.455 101.321 L106.455 105.256 L84.5105 105.256 L84.5105 101.321 Q87.1725 98.5665 91.7558 93.9369 Q96.3623 89.2841 97.5428 87.9416 Q99.7882 85.4184 100.668 83.6823 Q101.571 81.9231 101.571 80.2333 Q101.571 77.4786 99.6261 75.7425 Q97.7048 74.0064 94.603 74.0064 Q92.4039 74.0064 89.9503 74.7703 Q87.5197 75.5342 84.7419 77.0851 L84.7419 72.3629 Q87.566 71.2287 90.0197 70.65 Q92.4734 70.0713 94.5104 70.0713 Q99.8808 70.0713 103.075 72.7565 Q106.27 75.4416 106.27 79.9323 Q106.27 82.062 105.459 83.9832 Q104.672 85.8814 102.566 88.474 Q101.987 89.1453 98.8854 92.3628 Q95.7836 95.5573 90.1354 101.321 Z\" fill=\"#000000\" fill-rule=\"evenodd\" fill-opacity=\"1\" /><polyline clip-path=\"url(#clip432)\" style=\"stroke:#009af9; stroke-width:4; stroke-opacity:1; fill:none\" points=\"\n",
       "  205.01,87.9763 276.914,107.554 348.817,182.473 420.72,366.697 492.623,608.682 564.526,849.124 636.429,1076.45 708.332,1274.71 780.235,1402.14 852.138,1445.72 \n",
       "  924.041,1445.21 995.945,1436.17 1067.85,1423.54 1139.75,1388.1 1211.65,1305.89 1283.56,1178.83 1355.46,1031.26 1427.36,883.331 1499.27,740.529 1571.17,603.751 \n",
       "  1643.07,478.854 1714.98,379.411 1786.88,317.741 1858.78,292.029 1930.68,288.374 2002.59,292.795 2074.49,298.343 2146.39,305.032 2218.3,318.446 2290.2,347.021 \n",
       "  \n",
       "  \"/>\n",
       "<polyline clip-path=\"url(#clip432)\" style=\"stroke:#e26f46; stroke-width:4; stroke-opacity:1; fill:none\" points=\"\n",
       "  205.01,819.884 276.914,527.548 348.817,283.859 420.72,157.957 492.623,137.507 564.526,147.957 636.429,163.084 708.332,211.67 780.235,332.424 852.138,510.355 \n",
       "  924.041,701.53 995.945,886.388 1067.85,1062.23 1139.75,1218.81 1211.65,1331.68 1283.56,1386.13 1355.46,1397.97 1427.36,1393.14 1499.27,1385.99 1571.17,1376.06 \n",
       "  1643.07,1352.09 1714.98,1299.17 1786.88,1212.93 1858.78,1104.52 1930.68,988.409 2002.59,873.601 2074.49,762.285 2146.39,654.699 2218.3,553.214 2290.2,464.141 \n",
       "  \n",
       "  \"/>\n",
       "<path clip-path=\"url(#clip430)\" d=\"\n",
       "M1982.47 276.658 L2279.08 276.658 L2279.08 95.2176 L1982.47 95.2176  Z\n",
       "  \" fill=\"#ffffff\" fill-rule=\"evenodd\" fill-opacity=\"1\"/>\n",
       "<polyline clip-path=\"url(#clip430)\" style=\"stroke:#000000; stroke-width:4; stroke-opacity:1; fill:none\" points=\"\n",
       "  1982.47,276.658 2279.08,276.658 2279.08,95.2176 1982.47,95.2176 1982.47,276.658 \n",
       "  \"/>\n",
       "<polyline clip-path=\"url(#clip430)\" style=\"stroke:#009af9; stroke-width:4; stroke-opacity:1; fill:none\" points=\"\n",
       "  2007.03,155.698 2154.38,155.698 \n",
       "  \"/>\n",
       "<path clip-path=\"url(#clip430)\" d=\"M 0 0 M2192.79 175.385 Q2190.98 180.015 2189.27 181.427 Q2187.55 182.839 2184.68 182.839 L2181.28 182.839 L2181.28 179.274 L2183.78 179.274 Q2185.54 179.274 2186.51 178.44 Q2187.48 177.607 2188.67 174.505 L2189.43 172.561 L2178.94 147.052 L2183.46 147.052 L2191.56 167.329 L2199.66 147.052 L2204.17 147.052 L2192.79 175.385 Z\" fill=\"#000000\" fill-rule=\"evenodd\" fill-opacity=\"1\" /><path clip-path=\"url(#clip430)\" d=\"M 0 0 M2210.05 169.042 L2217.69 169.042 L2217.69 142.677 L2209.38 144.343 L2209.38 140.084 L2217.65 138.418 L2222.32 138.418 L2222.32 169.042 L2229.96 169.042 L2229.96 172.978 L2210.05 172.978 L2210.05 169.042 Z\" fill=\"#000000\" fill-rule=\"evenodd\" fill-opacity=\"1\" /><polyline clip-path=\"url(#clip430)\" style=\"stroke:#e26f46; stroke-width:4; stroke-opacity:1; fill:none\" points=\"\n",
       "  2007.03,216.178 2154.38,216.178 \n",
       "  \"/>\n",
       "<path clip-path=\"url(#clip430)\" d=\"M 0 0 M2192.79 235.865 Q2190.98 240.495 2189.27 241.907 Q2187.55 243.319 2184.68 243.319 L2181.28 243.319 L2181.28 239.754 L2183.78 239.754 Q2185.54 239.754 2186.51 238.92 Q2187.48 238.087 2188.67 234.985 L2189.43 233.041 L2178.94 207.532 L2183.46 207.532 L2191.56 227.809 L2199.66 207.532 L2204.17 207.532 L2192.79 235.865 Z\" fill=\"#000000\" fill-rule=\"evenodd\" fill-opacity=\"1\" /><path clip-path=\"url(#clip430)\" d=\"M 0 0 M2213.27 229.522 L2229.59 229.522 L2229.59 233.458 L2207.65 233.458 L2207.65 229.522 Q2210.31 226.768 2214.89 222.138 Q2219.5 217.485 2220.68 216.143 Q2222.92 213.62 2223.8 211.884 Q2224.71 210.124 2224.71 208.435 Q2224.71 205.68 2222.76 203.944 Q2220.84 202.208 2217.74 202.208 Q2215.54 202.208 2213.09 202.972 Q2210.66 203.735 2207.88 205.286 L2207.88 200.564 Q2210.7 199.43 2213.16 198.851 Q2215.61 198.273 2217.65 198.273 Q2223.02 198.273 2226.21 200.958 Q2229.41 203.643 2229.41 208.134 Q2229.41 210.263 2228.6 212.185 Q2227.81 214.083 2225.7 216.675 Q2225.12 217.347 2222.02 220.564 Q2218.92 223.759 2213.27 229.522 Z\" fill=\"#000000\" fill-rule=\"evenodd\" fill-opacity=\"1\" /></svg>\n"
      ]
     },
     "execution_count": 3,
     "metadata": {},
     "output_type": "execute_result"
    }
   ],
   "source": [
    "plot(ode_data')"
   ]
  },
  {
   "cell_type": "markdown",
   "id": "analyzed-platform",
   "metadata": {},
   "source": [
    "We will use a so-called *knowledge-infused approach*; that is to say, we assume that we knew the ODE had cubic behaviour. We can attempt to encode that physical information into a dense NN as:"
   ]
  },
  {
   "cell_type": "code",
   "execution_count": 4,
   "id": "incorporate-friendly",
   "metadata": {},
   "outputs": [
    {
     "data": {
      "text/plain": [
       "Chain(#1, Dense(2, 50, tanh), Dense(50, 2))"
      ]
     },
     "execution_count": 4,
     "metadata": {},
     "output_type": "execute_result"
    }
   ],
   "source": [
    "# build a NN\n",
    "dudt = Chain(\n",
    "    x -> x.^3,\n",
    "    Dense(2, 50, tanh),\n",
    "    Dense(50, 2)\n",
    ")"
   ]
  },
  {
   "cell_type": "markdown",
   "id": "advised-plaza",
   "metadata": {},
   "source": [
    "To train this network we will make use of `Flux.destructure` and `Flux.restructure`, allowing us to take the parameters out of a NN into a vector, and similarly rebuild a NN from a parameter vector. \n",
    "\n",
    "Using these, we define the ODE:"
   ]
  },
  {
   "cell_type": "code",
   "execution_count": 5,
   "id": "parental-shower",
   "metadata": {},
   "outputs": [
    {
     "data": {
      "text/plain": [
       "\u001b[36mODEProblem\u001b[0m with uType \u001b[36mArray{Float32,1}\u001b[0m and tType \u001b[36mFloat32\u001b[0m. In-place: \u001b[36mfalse\u001b[0m\n",
       "timespan: (0.0f0, 1.5f0)\n",
       "u0: Float32[2.0, 0.0]"
      ]
     },
     "execution_count": 5,
     "metadata": {},
     "output_type": "execute_result"
    }
   ],
   "source": [
    "p, re = Flux.destructure(dudt)\n",
    "dudt2_(u, p, t) = re(p)(u)\n",
    "prob2 = ODEProblem(dudt2_, u0, tspan, p)"
   ]
  },
  {
   "cell_type": "markdown",
   "id": "enabling-disaster",
   "metadata": {},
   "source": [
    "This is equivalent to\n",
    "\n",
    "$$u^\\prime = \\text{NN}(u)$$\n",
    "\n",
    "where the parameters are the parameters of the NN. We then use the same structure as before to train the network to reconstruct the ODE:\n"
   ]
  },
  {
   "cell_type": "code",
   "execution_count": 8,
   "id": "actual-exemption",
   "metadata": {},
   "outputs": [
    {
     "name": "stdout",
     "output_type": "stream",
     "text": [
      "loss_n_ode() = 29.69478f0\n",
      "loss_n_ode() = 2.3718061f0\n",
      "loss_n_ode() = 0.373772f0\n",
      "loss_n_ode() = 0.23584473f0\n",
      "loss_n_ode() = 0.22166325f0\n",
      "loss_n_ode() = 0.25662896f0\n"
     ]
    },
    {
     "data": {
      "text/plain": [
       "\"Done\""
      ]
     },
     "execution_count": 8,
     "metadata": {},
     "output_type": "execute_result"
    }
   ],
   "source": [
    "function predict_n_ode()\n",
    "    Array(concrete_solve(prob2, Tsit5(), u0, p, saveat=t))\n",
    "end\n",
    "\n",
    "loss_n_ode() = sum(abs2, ode_data .- predict_n_ode())\n",
    "\n",
    "\n",
    "data = Iterators.repeated((), 300)\n",
    "opt = ADAM(0.1)\n",
    "\n",
    "training_plots = []\n",
    "iter = 0\n",
    "\n",
    "callback = function()\n",
    "    global iter += 1\n",
    "    if iter % 50 == 0\n",
    "        @show loss_n_ode()\n",
    "\n",
    "        cur_pred = predict_n_ode()\n",
    "        pl = Plots.scatter(t, ode_data[1,:], label=\"data\")\n",
    "        Plots.scatter!(pl, t, cur_pred[1,:], label=\"prediction\")\n",
    "        push!(training_plots, plot(pl))\n",
    "    end\n",
    "end\n",
    "\n",
    "ps = Flux.params(p)\n",
    "Flux.train!(loss_n_ode, ps, data, opt, cb=callback)\n",
    "\"Done\""
   ]
  },
  {
   "cell_type": "markdown",
   "id": "executive-concord",
   "metadata": {},
   "source": [
    "We can then view our plots:"
   ]
  },
  {
   "cell_type": "code",
   "execution_count": 9,
   "id": "complicated-disco",
   "metadata": {},
   "outputs": [
    {
     "data": {
      "application/vnd.webio.node+json": {
       "children": [
        {
         "children": [
          {
           "children": [
            {
             "children": [
              {
               "children": [
                {
                 "children": [
                  "i"
                 ],
                 "instanceArgs": {
                  "namespace": "html",
                  "tag": "label"
                 },
                 "nodeType": "DOM",
                 "props": {
                  "className": "interact ",
                  "style": {
                   "padding": "5px 10px 0px 10px"
                  }
                 },
                 "type": "node"
                }
               ],
               "instanceArgs": {
                "namespace": "html",
                "tag": "div"
               },
               "nodeType": "DOM",
               "props": {
                "className": "interact-flex-row-left"
               },
               "type": "node"
              },
              {
               "children": [
                {
                 "children": [],
                 "instanceArgs": {
                  "namespace": "html",
                  "tag": "input"
                 },
                 "nodeType": "DOM",
                 "props": {
                  "attributes": {
                   "data-bind": "numericValue: index, valueUpdate: 'input', event: {change: function (){this.changes(this.changes()+1)}}",
                   "orient": "horizontal",
                   "type": "range"
                  },
                  "className": "slider slider is-fullwidth",
                  "max": 6,
                  "min": 1,
                  "step": 1,
                  "style": {}
                 },
                 "type": "node"
                }
               ],
               "instanceArgs": {
                "namespace": "html",
                "tag": "div"
               },
               "nodeType": "DOM",
               "props": {
                "className": "interact-flex-row-center"
               },
               "type": "node"
              },
              {
               "children": [
                {
                 "children": [],
                 "instanceArgs": {
                  "namespace": "html",
                  "tag": "p"
                 },
                 "nodeType": "DOM",
                 "props": {
                  "attributes": {
                   "data-bind": "text: formatted_val"
                  }
                 },
                 "type": "node"
                }
               ],
               "instanceArgs": {
                "namespace": "html",
                "tag": "div"
               },
               "nodeType": "DOM",
               "props": {
                "className": "interact-flex-row-right"
               },
               "type": "node"
              }
             ],
             "instanceArgs": {
              "namespace": "html",
              "tag": "div"
             },
             "nodeType": "DOM",
             "props": {
              "className": "interact-flex-row interact-widget"
             },
             "type": "node"
            }
           ],
           "instanceArgs": {
            "handlers": {
             "changes": [
              "(function (val){return (val!=this.model[\"changes\"]()) ? (this.valueFromJulia[\"changes\"]=true, this.model[\"changes\"](val)) : undefined})"
             ],
             "index": [
              "(function (val){return (val!=this.model[\"index\"]()) ? (this.valueFromJulia[\"index\"]=true, this.model[\"index\"](val)) : undefined})"
             ]
            },
            "id": "8215165378425474949",
            "imports": {
             "data": [
              {
               "name": "knockout",
               "type": "js",
               "url": "/assetserver/a1995f9644994451050a3199eedb89075202ec41-knockout.js"
              },
              {
               "name": "knockout_punches",
               "type": "js",
               "url": "/assetserver/1e1d754682eadb2e820ab28b3359a7fed5f2d9ad-knockout_punches.js"
              },
              {
               "name": null,
               "type": "js",
               "url": "/assetserver/e5c5e6a824bee86bda289d965c12fa4e4568cfe1-all.js"
              },
              {
               "name": null,
               "type": "css",
               "url": "/assetserver/49d1f51e5cc9da94661420160a768a1833b4c92e-style.css"
              },
              {
               "name": null,
               "type": "css",
               "url": "/assetserver/a16dc09dc5c818d229cd5bc528c914d256dfa1c0-bulma_confined.min.css"
              }
             ],
             "type": "async_block"
            },
            "mount_callbacks": [
             "function () {\n    var handler = (function (ko, koPunches) {\n    ko.punches.enableAll();\n    ko.bindingHandlers.numericValue = {\n        init: function(element, valueAccessor, allBindings, data, context) {\n            var stringified = ko.observable(ko.unwrap(valueAccessor()));\n            stringified.subscribe(function(value) {\n                var val = parseFloat(value);\n                if (!isNaN(val)) {\n                    valueAccessor()(val);\n                }\n            });\n            valueAccessor().subscribe(function(value) {\n                var str = JSON.stringify(value);\n                if ((str == \"0\") && ([\"-0\", \"-0.\"].indexOf(stringified()) >= 0))\n                     return;\n                 if ([\"null\", \"\"].indexOf(str) >= 0)\n                     return;\n                stringified(str);\n            });\n            ko.applyBindingsToNode(\n                element,\n                {\n                    value: stringified,\n                    valueUpdate: allBindings.get('valueUpdate'),\n                },\n                context,\n            );\n        }\n    };\n    var json_data = {\"formatted_vals\":[\"1\",\"2\",\"3\",\"4\",\"5\",\"6\"],\"changes\":WebIO.getval({\"name\":\"changes\",\"scope\":\"8215165378425474949\",\"id\":\"11639389805613208899\",\"type\":\"observable\"}),\"index\":WebIO.getval({\"name\":\"index\",\"scope\":\"8215165378425474949\",\"id\":\"9051601779410436132\",\"type\":\"observable\"})};\n    var self = this;\n    function AppViewModel() {\n        for (var key in json_data) {\n            var el = json_data[key];\n            this[key] = Array.isArray(el) ? ko.observableArray(el) : ko.observable(el);\n        }\n        \n        [this[\"formatted_val\"]=ko.computed(    function(){\n        return this.formatted_vals()[parseInt(this.index())-(1)];\n    }\n,this)]\n        [this[\"changes\"].subscribe((function (val){!(this.valueFromJulia[\"changes\"]) ? (WebIO.setval({\"name\":\"changes\",\"scope\":\"8215165378425474949\",\"id\":\"11639389805613208899\",\"type\":\"observable\"},val)) : undefined; return this.valueFromJulia[\"changes\"]=false}),self),this[\"index\"].subscribe((function (val){!(this.valueFromJulia[\"index\"]) ? (WebIO.setval({\"name\":\"index\",\"scope\":\"8215165378425474949\",\"id\":\"9051601779410436132\",\"type\":\"observable\"},val)) : undefined; return this.valueFromJulia[\"index\"]=false}),self)]\n        \n    }\n    self.model = new AppViewModel();\n    self.valueFromJulia = {};\n    for (var key in json_data) {\n        self.valueFromJulia[key] = false;\n    }\n    ko.applyBindings(self.model, self.dom);\n}\n);\n    (WebIO.importBlock({\"data\":[{\"name\":\"knockout\",\"type\":\"js\",\"url\":\"/assetserver/a1995f9644994451050a3199eedb89075202ec41-knockout.js\"},{\"name\":\"knockout_punches\",\"type\":\"js\",\"url\":\"/assetserver/1e1d754682eadb2e820ab28b3359a7fed5f2d9ad-knockout_punches.js\"}],\"type\":\"async_block\"})).then((imports) => handler.apply(this, imports));\n}\n"
            ],
            "observables": {
             "changes": {
              "id": "11639389805613208899",
              "sync": false,
              "value": 0
             },
             "index": {
              "id": "9051601779410436132",
              "sync": true,
              "value": 3
             }
            },
            "systemjs_options": null
           },
           "nodeType": "Scope",
           "props": {},
           "type": "node"
          }
         ],
         "instanceArgs": {
          "namespace": "html",
          "tag": "div"
         },
         "nodeType": "DOM",
         "props": {
          "className": "field interact-widget"
         },
         "type": "node"
        },
        {
         "children": [
          {
           "children": [],
           "instanceArgs": {
            "id": "8422732214669810737",
            "name": "obs-node"
           },
           "nodeType": "ObservableNode",
           "props": {},
           "type": "node"
          }
         ],
         "instanceArgs": {
          "handlers": {},
          "id": "14436831577831865231",
          "imports": {
           "data": [],
           "type": "async_block"
          },
          "mount_callbacks": [],
          "observables": {
           "obs-node": {
            "id": "8422732214669810737",
            "sync": false,
            "value": {
             "children": [
              {
               "children": [],
               "instanceArgs": {
                "namespace": "html",
                "tag": "div"
               },
               "nodeType": "DOM",
               "props": {
                "setInnerHtml": "<?xml version=\"1.0\" encoding=\"utf-8\"?>\n<svg xmlns=\"http://www.w3.org/2000/svg\" xmlns:xlink=\"http://www.w3.org/1999/xlink\" width=\"600\" height=\"400\" viewBox=\"0 0 2400 1600\">\n<defs>\n  <clipPath id=\"clip510\">\n    <rect x=\"0\" y=\"0\" width=\"2400\" height=\"1600\"/>\n  </clipPath>\n</defs>\n<path clip-path=\"url(#clip510)\" d=\"\nM0 1600 L2400 1600 L2400 0 L0 0  Z\n  \" fill=\"#ffffff\" fill-rule=\"evenodd\" fill-opacity=\"1\"/>\n<defs>\n  <clipPath id=\"clip511\">\n    <rect x=\"480\" y=\"0\" width=\"1681\" height=\"1600\"/>\n  </clipPath>\n</defs>\n<path clip-path=\"url(#clip510)\" d=\"\nM142.455 1486.45 L2352.76 1486.45 L2352.76 47.2441 L142.455 47.2441  Z\n  \" fill=\"#ffffff\" fill-rule=\"evenodd\" fill-opacity=\"1\"/>\n<defs>\n  <clipPath id=\"clip512\">\n    <rect x=\"142\" y=\"47\" width=\"2211\" height=\"1440\"/>\n  </clipPath>\n</defs>\n<polyline clip-path=\"url(#clip512)\" style=\"stroke:#000000; stroke-width:2; stroke-opacity:0.1; fill:none\" points=\"\n  205.01,1486.45 205.01,47.2441 \n  \"/>\n<polyline clip-path=\"url(#clip512)\" style=\"stroke:#000000; stroke-width:2; stroke-opacity:0.1; fill:none\" points=\"\n  900.074,1486.45 900.074,47.2441 \n  \"/>\n<polyline clip-path=\"url(#clip512)\" style=\"stroke:#000000; stroke-width:2; stroke-opacity:0.1; fill:none\" points=\"\n  1595.14,1486.45 1595.14,47.2441 \n  \"/>\n<polyline clip-path=\"url(#clip512)\" style=\"stroke:#000000; stroke-width:2; stroke-opacity:0.1; fill:none\" points=\"\n  2290.2,1486.45 2290.2,47.2441 \n  \"/>\n<polyline clip-path=\"url(#clip510)\" style=\"stroke:#000000; stroke-width:4; stroke-opacity:1; fill:none\" points=\"\n  142.455,1486.45 2352.76,1486.45 \n  \"/>\n<polyline clip-path=\"url(#clip510)\" style=\"stroke:#000000; stroke-width:4; stroke-opacity:1; fill:none\" points=\"\n  205.01,1486.45 205.01,1469.18 \n  \"/>\n<polyline clip-path=\"url(#clip510)\" style=\"stroke:#000000; stroke-width:4; stroke-opacity:1; fill:none\" points=\"\n  900.074,1486.45 900.074,1469.18 \n  \"/>\n<polyline clip-path=\"url(#clip510)\" style=\"stroke:#000000; stroke-width:4; stroke-opacity:1; fill:none\" points=\"\n  1595.14,1486.45 1595.14,1469.18 \n  \"/>\n<polyline clip-path=\"url(#clip510)\" style=\"stroke:#000000; stroke-width:4; stroke-opacity:1; fill:none\" points=\"\n  2290.2,1486.45 2290.2,1469.18 \n  \"/>\n<path clip-path=\"url(#clip510)\" d=\"M 0 0 M186.527 1515.64 Q182.916 1515.64 181.087 1519.2 Q179.281 1522.75 179.281 1529.87 Q179.281 1536.98 181.087 1540.55 Q182.916 1544.09 186.527 1544.09 Q190.161 1544.09 191.967 1540.55 Q193.795 1536.98 193.795 1529.87 Q193.795 1522.75 191.967 1519.2 Q190.161 1515.64 186.527 1515.64 M186.527 1511.93 Q192.337 1511.93 195.392 1516.54 Q198.471 1521.12 198.471 1529.87 Q198.471 1538.6 195.392 1543.21 Q192.337 1547.79 186.527 1547.79 Q180.717 1547.79 177.638 1543.21 Q174.582 1538.6 174.582 1529.87 Q174.582 1521.12 177.638 1516.54 Q180.717 1511.93 186.527 1511.93 Z\" fill=\"#000000\" fill-rule=\"evenodd\" fill-opacity=\"1\" /><path clip-path=\"url(#clip510)\" d=\"M 0 0 M203.541 1541.24 L208.425 1541.24 L208.425 1547.12 L203.541 1547.12 L203.541 1541.24 Z\" fill=\"#000000\" fill-rule=\"evenodd\" fill-opacity=\"1\" /><path clip-path=\"url(#clip510)\" d=\"M 0 0 M223.494 1515.64 Q219.883 1515.64 218.054 1519.2 Q216.249 1522.75 216.249 1529.87 Q216.249 1536.98 218.054 1540.55 Q219.883 1544.09 223.494 1544.09 Q227.128 1544.09 228.934 1540.55 Q230.763 1536.98 230.763 1529.87 Q230.763 1522.75 228.934 1519.2 Q227.128 1515.64 223.494 1515.64 M223.494 1511.93 Q229.304 1511.93 232.36 1516.54 Q235.439 1521.12 235.439 1529.87 Q235.439 1538.6 232.36 1543.21 Q229.304 1547.79 223.494 1547.79 Q217.684 1547.79 214.605 1543.21 Q211.55 1538.6 211.55 1529.87 Q211.55 1521.12 214.605 1516.54 Q217.684 1511.93 223.494 1511.93 Z\" fill=\"#000000\" fill-rule=\"evenodd\" fill-opacity=\"1\" /><path clip-path=\"url(#clip510)\" d=\"M 0 0 M882.088 1515.64 Q878.477 1515.64 876.648 1519.2 Q874.842 1522.75 874.842 1529.87 Q874.842 1536.98 876.648 1540.55 Q878.477 1544.09 882.088 1544.09 Q885.722 1544.09 887.527 1540.55 Q889.356 1536.98 889.356 1529.87 Q889.356 1522.75 887.527 1519.2 Q885.722 1515.64 882.088 1515.64 M882.088 1511.93 Q887.898 1511.93 890.953 1516.54 Q894.032 1521.12 894.032 1529.87 Q894.032 1538.6 890.953 1543.21 Q887.898 1547.79 882.088 1547.79 Q876.278 1547.79 873.199 1543.21 Q870.143 1538.6 870.143 1529.87 Q870.143 1521.12 873.199 1516.54 Q876.278 1511.93 882.088 1511.93 Z\" fill=\"#000000\" fill-rule=\"evenodd\" fill-opacity=\"1\" /><path clip-path=\"url(#clip510)\" d=\"M 0 0 M899.102 1541.24 L903.986 1541.24 L903.986 1547.12 L899.102 1547.12 L899.102 1541.24 Z\" fill=\"#000000\" fill-rule=\"evenodd\" fill-opacity=\"1\" /><path clip-path=\"url(#clip510)\" d=\"M 0 0 M909.101 1512.56 L927.458 1512.56 L927.458 1516.5 L913.384 1516.5 L913.384 1524.97 Q914.402 1524.62 915.421 1524.46 Q916.439 1524.27 917.458 1524.27 Q923.245 1524.27 926.625 1527.44 Q930.004 1530.62 930.004 1536.03 Q930.004 1541.61 926.532 1544.71 Q923.06 1547.79 916.74 1547.79 Q914.564 1547.79 912.296 1547.42 Q910.051 1547.05 907.643 1546.31 L907.643 1541.61 Q909.726 1542.74 911.949 1543.3 Q914.171 1543.86 916.648 1543.86 Q920.652 1543.86 922.99 1541.75 Q925.328 1539.64 925.328 1536.03 Q925.328 1532.42 922.99 1530.31 Q920.652 1528.21 916.648 1528.21 Q914.773 1528.21 912.898 1528.62 Q911.046 1529.04 909.101 1529.92 L909.101 1512.56 Z\" fill=\"#000000\" fill-rule=\"evenodd\" fill-opacity=\"1\" /><path clip-path=\"url(#clip510)\" d=\"M 0 0 M1567.04 1543.18 L1574.67 1543.18 L1574.67 1516.82 L1566.36 1518.49 L1566.36 1514.23 L1574.63 1512.56 L1579.3 1512.56 L1579.3 1543.18 L1586.94 1543.18 L1586.94 1547.12 L1567.04 1547.12 L1567.04 1543.18 Z\" fill=\"#000000\" fill-rule=\"evenodd\" fill-opacity=\"1\" /><path clip-path=\"url(#clip510)\" d=\"M 0 0 M1592.01 1541.24 L1596.9 1541.24 L1596.9 1547.12 L1592.01 1547.12 L1592.01 1541.24 Z\" fill=\"#000000\" fill-rule=\"evenodd\" fill-opacity=\"1\" /><path clip-path=\"url(#clip510)\" d=\"M 0 0 M1611.97 1515.64 Q1608.35 1515.64 1606.53 1519.2 Q1604.72 1522.75 1604.72 1529.87 Q1604.72 1536.98 1606.53 1540.55 Q1608.35 1544.09 1611.97 1544.09 Q1615.6 1544.09 1617.41 1540.55 Q1619.23 1536.98 1619.23 1529.87 Q1619.23 1522.75 1617.41 1519.2 Q1615.6 1515.64 1611.97 1515.64 M1611.97 1511.93 Q1617.78 1511.93 1620.83 1516.54 Q1623.91 1521.12 1623.91 1529.87 Q1623.91 1538.6 1620.83 1543.21 Q1617.78 1547.79 1611.97 1547.79 Q1606.16 1547.79 1603.08 1543.21 Q1600.02 1538.6 1600.02 1529.87 Q1600.02 1521.12 1603.08 1516.54 Q1606.16 1511.93 1611.97 1511.93 Z\" fill=\"#000000\" fill-rule=\"evenodd\" fill-opacity=\"1\" /><path clip-path=\"url(#clip510)\" d=\"M 0 0 M2262.6 1543.18 L2270.24 1543.18 L2270.24 1516.82 L2261.92 1518.49 L2261.92 1514.23 L2270.19 1512.56 L2274.86 1512.56 L2274.86 1543.18 L2282.5 1543.18 L2282.5 1547.12 L2262.6 1547.12 L2262.6 1543.18 Z\" fill=\"#000000\" fill-rule=\"evenodd\" fill-opacity=\"1\" /><path clip-path=\"url(#clip510)\" d=\"M 0 0 M2287.57 1541.24 L2292.46 1541.24 L2292.46 1547.12 L2287.57 1547.12 L2287.57 1541.24 Z\" fill=\"#000000\" fill-rule=\"evenodd\" fill-opacity=\"1\" /><path clip-path=\"url(#clip510)\" d=\"M 0 0 M2297.57 1512.56 L2315.93 1512.56 L2315.93 1516.5 L2301.86 1516.5 L2301.86 1524.97 Q2302.87 1524.62 2303.89 1524.46 Q2304.91 1524.27 2305.93 1524.27 Q2311.72 1524.27 2315.1 1527.44 Q2318.48 1530.62 2318.48 1536.03 Q2318.48 1541.61 2315 1544.71 Q2311.53 1547.79 2305.21 1547.79 Q2303.04 1547.79 2300.77 1547.42 Q2298.52 1547.05 2296.11 1546.31 L2296.11 1541.61 Q2298.2 1542.74 2300.42 1543.3 Q2302.64 1543.86 2305.12 1543.86 Q2309.12 1543.86 2311.46 1541.75 Q2313.8 1539.64 2313.8 1536.03 Q2313.8 1532.42 2311.46 1530.31 Q2309.12 1528.21 2305.12 1528.21 Q2303.24 1528.21 2301.37 1528.62 Q2299.52 1529.04 2297.57 1529.92 L2297.57 1512.56 Z\" fill=\"#000000\" fill-rule=\"evenodd\" fill-opacity=\"1\" /><polyline clip-path=\"url(#clip512)\" style=\"stroke:#000000; stroke-width:2; stroke-opacity:0.1; fill:none\" points=\"\n  142.455,1167.6 2352.76,1167.6 \n  \"/>\n<polyline clip-path=\"url(#clip512)\" style=\"stroke:#000000; stroke-width:2; stroke-opacity:0.1; fill:none\" points=\"\n  142.455,807.724 2352.76,807.724 \n  \"/>\n<polyline clip-path=\"url(#clip512)\" style=\"stroke:#000000; stroke-width:2; stroke-opacity:0.1; fill:none\" points=\"\n  142.455,447.85 2352.76,447.85 \n  \"/>\n<polyline clip-path=\"url(#clip512)\" style=\"stroke:#000000; stroke-width:2; stroke-opacity:0.1; fill:none\" points=\"\n  142.455,87.9763 2352.76,87.9763 \n  \"/>\n<polyline clip-path=\"url(#clip510)\" style=\"stroke:#000000; stroke-width:4; stroke-opacity:1; fill:none\" points=\"\n  142.455,1486.45 142.455,47.2441 \n  \"/>\n<polyline clip-path=\"url(#clip510)\" style=\"stroke:#000000; stroke-width:4; stroke-opacity:1; fill:none\" points=\"\n  142.455,1167.6 168.978,1167.6 \n  \"/>\n<polyline clip-path=\"url(#clip510)\" style=\"stroke:#000000; stroke-width:4; stroke-opacity:1; fill:none\" points=\"\n  142.455,807.724 168.978,807.724 \n  \"/>\n<polyline clip-path=\"url(#clip510)\" style=\"stroke:#000000; stroke-width:4; stroke-opacity:1; fill:none\" points=\"\n  142.455,447.85 168.978,447.85 \n  \"/>\n<polyline clip-path=\"url(#clip510)\" style=\"stroke:#000000; stroke-width:4; stroke-opacity:1; fill:none\" points=\"\n  142.455,87.9763 168.978,87.9763 \n  \"/>\n<path clip-path=\"url(#clip510)\" d=\"M 0 0 M50.9921 1168.05 L80.6679 1168.05 L80.6679 1171.98 L50.9921 1171.98 L50.9921 1168.05 Z\" fill=\"#000000\" fill-rule=\"evenodd\" fill-opacity=\"1\" /><path clip-path=\"url(#clip510)\" d=\"M 0 0 M86.5475 1180.94 L94.1863 1180.94 L94.1863 1154.58 L85.8762 1156.24 L85.8762 1151.98 L94.14 1150.32 L98.8159 1150.32 L98.8159 1180.94 L106.455 1180.94 L106.455 1184.88 L86.5475 1184.88 L86.5475 1180.94 Z\" fill=\"#000000\" fill-rule=\"evenodd\" fill-opacity=\"1\" /><path clip-path=\"url(#clip510)\" d=\"M 0 0 M94.5104 793.522 Q90.8993 793.522 89.0706 797.087 Q87.2651 800.629 87.2651 807.758 Q87.2651 814.865 89.0706 818.43 Q90.8993 821.971 94.5104 821.971 Q98.1447 821.971 99.9502 818.43 Q101.779 814.865 101.779 807.758 Q101.779 800.629 99.9502 797.087 Q98.1447 793.522 94.5104 793.522 M94.5104 789.819 Q100.321 789.819 103.376 794.425 Q106.455 799.008 106.455 807.758 Q106.455 816.485 103.376 821.092 Q100.321 825.675 94.5104 825.675 Q88.7003 825.675 85.6216 821.092 Q82.566 816.485 82.566 807.758 Q82.566 799.008 85.6216 794.425 Q88.7003 789.819 94.5104 789.819 Z\" fill=\"#000000\" fill-rule=\"evenodd\" fill-opacity=\"1\" /><path clip-path=\"url(#clip510)\" d=\"M 0 0 M86.5475 461.195 L94.1863 461.195 L94.1863 434.829 L85.8762 436.496 L85.8762 432.237 L94.14 430.57 L98.8159 430.57 L98.8159 461.195 L106.455 461.195 L106.455 465.13 L86.5475 465.13 L86.5475 461.195 Z\" fill=\"#000000\" fill-rule=\"evenodd\" fill-opacity=\"1\" /><path clip-path=\"url(#clip510)\" d=\"M 0 0 M90.1354 101.321 L106.455 101.321 L106.455 105.256 L84.5105 105.256 L84.5105 101.321 Q87.1725 98.5665 91.7558 93.9369 Q96.3623 89.2841 97.5428 87.9416 Q99.7882 85.4184 100.668 83.6823 Q101.571 81.9231 101.571 80.2333 Q101.571 77.4786 99.6261 75.7425 Q97.7048 74.0064 94.603 74.0064 Q92.4039 74.0064 89.9503 74.7703 Q87.5197 75.5342 84.7419 77.0851 L84.7419 72.3629 Q87.566 71.2287 90.0197 70.65 Q92.4734 70.0713 94.5104 70.0713 Q99.8808 70.0713 103.075 72.7565 Q106.27 75.4416 106.27 79.9323 Q106.27 82.062 105.459 83.9832 Q104.672 85.8814 102.566 88.474 Q101.987 89.1453 98.8854 92.3628 Q95.7836 95.5573 90.1354 101.321 Z\" fill=\"#000000\" fill-rule=\"evenodd\" fill-opacity=\"1\" /><circle clip-path=\"url(#clip512)\" cx=\"205.01\" cy=\"87.9763\" r=\"14\" fill=\"#009af9\" fill-rule=\"evenodd\" fill-opacity=\"1\" stroke=\"#000000\" stroke-opacity=\"1\" stroke-width=\"3.2\"/>\n<circle clip-path=\"url(#clip512)\" cx=\"276.914\" cy=\"107.229\" r=\"14\" fill=\"#009af9\" fill-rule=\"evenodd\" fill-opacity=\"1\" stroke=\"#000000\" stroke-opacity=\"1\" stroke-width=\"3.2\"/>\n<circle clip-path=\"url(#clip512)\" cx=\"348.817\" cy=\"180.903\" r=\"14\" fill=\"#009af9\" fill-rule=\"evenodd\" fill-opacity=\"1\" stroke=\"#000000\" stroke-opacity=\"1\" stroke-width=\"3.2\"/>\n<circle clip-path=\"url(#clip512)\" cx=\"420.72\" cy=\"362.066\" r=\"14\" fill=\"#009af9\" fill-rule=\"evenodd\" fill-opacity=\"1\" stroke=\"#000000\" stroke-opacity=\"1\" stroke-width=\"3.2\"/>\n<circle clip-path=\"url(#clip512)\" cx=\"492.623\" cy=\"600.031\" r=\"14\" fill=\"#009af9\" fill-rule=\"evenodd\" fill-opacity=\"1\" stroke=\"#000000\" stroke-opacity=\"1\" stroke-width=\"3.2\"/>\n<circle clip-path=\"url(#clip512)\" cx=\"564.526\" cy=\"836.478\" r=\"14\" fill=\"#009af9\" fill-rule=\"evenodd\" fill-opacity=\"1\" stroke=\"#000000\" stroke-opacity=\"1\" stroke-width=\"3.2\"/>\n<circle clip-path=\"url(#clip512)\" cx=\"636.429\" cy=\"1060.03\" r=\"14\" fill=\"#009af9\" fill-rule=\"evenodd\" fill-opacity=\"1\" stroke=\"#000000\" stroke-opacity=\"1\" stroke-width=\"3.2\"/>\n<circle clip-path=\"url(#clip512)\" cx=\"708.332\" cy=\"1255\" r=\"14\" fill=\"#009af9\" fill-rule=\"evenodd\" fill-opacity=\"1\" stroke=\"#000000\" stroke-opacity=\"1\" stroke-width=\"3.2\"/>\n<circle clip-path=\"url(#clip512)\" cx=\"780.235\" cy=\"1380.3\" r=\"14\" fill=\"#009af9\" fill-rule=\"evenodd\" fill-opacity=\"1\" stroke=\"#000000\" stroke-opacity=\"1\" stroke-width=\"3.2\"/>\n<circle clip-path=\"url(#clip512)\" cx=\"852.138\" cy=\"1423.16\" r=\"14\" fill=\"#009af9\" fill-rule=\"evenodd\" fill-opacity=\"1\" stroke=\"#000000\" stroke-opacity=\"1\" stroke-width=\"3.2\"/>\n<circle clip-path=\"url(#clip512)\" cx=\"924.041\" cy=\"1422.66\" r=\"14\" fill=\"#009af9\" fill-rule=\"evenodd\" fill-opacity=\"1\" stroke=\"#000000\" stroke-opacity=\"1\" stroke-width=\"3.2\"/>\n<circle clip-path=\"url(#clip512)\" cx=\"995.944\" cy=\"1413.77\" r=\"14\" fill=\"#009af9\" fill-rule=\"evenodd\" fill-opacity=\"1\" stroke=\"#000000\" stroke-opacity=\"1\" stroke-width=\"3.2\"/>\n<circle clip-path=\"url(#clip512)\" cx=\"1067.85\" cy=\"1401.35\" r=\"14\" fill=\"#009af9\" fill-rule=\"evenodd\" fill-opacity=\"1\" stroke=\"#000000\" stroke-opacity=\"1\" stroke-width=\"3.2\"/>\n<circle clip-path=\"url(#clip512)\" cx=\"1139.75\" cy=\"1366.5\" r=\"14\" fill=\"#009af9\" fill-rule=\"evenodd\" fill-opacity=\"1\" stroke=\"#000000\" stroke-opacity=\"1\" stroke-width=\"3.2\"/>\n<circle clip-path=\"url(#clip512)\" cx=\"1211.65\" cy=\"1285.66\" r=\"14\" fill=\"#009af9\" fill-rule=\"evenodd\" fill-opacity=\"1\" stroke=\"#000000\" stroke-opacity=\"1\" stroke-width=\"3.2\"/>\n<circle clip-path=\"url(#clip512)\" cx=\"1283.56\" cy=\"1160.7\" r=\"14\" fill=\"#009af9\" fill-rule=\"evenodd\" fill-opacity=\"1\" stroke=\"#000000\" stroke-opacity=\"1\" stroke-width=\"3.2\"/>\n<circle clip-path=\"url(#clip512)\" cx=\"1355.46\" cy=\"1015.59\" r=\"14\" fill=\"#009af9\" fill-rule=\"evenodd\" fill-opacity=\"1\" stroke=\"#000000\" stroke-opacity=\"1\" stroke-width=\"3.2\"/>\n<circle clip-path=\"url(#clip512)\" cx=\"1427.36\" cy=\"870.117\" r=\"14\" fill=\"#009af9\" fill-rule=\"evenodd\" fill-opacity=\"1\" stroke=\"#000000\" stroke-opacity=\"1\" stroke-width=\"3.2\"/>\n<circle clip-path=\"url(#clip512)\" cx=\"1499.27\" cy=\"729.687\" r=\"14\" fill=\"#009af9\" fill-rule=\"evenodd\" fill-opacity=\"1\" stroke=\"#000000\" stroke-opacity=\"1\" stroke-width=\"3.2\"/>\n<circle clip-path=\"url(#clip512)\" cx=\"1571.17\" cy=\"595.181\" r=\"14\" fill=\"#009af9\" fill-rule=\"evenodd\" fill-opacity=\"1\" stroke=\"#000000\" stroke-opacity=\"1\" stroke-width=\"3.2\"/>\n<circle clip-path=\"url(#clip512)\" cx=\"1643.07\" cy=\"472.36\" r=\"14\" fill=\"#009af9\" fill-rule=\"evenodd\" fill-opacity=\"1\" stroke=\"#000000\" stroke-opacity=\"1\" stroke-width=\"3.2\"/>\n<circle clip-path=\"url(#clip512)\" cx=\"1714.98\" cy=\"374.569\" r=\"14\" fill=\"#009af9\" fill-rule=\"evenodd\" fill-opacity=\"1\" stroke=\"#000000\" stroke-opacity=\"1\" stroke-width=\"3.2\"/>\n<circle clip-path=\"url(#clip512)\" cx=\"1786.88\" cy=\"313.923\" r=\"14\" fill=\"#009af9\" fill-rule=\"evenodd\" fill-opacity=\"1\" stroke=\"#000000\" stroke-opacity=\"1\" stroke-width=\"3.2\"/>\n<circle clip-path=\"url(#clip512)\" cx=\"1858.78\" cy=\"288.639\" r=\"14\" fill=\"#009af9\" fill-rule=\"evenodd\" fill-opacity=\"1\" stroke=\"#000000\" stroke-opacity=\"1\" stroke-width=\"3.2\"/>\n<circle clip-path=\"url(#clip512)\" cx=\"1930.68\" cy=\"285.044\" r=\"14\" fill=\"#009af9\" fill-rule=\"evenodd\" fill-opacity=\"1\" stroke=\"#000000\" stroke-opacity=\"1\" stroke-width=\"3.2\"/>\n<circle clip-path=\"url(#clip512)\" cx=\"2002.59\" cy=\"289.392\" r=\"14\" fill=\"#009af9\" fill-rule=\"evenodd\" fill-opacity=\"1\" stroke=\"#000000\" stroke-opacity=\"1\" stroke-width=\"3.2\"/>\n<circle clip-path=\"url(#clip512)\" cx=\"2074.49\" cy=\"294.848\" r=\"14\" fill=\"#009af9\" fill-rule=\"evenodd\" fill-opacity=\"1\" stroke=\"#000000\" stroke-opacity=\"1\" stroke-width=\"3.2\"/>\n<circle clip-path=\"url(#clip512)\" cx=\"2146.39\" cy=\"301.426\" r=\"14\" fill=\"#009af9\" fill-rule=\"evenodd\" fill-opacity=\"1\" stroke=\"#000000\" stroke-opacity=\"1\" stroke-width=\"3.2\"/>\n<circle clip-path=\"url(#clip512)\" cx=\"2218.3\" cy=\"314.617\" r=\"14\" fill=\"#009af9\" fill-rule=\"evenodd\" fill-opacity=\"1\" stroke=\"#000000\" stroke-opacity=\"1\" stroke-width=\"3.2\"/>\n<circle clip-path=\"url(#clip512)\" cx=\"2290.2\" cy=\"342.717\" r=\"14\" fill=\"#009af9\" fill-rule=\"evenodd\" fill-opacity=\"1\" stroke=\"#000000\" stroke-opacity=\"1\" stroke-width=\"3.2\"/>\n<circle clip-path=\"url(#clip512)\" cx=\"205.01\" cy=\"87.9763\" r=\"14\" fill=\"#e26f46\" fill-rule=\"evenodd\" fill-opacity=\"1\" stroke=\"#000000\" stroke-opacity=\"1\" stroke-width=\"3.2\"/>\n<circle clip-path=\"url(#clip512)\" cx=\"276.914\" cy=\"129.513\" r=\"14\" fill=\"#e26f46\" fill-rule=\"evenodd\" fill-opacity=\"1\" stroke=\"#000000\" stroke-opacity=\"1\" stroke-width=\"3.2\"/>\n<circle clip-path=\"url(#clip512)\" cx=\"348.817\" cy=\"183.738\" r=\"14\" fill=\"#e26f46\" fill-rule=\"evenodd\" fill-opacity=\"1\" stroke=\"#000000\" stroke-opacity=\"1\" stroke-width=\"3.2\"/>\n<circle clip-path=\"url(#clip512)\" cx=\"420.72\" cy=\"328.63\" r=\"14\" fill=\"#e26f46\" fill-rule=\"evenodd\" fill-opacity=\"1\" stroke=\"#000000\" stroke-opacity=\"1\" stroke-width=\"3.2\"/>\n<circle clip-path=\"url(#clip512)\" cx=\"492.623\" cy=\"544.729\" r=\"14\" fill=\"#e26f46\" fill-rule=\"evenodd\" fill-opacity=\"1\" stroke=\"#000000\" stroke-opacity=\"1\" stroke-width=\"3.2\"/>\n<circle clip-path=\"url(#clip512)\" cx=\"564.526\" cy=\"803.005\" r=\"14\" fill=\"#e26f46\" fill-rule=\"evenodd\" fill-opacity=\"1\" stroke=\"#000000\" stroke-opacity=\"1\" stroke-width=\"3.2\"/>\n<circle clip-path=\"url(#clip512)\" cx=\"636.429\" cy=\"1062.29\" r=\"14\" fill=\"#e26f46\" fill-rule=\"evenodd\" fill-opacity=\"1\" stroke=\"#000000\" stroke-opacity=\"1\" stroke-width=\"3.2\"/>\n<circle clip-path=\"url(#clip512)\" cx=\"708.332\" cy=\"1314.8\" r=\"14\" fill=\"#e26f46\" fill-rule=\"evenodd\" fill-opacity=\"1\" stroke=\"#000000\" stroke-opacity=\"1\" stroke-width=\"3.2\"/>\n<circle clip-path=\"url(#clip512)\" cx=\"780.235\" cy=\"1431.31\" r=\"14\" fill=\"#e26f46\" fill-rule=\"evenodd\" fill-opacity=\"1\" stroke=\"#000000\" stroke-opacity=\"1\" stroke-width=\"3.2\"/>\n<circle clip-path=\"url(#clip512)\" cx=\"852.138\" cy=\"1445.72\" r=\"14\" fill=\"#e26f46\" fill-rule=\"evenodd\" fill-opacity=\"1\" stroke=\"#000000\" stroke-opacity=\"1\" stroke-width=\"3.2\"/>\n<circle clip-path=\"url(#clip512)\" cx=\"924.041\" cy=\"1420.74\" r=\"14\" fill=\"#e26f46\" fill-rule=\"evenodd\" fill-opacity=\"1\" stroke=\"#000000\" stroke-opacity=\"1\" stroke-width=\"3.2\"/>\n<circle clip-path=\"url(#clip512)\" cx=\"995.944\" cy=\"1411.45\" r=\"14\" fill=\"#e26f46\" fill-rule=\"evenodd\" fill-opacity=\"1\" stroke=\"#000000\" stroke-opacity=\"1\" stroke-width=\"3.2\"/>\n<circle clip-path=\"url(#clip512)\" cx=\"1067.85\" cy=\"1406.06\" r=\"14\" fill=\"#e26f46\" fill-rule=\"evenodd\" fill-opacity=\"1\" stroke=\"#000000\" stroke-opacity=\"1\" stroke-width=\"3.2\"/>\n<circle clip-path=\"url(#clip512)\" cx=\"1139.75\" cy=\"1390.72\" r=\"14\" fill=\"#e26f46\" fill-rule=\"evenodd\" fill-opacity=\"1\" stroke=\"#000000\" stroke-opacity=\"1\" stroke-width=\"3.2\"/>\n<circle clip-path=\"url(#clip512)\" cx=\"1211.65\" cy=\"1261.89\" r=\"14\" fill=\"#e26f46\" fill-rule=\"evenodd\" fill-opacity=\"1\" stroke=\"#000000\" stroke-opacity=\"1\" stroke-width=\"3.2\"/>\n<circle clip-path=\"url(#clip512)\" cx=\"1283.56\" cy=\"1135.48\" r=\"14\" fill=\"#e26f46\" fill-rule=\"evenodd\" fill-opacity=\"1\" stroke=\"#000000\" stroke-opacity=\"1\" stroke-width=\"3.2\"/>\n<circle clip-path=\"url(#clip512)\" cx=\"1355.46\" cy=\"1003.91\" r=\"14\" fill=\"#e26f46\" fill-rule=\"evenodd\" fill-opacity=\"1\" stroke=\"#000000\" stroke-opacity=\"1\" stroke-width=\"3.2\"/>\n<circle clip-path=\"url(#clip512)\" cx=\"1427.36\" cy=\"867.798\" r=\"14\" fill=\"#e26f46\" fill-rule=\"evenodd\" fill-opacity=\"1\" stroke=\"#000000\" stroke-opacity=\"1\" stroke-width=\"3.2\"/>\n<circle clip-path=\"url(#clip512)\" cx=\"1499.27\" cy=\"732.426\" r=\"14\" fill=\"#e26f46\" fill-rule=\"evenodd\" fill-opacity=\"1\" stroke=\"#000000\" stroke-opacity=\"1\" stroke-width=\"3.2\"/>\n<circle clip-path=\"url(#clip512)\" cx=\"1571.17\" cy=\"597.685\" r=\"14\" fill=\"#e26f46\" fill-rule=\"evenodd\" fill-opacity=\"1\" stroke=\"#000000\" stroke-opacity=\"1\" stroke-width=\"3.2\"/>\n<circle clip-path=\"url(#clip512)\" cx=\"1643.07\" cy=\"466.113\" r=\"14\" fill=\"#e26f46\" fill-rule=\"evenodd\" fill-opacity=\"1\" stroke=\"#000000\" stroke-opacity=\"1\" stroke-width=\"3.2\"/>\n<circle clip-path=\"url(#clip512)\" cx=\"1714.98\" cy=\"361.732\" r=\"14\" fill=\"#e26f46\" fill-rule=\"evenodd\" fill-opacity=\"1\" stroke=\"#000000\" stroke-opacity=\"1\" stroke-width=\"3.2\"/>\n<circle clip-path=\"url(#clip512)\" cx=\"1786.88\" cy=\"322.841\" r=\"14\" fill=\"#e26f46\" fill-rule=\"evenodd\" fill-opacity=\"1\" stroke=\"#000000\" stroke-opacity=\"1\" stroke-width=\"3.2\"/>\n<circle clip-path=\"url(#clip512)\" cx=\"1858.78\" cy=\"308.009\" r=\"14\" fill=\"#e26f46\" fill-rule=\"evenodd\" fill-opacity=\"1\" stroke=\"#000000\" stroke-opacity=\"1\" stroke-width=\"3.2\"/>\n<circle clip-path=\"url(#clip512)\" cx=\"1930.68\" cy=\"300.062\" r=\"14\" fill=\"#e26f46\" fill-rule=\"evenodd\" fill-opacity=\"1\" stroke=\"#000000\" stroke-opacity=\"1\" stroke-width=\"3.2\"/>\n<circle clip-path=\"url(#clip512)\" cx=\"2002.59\" cy=\"304.767\" r=\"14\" fill=\"#e26f46\" fill-rule=\"evenodd\" fill-opacity=\"1\" stroke=\"#000000\" stroke-opacity=\"1\" stroke-width=\"3.2\"/>\n<circle clip-path=\"url(#clip512)\" cx=\"2074.49\" cy=\"310.026\" r=\"14\" fill=\"#e26f46\" fill-rule=\"evenodd\" fill-opacity=\"1\" stroke=\"#000000\" stroke-opacity=\"1\" stroke-width=\"3.2\"/>\n<circle clip-path=\"url(#clip512)\" cx=\"2146.39\" cy=\"315.088\" r=\"14\" fill=\"#e26f46\" fill-rule=\"evenodd\" fill-opacity=\"1\" stroke=\"#000000\" stroke-opacity=\"1\" stroke-width=\"3.2\"/>\n<circle clip-path=\"url(#clip512)\" cx=\"2218.3\" cy=\"329.145\" r=\"14\" fill=\"#e26f46\" fill-rule=\"evenodd\" fill-opacity=\"1\" stroke=\"#000000\" stroke-opacity=\"1\" stroke-width=\"3.2\"/>\n<circle clip-path=\"url(#clip512)\" cx=\"2290.2\" cy=\"426.035\" r=\"14\" fill=\"#e26f46\" fill-rule=\"evenodd\" fill-opacity=\"1\" stroke=\"#000000\" stroke-opacity=\"1\" stroke-width=\"3.2\"/>\n<path clip-path=\"url(#clip510)\" d=\"\nM1828.95 276.658 L2279.08 276.658 L2279.08 95.2176 L1828.95 95.2176  Z\n  \" fill=\"#ffffff\" fill-rule=\"evenodd\" fill-opacity=\"1\"/>\n<polyline clip-path=\"url(#clip510)\" style=\"stroke:#000000; stroke-width:4; stroke-opacity:1; fill:none\" points=\"\n  1828.95,276.658 2279.08,276.658 2279.08,95.2176 1828.95,95.2176 1828.95,276.658 \n  \"/>\n<circle clip-path=\"url(#clip510)\" cx=\"1927.19\" cy=\"155.698\" r=\"23\" fill=\"#009af9\" fill-rule=\"evenodd\" fill-opacity=\"1\" stroke=\"#000000\" stroke-opacity=\"1\" stroke-width=\"5.12\"/>\n<path clip-path=\"url(#clip510)\" d=\"M 0 0 M2044.34 150.987 L2044.34 136.959 L2048.6 136.959 L2048.6 172.978 L2044.34 172.978 L2044.34 169.089 Q2042.99 171.403 2040.93 172.538 Q2038.9 173.649 2036.03 173.649 Q2031.33 173.649 2028.37 169.899 Q2025.43 166.149 2025.43 160.038 Q2025.43 153.927 2028.37 150.177 Q2031.33 146.427 2036.03 146.427 Q2038.9 146.427 2040.93 147.561 Q2042.99 148.672 2044.34 150.987 M2029.82 160.038 Q2029.82 164.737 2031.74 167.422 Q2033.69 170.084 2037.07 170.084 Q2040.45 170.084 2042.39 167.422 Q2044.34 164.737 2044.34 160.038 Q2044.34 155.339 2042.39 152.677 Q2040.45 149.992 2037.07 149.992 Q2033.69 149.992 2031.74 152.677 Q2029.82 155.339 2029.82 160.038 Z\" fill=\"#000000\" fill-rule=\"evenodd\" fill-opacity=\"1\" /><path clip-path=\"url(#clip510)\" d=\"M 0 0 M2064.85 159.945 Q2059.68 159.945 2057.69 161.126 Q2055.7 162.306 2055.7 165.154 Q2055.7 167.422 2057.18 168.765 Q2058.69 170.084 2061.26 170.084 Q2064.8 170.084 2066.93 167.584 Q2069.08 165.061 2069.08 160.894 L2069.08 159.945 L2064.85 159.945 M2073.34 158.186 L2073.34 172.978 L2069.08 172.978 L2069.08 169.042 Q2067.62 171.403 2065.45 172.538 Q2063.27 173.649 2060.12 173.649 Q2056.14 173.649 2053.78 171.427 Q2051.44 169.181 2051.44 165.431 Q2051.44 161.056 2054.36 158.834 Q2057.3 156.612 2063.11 156.612 L2069.08 156.612 L2069.08 156.195 Q2069.08 153.255 2067.14 151.658 Q2065.22 150.038 2061.72 150.038 Q2059.5 150.038 2057.39 150.57 Q2055.29 151.103 2053.34 152.167 L2053.34 148.232 Q2055.68 147.33 2057.88 146.89 Q2060.08 146.427 2062.16 146.427 Q2067.79 146.427 2070.56 149.343 Q2073.34 152.26 2073.34 158.186 Z\" fill=\"#000000\" fill-rule=\"evenodd\" fill-opacity=\"1\" /><path clip-path=\"url(#clip510)\" d=\"M 0 0 M2082.02 139.691 L2082.02 147.052 L2090.8 147.052 L2090.8 150.362 L2082.02 150.362 L2082.02 164.436 Q2082.02 167.607 2082.88 168.51 Q2083.76 169.413 2086.42 169.413 L2090.8 169.413 L2090.8 172.978 L2086.42 172.978 Q2081.49 172.978 2079.61 171.149 Q2077.74 169.297 2077.74 164.436 L2077.74 150.362 L2074.62 150.362 L2074.62 147.052 L2077.74 147.052 L2077.74 139.691 L2082.02 139.691 Z\" fill=\"#000000\" fill-rule=\"evenodd\" fill-opacity=\"1\" /><path clip-path=\"url(#clip510)\" d=\"M 0 0 M2107.05 159.945 Q2101.88 159.945 2099.89 161.126 Q2097.9 162.306 2097.9 165.154 Q2097.9 167.422 2099.38 168.765 Q2100.89 170.084 2103.46 170.084 Q2107 170.084 2109.13 167.584 Q2111.28 165.061 2111.28 160.894 L2111.28 159.945 L2107.05 159.945 M2115.54 158.186 L2115.54 172.978 L2111.28 172.978 L2111.28 169.042 Q2109.82 171.403 2107.65 172.538 Q2105.47 173.649 2102.32 173.649 Q2098.34 173.649 2095.98 171.427 Q2093.64 169.181 2093.64 165.431 Q2093.64 161.056 2096.56 158.834 Q2099.5 156.612 2105.31 156.612 L2111.28 156.612 L2111.28 156.195 Q2111.28 153.255 2109.34 151.658 Q2107.42 150.038 2103.92 150.038 Q2101.7 150.038 2099.59 150.57 Q2097.49 151.103 2095.54 152.167 L2095.54 148.232 Q2097.88 147.33 2100.08 146.89 Q2102.28 146.427 2104.36 146.427 Q2109.99 146.427 2112.76 149.343 Q2115.54 152.26 2115.54 158.186 Z\" fill=\"#000000\" fill-rule=\"evenodd\" fill-opacity=\"1\" /><circle clip-path=\"url(#clip510)\" cx=\"1927.19\" cy=\"216.178\" r=\"23\" fill=\"#e26f46\" fill-rule=\"evenodd\" fill-opacity=\"1\" stroke=\"#000000\" stroke-opacity=\"1\" stroke-width=\"5.12\"/>\n<path clip-path=\"url(#clip510)\" d=\"M 0 0 M2029.71 229.569 L2029.71 243.319 L2025.43 243.319 L2025.43 207.532 L2029.71 207.532 L2029.71 211.467 Q2031.05 209.152 2033.09 208.041 Q2035.15 206.907 2037.99 206.907 Q2042.72 206.907 2045.66 210.657 Q2048.62 214.407 2048.62 220.518 Q2048.62 226.629 2045.66 230.379 Q2042.72 234.129 2037.99 234.129 Q2035.15 234.129 2033.09 233.018 Q2031.05 231.883 2029.71 229.569 M2044.2 220.518 Q2044.2 215.819 2042.25 213.157 Q2040.33 210.472 2036.95 210.472 Q2033.57 210.472 2031.63 213.157 Q2029.71 215.819 2029.71 220.518 Q2029.71 225.217 2031.63 227.902 Q2033.57 230.564 2036.95 230.564 Q2040.33 230.564 2042.25 227.902 Q2044.2 225.217 2044.2 220.518 Z\" fill=\"#000000\" fill-rule=\"evenodd\" fill-opacity=\"1\" /><path clip-path=\"url(#clip510)\" d=\"M 0 0 M2068.11 211.513 Q2067.39 211.097 2066.54 210.911 Q2065.7 210.703 2064.68 210.703 Q2061.07 210.703 2059.13 213.064 Q2057.21 215.402 2057.21 219.8 L2057.21 233.458 L2052.93 233.458 L2052.93 207.532 L2057.21 207.532 L2057.21 211.56 Q2058.55 209.198 2060.7 208.064 Q2062.86 206.907 2065.93 206.907 Q2066.37 206.907 2066.91 206.976 Q2067.44 207.023 2068.09 207.138 L2068.11 211.513 Z\" fill=\"#000000\" fill-rule=\"evenodd\" fill-opacity=\"1\" /><path clip-path=\"url(#clip510)\" d=\"M 0 0 M2093.71 219.43 L2093.71 221.513 L2074.13 221.513 Q2074.41 225.911 2076.77 228.226 Q2079.15 230.518 2083.39 230.518 Q2085.84 230.518 2088.13 229.916 Q2090.45 229.314 2092.72 228.11 L2092.72 232.138 Q2090.43 233.11 2088.02 233.62 Q2085.61 234.129 2083.13 234.129 Q2076.93 234.129 2073.3 230.518 Q2069.68 226.907 2069.68 220.749 Q2069.68 214.384 2073.11 210.657 Q2076.56 206.907 2082.39 206.907 Q2087.62 206.907 2090.66 210.286 Q2093.71 213.643 2093.71 219.43 M2089.45 218.18 Q2089.41 214.685 2087.49 212.601 Q2085.59 210.518 2082.44 210.518 Q2078.87 210.518 2076.72 212.532 Q2074.59 214.546 2074.27 218.203 L2089.45 218.18 Z\" fill=\"#000000\" fill-rule=\"evenodd\" fill-opacity=\"1\" /><path clip-path=\"url(#clip510)\" d=\"M 0 0 M2115.24 211.467 L2115.24 197.439 L2119.5 197.439 L2119.5 233.458 L2115.24 233.458 L2115.24 229.569 Q2113.9 231.883 2111.84 233.018 Q2109.8 234.129 2106.93 234.129 Q2102.23 234.129 2099.27 230.379 Q2096.33 226.629 2096.33 220.518 Q2096.33 214.407 2099.27 210.657 Q2102.23 206.907 2106.93 206.907 Q2109.8 206.907 2111.84 208.041 Q2113.9 209.152 2115.24 211.467 M2100.73 220.518 Q2100.73 225.217 2102.65 227.902 Q2104.59 230.564 2107.97 230.564 Q2111.35 230.564 2113.3 227.902 Q2115.24 225.217 2115.24 220.518 Q2115.24 215.819 2113.3 213.157 Q2111.35 210.472 2107.97 210.472 Q2104.59 210.472 2102.65 213.157 Q2100.73 215.819 2100.73 220.518 Z\" fill=\"#000000\" fill-rule=\"evenodd\" fill-opacity=\"1\" /><path clip-path=\"url(#clip510)\" d=\"M 0 0 M2123.97 207.532 L2128.23 207.532 L2128.23 233.458 L2123.97 233.458 L2123.97 207.532 M2123.97 197.439 L2128.23 197.439 L2128.23 202.833 L2123.97 202.833 L2123.97 197.439 Z\" fill=\"#000000\" fill-rule=\"evenodd\" fill-opacity=\"1\" /><path clip-path=\"url(#clip510)\" d=\"M 0 0 M2151.35 208.527 L2151.35 212.509 Q2149.55 211.513 2147.72 211.027 Q2145.91 210.518 2144.06 210.518 Q2139.92 210.518 2137.62 213.157 Q2135.33 215.772 2135.33 220.518 Q2135.33 225.263 2137.62 227.902 Q2139.92 230.518 2144.06 230.518 Q2145.91 230.518 2147.72 230.032 Q2149.55 229.522 2151.35 228.527 L2151.35 232.462 Q2149.57 233.296 2147.65 233.712 Q2145.75 234.129 2143.6 234.129 Q2137.74 234.129 2134.29 230.448 Q2130.84 226.768 2130.84 220.518 Q2130.84 214.175 2134.31 210.541 Q2137.81 206.907 2143.87 206.907 Q2145.84 206.907 2147.72 207.323 Q2149.59 207.717 2151.35 208.527 Z\" fill=\"#000000\" fill-rule=\"evenodd\" fill-opacity=\"1\" /><path clip-path=\"url(#clip510)\" d=\"M 0 0 M2160.03 200.171 L2160.03 207.532 L2168.8 207.532 L2168.8 210.842 L2160.03 210.842 L2160.03 224.916 Q2160.03 228.087 2160.89 228.99 Q2161.77 229.893 2164.43 229.893 L2168.8 229.893 L2168.8 233.458 L2164.43 233.458 Q2159.5 233.458 2157.62 231.629 Q2155.75 229.777 2155.75 224.916 L2155.75 210.842 L2152.62 210.842 L2152.62 207.532 L2155.75 207.532 L2155.75 200.171 L2160.03 200.171 Z\" fill=\"#000000\" fill-rule=\"evenodd\" fill-opacity=\"1\" /><path clip-path=\"url(#clip510)\" d=\"M 0 0 M2173.27 207.532 L2177.53 207.532 L2177.53 233.458 L2173.27 233.458 L2173.27 207.532 M2173.27 197.439 L2177.53 197.439 L2177.53 202.833 L2173.27 202.833 L2173.27 197.439 Z\" fill=\"#000000\" fill-rule=\"evenodd\" fill-opacity=\"1\" /><path clip-path=\"url(#clip510)\" d=\"M 0 0 M2192.04 210.518 Q2188.62 210.518 2186.63 213.203 Q2184.64 215.865 2184.64 220.518 Q2184.64 225.171 2186.61 227.856 Q2188.6 230.518 2192.04 230.518 Q2195.45 230.518 2197.44 227.833 Q2199.43 225.147 2199.43 220.518 Q2199.43 215.911 2197.44 213.226 Q2195.45 210.518 2192.04 210.518 M2192.04 206.907 Q2197.6 206.907 2200.77 210.518 Q2203.94 214.129 2203.94 220.518 Q2203.94 226.884 2200.77 230.518 Q2197.6 234.129 2192.04 234.129 Q2186.47 234.129 2183.29 230.518 Q2180.15 226.884 2180.15 220.518 Q2180.15 214.129 2183.29 210.518 Q2186.47 206.907 2192.04 206.907 Z\" fill=\"#000000\" fill-rule=\"evenodd\" fill-opacity=\"1\" /><path clip-path=\"url(#clip510)\" d=\"M 0 0 M2229.96 217.809 L2229.96 233.458 L2225.7 233.458 L2225.7 217.948 Q2225.7 214.268 2224.27 212.439 Q2222.83 210.61 2219.96 210.61 Q2216.51 210.61 2214.52 212.81 Q2212.53 215.009 2212.53 218.805 L2212.53 233.458 L2208.25 233.458 L2208.25 207.532 L2212.53 207.532 L2212.53 211.56 Q2214.06 209.222 2216.12 208.064 Q2218.2 206.907 2220.91 206.907 Q2225.38 206.907 2227.67 209.685 Q2229.96 212.439 2229.96 217.809 Z\" fill=\"#000000\" fill-rule=\"evenodd\" fill-opacity=\"1\" /></svg>\n"
               },
               "type": "node"
              }
             ],
             "instanceArgs": {
              "namespace": "html",
              "tag": "div"
             },
             "nodeType": "DOM",
             "props": {
              "className": "interact-flex-row interact-widget"
             },
             "type": "node"
            }
           }
          },
          "systemjs_options": null
         },
         "nodeType": "Scope",
         "props": {},
         "type": "node"
        }
       ],
       "instanceArgs": {
        "namespace": "html",
        "tag": "div"
       },
       "nodeType": "DOM",
       "props": {},
       "type": "node"
      },
      "text/html": [
       "<div\n",
       "    class=\"webio-mountpoint\"\n",
       "    data-webio-mountpoint=\"3289971250512272317\"\n",
       ">\n",
       "    <script>\n",
       "    if (window.require && require.defined && require.defined(\"nbextensions/webio-jupyter-notebook\")) {\n",
       "        console.log(\"Jupyter WebIO extension detected, not mounting.\");\n",
       "    } else if (window.WebIO) {\n",
       "        WebIO.mount(\n",
       "            document.querySelector('[data-webio-mountpoint=\"3289971250512272317\"]'),\n",
       "            {\"props\":{},\"nodeType\":\"DOM\",\"type\":\"node\",\"instanceArgs\":{\"namespace\":\"html\",\"tag\":\"div\"},\"children\":[{\"props\":{\"className\":\"field interact-widget\"},\"nodeType\":\"DOM\",\"type\":\"node\",\"instanceArgs\":{\"namespace\":\"html\",\"tag\":\"div\"},\"children\":[{\"props\":{},\"nodeType\":\"Scope\",\"type\":\"node\",\"instanceArgs\":{\"imports\":{\"data\":[{\"name\":\"knockout\",\"type\":\"js\",\"url\":\"\\/assetserver\\/a1995f9644994451050a3199eedb89075202ec41-knockout.js\"},{\"name\":\"knockout_punches\",\"type\":\"js\",\"url\":\"\\/assetserver\\/1e1d754682eadb2e820ab28b3359a7fed5f2d9ad-knockout_punches.js\"},{\"name\":null,\"type\":\"js\",\"url\":\"\\/assetserver\\/e5c5e6a824bee86bda289d965c12fa4e4568cfe1-all.js\"},{\"name\":null,\"type\":\"css\",\"url\":\"\\/assetserver\\/49d1f51e5cc9da94661420160a768a1833b4c92e-style.css\"},{\"name\":null,\"type\":\"css\",\"url\":\"\\/assetserver\\/a16dc09dc5c818d229cd5bc528c914d256dfa1c0-bulma_confined.min.css\"}],\"type\":\"async_block\"},\"id\":\"8215165378425474949\",\"handlers\":{\"changes\":[\"(function (val){return (val!=this.model[\\\"changes\\\"]()) ? (this.valueFromJulia[\\\"changes\\\"]=true, this.model[\\\"changes\\\"](val)) : undefined})\"],\"index\":[\"(function (val){return (val!=this.model[\\\"index\\\"]()) ? (this.valueFromJulia[\\\"index\\\"]=true, this.model[\\\"index\\\"](val)) : undefined})\"]},\"systemjs_options\":null,\"mount_callbacks\":[\"function () {\\n    var handler = (function (ko, koPunches) {\\n    ko.punches.enableAll();\\n    ko.bindingHandlers.numericValue = {\\n        init: function(element, valueAccessor, allBindings, data, context) {\\n            var stringified = ko.observable(ko.unwrap(valueAccessor()));\\n            stringified.subscribe(function(value) {\\n                var val = parseFloat(value);\\n                if (!isNaN(val)) {\\n                    valueAccessor()(val);\\n                }\\n            });\\n            valueAccessor().subscribe(function(value) {\\n                var str = JSON.stringify(value);\\n                if ((str == \\\"0\\\") && ([\\\"-0\\\", \\\"-0.\\\"].indexOf(stringified()) >= 0))\\n                     return;\\n                 if ([\\\"null\\\", \\\"\\\"].indexOf(str) >= 0)\\n                     return;\\n                stringified(str);\\n            });\\n            ko.applyBindingsToNode(\\n                element,\\n                {\\n                    value: stringified,\\n                    valueUpdate: allBindings.get('valueUpdate'),\\n                },\\n                context,\\n            );\\n        }\\n    };\\n    var json_data = {\\\"formatted_vals\\\":[\\\"1\\\",\\\"2\\\",\\\"3\\\",\\\"4\\\",\\\"5\\\",\\\"6\\\"],\\\"changes\\\":WebIO.getval({\\\"name\\\":\\\"changes\\\",\\\"scope\\\":\\\"8215165378425474949\\\",\\\"id\\\":\\\"11639389805613208899\\\",\\\"type\\\":\\\"observable\\\"}),\\\"index\\\":WebIO.getval({\\\"name\\\":\\\"index\\\",\\\"scope\\\":\\\"8215165378425474949\\\",\\\"id\\\":\\\"9051601779410436132\\\",\\\"type\\\":\\\"observable\\\"})};\\n    var self = this;\\n    function AppViewModel() {\\n        for (var key in json_data) {\\n            var el = json_data[key];\\n            this[key] = Array.isArray(el) ? ko.observableArray(el) : ko.observable(el);\\n        }\\n        \\n        [this[\\\"formatted_val\\\"]=ko.computed(    function(){\\n        return this.formatted_vals()[parseInt(this.index())-(1)];\\n    }\\n,this)]\\n        [this[\\\"changes\\\"].subscribe((function (val){!(this.valueFromJulia[\\\"changes\\\"]) ? (WebIO.setval({\\\"name\\\":\\\"changes\\\",\\\"scope\\\":\\\"8215165378425474949\\\",\\\"id\\\":\\\"11639389805613208899\\\",\\\"type\\\":\\\"observable\\\"},val)) : undefined; return this.valueFromJulia[\\\"changes\\\"]=false}),self),this[\\\"index\\\"].subscribe((function (val){!(this.valueFromJulia[\\\"index\\\"]) ? (WebIO.setval({\\\"name\\\":\\\"index\\\",\\\"scope\\\":\\\"8215165378425474949\\\",\\\"id\\\":\\\"9051601779410436132\\\",\\\"type\\\":\\\"observable\\\"},val)) : undefined; return this.valueFromJulia[\\\"index\\\"]=false}),self)]\\n        \\n    }\\n    self.model = new AppViewModel();\\n    self.valueFromJulia = {};\\n    for (var key in json_data) {\\n        self.valueFromJulia[key] = false;\\n    }\\n    ko.applyBindings(self.model, self.dom);\\n}\\n);\\n    (WebIO.importBlock({\\\"data\\\":[{\\\"name\\\":\\\"knockout\\\",\\\"type\\\":\\\"js\\\",\\\"url\\\":\\\"\\/assetserver\\/a1995f9644994451050a3199eedb89075202ec41-knockout.js\\\"},{\\\"name\\\":\\\"knockout_punches\\\",\\\"type\\\":\\\"js\\\",\\\"url\\\":\\\"\\/assetserver\\/1e1d754682eadb2e820ab28b3359a7fed5f2d9ad-knockout_punches.js\\\"}],\\\"type\\\":\\\"async_block\\\"})).then((imports) => handler.apply(this, imports));\\n}\\n\"],\"observables\":{\"changes\":{\"sync\":false,\"id\":\"11639389805613208899\",\"value\":0},\"index\":{\"sync\":true,\"id\":\"9051601779410436132\",\"value\":3}}},\"children\":[{\"props\":{\"className\":\"interact-flex-row interact-widget\"},\"nodeType\":\"DOM\",\"type\":\"node\",\"instanceArgs\":{\"namespace\":\"html\",\"tag\":\"div\"},\"children\":[{\"props\":{\"className\":\"interact-flex-row-left\"},\"nodeType\":\"DOM\",\"type\":\"node\",\"instanceArgs\":{\"namespace\":\"html\",\"tag\":\"div\"},\"children\":[{\"props\":{\"className\":\"interact \",\"style\":{\"padding\":\"5px 10px 0px 10px\"}},\"nodeType\":\"DOM\",\"type\":\"node\",\"instanceArgs\":{\"namespace\":\"html\",\"tag\":\"label\"},\"children\":[\"i\"]}]},{\"props\":{\"className\":\"interact-flex-row-center\"},\"nodeType\":\"DOM\",\"type\":\"node\",\"instanceArgs\":{\"namespace\":\"html\",\"tag\":\"div\"},\"children\":[{\"props\":{\"max\":6,\"min\":1,\"attributes\":{\"type\":\"range\",\"data-bind\":\"numericValue: index, valueUpdate: 'input', event: {change: function (){this.changes(this.changes()+1)}}\",\"orient\":\"horizontal\"},\"step\":1,\"className\":\"slider slider is-fullwidth\",\"style\":{}},\"nodeType\":\"DOM\",\"type\":\"node\",\"instanceArgs\":{\"namespace\":\"html\",\"tag\":\"input\"},\"children\":[]}]},{\"props\":{\"className\":\"interact-flex-row-right\"},\"nodeType\":\"DOM\",\"type\":\"node\",\"instanceArgs\":{\"namespace\":\"html\",\"tag\":\"div\"},\"children\":[{\"props\":{\"attributes\":{\"data-bind\":\"text: formatted_val\"}},\"nodeType\":\"DOM\",\"type\":\"node\",\"instanceArgs\":{\"namespace\":\"html\",\"tag\":\"p\"},\"children\":[]}]}]}]}]},{\"props\":{},\"nodeType\":\"Scope\",\"type\":\"node\",\"instanceArgs\":{\"imports\":{\"data\":[],\"type\":\"async_block\"},\"id\":\"4308184639297582453\",\"handlers\":{},\"systemjs_options\":null,\"mount_callbacks\":[],\"observables\":{\"obs-node\":{\"sync\":false,\"id\":\"14990799652928175674\",\"value\":{\"props\":{\"className\":\"interact-flex-row interact-widget\"},\"nodeType\":\"DOM\",\"type\":\"node\",\"instanceArgs\":{\"namespace\":\"html\",\"tag\":\"div\"},\"children\":[{\"props\":{\"setInnerHtml\":\"<?xml version=\\\"1.0\\\" encoding=\\\"utf-8\\\"?>\\n<svg xmlns=\\\"http:\\/\\/www.w3.org\\/2000\\/svg\\\" xmlns:xlink=\\\"http:\\/\\/www.w3.org\\/1999\\/xlink\\\" width=\\\"600\\\" height=\\\"400\\\" viewBox=\\\"0 0 2400 1600\\\">\\n<defs>\\n  <clipPath id=\\\"clip470\\\">\\n    <rect x=\\\"0\\\" y=\\\"0\\\" width=\\\"2400\\\" height=\\\"1600\\\"\\/>\\n  <\\/clipPath>\\n<\\/defs>\\n<path clip-path=\\\"url(#clip470)\\\" d=\\\"\\nM0 1600 L2400 1600 L2400 0 L0 0  Z\\n  \\\" fill=\\\"#ffffff\\\" fill-rule=\\\"evenodd\\\" fill-opacity=\\\"1\\\"\\/>\\n<defs>\\n  <clipPath id=\\\"clip471\\\">\\n    <rect x=\\\"480\\\" y=\\\"0\\\" width=\\\"1681\\\" height=\\\"1600\\\"\\/>\\n  <\\/clipPath>\\n<\\/defs>\\n<path clip-path=\\\"url(#clip470)\\\" d=\\\"\\nM142.455 1486.45 L2352.76 1486.45 L2352.76 47.2441 L142.455 47.2441  Z\\n  \\\" fill=\\\"#ffffff\\\" fill-rule=\\\"evenodd\\\" fill-opacity=\\\"1\\\"\\/>\\n<defs>\\n  <clipPath id=\\\"clip472\\\">\\n    <rect x=\\\"142\\\" y=\\\"47\\\" width=\\\"2211\\\" height=\\\"1440\\\"\\/>\\n  <\\/clipPath>\\n<\\/defs>\\n<polyline clip-path=\\\"url(#clip472)\\\" style=\\\"stroke:#000000; stroke-width:2; stroke-opacity:0.1; fill:none\\\" points=\\\"\\n  205.01,1486.45 205.01,47.2441 \\n  \\\"\\/>\\n<polyline clip-path=\\\"url(#clip472)\\\" style=\\\"stroke:#000000; stroke-width:2; stroke-opacity:0.1; fill:none\\\" points=\\\"\\n  900.074,1486.45 900.074,47.2441 \\n  \\\"\\/>\\n<polyline clip-path=\\\"url(#clip472)\\\" style=\\\"stroke:#000000; stroke-width:2; stroke-opacity:0.1; fill:none\\\" points=\\\"\\n  1595.14,1486.45 1595.14,47.2441 \\n  \\\"\\/>\\n<polyline clip-path=\\\"url(#clip472)\\\" style=\\\"stroke:#000000; stroke-width:2; stroke-opacity:0.1; fill:none\\\" points=\\\"\\n  2290.2,1486.45 2290.2,47.2441 \\n  \\\"\\/>\\n<polyline clip-path=\\\"url(#clip470)\\\" style=\\\"stroke:#000000; stroke-width:4; stroke-opacity:1; fill:none\\\" points=\\\"\\n  142.455,1486.45 2352.76,1486.45 \\n  \\\"\\/>\\n<polyline clip-path=\\\"url(#clip470)\\\" style=\\\"stroke:#000000; stroke-width:4; stroke-opacity:1; fill:none\\\" points=\\\"\\n  205.01,1486.45 205.01,1469.18 \\n  \\\"\\/>\\n<polyline clip-path=\\\"url(#clip470)\\\" style=\\\"stroke:#000000; stroke-width:4; stroke-opacity:1; fill:none\\\" points=\\\"\\n  900.074,1486.45 900.074,1469.18 \\n  \\\"\\/>\\n<polyline clip-path=\\\"url(#clip470)\\\" style=\\\"stroke:#000000; stroke-width:4; stroke-opacity:1; fill:none\\\" points=\\\"\\n  1595.14,1486.45 1595.14,1469.18 \\n  \\\"\\/>\\n<polyline clip-path=\\\"url(#clip470)\\\" style=\\\"stroke:#000000; stroke-width:4; stroke-opacity:1; fill:none\\\" points=\\\"\\n  2290.2,1486.45 2290.2,1469.18 \\n  \\\"\\/>\\n<path clip-path=\\\"url(#clip470)\\\" d=\\\"M 0 0 M186.527 1515.64 Q182.916 1515.64 181.087 1519.2 Q179.281 1522.75 179.281 1529.87 Q179.281 1536.98 181.087 1540.55 Q182.916 1544.09 186.527 1544.09 Q190.161 1544.09 191.967 1540.55 Q193.795 1536.98 193.795 1529.87 Q193.795 1522.75 191.967 1519.2 Q190.161 1515.64 186.527 1515.64 M186.527 1511.93 Q192.337 1511.93 195.392 1516.54 Q198.471 1521.12 198.471 1529.87 Q198.471 1538.6 195.392 1543.21 Q192.337 1547.79 186.527 1547.79 Q180.717 1547.79 177.638 1543.21 Q174.582 1538.6 174.582 1529.87 Q174.582 1521.12 177.638 1516.54 Q180.717 1511.93 186.527 1511.93 Z\\\" fill=\\\"#000000\\\" fill-rule=\\\"evenodd\\\" fill-opacity=\\\"1\\\" \\/><path clip-path=\\\"url(#clip470)\\\" d=\\\"M 0 0 M203.541 1541.24 L208.425 1541.24 L208.425 1547.12 L203.541 1547.12 L203.541 1541.24 Z\\\" fill=\\\"#000000\\\" fill-rule=\\\"evenodd\\\" fill-opacity=\\\"1\\\" \\/><path clip-path=\\\"url(#clip470)\\\" d=\\\"M 0 0 M223.494 1515.64 Q219.883 1515.64 218.054 1519.2 Q216.249 1522.75 216.249 1529.87 Q216.249 1536.98 218.054 1540.55 Q219.883 1544.09 223.494 1544.09 Q227.128 1544.09 228.934 1540.55 Q230.763 1536.98 230.763 1529.87 Q230.763 1522.75 228.934 1519.2 Q227.128 1515.64 223.494 1515.64 M223.494 1511.93 Q229.304 1511.93 232.36 1516.54 Q235.439 1521.12 235.439 1529.87 Q235.439 1538.6 232.36 1543.21 Q229.304 1547.79 223.494 1547.79 Q217.684 1547.79 214.605 1543.21 Q211.55 1538.6 211.55 1529.87 Q211.55 1521.12 214.605 1516.54 Q217.684 1511.93 223.494 1511.93 Z\\\" fill=\\\"#000000\\\" fill-rule=\\\"evenodd\\\" fill-opacity=\\\"1\\\" \\/><path clip-path=\\\"url(#clip470)\\\" d=\\\"M 0 0 M882.088 1515.64 Q878.477 1515.64 876.648 1519.2 Q874.842 1522.75 874.842 1529.87 Q874.842 1536.98 876.648 1540.55 Q878.477 1544.09 882.088 1544.09 Q885.722 1544.09 887.527 1540.55 Q889.356 1536.98 889.356 1529.87 Q889.356 1522.75 887.527 1519.2 Q885.722 1515.64 882.088 1515.64 M882.088 1511.93 Q887.898 1511.93 890.953 1516.54 Q894.032 1521.12 894.032 1529.87 Q894.032 1538.6 890.953 1543.21 Q887.898 1547.79 882.088 1547.79 Q876.278 1547.79 873.199 1543.21 Q870.143 1538.6 870.143 1529.87 Q870.143 1521.12 873.199 1516.54 Q876.278 1511.93 882.088 1511.93 Z\\\" fill=\\\"#000000\\\" fill-rule=\\\"evenodd\\\" fill-opacity=\\\"1\\\" \\/><path clip-path=\\\"url(#clip470)\\\" d=\\\"M 0 0 M899.102 1541.24 L903.986 1541.24 L903.986 1547.12 L899.102 1547.12 L899.102 1541.24 Z\\\" fill=\\\"#000000\\\" fill-rule=\\\"evenodd\\\" fill-opacity=\\\"1\\\" \\/><path clip-path=\\\"url(#clip470)\\\" d=\\\"M 0 0 M909.101 1512.56 L927.458 1512.56 L927.458 1516.5 L913.384 1516.5 L913.384 1524.97 Q914.402 1524.62 915.421 1524.46 Q916.439 1524.27 917.458 1524.27 Q923.245 1524.27 926.625 1527.44 Q930.004 1530.62 930.004 1536.03 Q930.004 1541.61 926.532 1544.71 Q923.06 1547.79 916.74 1547.79 Q914.564 1547.79 912.296 1547.42 Q910.051 1547.05 907.643 1546.31 L907.643 1541.61 Q909.726 1542.74 911.949 1543.3 Q914.171 1543.86 916.648 1543.86 Q920.652 1543.86 922.99 1541.75 Q925.328 1539.64 925.328 1536.03 Q925.328 1532.42 922.99 1530.31 Q920.652 1528.21 916.648 1528.21 Q914.773 1528.21 912.898 1528.62 Q911.046 1529.04 909.101 1529.92 L909.101 1512.56 Z\\\" fill=\\\"#000000\\\" fill-rule=\\\"evenodd\\\" fill-opacity=\\\"1\\\" \\/><path clip-path=\\\"url(#clip470)\\\" d=\\\"M 0 0 M1567.04 1543.18 L1574.67 1543.18 L1574.67 1516.82 L1566.36 1518.49 L1566.36 1514.23 L1574.63 1512.56 L1579.3 1512.56 L1579.3 1543.18 L1586.94 1543.18 L1586.94 1547.12 L1567.04 1547.12 L1567.04 1543.18 Z\\\" fill=\\\"#000000\\\" fill-rule=\\\"evenodd\\\" fill-opacity=\\\"1\\\" \\/><path clip-path=\\\"url(#clip470)\\\" d=\\\"M 0 0 M1592.01 1541.24 L1596.9 1541.24 L1596.9 1547.12 L1592.01 1547.12 L1592.01 1541.24 Z\\\" fill=\\\"#000000\\\" fill-rule=\\\"evenodd\\\" fill-opacity=\\\"1\\\" \\/><path clip-path=\\\"url(#clip470)\\\" d=\\\"M 0 0 M1611.97 1515.64 Q1608.35 1515.64 1606.53 1519.2 Q1604.72 1522.75 1604.72 1529.87 Q1604.72 1536.98 1606.53 1540.55 Q1608.35 1544.09 1611.97 1544.09 Q1615.6 1544.09 1617.41 1540.55 Q1619.23 1536.98 1619.23 1529.87 Q1619.23 1522.75 1617.41 1519.2 Q1615.6 1515.64 1611.97 1515.64 M1611.97 1511.93 Q1617.78 1511.93 1620.83 1516.54 Q1623.91 1521.12 1623.91 1529.87 Q1623.91 1538.6 1620.83 1543.21 Q1617.78 1547.79 1611.97 1547.79 Q1606.16 1547.79 1603.08 1543.21 Q1600.02 1538.6 1600.02 1529.87 Q1600.02 1521.12 1603.08 1516.54 Q1606.16 1511.93 1611.97 1511.93 Z\\\" fill=\\\"#000000\\\" fill-rule=\\\"evenodd\\\" fill-opacity=\\\"1\\\" \\/><path clip-path=\\\"url(#clip470)\\\" d=\\\"M 0 0 M2262.6 1543.18 L2270.24 1543.18 L2270.24 1516.82 L2261.92 1518.49 L2261.92 1514.23 L2270.19 1512.56 L2274.86 1512.56 L2274.86 1543.18 L2282.5 1543.18 L2282.5 1547.12 L2262.6 1547.12 L2262.6 1543.18 Z\\\" fill=\\\"#000000\\\" fill-rule=\\\"evenodd\\\" fill-opacity=\\\"1\\\" \\/><path clip-path=\\\"url(#clip470)\\\" d=\\\"M 0 0 M2287.57 1541.24 L2292.46 1541.24 L2292.46 1547.12 L2287.57 1547.12 L2287.57 1541.24 Z\\\" fill=\\\"#000000\\\" fill-rule=\\\"evenodd\\\" fill-opacity=\\\"1\\\" \\/><path clip-path=\\\"url(#clip470)\\\" d=\\\"M 0 0 M2297.57 1512.56 L2315.93 1512.56 L2315.93 1516.5 L2301.86 1516.5 L2301.86 1524.97 Q2302.87 1524.62 2303.89 1524.46 Q2304.91 1524.27 2305.93 1524.27 Q2311.72 1524.27 2315.1 1527.44 Q2318.48 1530.62 2318.48 1536.03 Q2318.48 1541.61 2315 1544.71 Q2311.53 1547.79 2305.21 1547.79 Q2303.04 1547.79 2300.77 1547.42 Q2298.52 1547.05 2296.11 1546.31 L2296.11 1541.61 Q2298.2 1542.74 2300.42 1543.3 Q2302.64 1543.86 2305.12 1543.86 Q2309.12 1543.86 2311.46 1541.75 Q2313.8 1539.64 2313.8 1536.03 Q2313.8 1532.42 2311.46 1530.31 Q2309.12 1528.21 2305.12 1528.21 Q2303.24 1528.21 2301.37 1528.62 Q2299.52 1529.04 2297.57 1529.92 L2297.57 1512.56 Z\\\" fill=\\\"#000000\\\" fill-rule=\\\"evenodd\\\" fill-opacity=\\\"1\\\" \\/><polyline clip-path=\\\"url(#clip472)\\\" style=\\\"stroke:#000000; stroke-width:2; stroke-opacity:0.1; fill:none\\\" points=\\\"\\n  142.455,1167.6 2352.76,1167.6 \\n  \\\"\\/>\\n<polyline clip-path=\\\"url(#clip472)\\\" style=\\\"stroke:#000000; stroke-width:2; stroke-opacity:0.1; fill:none\\\" points=\\\"\\n  142.455,807.724 2352.76,807.724 \\n  \\\"\\/>\\n<polyline clip-path=\\\"url(#clip472)\\\" style=\\\"stroke:#000000; stroke-width:2; stroke-opacity:0.1; fill:none\\\" points=\\\"\\n  142.455,447.85 2352.76,447.85 \\n  \\\"\\/>\\n<polyline clip-path=\\\"url(#clip472)\\\" style=\\\"stroke:#000000; stroke-width:2; stroke-opacity:0.1; fill:none\\\" points=\\\"\\n  142.455,87.9763 2352.76,87.9763 \\n  \\\"\\/>\\n<polyline clip-path=\\\"url(#clip470)\\\" style=\\\"stroke:#000000; stroke-width:4; stroke-opacity:1; fill:none\\\" points=\\\"\\n  142.455,1486.45 142.455,47.2441 \\n  \\\"\\/>\\n<polyline clip-path=\\\"url(#clip470)\\\" style=\\\"stroke:#000000; stroke-width:4; stroke-opacity:1; fill:none\\\" points=\\\"\\n  142.455,1167.6 168.978,1167.6 \\n  \\\"\\/>\\n<polyline clip-path=\\\"url(#clip470)\\\" style=\\\"stroke:#000000; stroke-width:4; stroke-opacity:1; fill:none\\\" points=\\\"\\n  142.455,807.724 168.978,807.724 \\n  \\\"\\/>\\n<polyline clip-path=\\\"url(#clip470)\\\" style=\\\"stroke:#000000; stroke-width:4; stroke-opacity:1; fill:none\\\" points=\\\"\\n  142.455,447.85 168.978,447.85 \\n  \\\"\\/>\\n<polyline clip-path=\\\"url(#clip470)\\\" style=\\\"stroke:#000000; stroke-width:4; stroke-opacity:1; fill:none\\\" points=\\\"\\n  142.455,87.9763 168.978,87.9763 \\n  \\\"\\/>\\n<path clip-path=\\\"url(#clip470)\\\" d=\\\"M 0 0 M50.9921 1168.05 L80.6679 1168.05 L80.6679 1171.98 L50.9921 1171.98 L50.9921 1168.05 Z\\\" fill=\\\"#000000\\\" fill-rule=\\\"evenodd\\\" fill-opacity=\\\"1\\\" \\/><path clip-path=\\\"url(#clip470)\\\" d=\\\"M 0 0 M86.5475 1180.94 L94.1863 1180.94 L94.1863 1154.58 L85.8762 1156.24 L85.8762 1151.98 L94.14 1150.32 L98.8159 1150.32 L98.8159 1180.94 L106.455 1180.94 L106.455 1184.88 L86.5475 1184.88 L86.5475 1180.94 Z\\\" fill=\\\"#000000\\\" fill-rule=\\\"evenodd\\\" fill-opacity=\\\"1\\\" \\/><path clip-path=\\\"url(#clip470)\\\" d=\\\"M 0 0 M94.5104 793.522 Q90.8993 793.522 89.0706 797.087 Q87.2651 800.629 87.2651 807.758 Q87.2651 814.865 89.0706 818.43 Q90.8993 821.971 94.5104 821.971 Q98.1447 821.971 99.9502 818.43 Q101.779 814.865 101.779 807.758 Q101.779 800.629 99.9502 797.087 Q98.1447 793.522 94.5104 793.522 M94.5104 789.819 Q100.321 789.819 103.376 794.425 Q106.455 799.008 106.455 807.758 Q106.455 816.485 103.376 821.092 Q100.321 825.675 94.5104 825.675 Q88.7003 825.675 85.6216 821.092 Q82.566 816.485 82.566 807.758 Q82.566 799.008 85.6216 794.425 Q88.7003 789.819 94.5104 789.819 Z\\\" fill=\\\"#000000\\\" fill-rule=\\\"evenodd\\\" fill-opacity=\\\"1\\\" \\/><path clip-path=\\\"url(#clip470)\\\" d=\\\"M 0 0 M86.5475 461.195 L94.1863 461.195 L94.1863 434.829 L85.8762 436.496 L85.8762 432.237 L94.14 430.57 L98.8159 430.57 L98.8159 461.195 L106.455 461.195 L106.455 465.13 L86.5475 465.13 L86.5475 461.195 Z\\\" fill=\\\"#000000\\\" fill-rule=\\\"evenodd\\\" fill-opacity=\\\"1\\\" \\/><path clip-path=\\\"url(#clip470)\\\" d=\\\"M 0 0 M90.1354 101.321 L106.455 101.321 L106.455 105.256 L84.5105 105.256 L84.5105 101.321 Q87.1725 98.5665 91.7558 93.9369 Q96.3623 89.2841 97.5428 87.9416 Q99.7882 85.4184 100.668 83.6823 Q101.571 81.9231 101.571 80.2333 Q101.571 77.4786 99.6261 75.7425 Q97.7048 74.0064 94.603 74.0064 Q92.4039 74.0064 89.9503 74.7703 Q87.5197 75.5342 84.7419 77.0851 L84.7419 72.3629 Q87.566 71.2287 90.0197 70.65 Q92.4734 70.0713 94.5104 70.0713 Q99.8808 70.0713 103.075 72.7565 Q106.27 75.4416 106.27 79.9323 Q106.27 82.062 105.459 83.9832 Q104.672 85.8814 102.566 88.474 Q101.987 89.1453 98.8854 92.3628 Q95.7836 95.5573 90.1354 101.321 Z\\\" fill=\\\"#000000\\\" fill-rule=\\\"evenodd\\\" fill-opacity=\\\"1\\\" \\/><circle clip-path=\\\"url(#clip472)\\\" cx=\\\"205.01\\\" cy=\\\"87.9763\\\" r=\\\"14\\\" fill=\\\"#009af9\\\" fill-rule=\\\"evenodd\\\" fill-opacity=\\\"1\\\" stroke=\\\"#000000\\\" stroke-opacity=\\\"1\\\" stroke-width=\\\"3.2\\\"\\/>\\n<circle clip-path=\\\"url(#clip472)\\\" cx=\\\"276.914\\\" cy=\\\"107.229\\\" r=\\\"14\\\" fill=\\\"#009af9\\\" fill-rule=\\\"evenodd\\\" fill-opacity=\\\"1\\\" stroke=\\\"#000000\\\" stroke-opacity=\\\"1\\\" stroke-width=\\\"3.2\\\"\\/>\\n<circle clip-path=\\\"url(#clip472)\\\" cx=\\\"348.817\\\" cy=\\\"180.903\\\" r=\\\"14\\\" fill=\\\"#009af9\\\" fill-rule=\\\"evenodd\\\" fill-opacity=\\\"1\\\" stroke=\\\"#000000\\\" stroke-opacity=\\\"1\\\" stroke-width=\\\"3.2\\\"\\/>\\n<circle clip-path=\\\"url(#clip472)\\\" cx=\\\"420.72\\\" cy=\\\"362.066\\\" r=\\\"14\\\" fill=\\\"#009af9\\\" fill-rule=\\\"evenodd\\\" fill-opacity=\\\"1\\\" stroke=\\\"#000000\\\" stroke-opacity=\\\"1\\\" stroke-width=\\\"3.2\\\"\\/>\\n<circle clip-path=\\\"url(#clip472)\\\" cx=\\\"492.623\\\" cy=\\\"600.031\\\" r=\\\"14\\\" fill=\\\"#009af9\\\" fill-rule=\\\"evenodd\\\" fill-opacity=\\\"1\\\" stroke=\\\"#000000\\\" stroke-opacity=\\\"1\\\" stroke-width=\\\"3.2\\\"\\/>\\n<circle clip-path=\\\"url(#clip472)\\\" cx=\\\"564.526\\\" cy=\\\"836.478\\\" r=\\\"14\\\" fill=\\\"#009af9\\\" fill-rule=\\\"evenodd\\\" fill-opacity=\\\"1\\\" stroke=\\\"#000000\\\" stroke-opacity=\\\"1\\\" stroke-width=\\\"3.2\\\"\\/>\\n<circle clip-path=\\\"url(#clip472)\\\" cx=\\\"636.429\\\" cy=\\\"1060.03\\\" r=\\\"14\\\" fill=\\\"#009af9\\\" fill-rule=\\\"evenodd\\\" fill-opacity=\\\"1\\\" stroke=\\\"#000000\\\" stroke-opacity=\\\"1\\\" stroke-width=\\\"3.2\\\"\\/>\\n<circle clip-path=\\\"url(#clip472)\\\" cx=\\\"708.332\\\" cy=\\\"1255\\\" r=\\\"14\\\" fill=\\\"#009af9\\\" fill-rule=\\\"evenodd\\\" fill-opacity=\\\"1\\\" stroke=\\\"#000000\\\" stroke-opacity=\\\"1\\\" stroke-width=\\\"3.2\\\"\\/>\\n<circle clip-path=\\\"url(#clip472)\\\" cx=\\\"780.235\\\" cy=\\\"1380.3\\\" r=\\\"14\\\" fill=\\\"#009af9\\\" fill-rule=\\\"evenodd\\\" fill-opacity=\\\"1\\\" stroke=\\\"#000000\\\" stroke-opacity=\\\"1\\\" stroke-width=\\\"3.2\\\"\\/>\\n<circle clip-path=\\\"url(#clip472)\\\" cx=\\\"852.138\\\" cy=\\\"1423.16\\\" r=\\\"14\\\" fill=\\\"#009af9\\\" fill-rule=\\\"evenodd\\\" fill-opacity=\\\"1\\\" stroke=\\\"#000000\\\" stroke-opacity=\\\"1\\\" stroke-width=\\\"3.2\\\"\\/>\\n<circle clip-path=\\\"url(#clip472)\\\" cx=\\\"924.041\\\" cy=\\\"1422.66\\\" r=\\\"14\\\" fill=\\\"#009af9\\\" fill-rule=\\\"evenodd\\\" fill-opacity=\\\"1\\\" stroke=\\\"#000000\\\" stroke-opacity=\\\"1\\\" stroke-width=\\\"3.2\\\"\\/>\\n<circle clip-path=\\\"url(#clip472)\\\" cx=\\\"995.944\\\" cy=\\\"1413.77\\\" r=\\\"14\\\" fill=\\\"#009af9\\\" fill-rule=\\\"evenodd\\\" fill-opacity=\\\"1\\\" stroke=\\\"#000000\\\" stroke-opacity=\\\"1\\\" stroke-width=\\\"3.2\\\"\\/>\\n<circle clip-path=\\\"url(#clip472)\\\" cx=\\\"1067.85\\\" cy=\\\"1401.35\\\" r=\\\"14\\\" fill=\\\"#009af9\\\" fill-rule=\\\"evenodd\\\" fill-opacity=\\\"1\\\" stroke=\\\"#000000\\\" stroke-opacity=\\\"1\\\" stroke-width=\\\"3.2\\\"\\/>\\n<circle clip-path=\\\"url(#clip472)\\\" cx=\\\"1139.75\\\" cy=\\\"1366.5\\\" r=\\\"14\\\" fill=\\\"#009af9\\\" fill-rule=\\\"evenodd\\\" fill-opacity=\\\"1\\\" stroke=\\\"#000000\\\" stroke-opacity=\\\"1\\\" stroke-width=\\\"3.2\\\"\\/>\\n<circle clip-path=\\\"url(#clip472)\\\" cx=\\\"1211.65\\\" cy=\\\"1285.66\\\" r=\\\"14\\\" fill=\\\"#009af9\\\" fill-rule=\\\"evenodd\\\" fill-opacity=\\\"1\\\" stroke=\\\"#000000\\\" stroke-opacity=\\\"1\\\" stroke-width=\\\"3.2\\\"\\/>\\n<circle clip-path=\\\"url(#clip472)\\\" cx=\\\"1283.56\\\" cy=\\\"1160.7\\\" r=\\\"14\\\" fill=\\\"#009af9\\\" fill-rule=\\\"evenodd\\\" fill-opacity=\\\"1\\\" stroke=\\\"#000000\\\" stroke-opacity=\\\"1\\\" stroke-width=\\\"3.2\\\"\\/>\\n<circle clip-path=\\\"url(#clip472)\\\" cx=\\\"1355.46\\\" cy=\\\"1015.59\\\" r=\\\"14\\\" fill=\\\"#009af9\\\" fill-rule=\\\"evenodd\\\" fill-opacity=\\\"1\\\" stroke=\\\"#000000\\\" stroke-opacity=\\\"1\\\" stroke-width=\\\"3.2\\\"\\/>\\n<circle clip-path=\\\"url(#clip472)\\\" cx=\\\"1427.36\\\" cy=\\\"870.117\\\" r=\\\"14\\\" fill=\\\"#009af9\\\" fill-rule=\\\"evenodd\\\" fill-opacity=\\\"1\\\" stroke=\\\"#000000\\\" stroke-opacity=\\\"1\\\" stroke-width=\\\"3.2\\\"\\/>\\n<circle clip-path=\\\"url(#clip472)\\\" cx=\\\"1499.27\\\" cy=\\\"729.687\\\" r=\\\"14\\\" fill=\\\"#009af9\\\" fill-rule=\\\"evenodd\\\" fill-opacity=\\\"1\\\" stroke=\\\"#000000\\\" stroke-opacity=\\\"1\\\" stroke-width=\\\"3.2\\\"\\/>\\n<circle clip-path=\\\"url(#clip472)\\\" cx=\\\"1571.17\\\" cy=\\\"595.181\\\" r=\\\"14\\\" fill=\\\"#009af9\\\" fill-rule=\\\"evenodd\\\" fill-opacity=\\\"1\\\" stroke=\\\"#000000\\\" stroke-opacity=\\\"1\\\" stroke-width=\\\"3.2\\\"\\/>\\n<circle clip-path=\\\"url(#clip472)\\\" cx=\\\"1643.07\\\" cy=\\\"472.36\\\" r=\\\"14\\\" fill=\\\"#009af9\\\" fill-rule=\\\"evenodd\\\" fill-opacity=\\\"1\\\" stroke=\\\"#000000\\\" stroke-opacity=\\\"1\\\" stroke-width=\\\"3.2\\\"\\/>\\n<circle clip-path=\\\"url(#clip472)\\\" cx=\\\"1714.98\\\" cy=\\\"374.569\\\" r=\\\"14\\\" fill=\\\"#009af9\\\" fill-rule=\\\"evenodd\\\" fill-opacity=\\\"1\\\" stroke=\\\"#000000\\\" stroke-opacity=\\\"1\\\" stroke-width=\\\"3.2\\\"\\/>\\n<circle clip-path=\\\"url(#clip472)\\\" cx=\\\"1786.88\\\" cy=\\\"313.923\\\" r=\\\"14\\\" fill=\\\"#009af9\\\" fill-rule=\\\"evenodd\\\" fill-opacity=\\\"1\\\" stroke=\\\"#000000\\\" stroke-opacity=\\\"1\\\" stroke-width=\\\"3.2\\\"\\/>\\n<circle clip-path=\\\"url(#clip472)\\\" cx=\\\"1858.78\\\" cy=\\\"288.639\\\" r=\\\"14\\\" fill=\\\"#009af9\\\" fill-rule=\\\"evenodd\\\" fill-opacity=\\\"1\\\" stroke=\\\"#000000\\\" stroke-opacity=\\\"1\\\" stroke-width=\\\"3.2\\\"\\/>\\n<circle clip-path=\\\"url(#clip472)\\\" cx=\\\"1930.68\\\" cy=\\\"285.044\\\" r=\\\"14\\\" fill=\\\"#009af9\\\" fill-rule=\\\"evenodd\\\" fill-opacity=\\\"1\\\" stroke=\\\"#000000\\\" stroke-opacity=\\\"1\\\" stroke-width=\\\"3.2\\\"\\/>\\n<circle clip-path=\\\"url(#clip472)\\\" cx=\\\"2002.59\\\" cy=\\\"289.392\\\" r=\\\"14\\\" fill=\\\"#009af9\\\" fill-rule=\\\"evenodd\\\" fill-opacity=\\\"1\\\" stroke=\\\"#000000\\\" stroke-opacity=\\\"1\\\" stroke-width=\\\"3.2\\\"\\/>\\n<circle clip-path=\\\"url(#clip472)\\\" cx=\\\"2074.49\\\" cy=\\\"294.848\\\" r=\\\"14\\\" fill=\\\"#009af9\\\" fill-rule=\\\"evenodd\\\" fill-opacity=\\\"1\\\" stroke=\\\"#000000\\\" stroke-opacity=\\\"1\\\" stroke-width=\\\"3.2\\\"\\/>\\n<circle clip-path=\\\"url(#clip472)\\\" cx=\\\"2146.39\\\" cy=\\\"301.426\\\" r=\\\"14\\\" fill=\\\"#009af9\\\" fill-rule=\\\"evenodd\\\" fill-opacity=\\\"1\\\" stroke=\\\"#000000\\\" stroke-opacity=\\\"1\\\" stroke-width=\\\"3.2\\\"\\/>\\n<circle clip-path=\\\"url(#clip472)\\\" cx=\\\"2218.3\\\" cy=\\\"314.617\\\" r=\\\"14\\\" fill=\\\"#009af9\\\" fill-rule=\\\"evenodd\\\" fill-opacity=\\\"1\\\" stroke=\\\"#000000\\\" stroke-opacity=\\\"1\\\" stroke-width=\\\"3.2\\\"\\/>\\n<circle clip-path=\\\"url(#clip472)\\\" cx=\\\"2290.2\\\" cy=\\\"342.717\\\" r=\\\"14\\\" fill=\\\"#009af9\\\" fill-rule=\\\"evenodd\\\" fill-opacity=\\\"1\\\" stroke=\\\"#000000\\\" stroke-opacity=\\\"1\\\" stroke-width=\\\"3.2\\\"\\/>\\n<circle clip-path=\\\"url(#clip472)\\\" cx=\\\"205.01\\\" cy=\\\"87.9763\\\" r=\\\"14\\\" fill=\\\"#e26f46\\\" fill-rule=\\\"evenodd\\\" fill-opacity=\\\"1\\\" stroke=\\\"#000000\\\" stroke-opacity=\\\"1\\\" stroke-width=\\\"3.2\\\"\\/>\\n<circle clip-path=\\\"url(#clip472)\\\" cx=\\\"276.914\\\" cy=\\\"129.513\\\" r=\\\"14\\\" fill=\\\"#e26f46\\\" fill-rule=\\\"evenodd\\\" fill-opacity=\\\"1\\\" stroke=\\\"#000000\\\" stroke-opacity=\\\"1\\\" stroke-width=\\\"3.2\\\"\\/>\\n<circle clip-path=\\\"url(#clip472)\\\" cx=\\\"348.817\\\" cy=\\\"183.738\\\" r=\\\"14\\\" fill=\\\"#e26f46\\\" fill-rule=\\\"evenodd\\\" fill-opacity=\\\"1\\\" stroke=\\\"#000000\\\" stroke-opacity=\\\"1\\\" stroke-width=\\\"3.2\\\"\\/>\\n<circle clip-path=\\\"url(#clip472)\\\" cx=\\\"420.72\\\" cy=\\\"328.63\\\" r=\\\"14\\\" fill=\\\"#e26f46\\\" fill-rule=\\\"evenodd\\\" fill-opacity=\\\"1\\\" stroke=\\\"#000000\\\" stroke-opacity=\\\"1\\\" stroke-width=\\\"3.2\\\"\\/>\\n<circle clip-path=\\\"url(#clip472)\\\" cx=\\\"492.623\\\" cy=\\\"544.729\\\" r=\\\"14\\\" fill=\\\"#e26f46\\\" fill-rule=\\\"evenodd\\\" fill-opacity=\\\"1\\\" stroke=\\\"#000000\\\" stroke-opacity=\\\"1\\\" stroke-width=\\\"3.2\\\"\\/>\\n<circle clip-path=\\\"url(#clip472)\\\" cx=\\\"564.526\\\" cy=\\\"803.005\\\" r=\\\"14\\\" fill=\\\"#e26f46\\\" fill-rule=\\\"evenodd\\\" fill-opacity=\\\"1\\\" stroke=\\\"#000000\\\" stroke-opacity=\\\"1\\\" stroke-width=\\\"3.2\\\"\\/>\\n<circle clip-path=\\\"url(#clip472)\\\" cx=\\\"636.429\\\" cy=\\\"1062.29\\\" r=\\\"14\\\" fill=\\\"#e26f46\\\" fill-rule=\\\"evenodd\\\" fill-opacity=\\\"1\\\" stroke=\\\"#000000\\\" stroke-opacity=\\\"1\\\" stroke-width=\\\"3.2\\\"\\/>\\n<circle clip-path=\\\"url(#clip472)\\\" cx=\\\"708.332\\\" cy=\\\"1314.8\\\" r=\\\"14\\\" fill=\\\"#e26f46\\\" fill-rule=\\\"evenodd\\\" fill-opacity=\\\"1\\\" stroke=\\\"#000000\\\" stroke-opacity=\\\"1\\\" stroke-width=\\\"3.2\\\"\\/>\\n<circle clip-path=\\\"url(#clip472)\\\" cx=\\\"780.235\\\" cy=\\\"1431.31\\\" r=\\\"14\\\" fill=\\\"#e26f46\\\" fill-rule=\\\"evenodd\\\" fill-opacity=\\\"1\\\" stroke=\\\"#000000\\\" stroke-opacity=\\\"1\\\" stroke-width=\\\"3.2\\\"\\/>\\n<circle clip-path=\\\"url(#clip472)\\\" cx=\\\"852.138\\\" cy=\\\"1445.72\\\" r=\\\"14\\\" fill=\\\"#e26f46\\\" fill-rule=\\\"evenodd\\\" fill-opacity=\\\"1\\\" stroke=\\\"#000000\\\" stroke-opacity=\\\"1\\\" stroke-width=\\\"3.2\\\"\\/>\\n<circle clip-path=\\\"url(#clip472)\\\" cx=\\\"924.041\\\" cy=\\\"1420.74\\\" r=\\\"14\\\" fill=\\\"#e26f46\\\" fill-rule=\\\"evenodd\\\" fill-opacity=\\\"1\\\" stroke=\\\"#000000\\\" stroke-opacity=\\\"1\\\" stroke-width=\\\"3.2\\\"\\/>\\n<circle clip-path=\\\"url(#clip472)\\\" cx=\\\"995.944\\\" cy=\\\"1411.45\\\" r=\\\"14\\\" fill=\\\"#e26f46\\\" fill-rule=\\\"evenodd\\\" fill-opacity=\\\"1\\\" stroke=\\\"#000000\\\" stroke-opacity=\\\"1\\\" stroke-width=\\\"3.2\\\"\\/>\\n<circle clip-path=\\\"url(#clip472)\\\" cx=\\\"1067.85\\\" cy=\\\"1406.06\\\" r=\\\"14\\\" fill=\\\"#e26f46\\\" fill-rule=\\\"evenodd\\\" fill-opacity=\\\"1\\\" stroke=\\\"#000000\\\" stroke-opacity=\\\"1\\\" stroke-width=\\\"3.2\\\"\\/>\\n<circle clip-path=\\\"url(#clip472)\\\" cx=\\\"1139.75\\\" cy=\\\"1390.72\\\" r=\\\"14\\\" fill=\\\"#e26f46\\\" fill-rule=\\\"evenodd\\\" fill-opacity=\\\"1\\\" stroke=\\\"#000000\\\" stroke-opacity=\\\"1\\\" stroke-width=\\\"3.2\\\"\\/>\\n<circle clip-path=\\\"url(#clip472)\\\" cx=\\\"1211.65\\\" cy=\\\"1261.89\\\" r=\\\"14\\\" fill=\\\"#e26f46\\\" fill-rule=\\\"evenodd\\\" fill-opacity=\\\"1\\\" stroke=\\\"#000000\\\" stroke-opacity=\\\"1\\\" stroke-width=\\\"3.2\\\"\\/>\\n<circle clip-path=\\\"url(#clip472)\\\" cx=\\\"1283.56\\\" cy=\\\"1135.48\\\" r=\\\"14\\\" fill=\\\"#e26f46\\\" fill-rule=\\\"evenodd\\\" fill-opacity=\\\"1\\\" stroke=\\\"#000000\\\" stroke-opacity=\\\"1\\\" stroke-width=\\\"3.2\\\"\\/>\\n<circle clip-path=\\\"url(#clip472)\\\" cx=\\\"1355.46\\\" cy=\\\"1003.91\\\" r=\\\"14\\\" fill=\\\"#e26f46\\\" fill-rule=\\\"evenodd\\\" fill-opacity=\\\"1\\\" stroke=\\\"#000000\\\" stroke-opacity=\\\"1\\\" stroke-width=\\\"3.2\\\"\\/>\\n<circle clip-path=\\\"url(#clip472)\\\" cx=\\\"1427.36\\\" cy=\\\"867.798\\\" r=\\\"14\\\" fill=\\\"#e26f46\\\" fill-rule=\\\"evenodd\\\" fill-opacity=\\\"1\\\" stroke=\\\"#000000\\\" stroke-opacity=\\\"1\\\" stroke-width=\\\"3.2\\\"\\/>\\n<circle clip-path=\\\"url(#clip472)\\\" cx=\\\"1499.27\\\" cy=\\\"732.426\\\" r=\\\"14\\\" fill=\\\"#e26f46\\\" fill-rule=\\\"evenodd\\\" fill-opacity=\\\"1\\\" stroke=\\\"#000000\\\" stroke-opacity=\\\"1\\\" stroke-width=\\\"3.2\\\"\\/>\\n<circle clip-path=\\\"url(#clip472)\\\" cx=\\\"1571.17\\\" cy=\\\"597.685\\\" r=\\\"14\\\" fill=\\\"#e26f46\\\" fill-rule=\\\"evenodd\\\" fill-opacity=\\\"1\\\" stroke=\\\"#000000\\\" stroke-opacity=\\\"1\\\" stroke-width=\\\"3.2\\\"\\/>\\n<circle clip-path=\\\"url(#clip472)\\\" cx=\\\"1643.07\\\" cy=\\\"466.113\\\" r=\\\"14\\\" fill=\\\"#e26f46\\\" fill-rule=\\\"evenodd\\\" fill-opacity=\\\"1\\\" stroke=\\\"#000000\\\" stroke-opacity=\\\"1\\\" stroke-width=\\\"3.2\\\"\\/>\\n<circle clip-path=\\\"url(#clip472)\\\" cx=\\\"1714.98\\\" cy=\\\"361.732\\\" r=\\\"14\\\" fill=\\\"#e26f46\\\" fill-rule=\\\"evenodd\\\" fill-opacity=\\\"1\\\" stroke=\\\"#000000\\\" stroke-opacity=\\\"1\\\" stroke-width=\\\"3.2\\\"\\/>\\n<circle clip-path=\\\"url(#clip472)\\\" cx=\\\"1786.88\\\" cy=\\\"322.841\\\" r=\\\"14\\\" fill=\\\"#e26f46\\\" fill-rule=\\\"evenodd\\\" fill-opacity=\\\"1\\\" stroke=\\\"#000000\\\" stroke-opacity=\\\"1\\\" stroke-width=\\\"3.2\\\"\\/>\\n<circle clip-path=\\\"url(#clip472)\\\" cx=\\\"1858.78\\\" cy=\\\"308.009\\\" r=\\\"14\\\" fill=\\\"#e26f46\\\" fill-rule=\\\"evenodd\\\" fill-opacity=\\\"1\\\" stroke=\\\"#000000\\\" stroke-opacity=\\\"1\\\" stroke-width=\\\"3.2\\\"\\/>\\n<circle clip-path=\\\"url(#clip472)\\\" cx=\\\"1930.68\\\" cy=\\\"300.062\\\" r=\\\"14\\\" fill=\\\"#e26f46\\\" fill-rule=\\\"evenodd\\\" fill-opacity=\\\"1\\\" stroke=\\\"#000000\\\" stroke-opacity=\\\"1\\\" stroke-width=\\\"3.2\\\"\\/>\\n<circle clip-path=\\\"url(#clip472)\\\" cx=\\\"2002.59\\\" cy=\\\"304.767\\\" r=\\\"14\\\" fill=\\\"#e26f46\\\" fill-rule=\\\"evenodd\\\" fill-opacity=\\\"1\\\" stroke=\\\"#000000\\\" stroke-opacity=\\\"1\\\" stroke-width=\\\"3.2\\\"\\/>\\n<circle clip-path=\\\"url(#clip472)\\\" cx=\\\"2074.49\\\" cy=\\\"310.026\\\" r=\\\"14\\\" fill=\\\"#e26f46\\\" fill-rule=\\\"evenodd\\\" fill-opacity=\\\"1\\\" stroke=\\\"#000000\\\" stroke-opacity=\\\"1\\\" stroke-width=\\\"3.2\\\"\\/>\\n<circle clip-path=\\\"url(#clip472)\\\" cx=\\\"2146.39\\\" cy=\\\"315.088\\\" r=\\\"14\\\" fill=\\\"#e26f46\\\" fill-rule=\\\"evenodd\\\" fill-opacity=\\\"1\\\" stroke=\\\"#000000\\\" stroke-opacity=\\\"1\\\" stroke-width=\\\"3.2\\\"\\/>\\n<circle clip-path=\\\"url(#clip472)\\\" cx=\\\"2218.3\\\" cy=\\\"329.145\\\" r=\\\"14\\\" fill=\\\"#e26f46\\\" fill-rule=\\\"evenodd\\\" fill-opacity=\\\"1\\\" stroke=\\\"#000000\\\" stroke-opacity=\\\"1\\\" stroke-width=\\\"3.2\\\"\\/>\\n<circle clip-path=\\\"url(#clip472)\\\" cx=\\\"2290.2\\\" cy=\\\"426.035\\\" r=\\\"14\\\" fill=\\\"#e26f46\\\" fill-rule=\\\"evenodd\\\" fill-opacity=\\\"1\\\" stroke=\\\"#000000\\\" stroke-opacity=\\\"1\\\" stroke-width=\\\"3.2\\\"\\/>\\n<path clip-path=\\\"url(#clip470)\\\" d=\\\"\\nM1828.95 276.658 L2279.08 276.658 L2279.08 95.2176 L1828.95 95.2176  Z\\n  \\\" fill=\\\"#ffffff\\\" fill-rule=\\\"evenodd\\\" fill-opacity=\\\"1\\\"\\/>\\n<polyline clip-path=\\\"url(#clip470)\\\" style=\\\"stroke:#000000; stroke-width:4; stroke-opacity:1; fill:none\\\" points=\\\"\\n  1828.95,276.658 2279.08,276.658 2279.08,95.2176 1828.95,95.2176 1828.95,276.658 \\n  \\\"\\/>\\n<circle clip-path=\\\"url(#clip470)\\\" cx=\\\"1927.19\\\" cy=\\\"155.698\\\" r=\\\"23\\\" fill=\\\"#009af9\\\" fill-rule=\\\"evenodd\\\" fill-opacity=\\\"1\\\" stroke=\\\"#000000\\\" stroke-opacity=\\\"1\\\" stroke-width=\\\"5.12\\\"\\/>\\n<path clip-path=\\\"url(#clip470)\\\" d=\\\"M 0 0 M2044.34 150.987 L2044.34 136.959 L2048.6 136.959 L2048.6 172.978 L2044.34 172.978 L2044.34 169.089 Q2042.99 171.403 2040.93 172.538 Q2038.9 173.649 2036.03 173.649 Q2031.33 173.649 2028.37 169.899 Q2025.43 166.149 2025.43 160.038 Q2025.43 153.927 2028.37 150.177 Q2031.33 146.427 2036.03 146.427 Q2038.9 146.427 2040.93 147.561 Q2042.99 148.672 2044.34 150.987 M2029.82 160.038 Q2029.82 164.737 2031.74 167.422 Q2033.69 170.084 2037.07 170.084 Q2040.45 170.084 2042.39 167.422 Q2044.34 164.737 2044.34 160.038 Q2044.34 155.339 2042.39 152.677 Q2040.45 149.992 2037.07 149.992 Q2033.69 149.992 2031.74 152.677 Q2029.82 155.339 2029.82 160.038 Z\\\" fill=\\\"#000000\\\" fill-rule=\\\"evenodd\\\" fill-opacity=\\\"1\\\" \\/><path clip-path=\\\"url(#clip470)\\\" d=\\\"M 0 0 M2064.85 159.945 Q2059.68 159.945 2057.69 161.126 Q2055.7 162.306 2055.7 165.154 Q2055.7 167.422 2057.18 168.765 Q2058.69 170.084 2061.26 170.084 Q2064.8 170.084 2066.93 167.584 Q2069.08 165.061 2069.08 160.894 L2069.08 159.945 L2064.85 159.945 M2073.34 158.186 L2073.34 172.978 L2069.08 172.978 L2069.08 169.042 Q2067.62 171.403 2065.45 172.538 Q2063.27 173.649 2060.12 173.649 Q2056.14 173.649 2053.78 171.427 Q2051.44 169.181 2051.44 165.431 Q2051.44 161.056 2054.36 158.834 Q2057.3 156.612 2063.11 156.612 L2069.08 156.612 L2069.08 156.195 Q2069.08 153.255 2067.14 151.658 Q2065.22 150.038 2061.72 150.038 Q2059.5 150.038 2057.39 150.57 Q2055.29 151.103 2053.34 152.167 L2053.34 148.232 Q2055.68 147.33 2057.88 146.89 Q2060.08 146.427 2062.16 146.427 Q2067.79 146.427 2070.56 149.343 Q2073.34 152.26 2073.34 158.186 Z\\\" fill=\\\"#000000\\\" fill-rule=\\\"evenodd\\\" fill-opacity=\\\"1\\\" \\/><path clip-path=\\\"url(#clip470)\\\" d=\\\"M 0 0 M2082.02 139.691 L2082.02 147.052 L2090.8 147.052 L2090.8 150.362 L2082.02 150.362 L2082.02 164.436 Q2082.02 167.607 2082.88 168.51 Q2083.76 169.413 2086.42 169.413 L2090.8 169.413 L2090.8 172.978 L2086.42 172.978 Q2081.49 172.978 2079.61 171.149 Q2077.74 169.297 2077.74 164.436 L2077.74 150.362 L2074.62 150.362 L2074.62 147.052 L2077.74 147.052 L2077.74 139.691 L2082.02 139.691 Z\\\" fill=\\\"#000000\\\" fill-rule=\\\"evenodd\\\" fill-opacity=\\\"1\\\" \\/><path clip-path=\\\"url(#clip470)\\\" d=\\\"M 0 0 M2107.05 159.945 Q2101.88 159.945 2099.89 161.126 Q2097.9 162.306 2097.9 165.154 Q2097.9 167.422 2099.38 168.765 Q2100.89 170.084 2103.46 170.084 Q2107 170.084 2109.13 167.584 Q2111.28 165.061 2111.28 160.894 L2111.28 159.945 L2107.05 159.945 M2115.54 158.186 L2115.54 172.978 L2111.28 172.978 L2111.28 169.042 Q2109.82 171.403 2107.65 172.538 Q2105.47 173.649 2102.32 173.649 Q2098.34 173.649 2095.98 171.427 Q2093.64 169.181 2093.64 165.431 Q2093.64 161.056 2096.56 158.834 Q2099.5 156.612 2105.31 156.612 L2111.28 156.612 L2111.28 156.195 Q2111.28 153.255 2109.34 151.658 Q2107.42 150.038 2103.92 150.038 Q2101.7 150.038 2099.59 150.57 Q2097.49 151.103 2095.54 152.167 L2095.54 148.232 Q2097.88 147.33 2100.08 146.89 Q2102.28 146.427 2104.36 146.427 Q2109.99 146.427 2112.76 149.343 Q2115.54 152.26 2115.54 158.186 Z\\\" fill=\\\"#000000\\\" fill-rule=\\\"evenodd\\\" fill-opacity=\\\"1\\\" \\/><circle clip-path=\\\"url(#clip470)\\\" cx=\\\"1927.19\\\" cy=\\\"216.178\\\" r=\\\"23\\\" fill=\\\"#e26f46\\\" fill-rule=\\\"evenodd\\\" fill-opacity=\\\"1\\\" stroke=\\\"#000000\\\" stroke-opacity=\\\"1\\\" stroke-width=\\\"5.12\\\"\\/>\\n<path clip-path=\\\"url(#clip470)\\\" d=\\\"M 0 0 M2029.71 229.569 L2029.71 243.319 L2025.43 243.319 L2025.43 207.532 L2029.71 207.532 L2029.71 211.467 Q2031.05 209.152 2033.09 208.041 Q2035.15 206.907 2037.99 206.907 Q2042.72 206.907 2045.66 210.657 Q2048.62 214.407 2048.62 220.518 Q2048.62 226.629 2045.66 230.379 Q2042.72 234.129 2037.99 234.129 Q2035.15 234.129 2033.09 233.018 Q2031.05 231.883 2029.71 229.569 M2044.2 220.518 Q2044.2 215.819 2042.25 213.157 Q2040.33 210.472 2036.95 210.472 Q2033.57 210.472 2031.63 213.157 Q2029.71 215.819 2029.71 220.518 Q2029.71 225.217 2031.63 227.902 Q2033.57 230.564 2036.95 230.564 Q2040.33 230.564 2042.25 227.902 Q2044.2 225.217 2044.2 220.518 Z\\\" fill=\\\"#000000\\\" fill-rule=\\\"evenodd\\\" fill-opacity=\\\"1\\\" \\/><path clip-path=\\\"url(#clip470)\\\" d=\\\"M 0 0 M2068.11 211.513 Q2067.39 211.097 2066.54 210.911 Q2065.7 210.703 2064.68 210.703 Q2061.07 210.703 2059.13 213.064 Q2057.21 215.402 2057.21 219.8 L2057.21 233.458 L2052.93 233.458 L2052.93 207.532 L2057.21 207.532 L2057.21 211.56 Q2058.55 209.198 2060.7 208.064 Q2062.86 206.907 2065.93 206.907 Q2066.37 206.907 2066.91 206.976 Q2067.44 207.023 2068.09 207.138 L2068.11 211.513 Z\\\" fill=\\\"#000000\\\" fill-rule=\\\"evenodd\\\" fill-opacity=\\\"1\\\" \\/><path clip-path=\\\"url(#clip470)\\\" d=\\\"M 0 0 M2093.71 219.43 L2093.71 221.513 L2074.13 221.513 Q2074.41 225.911 2076.77 228.226 Q2079.15 230.518 2083.39 230.518 Q2085.84 230.518 2088.13 229.916 Q2090.45 229.314 2092.72 228.11 L2092.72 232.138 Q2090.43 233.11 2088.02 233.62 Q2085.61 234.129 2083.13 234.129 Q2076.93 234.129 2073.3 230.518 Q2069.68 226.907 2069.68 220.749 Q2069.68 214.384 2073.11 210.657 Q2076.56 206.907 2082.39 206.907 Q2087.62 206.907 2090.66 210.286 Q2093.71 213.643 2093.71 219.43 M2089.45 218.18 Q2089.41 214.685 2087.49 212.601 Q2085.59 210.518 2082.44 210.518 Q2078.87 210.518 2076.72 212.532 Q2074.59 214.546 2074.27 218.203 L2089.45 218.18 Z\\\" fill=\\\"#000000\\\" fill-rule=\\\"evenodd\\\" fill-opacity=\\\"1\\\" \\/><path clip-path=\\\"url(#clip470)\\\" d=\\\"M 0 0 M2115.24 211.467 L2115.24 197.439 L2119.5 197.439 L2119.5 233.458 L2115.24 233.458 L2115.24 229.569 Q2113.9 231.883 2111.84 233.018 Q2109.8 234.129 2106.93 234.129 Q2102.23 234.129 2099.27 230.379 Q2096.33 226.629 2096.33 220.518 Q2096.33 214.407 2099.27 210.657 Q2102.23 206.907 2106.93 206.907 Q2109.8 206.907 2111.84 208.041 Q2113.9 209.152 2115.24 211.467 M2100.73 220.518 Q2100.73 225.217 2102.65 227.902 Q2104.59 230.564 2107.97 230.564 Q2111.35 230.564 2113.3 227.902 Q2115.24 225.217 2115.24 220.518 Q2115.24 215.819 2113.3 213.157 Q2111.35 210.472 2107.97 210.472 Q2104.59 210.472 2102.65 213.157 Q2100.73 215.819 2100.73 220.518 Z\\\" fill=\\\"#000000\\\" fill-rule=\\\"evenodd\\\" fill-opacity=\\\"1\\\" \\/><path clip-path=\\\"url(#clip470)\\\" d=\\\"M 0 0 M2123.97 207.532 L2128.23 207.532 L2128.23 233.458 L2123.97 233.458 L2123.97 207.532 M2123.97 197.439 L2128.23 197.439 L2128.23 202.833 L2123.97 202.833 L2123.97 197.439 Z\\\" fill=\\\"#000000\\\" fill-rule=\\\"evenodd\\\" fill-opacity=\\\"1\\\" \\/><path clip-path=\\\"url(#clip470)\\\" d=\\\"M 0 0 M2151.35 208.527 L2151.35 212.509 Q2149.55 211.513 2147.72 211.027 Q2145.91 210.518 2144.06 210.518 Q2139.92 210.518 2137.62 213.157 Q2135.33 215.772 2135.33 220.518 Q2135.33 225.263 2137.62 227.902 Q2139.92 230.518 2144.06 230.518 Q2145.91 230.518 2147.72 230.032 Q2149.55 229.522 2151.35 228.527 L2151.35 232.462 Q2149.57 233.296 2147.65 233.712 Q2145.75 234.129 2143.6 234.129 Q2137.74 234.129 2134.29 230.448 Q2130.84 226.768 2130.84 220.518 Q2130.84 214.175 2134.31 210.541 Q2137.81 206.907 2143.87 206.907 Q2145.84 206.907 2147.72 207.323 Q2149.59 207.717 2151.35 208.527 Z\\\" fill=\\\"#000000\\\" fill-rule=\\\"evenodd\\\" fill-opacity=\\\"1\\\" \\/><path clip-path=\\\"url(#clip470)\\\" d=\\\"M 0 0 M2160.03 200.171 L2160.03 207.532 L2168.8 207.532 L2168.8 210.842 L2160.03 210.842 L2160.03 224.916 Q2160.03 228.087 2160.89 228.99 Q2161.77 229.893 2164.43 229.893 L2168.8 229.893 L2168.8 233.458 L2164.43 233.458 Q2159.5 233.458 2157.62 231.629 Q2155.75 229.777 2155.75 224.916 L2155.75 210.842 L2152.62 210.842 L2152.62 207.532 L2155.75 207.532 L2155.75 200.171 L2160.03 200.171 Z\\\" fill=\\\"#000000\\\" fill-rule=\\\"evenodd\\\" fill-opacity=\\\"1\\\" \\/><path clip-path=\\\"url(#clip470)\\\" d=\\\"M 0 0 M2173.27 207.532 L2177.53 207.532 L2177.53 233.458 L2173.27 233.458 L2173.27 207.532 M2173.27 197.439 L2177.53 197.439 L2177.53 202.833 L2173.27 202.833 L2173.27 197.439 Z\\\" fill=\\\"#000000\\\" fill-rule=\\\"evenodd\\\" fill-opacity=\\\"1\\\" \\/><path clip-path=\\\"url(#clip470)\\\" d=\\\"M 0 0 M2192.04 210.518 Q2188.62 210.518 2186.63 213.203 Q2184.64 215.865 2184.64 220.518 Q2184.64 225.171 2186.61 227.856 Q2188.6 230.518 2192.04 230.518 Q2195.45 230.518 2197.44 227.833 Q2199.43 225.147 2199.43 220.518 Q2199.43 215.911 2197.44 213.226 Q2195.45 210.518 2192.04 210.518 M2192.04 206.907 Q2197.6 206.907 2200.77 210.518 Q2203.94 214.129 2203.94 220.518 Q2203.94 226.884 2200.77 230.518 Q2197.6 234.129 2192.04 234.129 Q2186.47 234.129 2183.29 230.518 Q2180.15 226.884 2180.15 220.518 Q2180.15 214.129 2183.29 210.518 Q2186.47 206.907 2192.04 206.907 Z\\\" fill=\\\"#000000\\\" fill-rule=\\\"evenodd\\\" fill-opacity=\\\"1\\\" \\/><path clip-path=\\\"url(#clip470)\\\" d=\\\"M 0 0 M2229.96 217.809 L2229.96 233.458 L2225.7 233.458 L2225.7 217.948 Q2225.7 214.268 2224.27 212.439 Q2222.83 210.61 2219.96 210.61 Q2216.51 210.61 2214.52 212.81 Q2212.53 215.009 2212.53 218.805 L2212.53 233.458 L2208.25 233.458 L2208.25 207.532 L2212.53 207.532 L2212.53 211.56 Q2214.06 209.222 2216.12 208.064 Q2218.2 206.907 2220.91 206.907 Q2225.38 206.907 2227.67 209.685 Q2229.96 212.439 2229.96 217.809 Z\\\" fill=\\\"#000000\\\" fill-rule=\\\"evenodd\\\" fill-opacity=\\\"1\\\" \\/><\\/svg>\\n\"},\"nodeType\":\"DOM\",\"type\":\"node\",\"instanceArgs\":{\"namespace\":\"html\",\"tag\":\"div\"},\"children\":[]}]}}}},\"children\":[{\"props\":{},\"nodeType\":\"ObservableNode\",\"type\":\"node\",\"instanceArgs\":{\"id\":\"14990799652928175674\",\"name\":\"obs-node\"},\"children\":[]}]}]},\n",
       "            window,\n",
       "        );\n",
       "    } else {\n",
       "        document\n",
       "            .querySelector('[data-webio-mountpoint=\"3289971250512272317\"]')\n",
       "            .innerHTML = (\n",
       "                '<div style=\"padding: 1em; background-color: #f8d6da; border: 1px solid #f5c6cb\">' +\n",
       "                '<p><strong>WebIO not detected.</strong></p>' +\n",
       "                '<p>Please read ' +\n",
       "                '<a href=\"https://juliagizmos.github.io/WebIO.jl/latest/troubleshooting/not-detected/\" target=\"_blank\">the troubleshooting guide</a> ' +\n",
       "                'for more information on how to resolve this issue.</p>' +\n",
       "                '<p><a href=\"https://juliagizmos.github.io/WebIO.jl/latest/troubleshooting/not-detected/\" target=\"_blank\">https://juliagizmos.github.io/WebIO.jl/latest/troubleshooting/not-detected/</a></p>' +\n",
       "                '</div>'\n",
       "            );\n",
       "    }\n",
       "    </script>\n",
       "</div>\n"
      ],
      "text/plain": [
       "Node{WebIO.DOM}(WebIO.DOM(:html, :div), Any[Node{WebIO.DOM}(WebIO.DOM(:html, :div), Any[Scope(Node{WebIO.DOM}(WebIO.DOM(:html, :div), Any[Node{WebIO.DOM}(WebIO.DOM(:html, :div), Any[Node{WebIO.DOM}(WebIO.DOM(:html, :label), Any[\"i\"], Dict{Symbol,Any}(:className => \"interact \",:style => Dict{Any,Any}(:padding => \"5px 10px 0px 10px\")))], Dict{Symbol,Any}(:className => \"interact-flex-row-left\")), Node{WebIO.DOM}(WebIO.DOM(:html, :div), Any[Node{WebIO.DOM}(WebIO.DOM(:html, :input), Any[], Dict{Symbol,Any}(:max => 6,:min => 1,:attributes => Dict{Any,Any}(:type => \"range\",Symbol(\"data-bind\") => \"numericValue: index, valueUpdate: 'input', event: {change: function (){this.changes(this.changes()+1)}}\",\"orient\" => \"horizontal\"),:step => 1,:className => \"slider slider is-fullwidth\",:style => Dict{Any,Any}()))], Dict{Symbol,Any}(:className => \"interact-flex-row-center\")), Node{WebIO.DOM}(WebIO.DOM(:html, :div), Any[Node{WebIO.DOM}(WebIO.DOM(:html, :p), Any[], Dict{Symbol,Any}(:attributes => Dict(\"data-bind\" => \"text: formatted_val\")))], Dict{Symbol,Any}(:className => \"interact-flex-row-right\"))], Dict{Symbol,Any}(:className => \"interact-flex-row interact-widget\")), Dict{String,Tuple{Observables.AbstractObservable,Union{Nothing, Bool}}}(\"changes\" => (Observable{Int64} with 1 listeners. Value:\n",
       "0, nothing),\"index\" => (Observable{Int64} with 2 listeners. Value:\n",
       "3, nothing)), Set{String}(), nothing, Asset[Asset(\"js\", \"knockout\", \"/home/aelfric/.julia/packages/Knockout/IP1uR/src/../assets/knockout.js\"), Asset(\"js\", \"knockout_punches\", \"/home/aelfric/.julia/packages/Knockout/IP1uR/src/../assets/knockout_punches.js\"), Asset(\"js\", nothing, \"/home/aelfric/.julia/packages/InteractBase/Zfu5P/src/../assets/all.js\"), Asset(\"css\", nothing, \"/home/aelfric/.julia/packages/InteractBase/Zfu5P/src/../assets/style.css\"), Asset(\"css\", nothing, \"/home/aelfric/.julia/packages/Interact/SbgIk/src/../assets/bulma_confined.min.css\")], Dict{Any,Any}(\"changes\" => Any[WebIO.JSString(\"(function (val){return (val!=this.model[\\\"changes\\\"]()) ? (this.valueFromJulia[\\\"changes\\\"]=true, this.model[\\\"changes\\\"](val)) : undefined})\")],\"index\" => Any[WebIO.JSString(\"(function (val){return (val!=this.model[\\\"index\\\"]()) ? (this.valueFromJulia[\\\"index\\\"]=true, this.model[\\\"index\\\"](val)) : undefined})\")]), WebIO.ConnectionPool(Channel{Any}(sz_max:32,sz_curr:0), Set{AbstractConnection}(), Base.GenericCondition{Base.AlwaysLockedST}(Base.InvasiveLinkedList{Task}(Task (runnable) @0x00007f7733ff1fc0, Task (runnable) @0x00007f7733ff1fc0), Base.AlwaysLockedST(1))), WebIO.JSString[WebIO.JSString(\"function () {\\n    var handler = (function (ko, koPunches) {\\n    ko.punches.enableAll();\\n    ko.bindingHandlers.numericValue = {\\n        init: function(element, valueAccessor, allBindings, data, context) {\\n            var stringified = ko.observable(ko.unwrap(valueAccessor()));\\n            stringified.subscribe(function(value) {\\n                var val = parseFloat(value);\\n                if (!isNaN(val)) {\\n                    valueAccessor()(val);\\n                }\\n            });\\n            valueAccessor().subscribe(function(value) {\\n                var str = JSON.stringify(value);\\n                if ((str == \\\"0\\\") && ([\\\"-0\\\", \\\"-0.\\\"].indexOf(stringified()) >= 0))\\n                     return;\\n                 if ([\\\"null\\\", \\\"\\\"].indexOf(str) >= 0)\\n                     return;\\n                stringified(str);\\n            });\\n            ko.applyBindingsToNode(\\n                element,\\n                {\\n                    value: stringified,\\n                    valueUpdate: allBindings.get('valueUpdate'),\\n                },\\n                context,\\n            );\\n        }\\n    };\\n    var json_data = {\\\"formatted_vals\\\":[\\\"1\\\",\\\"2\\\",\\\"3\\\",\\\"4\\\",\\\"5\\\",\\\"6\\\"],\\\"changes\\\":WebIO.getval({\\\"name\\\":\\\"changes\\\",\\\"scope\\\":\\\"8215165378425474949\\\",\\\"id\\\":\\\"11639389805613208899\\\",\\\"type\\\":\\\"observable\\\"}),\\\"index\\\":WebIO.getval({\\\"name\\\":\\\"index\\\",\\\"scope\\\":\\\"8215165378425474949\\\",\\\"id\\\":\\\"9051601779410436132\\\",\\\"type\\\":\\\"observable\\\"})};\\n    var self = this;\\n    function AppViewModel() {\\n        for (var key in json_data) {\\n            var el = json_data[key];\\n            this[key] = Array.isArray(el) ? ko.observableArray(el) : ko.observable(el);\\n        }\\n        \\n        [this[\\\"formatted_val\\\"]=ko.computed(    function(){\\n        return this.formatted_vals()[parseInt(this.index())-(1)];\\n    }\\n,this)]\\n        [this[\\\"changes\\\"].subscribe((function (val){!(this.valueFromJulia[\\\"changes\\\"]) ? (WebIO.setval({\\\"name\\\":\\\"changes\\\",\\\"scope\\\":\\\"8215165378425474949\\\",\\\"id\\\":\\\"11639389805613208899\\\",\\\"type\\\":\\\"observable\\\"},val)) : undefined; return this.valueFromJulia[\\\"changes\\\"]=false}),self),this[\\\"index\\\"].subscribe((function (val){!(this.valueFromJulia[\\\"index\\\"]) ? (WebIO.setval({\\\"name\\\":\\\"index\\\",\\\"scope\\\":\\\"8215165378425474949\\\",\\\"id\\\":\\\"9051601779410436132\\\",\\\"type\\\":\\\"observable\\\"},val)) : undefined; return this.valueFromJulia[\\\"index\\\"]=false}),self)]\\n        \\n    }\\n    self.model = new AppViewModel();\\n    self.valueFromJulia = {};\\n    for (var key in json_data) {\\n        self.valueFromJulia[key] = false;\\n    }\\n    ko.applyBindings(self.model, self.dom);\\n}\\n);\\n    (WebIO.importBlock({\\\"data\\\":[{\\\"name\\\":\\\"knockout\\\",\\\"type\\\":\\\"js\\\",\\\"url\\\":\\\"/assetserver/a1995f9644994451050a3199eedb89075202ec41-knockout.js\\\"},{\\\"name\\\":\\\"knockout_punches\\\",\\\"type\\\":\\\"js\\\",\\\"url\\\":\\\"/assetserver/1e1d754682eadb2e820ab28b3359a7fed5f2d9ad-knockout_punches.js\\\"}],\\\"type\\\":\\\"async_block\\\"})).then((imports) => handler.apply(this, imports));\\n}\\n\")])], Dict{Symbol,Any}(:className => \"field interact-widget\")), Observable{Any} with 0 listeners. Value:\n",
       "Node{WebIO.DOM}(WebIO.DOM(:html, :div), Any[Plot{Plots.GRBackend() n=2}], Dict{Symbol,Any}(:className => \"interact-flex-row interact-widget\"))], Dict{Symbol,Any}())"
      ]
     },
     "execution_count": 9,
     "metadata": {
      "application/vnd.webio.node+json": {
       "kernelId": "9418b149-fffd-45d8-9828-fbc3d49f89d3"
      }
     },
     "output_type": "execute_result"
    }
   ],
   "source": [
    "# using interactive widget\n",
    "@manipulate for i in 1:length(training_plots)\n",
    "    plot(training_plots[i])\n",
    "end"
   ]
  },
  {
   "cell_type": "markdown",
   "id": "thermal-priest",
   "metadata": {},
   "source": [
    "And true enough, we were able to fit the parameters of the neural network (can we extract true A from this?)."
   ]
  },
  {
   "cell_type": "markdown",
   "id": "normal-experiment",
   "metadata": {},
   "source": [
    "## Augmented Neural ODE\n",
    "Not every function can be represented by an ODE; specifically, some\n",
    "\n",
    "$$u(t) : \\mathbb{R} \\rightarrow \\mathbb{R}^n$$\n",
    "\n",
    "would be unable to be multivariate unless cyclic.\n",
    "\n",
    "This is because the *flow* of the ODE is unique at every $t$; for the above mapping to have at least *two directions of flow* for a given point $u_i$, there would have to be at least *two solutions* in phase space to\n",
    "\n",
    "$$u^\\prime = f(u, p, t),$$\n",
    "\n",
    "using the convention $u(0) = u_i$, which cannot happen with a monotonic map.\n",
    "\n",
    "We can rectify this by introducing additional degrees of freedom, to ensure that the ODE does not overlap. This is the so-called *augmented neural ODE*. \n",
    "\n",
    "This can be built using the following prescription:\n",
    "- add a fake state to the ODE which is 0 everywhere\n",
    "- allow this extra dimension to *bump* around to let the function become a [universal approximator](https://en.wikipedia.org/wiki/Universal_approximation_theorem)\n",
    "\n",
    "In Julia, this is:\n",
    "```julia\n",
    "dudt = Chain(...)\n",
    "p, re = Flux.destructure(dudt)\n",
    "\n",
    "dudt_(u, p, t) = re(p)(u)\n",
    "prob = ODEProblem(dudt_, [u0, f0], tspan, p)\n",
    "\n",
    "augmented_data = vcat(\n",
    "    ode_data,\n",
    "    zeros(\n",
    "        1,\n",
    "        size(ode_data, 2)\n",
    "    )\n",
    ")\n",
    "```"
   ]
  }
 ],
 "metadata": {
  "@webio": {
   "lastCommId": "9abc914ca7df454080ea91e1d495b762",
   "lastKernelId": "9418b149-fffd-45d8-9828-fbc3d49f89d3"
  },
  "kernelspec": {
   "display_name": "Julia 1.5.3",
   "language": "julia",
   "name": "julia-1.5"
  },
  "language_info": {
   "file_extension": ".jl",
   "mimetype": "application/julia",
   "name": "julia",
   "version": "1.5.3"
  }
 },
 "nbformat": 4,
 "nbformat_minor": 5
}
