{
 "cells": [
  {
   "cell_type": "markdown",
   "id": "24586e1d",
   "metadata": {},
   "source": [
    "# JuMP basics\n",
    "\n",
    "Following from the [JuMP tutorials](https://github.com/jump-dev/JuMPTutorials.jl).\n",
    "\n",
    "This notebook is pending updates."
   ]
  },
  {
   "cell_type": "code",
   "execution_count": 1,
   "id": "94e5993b",
   "metadata": {},
   "outputs": [
    {
     "name": "stderr",
     "output_type": "stream",
     "text": [
      "┌ Info: Precompiling JuMP [4076af6c-e467-56ae-b986-b466b2749572]\n",
      "└ @ Base loading.jl:1317\n",
      "┌ Info: Precompiling GLPK [60bf3e95-4087-53dc-ae20-288a0d20c6a6]\n",
      "└ @ Base loading.jl:1317\n"
     ]
    }
   ],
   "source": [
    "using JuMP\n",
    "using GLPK"
   ]
  },
  {
   "cell_type": "code",
   "execution_count": 2,
   "id": "3ee4f95d",
   "metadata": {},
   "outputs": [
    {
     "data": {
      "text/plain": [
       "A JuMP Model\n",
       "Feasibility problem with:\n",
       "Variables: 0\n",
       "Model mode: AUTOMATIC\n",
       "CachingOptimizer state: EMPTY_OPTIMIZER\n",
       "Solver name: GLPK"
      ]
     },
     "execution_count": 2,
     "metadata": {},
     "output_type": "execute_result"
    }
   ],
   "source": [
    "model = Model(GLPK.Optimizer)"
   ]
  },
  {
   "cell_type": "code",
   "execution_count": 3,
   "id": "fd237c2b",
   "metadata": {},
   "outputs": [
    {
     "data": {
      "text/latex": [
       "$$ y $$"
      ],
      "text/plain": [
       "y"
      ]
     },
     "execution_count": 3,
     "metadata": {},
     "output_type": "execute_result"
    }
   ],
   "source": [
    "@variable(model, 0 <= x <= 2)\n",
    "@variable(model, 0 <= y <= 30)"
   ]
  },
  {
   "cell_type": "code",
   "execution_count": 4,
   "id": "3ea6119e",
   "metadata": {},
   "outputs": [
    {
     "data": {
      "text/latex": [
       "$$ 5 x + 3 y $$"
      ],
      "text/plain": [
       "5 x + 3 y"
      ]
     },
     "execution_count": 4,
     "metadata": {},
     "output_type": "execute_result"
    }
   ],
   "source": [
    "@objective(model, Max, 5x + 3 * y)"
   ]
  },
  {
   "cell_type": "code",
   "execution_count": 5,
   "id": "12a7439a",
   "metadata": {},
   "outputs": [
    {
     "data": {
      "text/latex": [
       "con : $ x + 5 y \\leq 3.0 $"
      ],
      "text/plain": [
       "con : x + 5 y ≤ 3.0"
      ]
     },
     "execution_count": 5,
     "metadata": {},
     "output_type": "execute_result"
    }
   ],
   "source": [
    "@constraint(model, con, 1x + 5y <= 3)"
   ]
  },
  {
   "cell_type": "code",
   "execution_count": 6,
   "id": "3ce8e060",
   "metadata": {},
   "outputs": [],
   "source": [
    "optimize!(model)"
   ]
  },
  {
   "cell_type": "code",
   "execution_count": 7,
   "id": "e95df6cb",
   "metadata": {},
   "outputs": [
    {
     "data": {
      "text/plain": [
       "OPTIMAL::TerminationStatusCode = 1"
      ]
     },
     "execution_count": 7,
     "metadata": {},
     "output_type": "execute_result"
    }
   ],
   "source": [
    "termination_status(model) "
   ]
  },
  {
   "cell_type": "code",
   "execution_count": 8,
   "id": "0fce9653",
   "metadata": {},
   "outputs": [
    {
     "data": {
      "text/plain": [
       "10.6"
      ]
     },
     "execution_count": 8,
     "metadata": {},
     "output_type": "execute_result"
    }
   ],
   "source": [
    "objective_value(model)"
   ]
  },
  {
   "cell_type": "code",
   "execution_count": 9,
   "id": "755efe1f",
   "metadata": {},
   "outputs": [
    {
     "data": {
      "text/plain": [
       "2.0"
      ]
     },
     "execution_count": 9,
     "metadata": {},
     "output_type": "execute_result"
    }
   ],
   "source": [
    "value(x)"
   ]
  },
  {
   "cell_type": "code",
   "execution_count": 10,
   "id": "e776c036",
   "metadata": {},
   "outputs": [
    {
     "data": {
      "text/plain": [
       "0.2"
      ]
     },
     "execution_count": 10,
     "metadata": {},
     "output_type": "execute_result"
    }
   ],
   "source": [
    "value(y)"
   ]
  },
  {
   "cell_type": "code",
   "execution_count": 11,
   "id": "3a0ec38d",
   "metadata": {},
   "outputs": [
    {
     "data": {
      "text/plain": [
       "-0.6"
      ]
     },
     "execution_count": 11,
     "metadata": {},
     "output_type": "execute_result"
    }
   ],
   "source": [
    "dual(con)"
   ]
  },
  {
   "cell_type": "markdown",
   "id": "9a220382",
   "metadata": {},
   "source": [
    "## Sudoku\n",
    "\n",
    "```\n",
    "x[i,j,k] = 1 iff (i, j) has value k\n",
    "```"
   ]
  },
  {
   "cell_type": "code",
   "execution_count": 12,
   "id": "e34118b9",
   "metadata": {},
   "outputs": [],
   "source": [
    "sudoku = Model(GLPK.Optimizer)\n",
    "\n",
    "@variable(sudoku, x[i=1:9, j=1:9, k=1:9], Bin)\n",
    ";"
   ]
  },
  {
   "cell_type": "code",
   "execution_count": 13,
   "id": "70145709",
   "metadata": {},
   "outputs": [],
   "source": [
    "# only one number per cell\n",
    "\n",
    "for i in 1:9, j in 1:9\n",
    "   @constraint(sudoku, sum(x[i, j, k] for k in 1:9) == 1) \n",
    "end"
   ]
  },
  {
   "cell_type": "code",
   "execution_count": 14,
   "id": "b131e18e",
   "metadata": {},
   "outputs": [],
   "source": [
    "for ind = 1:9 # for each row / column\n",
    "    for k = 1:9 # for each digit\n",
    "        @constraint(sudoku, sum(x[ind, j, k] for j in 1:9) == 1) # 1-9 appears once per row\n",
    "        @constraint(sudoku, sum(x[i, ind, k] for i in 1:9) == 1) # per column\n",
    "    end\n",
    "end"
   ]
  },
  {
   "cell_type": "code",
   "execution_count": 15,
   "id": "eb11492b",
   "metadata": {},
   "outputs": [],
   "source": [
    "for i = 1:3:7, j = 1:3:7, k = 1:9\n",
    "    # i is top left row, j is top left column\n",
    "    @constraint(sudoku, sum(x[r, c, k] for r in i:i+2, c in j:j+2) == 1)\n",
    "end"
   ]
  },
  {
   "cell_type": "code",
   "execution_count": 16,
   "id": "1370f8ed",
   "metadata": {},
   "outputs": [],
   "source": [
    "init_sol = [\n",
    "    0 1 0  0 0 2  0 0 8;\n",
    "    7 0 0  1 0 0  0 0 0;\n",
    "    9 0 0  3 0 0  5 6 0;\n",
    "    \n",
    "    0 0 0  0 0 8  0 0 0;\n",
    "    0 5 0  0 0 0  0 3 0;\n",
    "    2 0 0  7 0 0  1 9 0;\n",
    "    \n",
    "    0 0 0  0 0 0  0 0 4;\n",
    "    0 0 0  6 4 9  0 5 0;\n",
    "    5 0 0  0 0 0  0 0 3\n",
    "]\n",
    "\n",
    "# insert initial conditions into model\n",
    "\n",
    "for i in 1:9, j in 1:9\n",
    "    if init_sol[i, j] != 0\n",
    "       @constraint(sudoku, x[i, j, init_sol[i, j]] == 1) \n",
    "    end\n",
    "end"
   ]
  },
  {
   "cell_type": "code",
   "execution_count": 17,
   "id": "c33b4e4c",
   "metadata": {},
   "outputs": [],
   "source": [
    "optimize!(sudoku)"
   ]
  },
  {
   "cell_type": "code",
   "execution_count": 18,
   "id": "8245b69c",
   "metadata": {
    "scrolled": true
   },
   "outputs": [
    {
     "data": {
      "text/plain": [
       "9×9 Matrix{Int64}:\n",
       " 4  1  5  9  6  2  3  7  8\n",
       " 7  6  3  1  8  5  4  2  9\n",
       " 9  2  8  3  7  4  5  6  1\n",
       " 3  9  6  2  1  8  7  4  5\n",
       " 1  5  7  4  9  6  8  3  2\n",
       " 2  8  4  7  5  3  1  9  6\n",
       " 6  7  2  5  3  1  9  8  4\n",
       " 8  3  1  6  4  9  2  5  7\n",
       " 5  4  9  8  2  7  6  1  3"
      ]
     },
     "execution_count": 18,
     "metadata": {},
     "output_type": "execute_result"
    }
   ],
   "source": [
    "xval = value.(x)\n",
    "\n",
    "sol = zeros(Int, 9, 9)\n",
    "\n",
    "for i in 1:9, j in 1:9, k in 1:9\n",
    "    \n",
    "    if round(Int, xval[i, j, k]) == 1\n",
    "        sol[i, j] = k\n",
    "    end\n",
    "end\n",
    "\n",
    "sol"
   ]
  },
  {
   "cell_type": "markdown",
   "id": "552ba377",
   "metadata": {},
   "source": [
    "## Passport"
   ]
  },
  {
   "cell_type": "code",
   "execution_count": 19,
   "id": "6ad43502",
   "metadata": {},
   "outputs": [
    {
     "data": {
      "text/plain": [
       "(199, 200)"
      ]
     },
     "execution_count": 19,
     "metadata": {},
     "output_type": "execute_result"
    }
   ],
   "source": [
    "using CSV, DataFrames, HTTP\n",
    "\n",
    "\n",
    "\n",
    "dataurl = \"https://raw.githubusercontent.com/jump-dev/JuMPTutorials.jl/master/notebook/using_JuMP/data/passport-index-matrix.csv\"\n",
    "\n",
    "ppdata = CSV.File(HTTP.get(dataurl).body) |> DataFrame\n",
    "\n",
    "size(ppdata)"
   ]
  },
  {
   "cell_type": "markdown",
   "id": "74255662",
   "metadata": {},
   "source": [
    "- 3 = free travel\n",
    "- 2 = eTA required\n",
    "- 1 = visa obtained on arrival\n",
    "- 0 = visa required\n",
    "- -1 is passport and dest is the same"
   ]
  },
  {
   "cell_type": "code",
   "execution_count": 20,
   "id": "5af17e5f",
   "metadata": {},
   "outputs": [
    {
     "data": {
      "text/html": [
       "<table class=\"data-frame\"><thead><tr><th></th><th>Passport</th><th>Afghanistan</th><th>Albania</th><th>Algeria</th><th>Andorra</th><th>Angola</th><th>Antigua and Barbuda</th></tr><tr><th></th><th>String</th><th>Int64</th><th>Int64</th><th>Int64</th><th>Int64</th><th>Int64</th><th>Int64</th></tr></thead><tbody><p>10 rows × 200 columns (omitted printing of 193 columns)</p><tr><th>1</th><td>Afghanistan</td><td>-1</td><td>0</td><td>0</td><td>0</td><td>0</td><td>0</td></tr><tr><th>2</th><td>Albania</td><td>0</td><td>-1</td><td>0</td><td>3</td><td>0</td><td>3</td></tr><tr><th>3</th><td>Algeria</td><td>0</td><td>0</td><td>-1</td><td>0</td><td>1</td><td>0</td></tr><tr><th>4</th><td>Andorra</td><td>0</td><td>3</td><td>0</td><td>-1</td><td>0</td><td>3</td></tr><tr><th>5</th><td>Angola</td><td>0</td><td>0</td><td>0</td><td>0</td><td>-1</td><td>0</td></tr><tr><th>6</th><td>Antigua and Barbuda</td><td>0</td><td>3</td><td>0</td><td>3</td><td>0</td><td>-1</td></tr><tr><th>7</th><td>Argentina</td><td>0</td><td>3</td><td>0</td><td>3</td><td>1</td><td>3</td></tr><tr><th>8</th><td>Armenia</td><td>0</td><td>3</td><td>0</td><td>0</td><td>0</td><td>3</td></tr><tr><th>9</th><td>Australia</td><td>0</td><td>3</td><td>0</td><td>3</td><td>1</td><td>3</td></tr><tr><th>10</th><td>Austria</td><td>0</td><td>3</td><td>0</td><td>3</td><td>1</td><td>3</td></tr></tbody></table>"
      ],
      "text/latex": [
       "\\begin{tabular}{r|cccccccc}\n",
       "\t& Passport & Afghanistan & Albania & Algeria & Andorra & Angola & Antigua and Barbuda & \\\\\n",
       "\t\\hline\n",
       "\t& String & Int64 & Int64 & Int64 & Int64 & Int64 & Int64 & \\\\\n",
       "\t\\hline\n",
       "\t1 & Afghanistan & -1 & 0 & 0 & 0 & 0 & 0 & $\\dots$ \\\\\n",
       "\t2 & Albania & 0 & -1 & 0 & 3 & 0 & 3 & $\\dots$ \\\\\n",
       "\t3 & Algeria & 0 & 0 & -1 & 0 & 1 & 0 & $\\dots$ \\\\\n",
       "\t4 & Andorra & 0 & 3 & 0 & -1 & 0 & 3 & $\\dots$ \\\\\n",
       "\t5 & Angola & 0 & 0 & 0 & 0 & -1 & 0 & $\\dots$ \\\\\n",
       "\t6 & Antigua and Barbuda & 0 & 3 & 0 & 3 & 0 & -1 & $\\dots$ \\\\\n",
       "\t7 & Argentina & 0 & 3 & 0 & 3 & 1 & 3 & $\\dots$ \\\\\n",
       "\t8 & Armenia & 0 & 3 & 0 & 0 & 0 & 3 & $\\dots$ \\\\\n",
       "\t9 & Australia & 0 & 3 & 0 & 3 & 1 & 3 & $\\dots$ \\\\\n",
       "\t10 & Austria & 0 & 3 & 0 & 3 & 1 & 3 & $\\dots$ \\\\\n",
       "\\end{tabular}\n"
      ],
      "text/plain": [
       "\u001b[1m10×200 DataFrame\u001b[0m\n",
       "\u001b[1m Row \u001b[0m│\u001b[1m Passport            \u001b[0m\u001b[1m Afghanistan \u001b[0m\u001b[1m Albania \u001b[0m\u001b[1m Algeria \u001b[0m\u001b[1m Andorra \u001b[0m\u001b[1m Angola \u001b[0m\u001b[1m An\u001b[0m ⋯\n",
       "\u001b[1m     \u001b[0m│\u001b[90m String              \u001b[0m\u001b[90m Int64       \u001b[0m\u001b[90m Int64   \u001b[0m\u001b[90m Int64   \u001b[0m\u001b[90m Int64   \u001b[0m\u001b[90m Int64  \u001b[0m\u001b[90m In\u001b[0m ⋯\n",
       "─────┼──────────────────────────────────────────────────────────────────────────\n",
       "   1 │ Afghanistan                   -1        0        0        0       0     ⋯\n",
       "   2 │ Albania                        0       -1        0        3       0\n",
       "   3 │ Algeria                        0        0       -1        0       1\n",
       "   4 │ Andorra                        0        3        0       -1       0\n",
       "   5 │ Angola                         0        0        0        0      -1     ⋯\n",
       "   6 │ Antigua and Barbuda            0        3        0        3       0\n",
       "   7 │ Argentina                      0        3        0        3       1\n",
       "   8 │ Armenia                        0        3        0        0       0\n",
       "   9 │ Australia                      0        3        0        3       1     ⋯\n",
       "  10 │ Austria                        0        3        0        3       1\n",
       "\u001b[36m                                                             194 columns omitted\u001b[0m"
      ]
     },
     "execution_count": 20,
     "metadata": {},
     "output_type": "execute_result"
    }
   ],
   "source": [
    "ppdata[1:10, :]"
   ]
  },
  {
   "cell_type": "markdown",
   "id": "97ec42f1",
   "metadata": {},
   "source": [
    "Find the minimum number of passports required to visit every country without requiring a visa: interested in -1, and 3 cases."
   ]
  },
  {
   "cell_type": "code",
   "execution_count": 21,
   "id": "326d473e",
   "metadata": {},
   "outputs": [
    {
     "data": {
      "text/html": [
       "<table class=\"data-frame\"><thead><tr><th></th><th>Passport</th><th>Afghanistan</th><th>Albania</th><th>Algeria</th><th>Andorra</th><th>Angola</th><th>Antigua and Barbuda</th></tr><tr><th></th><th>String</th><th>Int64</th><th>Int64</th><th>Int64</th><th>Int64</th><th>Int64</th><th>Int64</th></tr></thead><tbody><p>10 rows × 200 columns (omitted printing of 193 columns)</p><tr><th>1</th><td>Afghanistan</td><td>1</td><td>0</td><td>0</td><td>0</td><td>0</td><td>0</td></tr><tr><th>2</th><td>Albania</td><td>0</td><td>1</td><td>0</td><td>1</td><td>0</td><td>1</td></tr><tr><th>3</th><td>Algeria</td><td>0</td><td>0</td><td>1</td><td>0</td><td>0</td><td>0</td></tr><tr><th>4</th><td>Andorra</td><td>0</td><td>1</td><td>0</td><td>1</td><td>0</td><td>1</td></tr><tr><th>5</th><td>Angola</td><td>0</td><td>0</td><td>0</td><td>0</td><td>1</td><td>0</td></tr><tr><th>6</th><td>Antigua and Barbuda</td><td>0</td><td>1</td><td>0</td><td>1</td><td>0</td><td>1</td></tr><tr><th>7</th><td>Argentina</td><td>0</td><td>1</td><td>0</td><td>1</td><td>0</td><td>1</td></tr><tr><th>8</th><td>Armenia</td><td>0</td><td>1</td><td>0</td><td>0</td><td>0</td><td>1</td></tr><tr><th>9</th><td>Australia</td><td>0</td><td>1</td><td>0</td><td>1</td><td>0</td><td>1</td></tr><tr><th>10</th><td>Austria</td><td>0</td><td>1</td><td>0</td><td>1</td><td>0</td><td>1</td></tr></tbody></table>"
      ],
      "text/latex": [
       "\\begin{tabular}{r|cccccccc}\n",
       "\t& Passport & Afghanistan & Albania & Algeria & Andorra & Angola & Antigua and Barbuda & \\\\\n",
       "\t\\hline\n",
       "\t& String & Int64 & Int64 & Int64 & Int64 & Int64 & Int64 & \\\\\n",
       "\t\\hline\n",
       "\t1 & Afghanistan & 1 & 0 & 0 & 0 & 0 & 0 & $\\dots$ \\\\\n",
       "\t2 & Albania & 0 & 1 & 0 & 1 & 0 & 1 & $\\dots$ \\\\\n",
       "\t3 & Algeria & 0 & 0 & 1 & 0 & 0 & 0 & $\\dots$ \\\\\n",
       "\t4 & Andorra & 0 & 1 & 0 & 1 & 0 & 1 & $\\dots$ \\\\\n",
       "\t5 & Angola & 0 & 0 & 0 & 0 & 1 & 0 & $\\dots$ \\\\\n",
       "\t6 & Antigua and Barbuda & 0 & 1 & 0 & 1 & 0 & 1 & $\\dots$ \\\\\n",
       "\t7 & Argentina & 0 & 1 & 0 & 1 & 0 & 1 & $\\dots$ \\\\\n",
       "\t8 & Armenia & 0 & 1 & 0 & 0 & 0 & 1 & $\\dots$ \\\\\n",
       "\t9 & Australia & 0 & 1 & 0 & 1 & 0 & 1 & $\\dots$ \\\\\n",
       "\t10 & Austria & 0 & 1 & 0 & 1 & 0 & 1 & $\\dots$ \\\\\n",
       "\\end{tabular}\n"
      ],
      "text/plain": [
       "\u001b[1m10×200 DataFrame\u001b[0m\n",
       "\u001b[1m Row \u001b[0m│\u001b[1m Passport            \u001b[0m\u001b[1m Afghanistan \u001b[0m\u001b[1m Albania \u001b[0m\u001b[1m Algeria \u001b[0m\u001b[1m Andorra \u001b[0m\u001b[1m Angola \u001b[0m\u001b[1m An\u001b[0m ⋯\n",
       "\u001b[1m     \u001b[0m│\u001b[90m String              \u001b[0m\u001b[90m Int64       \u001b[0m\u001b[90m Int64   \u001b[0m\u001b[90m Int64   \u001b[0m\u001b[90m Int64   \u001b[0m\u001b[90m Int64  \u001b[0m\u001b[90m In\u001b[0m ⋯\n",
       "─────┼──────────────────────────────────────────────────────────────────────────\n",
       "   1 │ Afghanistan                    1        0        0        0       0     ⋯\n",
       "   2 │ Albania                        0        1        0        1       0\n",
       "   3 │ Algeria                        0        0        1        0       0\n",
       "   4 │ Andorra                        0        1        0        1       0\n",
       "   5 │ Angola                         0        0        0        0       1     ⋯\n",
       "   6 │ Antigua and Barbuda            0        1        0        1       0\n",
       "   7 │ Argentina                      0        1        0        1       0\n",
       "   8 │ Armenia                        0        1        0        0       0\n",
       "   9 │ Australia                      0        1        0        1       0     ⋯\n",
       "  10 │ Austria                        0        1        0        1       0\n",
       "\u001b[36m                                                             194 columns omitted\u001b[0m"
      ]
     },
     "execution_count": 21,
     "metadata": {},
     "output_type": "execute_result"
    }
   ],
   "source": [
    "@. ppdata[:, 2:end] = ifelse(\n",
    "    (ppdata[:, 2:end] == -1) | (ppdata[:, 2:end] == 3),  # brackets required for | \n",
    "    1, 0\n",
    ")\n",
    "\n",
    "ppdata[1:10, :]"
   ]
  },
  {
   "cell_type": "code",
   "execution_count": 22,
   "id": "f9c85382",
   "metadata": {},
   "outputs": [],
   "source": [
    "n = ncol(ppdata) - 1 # subtract one for col with names\n",
    "\n",
    "ppmodel = Model(GLPK.Optimizer)\n",
    "\n",
    "@variable(ppmodel, pass[1:n], Bin)\n",
    "\n",
    "@constraint(ppmodel, [j in 2:n], sum(ppdata[i, j] * pass[i] for i in 1:n) >= 1) # forall j\n",
    "\n",
    "@objective(ppmodel, Min, sum(pass))\n",
    "\n",
    "optimize!(ppmodel)"
   ]
  },
  {
   "cell_type": "code",
   "execution_count": 23,
   "id": "049b6849",
   "metadata": {},
   "outputs": [
    {
     "name": "stdout",
     "output_type": "stream",
     "text": [
      "Min. number passports needed = 23.0\n"
     ]
    }
   ],
   "source": [
    "println(\"Min. number passports needed = \", objective_value(ppmodel))"
   ]
  },
  {
   "cell_type": "code",
   "execution_count": 24,
   "id": "aaa9c0e5",
   "metadata": {},
   "outputs": [
    {
     "name": "stdout",
     "output_type": "stream",
     "text": [
      "Countries:\n",
      "- Afghanistan\n",
      "- Angola\n",
      "- Australia\n",
      "- Austria\n",
      "- Comoros\n",
      "- Congo\n",
      "- Eritrea\n",
      "- Gambia\n",
      "- Georgia\n",
      "- Hong Kong\n",
      "- India\n",
      "- Iraq\n",
      "- Kenya\n",
      "- Madagascar\n",
      "- Maldives\n",
      "- North Korea\n",
      "- Papua New Guinea\n",
      "- Singapore\n",
      "- Somalia\n",
      "- Sri Lanka\n",
      "- Tunisia\n",
      "- United Arab Emirates\n",
      "- United States\n"
     ]
    }
   ],
   "source": [
    "country_index = findall(value.(pass) .== 1)\n",
    "\n",
    "println(\"Countries:\")\n",
    "\n",
    "for i in country_index\n",
    "    pp = names(ppdata)[i+1]\n",
    "    println(\"- \", pp)\n",
    "end"
   ]
  }
 ],
 "metadata": {
  "@webio": {
   "lastCommId": null,
   "lastKernelId": null
  },
  "kernelspec": {
   "display_name": "Julia 1.6.0",
   "language": "julia",
   "name": "julia-1.6"
  },
  "language_info": {
   "file_extension": ".jl",
   "mimetype": "application/julia",
   "name": "julia",
   "version": "1.6.0"
  }
 },
 "nbformat": 4,
 "nbformat_minor": 5
}
