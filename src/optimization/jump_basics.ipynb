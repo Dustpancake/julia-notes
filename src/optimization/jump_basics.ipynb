{
 "cells": [
  {
   "cell_type": "markdown",
   "id": "24586e1d",
   "metadata": {},
   "source": [
    "# JuMP basics\n",
    "\n",
    "Following from the [JuMP tutorials](https://github.com/jump-dev/JuMPTutorials.jl).\n",
    "\n",
    "This notebook is pending updates."
   ]
  },
  {
   "cell_type": "code",
   "execution_count": 1,
   "id": "94e5993b",
   "metadata": {},
   "outputs": [],
   "source": [
    "using JuMP\n",
    "using GLPK"
   ]
  },
  {
   "cell_type": "code",
   "execution_count": 2,
   "id": "3ee4f95d",
   "metadata": {},
   "outputs": [
    {
     "data": {
      "text/plain": [
       "A JuMP Model\n",
       "Feasibility problem with:\n",
       "Variables: 0\n",
       "Model mode: AUTOMATIC\n",
       "CachingOptimizer state: EMPTY_OPTIMIZER\n",
       "Solver name: GLPK"
      ]
     },
     "execution_count": 2,
     "metadata": {},
     "output_type": "execute_result"
    }
   ],
   "source": [
    "model = Model(GLPK.Optimizer)"
   ]
  },
  {
   "cell_type": "code",
   "execution_count": 3,
   "id": "fd237c2b",
   "metadata": {},
   "outputs": [
    {
     "data": {
      "text/latex": [
       "$$ y $$"
      ],
      "text/plain": [
       "y"
      ]
     },
     "execution_count": 3,
     "metadata": {},
     "output_type": "execute_result"
    }
   ],
   "source": [
    "@variable(model, 0 <= x <= 2)\n",
    "@variable(model, 0 <= y <= 30)"
   ]
  },
  {
   "cell_type": "code",
   "execution_count": 4,
   "id": "3ea6119e",
   "metadata": {},
   "outputs": [
    {
     "data": {
      "text/latex": [
       "$$ 5 x + 3 y $$"
      ],
      "text/plain": [
       "5 x + 3 y"
      ]
     },
     "execution_count": 4,
     "metadata": {},
     "output_type": "execute_result"
    }
   ],
   "source": [
    "@objective(model, Max, 5x + 3 * y)"
   ]
  },
  {
   "cell_type": "code",
   "execution_count": 5,
   "id": "12a7439a",
   "metadata": {},
   "outputs": [
    {
     "data": {
      "text/latex": [
       "con : $ x + 5 y \\leq 3.0 $"
      ],
      "text/plain": [
       "con : x + 5 y ≤ 3.0"
      ]
     },
     "execution_count": 5,
     "metadata": {},
     "output_type": "execute_result"
    }
   ],
   "source": [
    "@constraint(model, con, 1x + 5y <= 3)"
   ]
  },
  {
   "cell_type": "code",
   "execution_count": 6,
   "id": "3ce8e060",
   "metadata": {},
   "outputs": [],
   "source": [
    "optimize!(model)"
   ]
  },
  {
   "cell_type": "code",
   "execution_count": 7,
   "id": "e95df6cb",
   "metadata": {},
   "outputs": [
    {
     "data": {
      "text/plain": [
       "OPTIMAL::TerminationStatusCode = 1"
      ]
     },
     "execution_count": 7,
     "metadata": {},
     "output_type": "execute_result"
    }
   ],
   "source": [
    "termination_status(model) "
   ]
  },
  {
   "cell_type": "code",
   "execution_count": 8,
   "id": "0fce9653",
   "metadata": {},
   "outputs": [
    {
     "data": {
      "text/plain": [
       "10.6"
      ]
     },
     "execution_count": 8,
     "metadata": {},
     "output_type": "execute_result"
    }
   ],
   "source": [
    "objective_value(model)"
   ]
  },
  {
   "cell_type": "code",
   "execution_count": 9,
   "id": "755efe1f",
   "metadata": {},
   "outputs": [
    {
     "data": {
      "text/plain": [
       "2.0"
      ]
     },
     "execution_count": 9,
     "metadata": {},
     "output_type": "execute_result"
    }
   ],
   "source": [
    "value(x)"
   ]
  },
  {
   "cell_type": "code",
   "execution_count": 10,
   "id": "e776c036",
   "metadata": {},
   "outputs": [
    {
     "data": {
      "text/plain": [
       "0.2"
      ]
     },
     "execution_count": 10,
     "metadata": {},
     "output_type": "execute_result"
    }
   ],
   "source": [
    "value(y)"
   ]
  },
  {
   "cell_type": "code",
   "execution_count": 11,
   "id": "3a0ec38d",
   "metadata": {},
   "outputs": [
    {
     "data": {
      "text/plain": [
       "-0.6"
      ]
     },
     "execution_count": 11,
     "metadata": {},
     "output_type": "execute_result"
    }
   ],
   "source": [
    "dual(con)"
   ]
  },
  {
   "cell_type": "markdown",
   "id": "9a220382",
   "metadata": {},
   "source": [
    "## Sudoku\n",
    "\n",
    "```\n",
    "x[i,j,k] = 1 iff (i, j) has value k\n",
    "```"
   ]
  },
  {
   "cell_type": "code",
   "execution_count": 12,
   "id": "e34118b9",
   "metadata": {},
   "outputs": [],
   "source": [
    "sudoku = Model(GLPK.Optimizer)\n",
    "\n",
    "@variable(sudoku, x[i=1:9, j=1:9, k=1:9], Bin)\n",
    ";"
   ]
  },
  {
   "cell_type": "code",
   "execution_count": 13,
   "id": "70145709",
   "metadata": {},
   "outputs": [],
   "source": [
    "# only one number per cell\n",
    "\n",
    "for i in 1:9, j in 1:9\n",
    "   @constraint(sudoku, sum(x[i, j, k] for k in 1:9) == 1) \n",
    "end"
   ]
  },
  {
   "cell_type": "code",
   "execution_count": 14,
   "id": "b131e18e",
   "metadata": {},
   "outputs": [],
   "source": [
    "for ind = 1:9 # for each row / column\n",
    "    for k = 1:9 # for each digit\n",
    "        @constraint(sudoku, sum(x[ind, j, k] for j in 1:9) == 1) # 1-9 appears once per row\n",
    "        @constraint(sudoku, sum(x[i, ind, k] for i in 1:9) == 1) # per column\n",
    "    end\n",
    "end"
   ]
  },
  {
   "cell_type": "code",
   "execution_count": 15,
   "id": "eb11492b",
   "metadata": {},
   "outputs": [],
   "source": [
    "for i = 1:3:7, j = 1:3:7, k = 1:9\n",
    "    # i is top left row, j is top left column\n",
    "    @constraint(sudoku, sum(x[r, c, k] for r in i:i+2, c in j:j+2) == 1)\n",
    "end"
   ]
  },
  {
   "cell_type": "code",
   "execution_count": 16,
   "id": "1370f8ed",
   "metadata": {},
   "outputs": [],
   "source": [
    "init_sol = [\n",
    "    0 1 0  0 0 2  0 0 8;\n",
    "    7 0 0  1 0 0  0 0 0;\n",
    "    9 0 0  3 0 0  5 6 0;\n",
    "    \n",
    "    0 0 0  0 0 8  0 0 0;\n",
    "    0 5 0  0 0 0  0 3 0;\n",
    "    2 0 0  7 0 0  1 9 0;\n",
    "    \n",
    "    0 0 0  0 0 0  0 0 4;\n",
    "    0 0 0  6 4 9  0 5 0;\n",
    "    5 0 0  0 0 0  0 0 3\n",
    "]\n",
    "\n",
    "# insert initial conditions into model\n",
    "\n",
    "for i in 1:9, j in 1:9\n",
    "    if init_sol[i, j] != 0\n",
    "       @constraint(sudoku, x[i, j, init_sol[i, j]] == 1) \n",
    "    end\n",
    "end"
   ]
  },
  {
   "cell_type": "code",
   "execution_count": 17,
   "id": "c33b4e4c",
   "metadata": {},
   "outputs": [],
   "source": [
    "optimize!(sudoku)"
   ]
  },
  {
   "cell_type": "code",
   "execution_count": 18,
   "id": "8245b69c",
   "metadata": {
    "scrolled": true
   },
   "outputs": [
    {
     "data": {
      "text/plain": [
       "9×9 Matrix{Int64}:\n",
       " 4  1  5  9  6  2  3  7  8\n",
       " 7  6  3  1  8  5  4  2  9\n",
       " 9  2  8  3  7  4  5  6  1\n",
       " 3  9  6  2  1  8  7  4  5\n",
       " 1  5  7  4  9  6  8  3  2\n",
       " 2  8  4  7  5  3  1  9  6\n",
       " 6  7  2  5  3  1  9  8  4\n",
       " 8  3  1  6  4  9  2  5  7\n",
       " 5  4  9  8  2  7  6  1  3"
      ]
     },
     "execution_count": 18,
     "metadata": {},
     "output_type": "execute_result"
    }
   ],
   "source": [
    "xval = value.(x)\n",
    "\n",
    "sol = zeros(Int, 9, 9)\n",
    "\n",
    "for i in 1:9, j in 1:9, k in 1:9\n",
    "    \n",
    "    if round(Int, xval[i, j, k]) == 1\n",
    "        sol[i, j] = k\n",
    "    end\n",
    "end\n",
    "\n",
    "sol"
   ]
  },
  {
   "cell_type": "markdown",
   "id": "552ba377",
   "metadata": {},
   "source": [
    "## Passport"
   ]
  },
  {
   "cell_type": "code",
   "execution_count": 19,
   "id": "6ad43502",
   "metadata": {},
   "outputs": [
    {
     "data": {
      "text/plain": [
       "(199, 200)"
      ]
     },
     "execution_count": 19,
     "metadata": {},
     "output_type": "execute_result"
    }
   ],
   "source": [
    "using CSV, DataFrames, HTTP\n",
    "\n",
    "\n",
    "\n",
    "dataurl = \"https://raw.githubusercontent.com/jump-dev/JuMPTutorials.jl/master/notebook/using_JuMP/data/passport-index-matrix.csv\"\n",
    "\n",
    "ppdata = CSV.File(HTTP.get(dataurl).body) |> DataFrame\n",
    "\n",
    "size(ppdata)"
   ]
  },
  {
   "cell_type": "markdown",
   "id": "74255662",
   "metadata": {},
   "source": [
    "- 3 = free travel\n",
    "- 2 = eTA required\n",
    "- 1 = visa obtained on arrival\n",
    "- 0 = visa required\n",
    "- -1 is passport and dest is the same"
   ]
  },
  {
   "cell_type": "code",
   "execution_count": 20,
   "id": "5af17e5f",
   "metadata": {},
   "outputs": [
    {
     "data": {
      "text/html": [
       "<table class=\"data-frame\"><thead><tr><th></th><th>Passport</th><th>Afghanistan</th><th>Albania</th><th>Algeria</th><th>Andorra</th><th>Angola</th><th>Antigua and Barbuda</th></tr><tr><th></th><th>String</th><th>Int64</th><th>Int64</th><th>Int64</th><th>Int64</th><th>Int64</th><th>Int64</th></tr></thead><tbody><p>10 rows × 200 columns (omitted printing of 193 columns)</p><tr><th>1</th><td>Afghanistan</td><td>-1</td><td>0</td><td>0</td><td>0</td><td>0</td><td>0</td></tr><tr><th>2</th><td>Albania</td><td>0</td><td>-1</td><td>0</td><td>3</td><td>0</td><td>3</td></tr><tr><th>3</th><td>Algeria</td><td>0</td><td>0</td><td>-1</td><td>0</td><td>1</td><td>0</td></tr><tr><th>4</th><td>Andorra</td><td>0</td><td>3</td><td>0</td><td>-1</td><td>0</td><td>3</td></tr><tr><th>5</th><td>Angola</td><td>0</td><td>0</td><td>0</td><td>0</td><td>-1</td><td>0</td></tr><tr><th>6</th><td>Antigua and Barbuda</td><td>0</td><td>3</td><td>0</td><td>3</td><td>0</td><td>-1</td></tr><tr><th>7</th><td>Argentina</td><td>0</td><td>3</td><td>0</td><td>3</td><td>1</td><td>3</td></tr><tr><th>8</th><td>Armenia</td><td>0</td><td>3</td><td>0</td><td>0</td><td>0</td><td>3</td></tr><tr><th>9</th><td>Australia</td><td>0</td><td>3</td><td>0</td><td>3</td><td>1</td><td>3</td></tr><tr><th>10</th><td>Austria</td><td>0</td><td>3</td><td>0</td><td>3</td><td>1</td><td>3</td></tr></tbody></table>"
      ],
      "text/latex": [
       "\\begin{tabular}{r|cccccccc}\n",
       "\t& Passport & Afghanistan & Albania & Algeria & Andorra & Angola & Antigua and Barbuda & \\\\\n",
       "\t\\hline\n",
       "\t& String & Int64 & Int64 & Int64 & Int64 & Int64 & Int64 & \\\\\n",
       "\t\\hline\n",
       "\t1 & Afghanistan & -1 & 0 & 0 & 0 & 0 & 0 & $\\dots$ \\\\\n",
       "\t2 & Albania & 0 & -1 & 0 & 3 & 0 & 3 & $\\dots$ \\\\\n",
       "\t3 & Algeria & 0 & 0 & -1 & 0 & 1 & 0 & $\\dots$ \\\\\n",
       "\t4 & Andorra & 0 & 3 & 0 & -1 & 0 & 3 & $\\dots$ \\\\\n",
       "\t5 & Angola & 0 & 0 & 0 & 0 & -1 & 0 & $\\dots$ \\\\\n",
       "\t6 & Antigua and Barbuda & 0 & 3 & 0 & 3 & 0 & -1 & $\\dots$ \\\\\n",
       "\t7 & Argentina & 0 & 3 & 0 & 3 & 1 & 3 & $\\dots$ \\\\\n",
       "\t8 & Armenia & 0 & 3 & 0 & 0 & 0 & 3 & $\\dots$ \\\\\n",
       "\t9 & Australia & 0 & 3 & 0 & 3 & 1 & 3 & $\\dots$ \\\\\n",
       "\t10 & Austria & 0 & 3 & 0 & 3 & 1 & 3 & $\\dots$ \\\\\n",
       "\\end{tabular}\n"
      ],
      "text/plain": [
       "\u001b[1m10×200 DataFrame\u001b[0m\n",
       "\u001b[1m Row \u001b[0m│\u001b[1m Passport            \u001b[0m\u001b[1m Afghanistan \u001b[0m\u001b[1m Albania \u001b[0m\u001b[1m Algeria \u001b[0m\u001b[1m Andorra \u001b[0m\u001b[1m Angola \u001b[0m\u001b[1m An\u001b[0m ⋯\n",
       "\u001b[1m     \u001b[0m│\u001b[90m String              \u001b[0m\u001b[90m Int64       \u001b[0m\u001b[90m Int64   \u001b[0m\u001b[90m Int64   \u001b[0m\u001b[90m Int64   \u001b[0m\u001b[90m Int64  \u001b[0m\u001b[90m In\u001b[0m ⋯\n",
       "─────┼──────────────────────────────────────────────────────────────────────────\n",
       "   1 │ Afghanistan                   -1        0        0        0       0     ⋯\n",
       "   2 │ Albania                        0       -1        0        3       0\n",
       "   3 │ Algeria                        0        0       -1        0       1\n",
       "   4 │ Andorra                        0        3        0       -1       0\n",
       "   5 │ Angola                         0        0        0        0      -1     ⋯\n",
       "   6 │ Antigua and Barbuda            0        3        0        3       0\n",
       "   7 │ Argentina                      0        3        0        3       1\n",
       "   8 │ Armenia                        0        3        0        0       0\n",
       "   9 │ Australia                      0        3        0        3       1     ⋯\n",
       "  10 │ Austria                        0        3        0        3       1\n",
       "\u001b[36m                                                             194 columns omitted\u001b[0m"
      ]
     },
     "execution_count": 20,
     "metadata": {},
     "output_type": "execute_result"
    }
   ],
   "source": [
    "ppdata[1:10, :]"
   ]
  },
  {
   "cell_type": "markdown",
   "id": "97ec42f1",
   "metadata": {},
   "source": [
    "Find the minimum number of passports required to visit every country without requiring a visa: interested in -1, and 3 cases."
   ]
  },
  {
   "cell_type": "code",
   "execution_count": 21,
   "id": "326d473e",
   "metadata": {},
   "outputs": [
    {
     "data": {
      "text/html": [
       "<table class=\"data-frame\"><thead><tr><th></th><th>Passport</th><th>Afghanistan</th><th>Albania</th><th>Algeria</th><th>Andorra</th><th>Angola</th><th>Antigua and Barbuda</th></tr><tr><th></th><th>String</th><th>Int64</th><th>Int64</th><th>Int64</th><th>Int64</th><th>Int64</th><th>Int64</th></tr></thead><tbody><p>10 rows × 200 columns (omitted printing of 193 columns)</p><tr><th>1</th><td>Afghanistan</td><td>1</td><td>0</td><td>0</td><td>0</td><td>0</td><td>0</td></tr><tr><th>2</th><td>Albania</td><td>0</td><td>1</td><td>0</td><td>1</td><td>0</td><td>1</td></tr><tr><th>3</th><td>Algeria</td><td>0</td><td>0</td><td>1</td><td>0</td><td>0</td><td>0</td></tr><tr><th>4</th><td>Andorra</td><td>0</td><td>1</td><td>0</td><td>1</td><td>0</td><td>1</td></tr><tr><th>5</th><td>Angola</td><td>0</td><td>0</td><td>0</td><td>0</td><td>1</td><td>0</td></tr><tr><th>6</th><td>Antigua and Barbuda</td><td>0</td><td>1</td><td>0</td><td>1</td><td>0</td><td>1</td></tr><tr><th>7</th><td>Argentina</td><td>0</td><td>1</td><td>0</td><td>1</td><td>0</td><td>1</td></tr><tr><th>8</th><td>Armenia</td><td>0</td><td>1</td><td>0</td><td>0</td><td>0</td><td>1</td></tr><tr><th>9</th><td>Australia</td><td>0</td><td>1</td><td>0</td><td>1</td><td>0</td><td>1</td></tr><tr><th>10</th><td>Austria</td><td>0</td><td>1</td><td>0</td><td>1</td><td>0</td><td>1</td></tr></tbody></table>"
      ],
      "text/latex": [
       "\\begin{tabular}{r|cccccccc}\n",
       "\t& Passport & Afghanistan & Albania & Algeria & Andorra & Angola & Antigua and Barbuda & \\\\\n",
       "\t\\hline\n",
       "\t& String & Int64 & Int64 & Int64 & Int64 & Int64 & Int64 & \\\\\n",
       "\t\\hline\n",
       "\t1 & Afghanistan & 1 & 0 & 0 & 0 & 0 & 0 & $\\dots$ \\\\\n",
       "\t2 & Albania & 0 & 1 & 0 & 1 & 0 & 1 & $\\dots$ \\\\\n",
       "\t3 & Algeria & 0 & 0 & 1 & 0 & 0 & 0 & $\\dots$ \\\\\n",
       "\t4 & Andorra & 0 & 1 & 0 & 1 & 0 & 1 & $\\dots$ \\\\\n",
       "\t5 & Angola & 0 & 0 & 0 & 0 & 1 & 0 & $\\dots$ \\\\\n",
       "\t6 & Antigua and Barbuda & 0 & 1 & 0 & 1 & 0 & 1 & $\\dots$ \\\\\n",
       "\t7 & Argentina & 0 & 1 & 0 & 1 & 0 & 1 & $\\dots$ \\\\\n",
       "\t8 & Armenia & 0 & 1 & 0 & 0 & 0 & 1 & $\\dots$ \\\\\n",
       "\t9 & Australia & 0 & 1 & 0 & 1 & 0 & 1 & $\\dots$ \\\\\n",
       "\t10 & Austria & 0 & 1 & 0 & 1 & 0 & 1 & $\\dots$ \\\\\n",
       "\\end{tabular}\n"
      ],
      "text/plain": [
       "\u001b[1m10×200 DataFrame\u001b[0m\n",
       "\u001b[1m Row \u001b[0m│\u001b[1m Passport            \u001b[0m\u001b[1m Afghanistan \u001b[0m\u001b[1m Albania \u001b[0m\u001b[1m Algeria \u001b[0m\u001b[1m Andorra \u001b[0m\u001b[1m Angola \u001b[0m\u001b[1m An\u001b[0m ⋯\n",
       "\u001b[1m     \u001b[0m│\u001b[90m String              \u001b[0m\u001b[90m Int64       \u001b[0m\u001b[90m Int64   \u001b[0m\u001b[90m Int64   \u001b[0m\u001b[90m Int64   \u001b[0m\u001b[90m Int64  \u001b[0m\u001b[90m In\u001b[0m ⋯\n",
       "─────┼──────────────────────────────────────────────────────────────────────────\n",
       "   1 │ Afghanistan                    1        0        0        0       0     ⋯\n",
       "   2 │ Albania                        0        1        0        1       0\n",
       "   3 │ Algeria                        0        0        1        0       0\n",
       "   4 │ Andorra                        0        1        0        1       0\n",
       "   5 │ Angola                         0        0        0        0       1     ⋯\n",
       "   6 │ Antigua and Barbuda            0        1        0        1       0\n",
       "   7 │ Argentina                      0        1        0        1       0\n",
       "   8 │ Armenia                        0        1        0        0       0\n",
       "   9 │ Australia                      0        1        0        1       0     ⋯\n",
       "  10 │ Austria                        0        1        0        1       0\n",
       "\u001b[36m                                                             194 columns omitted\u001b[0m"
      ]
     },
     "execution_count": 21,
     "metadata": {},
     "output_type": "execute_result"
    }
   ],
   "source": [
    "@. ppdata[:, 2:end] = ifelse(\n",
    "    (ppdata[:, 2:end] == -1) | (ppdata[:, 2:end] == 3),  # brackets required for | \n",
    "    1, 0\n",
    ")\n",
    "\n",
    "ppdata[1:10, :]"
   ]
  },
  {
   "cell_type": "code",
   "execution_count": 22,
   "id": "f9c85382",
   "metadata": {},
   "outputs": [],
   "source": [
    "n = ncol(ppdata) - 1 # subtract one for col with names\n",
    "\n",
    "ppmodel = Model(GLPK.Optimizer)\n",
    "\n",
    "@variable(ppmodel, pass[1:n], Bin)\n",
    "\n",
    "@constraint(ppmodel, [j in 2:n], sum(ppdata[i, j] * pass[i] for i in 1:n) >= 1) # forall j\n",
    "\n",
    "@objective(ppmodel, Min, sum(pass))\n",
    "\n",
    "optimize!(ppmodel)"
   ]
  },
  {
   "cell_type": "code",
   "execution_count": 23,
   "id": "049b6849",
   "metadata": {},
   "outputs": [
    {
     "name": "stdout",
     "output_type": "stream",
     "text": [
      "Min. number passports needed = 23.0\n"
     ]
    }
   ],
   "source": [
    "println(\"Min. number passports needed = \", objective_value(ppmodel))"
   ]
  },
  {
   "cell_type": "code",
   "execution_count": 24,
   "id": "aaa9c0e5",
   "metadata": {},
   "outputs": [
    {
     "name": "stdout",
     "output_type": "stream",
     "text": [
      "Countries:\n",
      "- Afghanistan\n",
      "- Angola\n",
      "- Australia\n",
      "- Austria\n",
      "- Comoros\n",
      "- Congo\n",
      "- Eritrea\n",
      "- Gambia\n",
      "- Georgia\n",
      "- Hong Kong\n",
      "- India\n",
      "- Iraq\n",
      "- Kenya\n",
      "- Madagascar\n",
      "- Maldives\n",
      "- North Korea\n",
      "- Papua New Guinea\n",
      "- Singapore\n",
      "- Somalia\n",
      "- Sri Lanka\n",
      "- Tunisia\n",
      "- United Arab Emirates\n",
      "- United States\n"
     ]
    }
   ],
   "source": [
    "country_index = findall(value.(pass) .== 1)\n",
    "\n",
    "println(\"Countries:\")\n",
    "\n",
    "for i in country_index\n",
    "    pp = names(ppdata)[i+1]\n",
    "    println(\"- \", pp)\n",
    "end"
   ]
  },
  {
   "cell_type": "markdown",
   "id": "d72c92a8",
   "metadata": {},
   "source": [
    "## Catenary"
   ]
  },
  {
   "cell_type": "code",
   "execution_count": 62,
   "id": "a1f50b3f",
   "metadata": {},
   "outputs": [
    {
     "data": {
      "text/plain": [
       "A JuMP Model\n",
       "Minimization problem with:\n",
       "Variables: 200\n",
       "Objective function type: AffExpr\n",
       "`AffExpr`-in-`MathOptInterface.EqualTo{Float64}`: 4 constraints\n",
       "Nonlinear: 99 constraints\n",
       "Model mode: AUTOMATIC\n",
       "CachingOptimizer state: EMPTY_OPTIMIZER\n",
       "Solver name: Ipopt\n",
       "Names registered in the model: x, y"
      ]
     },
     "execution_count": 62,
     "metadata": {},
     "output_type": "execute_result"
    }
   ],
   "source": [
    "using Ipopt\n",
    "\n",
    "catmodel = Model(Ipopt.Optimizer)\n",
    "\n",
    "set_silent(catmodel)\n",
    "\n",
    "N = 100 # number of links\n",
    "L = 1   # distance between endpoints\n",
    "\n",
    "lᵢ = 2*L / N\n",
    "\n",
    "@variable(catmodel, x[1:N])\n",
    "@variable(catmodel, y[1:N])\n",
    "\n",
    "# min potential energy\n",
    "@objective(catmodel, Min, sum((y[j-1] + y[j])/2 for j=2:N))\n",
    "\n",
    "@constraints(catmodel, begin\n",
    "        x[1] == 0\n",
    "        x[N] == L\n",
    "        y[1] == 0\n",
    "        y[N] == L/2\n",
    "    end\n",
    ")\n",
    "\n",
    "@NLconstraint(\n",
    "    catmodel, [j in 2:N], (x[j] - x[j-1])^2 + (y[j] - y[j-1])^2 <= lᵢ^2\n",
    ")\n",
    "\n",
    "catmodel"
   ]
  },
  {
   "cell_type": "code",
   "execution_count": 63,
   "id": "b0367e14",
   "metadata": {},
   "outputs": [],
   "source": [
    "optimize!(catmodel)"
   ]
  },
  {
   "cell_type": "code",
   "execution_count": 65,
   "id": "29acd50d",
   "metadata": {},
   "outputs": [
    {
     "data": {
      "image/svg+xml": [
       "<?xml version=\"1.0\" encoding=\"utf-8\"?>\n",
       "<svg xmlns=\"http://www.w3.org/2000/svg\" xmlns:xlink=\"http://www.w3.org/1999/xlink\" width=\"600\" height=\"400\" viewBox=\"0 0 2400 1600\">\n",
       "<defs>\n",
       "  <clipPath id=\"clip310\">\n",
       "    <rect x=\"0\" y=\"0\" width=\"2400\" height=\"1600\"/>\n",
       "  </clipPath>\n",
       "</defs>\n",
       "<path clip-path=\"url(#clip310)\" d=\"\n",
       "M0 1600 L2400 1600 L2400 0 L0 0  Z\n",
       "  \" fill=\"#ffffff\" fill-rule=\"evenodd\" fill-opacity=\"1\"/>\n",
       "<defs>\n",
       "  <clipPath id=\"clip311\">\n",
       "    <rect x=\"480\" y=\"0\" width=\"1681\" height=\"1600\"/>\n",
       "  </clipPath>\n",
       "</defs>\n",
       "<path clip-path=\"url(#clip310)\" d=\"\n",
       "M194.422 1486.45 L2352.76 1486.45 L2352.76 47.2441 L194.422 47.2441  Z\n",
       "  \" fill=\"#ffffff\" fill-rule=\"evenodd\" fill-opacity=\"1\"/>\n",
       "<defs>\n",
       "  <clipPath id=\"clip312\">\n",
       "    <rect x=\"194\" y=\"47\" width=\"2159\" height=\"1440\"/>\n",
       "  </clipPath>\n",
       "</defs>\n",
       "<polyline clip-path=\"url(#clip312)\" style=\"stroke:#000000; stroke-width:2; stroke-opacity:0.1; fill:none\" points=\"\n",
       "  255.507,1486.45 255.507,47.2441 \n",
       "  \"/>\n",
       "<polyline clip-path=\"url(#clip312)\" style=\"stroke:#000000; stroke-width:2; stroke-opacity:0.1; fill:none\" points=\"\n",
       "  764.548,1486.45 764.548,47.2441 \n",
       "  \"/>\n",
       "<polyline clip-path=\"url(#clip312)\" style=\"stroke:#000000; stroke-width:2; stroke-opacity:0.1; fill:none\" points=\"\n",
       "  1273.59,1486.45 1273.59,47.2441 \n",
       "  \"/>\n",
       "<polyline clip-path=\"url(#clip312)\" style=\"stroke:#000000; stroke-width:2; stroke-opacity:0.1; fill:none\" points=\"\n",
       "  1782.63,1486.45 1782.63,47.2441 \n",
       "  \"/>\n",
       "<polyline clip-path=\"url(#clip312)\" style=\"stroke:#000000; stroke-width:2; stroke-opacity:0.1; fill:none\" points=\"\n",
       "  2291.67,1486.45 2291.67,47.2441 \n",
       "  \"/>\n",
       "<polyline clip-path=\"url(#clip310)\" style=\"stroke:#000000; stroke-width:4; stroke-opacity:1; fill:none\" points=\"\n",
       "  194.422,1486.45 2352.76,1486.45 \n",
       "  \"/>\n",
       "<polyline clip-path=\"url(#clip310)\" style=\"stroke:#000000; stroke-width:4; stroke-opacity:1; fill:none\" points=\"\n",
       "  255.507,1486.45 255.507,1469.18 \n",
       "  \"/>\n",
       "<polyline clip-path=\"url(#clip310)\" style=\"stroke:#000000; stroke-width:4; stroke-opacity:1; fill:none\" points=\"\n",
       "  764.548,1486.45 764.548,1469.18 \n",
       "  \"/>\n",
       "<polyline clip-path=\"url(#clip310)\" style=\"stroke:#000000; stroke-width:4; stroke-opacity:1; fill:none\" points=\"\n",
       "  1273.59,1486.45 1273.59,1469.18 \n",
       "  \"/>\n",
       "<polyline clip-path=\"url(#clip310)\" style=\"stroke:#000000; stroke-width:4; stroke-opacity:1; fill:none\" points=\"\n",
       "  1782.63,1486.45 1782.63,1469.18 \n",
       "  \"/>\n",
       "<polyline clip-path=\"url(#clip310)\" style=\"stroke:#000000; stroke-width:4; stroke-opacity:1; fill:none\" points=\"\n",
       "  2291.67,1486.45 2291.67,1469.18 \n",
       "  \"/>\n",
       "<path clip-path=\"url(#clip310)\" d=\"M 0 0 M217.81 1515.64 Q214.199 1515.64 212.371 1519.2 Q210.565 1522.75 210.565 1529.87 Q210.565 1536.98 212.371 1540.55 Q214.199 1544.09 217.81 1544.09 Q221.445 1544.09 223.25 1540.55 Q225.079 1536.98 225.079 1529.87 Q225.079 1522.75 223.25 1519.2 Q221.445 1515.64 217.81 1515.64 M217.81 1511.93 Q223.621 1511.93 226.676 1516.54 Q229.755 1521.12 229.755 1529.87 Q229.755 1538.6 226.676 1543.21 Q223.621 1547.79 217.81 1547.79 Q212 1547.79 208.922 1543.21 Q205.866 1538.6 205.866 1529.87 Q205.866 1521.12 208.922 1516.54 Q212 1511.93 217.81 1511.93 Z\" fill=\"#000000\" fill-rule=\"evenodd\" fill-opacity=\"1\" /><path clip-path=\"url(#clip310)\" d=\"M 0 0 M237.972 1541.24 L242.857 1541.24 L242.857 1547.12 L237.972 1547.12 L237.972 1541.24 Z\" fill=\"#000000\" fill-rule=\"evenodd\" fill-opacity=\"1\" /><path clip-path=\"url(#clip310)\" d=\"M 0 0 M263.042 1515.64 Q259.431 1515.64 257.602 1519.2 Q255.796 1522.75 255.796 1529.87 Q255.796 1536.98 257.602 1540.55 Q259.431 1544.09 263.042 1544.09 Q266.676 1544.09 268.481 1540.55 Q270.31 1536.98 270.31 1529.87 Q270.31 1522.75 268.481 1519.2 Q266.676 1515.64 263.042 1515.64 M263.042 1511.93 Q268.852 1511.93 271.907 1516.54 Q274.986 1521.12 274.986 1529.87 Q274.986 1538.6 271.907 1543.21 Q268.852 1547.79 263.042 1547.79 Q257.232 1547.79 254.153 1543.21 Q251.097 1538.6 251.097 1529.87 Q251.097 1521.12 254.153 1516.54 Q257.232 1511.93 263.042 1511.93 Z\" fill=\"#000000\" fill-rule=\"evenodd\" fill-opacity=\"1\" /><path clip-path=\"url(#clip310)\" d=\"M 0 0 M293.204 1515.64 Q289.592 1515.64 287.764 1519.2 Q285.958 1522.75 285.958 1529.87 Q285.958 1536.98 287.764 1540.55 Q289.592 1544.09 293.204 1544.09 Q296.838 1544.09 298.643 1540.55 Q300.472 1536.98 300.472 1529.87 Q300.472 1522.75 298.643 1519.2 Q296.838 1515.64 293.204 1515.64 M293.204 1511.93 Q299.014 1511.93 302.069 1516.54 Q305.148 1521.12 305.148 1529.87 Q305.148 1538.6 302.069 1543.21 Q299.014 1547.79 293.204 1547.79 Q287.393 1547.79 284.315 1543.21 Q281.259 1538.6 281.259 1529.87 Q281.259 1521.12 284.315 1516.54 Q287.393 1511.93 293.204 1511.93 Z\" fill=\"#000000\" fill-rule=\"evenodd\" fill-opacity=\"1\" /><path clip-path=\"url(#clip310)\" d=\"M 0 0 M727.349 1515.64 Q723.738 1515.64 721.909 1519.2 Q720.104 1522.75 720.104 1529.87 Q720.104 1536.98 721.909 1540.55 Q723.738 1544.09 727.349 1544.09 Q730.983 1544.09 732.789 1540.55 Q734.618 1536.98 734.618 1529.87 Q734.618 1522.75 732.789 1519.2 Q730.983 1515.64 727.349 1515.64 M727.349 1511.93 Q733.159 1511.93 736.215 1516.54 Q739.294 1521.12 739.294 1529.87 Q739.294 1538.6 736.215 1543.21 Q733.159 1547.79 727.349 1547.79 Q721.539 1547.79 718.46 1543.21 Q715.405 1538.6 715.405 1529.87 Q715.405 1521.12 718.46 1516.54 Q721.539 1511.93 727.349 1511.93 Z\" fill=\"#000000\" fill-rule=\"evenodd\" fill-opacity=\"1\" /><path clip-path=\"url(#clip310)\" d=\"M 0 0 M747.511 1541.24 L752.395 1541.24 L752.395 1547.12 L747.511 1547.12 L747.511 1541.24 Z\" fill=\"#000000\" fill-rule=\"evenodd\" fill-opacity=\"1\" /><path clip-path=\"url(#clip310)\" d=\"M 0 0 M766.608 1543.18 L782.928 1543.18 L782.928 1547.12 L760.983 1547.12 L760.983 1543.18 Q763.645 1540.43 768.229 1535.8 Q772.835 1531.15 774.016 1529.81 Q776.261 1527.28 777.141 1525.55 Q778.043 1523.79 778.043 1522.1 Q778.043 1519.34 776.099 1517.61 Q774.178 1515.87 771.076 1515.87 Q768.877 1515.87 766.423 1516.63 Q763.992 1517.4 761.215 1518.95 L761.215 1514.23 Q764.039 1513.09 766.492 1512.51 Q768.946 1511.93 770.983 1511.93 Q776.354 1511.93 779.548 1514.62 Q782.742 1517.31 782.742 1521.8 Q782.742 1523.93 781.932 1525.85 Q781.145 1527.74 779.039 1530.34 Q778.46 1531.01 775.358 1534.23 Q772.256 1537.42 766.608 1543.18 Z\" fill=\"#000000\" fill-rule=\"evenodd\" fill-opacity=\"1\" /><path clip-path=\"url(#clip310)\" d=\"M 0 0 M792.789 1512.56 L811.145 1512.56 L811.145 1516.5 L797.071 1516.5 L797.071 1524.97 Q798.09 1524.62 799.108 1524.46 Q800.127 1524.27 801.145 1524.27 Q806.932 1524.27 810.312 1527.44 Q813.691 1530.62 813.691 1536.03 Q813.691 1541.61 810.219 1544.71 Q806.747 1547.79 800.427 1547.79 Q798.252 1547.79 795.983 1547.42 Q793.738 1547.05 791.33 1546.31 L791.33 1541.61 Q793.414 1542.74 795.636 1543.3 Q797.858 1543.86 800.335 1543.86 Q804.339 1543.86 806.677 1541.75 Q809.015 1539.64 809.015 1536.03 Q809.015 1532.42 806.677 1530.31 Q804.339 1528.21 800.335 1528.21 Q798.46 1528.21 796.585 1528.62 Q794.733 1529.04 792.789 1529.92 L792.789 1512.56 Z\" fill=\"#000000\" fill-rule=\"evenodd\" fill-opacity=\"1\" /><path clip-path=\"url(#clip310)\" d=\"M 0 0 M1235.89 1515.64 Q1232.28 1515.64 1230.45 1519.2 Q1228.65 1522.75 1228.65 1529.87 Q1228.65 1536.98 1230.45 1540.55 Q1232.28 1544.09 1235.89 1544.09 Q1239.53 1544.09 1241.33 1540.55 Q1243.16 1536.98 1243.16 1529.87 Q1243.16 1522.75 1241.33 1519.2 Q1239.53 1515.64 1235.89 1515.64 M1235.89 1511.93 Q1241.7 1511.93 1244.76 1516.54 Q1247.84 1521.12 1247.84 1529.87 Q1247.84 1538.6 1244.76 1543.21 Q1241.7 1547.79 1235.89 1547.79 Q1230.08 1547.79 1227 1543.21 Q1223.95 1538.6 1223.95 1529.87 Q1223.95 1521.12 1227 1516.54 Q1230.08 1511.93 1235.89 1511.93 Z\" fill=\"#000000\" fill-rule=\"evenodd\" fill-opacity=\"1\" /><path clip-path=\"url(#clip310)\" d=\"M 0 0 M1256.05 1541.24 L1260.94 1541.24 L1260.94 1547.12 L1256.05 1547.12 L1256.05 1541.24 Z\" fill=\"#000000\" fill-rule=\"evenodd\" fill-opacity=\"1\" /><path clip-path=\"url(#clip310)\" d=\"M 0 0 M1271.17 1512.56 L1289.53 1512.56 L1289.53 1516.5 L1275.45 1516.5 L1275.45 1524.97 Q1276.47 1524.62 1277.49 1524.46 Q1278.51 1524.27 1279.53 1524.27 Q1285.31 1524.27 1288.69 1527.44 Q1292.07 1530.62 1292.07 1536.03 Q1292.07 1541.61 1288.6 1544.71 Q1285.13 1547.79 1278.81 1547.79 Q1276.63 1547.79 1274.36 1547.42 Q1272.12 1547.05 1269.71 1546.31 L1269.71 1541.61 Q1271.8 1542.74 1274.02 1543.3 Q1276.24 1543.86 1278.72 1543.86 Q1282.72 1543.86 1285.06 1541.75 Q1287.4 1539.64 1287.4 1536.03 Q1287.4 1532.42 1285.06 1530.31 Q1282.72 1528.21 1278.72 1528.21 Q1276.84 1528.21 1274.97 1528.62 Q1273.11 1529.04 1271.17 1529.92 L1271.17 1512.56 Z\" fill=\"#000000\" fill-rule=\"evenodd\" fill-opacity=\"1\" /><path clip-path=\"url(#clip310)\" d=\"M 0 0 M1311.29 1515.64 Q1307.67 1515.64 1305.85 1519.2 Q1304.04 1522.75 1304.04 1529.87 Q1304.04 1536.98 1305.85 1540.55 Q1307.67 1544.09 1311.29 1544.09 Q1314.92 1544.09 1316.73 1540.55 Q1318.55 1536.98 1318.55 1529.87 Q1318.55 1522.75 1316.73 1519.2 Q1314.92 1515.64 1311.29 1515.64 M1311.29 1511.93 Q1317.1 1511.93 1320.15 1516.54 Q1323.23 1521.12 1323.23 1529.87 Q1323.23 1538.6 1320.15 1543.21 Q1317.1 1547.79 1311.29 1547.79 Q1305.48 1547.79 1302.4 1543.21 Q1299.34 1538.6 1299.34 1529.87 Q1299.34 1521.12 1302.4 1516.54 Q1305.48 1511.93 1311.29 1511.93 Z\" fill=\"#000000\" fill-rule=\"evenodd\" fill-opacity=\"1\" /><path clip-path=\"url(#clip310)\" d=\"M 0 0 M1745.43 1515.64 Q1741.82 1515.64 1739.99 1519.2 Q1738.19 1522.75 1738.19 1529.87 Q1738.19 1536.98 1739.99 1540.55 Q1741.82 1544.09 1745.43 1544.09 Q1749.07 1544.09 1750.87 1540.55 Q1752.7 1536.98 1752.7 1529.87 Q1752.7 1522.75 1750.87 1519.2 Q1749.07 1515.64 1745.43 1515.64 M1745.43 1511.93 Q1751.24 1511.93 1754.3 1516.54 Q1757.38 1521.12 1757.38 1529.87 Q1757.38 1538.6 1754.3 1543.21 Q1751.24 1547.79 1745.43 1547.79 Q1739.62 1547.79 1736.54 1543.21 Q1733.49 1538.6 1733.49 1529.87 Q1733.49 1521.12 1736.54 1516.54 Q1739.62 1511.93 1745.43 1511.93 Z\" fill=\"#000000\" fill-rule=\"evenodd\" fill-opacity=\"1\" /><path clip-path=\"url(#clip310)\" d=\"M 0 0 M1765.59 1541.24 L1770.48 1541.24 L1770.48 1547.12 L1765.59 1547.12 L1765.59 1541.24 Z\" fill=\"#000000\" fill-rule=\"evenodd\" fill-opacity=\"1\" /><path clip-path=\"url(#clip310)\" d=\"M 0 0 M1779.48 1512.56 L1801.7 1512.56 L1801.7 1514.55 L1789.16 1547.12 L1784.27 1547.12 L1796.08 1516.5 L1779.48 1516.5 L1779.48 1512.56 Z\" fill=\"#000000\" fill-rule=\"evenodd\" fill-opacity=\"1\" /><path clip-path=\"url(#clip310)\" d=\"M 0 0 M1810.87 1512.56 L1829.23 1512.56 L1829.23 1516.5 L1815.15 1516.5 L1815.15 1524.97 Q1816.17 1524.62 1817.19 1524.46 Q1818.21 1524.27 1819.23 1524.27 Q1825.01 1524.27 1828.39 1527.44 Q1831.77 1530.62 1831.77 1536.03 Q1831.77 1541.61 1828.3 1544.71 Q1824.83 1547.79 1818.51 1547.79 Q1816.33 1547.79 1814.07 1547.42 Q1811.82 1547.05 1809.41 1546.31 L1809.41 1541.61 Q1811.5 1542.74 1813.72 1543.3 Q1815.94 1543.86 1818.42 1543.86 Q1822.42 1543.86 1824.76 1541.75 Q1827.1 1539.64 1827.1 1536.03 Q1827.1 1532.42 1824.76 1530.31 Q1822.42 1528.21 1818.42 1528.21 Q1816.54 1528.21 1814.67 1528.62 Q1812.82 1529.04 1810.87 1529.92 L1810.87 1512.56 Z\" fill=\"#000000\" fill-rule=\"evenodd\" fill-opacity=\"1\" /><path clip-path=\"url(#clip310)\" d=\"M 0 0 M2243.74 1543.18 L2251.38 1543.18 L2251.38 1516.82 L2243.07 1518.49 L2243.07 1514.23 L2251.34 1512.56 L2256.01 1512.56 L2256.01 1543.18 L2263.65 1543.18 L2263.65 1547.12 L2243.74 1547.12 L2243.74 1543.18 Z\" fill=\"#000000\" fill-rule=\"evenodd\" fill-opacity=\"1\" /><path clip-path=\"url(#clip310)\" d=\"M 0 0 M2273.09 1541.24 L2277.98 1541.24 L2277.98 1547.12 L2273.09 1547.12 L2273.09 1541.24 Z\" fill=\"#000000\" fill-rule=\"evenodd\" fill-opacity=\"1\" /><path clip-path=\"url(#clip310)\" d=\"M 0 0 M2298.16 1515.64 Q2294.55 1515.64 2292.72 1519.2 Q2290.92 1522.75 2290.92 1529.87 Q2290.92 1536.98 2292.72 1540.55 Q2294.55 1544.09 2298.16 1544.09 Q2301.8 1544.09 2303.6 1540.55 Q2305.43 1536.98 2305.43 1529.87 Q2305.43 1522.75 2303.6 1519.2 Q2301.8 1515.64 2298.16 1515.64 M2298.16 1511.93 Q2303.97 1511.93 2307.03 1516.54 Q2310.11 1521.12 2310.11 1529.87 Q2310.11 1538.6 2307.03 1543.21 Q2303.97 1547.79 2298.16 1547.79 Q2292.35 1547.79 2289.28 1543.21 Q2286.22 1538.6 2286.22 1529.87 Q2286.22 1521.12 2289.28 1516.54 Q2292.35 1511.93 2298.16 1511.93 Z\" fill=\"#000000\" fill-rule=\"evenodd\" fill-opacity=\"1\" /><path clip-path=\"url(#clip310)\" d=\"M 0 0 M2328.33 1515.64 Q2324.71 1515.64 2322.89 1519.2 Q2321.08 1522.75 2321.08 1529.87 Q2321.08 1536.98 2322.89 1540.55 Q2324.71 1544.09 2328.33 1544.09 Q2331.96 1544.09 2333.77 1540.55 Q2335.59 1536.98 2335.59 1529.87 Q2335.59 1522.75 2333.77 1519.2 Q2331.96 1515.64 2328.33 1515.64 M2328.33 1511.93 Q2334.14 1511.93 2337.19 1516.54 Q2340.27 1521.12 2340.27 1529.87 Q2340.27 1538.6 2337.19 1543.21 Q2334.14 1547.79 2328.33 1547.79 Q2322.52 1547.79 2319.44 1543.21 Q2316.38 1538.6 2316.38 1529.87 Q2316.38 1521.12 2319.44 1516.54 Q2322.52 1511.93 2328.33 1511.93 Z\" fill=\"#000000\" fill-rule=\"evenodd\" fill-opacity=\"1\" /><polyline clip-path=\"url(#clip312)\" style=\"stroke:#000000; stroke-width:2; stroke-opacity:0.1; fill:none\" points=\"\n",
       "  194.422,1272 2352.76,1272 \n",
       "  \"/>\n",
       "<polyline clip-path=\"url(#clip312)\" style=\"stroke:#000000; stroke-width:2; stroke-opacity:0.1; fill:none\" points=\"\n",
       "  194.422,1008.88 2352.76,1008.88 \n",
       "  \"/>\n",
       "<polyline clip-path=\"url(#clip312)\" style=\"stroke:#000000; stroke-width:2; stroke-opacity:0.1; fill:none\" points=\"\n",
       "  194.422,745.767 2352.76,745.767 \n",
       "  \"/>\n",
       "<polyline clip-path=\"url(#clip312)\" style=\"stroke:#000000; stroke-width:2; stroke-opacity:0.1; fill:none\" points=\"\n",
       "  194.422,482.651 2352.76,482.651 \n",
       "  \"/>\n",
       "<polyline clip-path=\"url(#clip312)\" style=\"stroke:#000000; stroke-width:2; stroke-opacity:0.1; fill:none\" points=\"\n",
       "  194.422,219.534 2352.76,219.534 \n",
       "  \"/>\n",
       "<polyline clip-path=\"url(#clip310)\" style=\"stroke:#000000; stroke-width:4; stroke-opacity:1; fill:none\" points=\"\n",
       "  194.422,1486.45 194.422,47.2441 \n",
       "  \"/>\n",
       "<polyline clip-path=\"url(#clip310)\" style=\"stroke:#000000; stroke-width:4; stroke-opacity:1; fill:none\" points=\"\n",
       "  194.422,1272 220.322,1272 \n",
       "  \"/>\n",
       "<polyline clip-path=\"url(#clip310)\" style=\"stroke:#000000; stroke-width:4; stroke-opacity:1; fill:none\" points=\"\n",
       "  194.422,1008.88 220.322,1008.88 \n",
       "  \"/>\n",
       "<polyline clip-path=\"url(#clip310)\" style=\"stroke:#000000; stroke-width:4; stroke-opacity:1; fill:none\" points=\"\n",
       "  194.422,745.767 220.322,745.767 \n",
       "  \"/>\n",
       "<polyline clip-path=\"url(#clip310)\" style=\"stroke:#000000; stroke-width:4; stroke-opacity:1; fill:none\" points=\"\n",
       "  194.422,482.651 220.322,482.651 \n",
       "  \"/>\n",
       "<polyline clip-path=\"url(#clip310)\" style=\"stroke:#000000; stroke-width:4; stroke-opacity:1; fill:none\" points=\"\n",
       "  194.422,219.534 220.322,219.534 \n",
       "  \"/>\n",
       "<path clip-path=\"url(#clip310)\" d=\"M 0 0 M50.9921 1272.45 L80.6679 1272.45 L80.6679 1276.39 L50.9921 1276.39 L50.9921 1272.45 Z\" fill=\"#000000\" fill-rule=\"evenodd\" fill-opacity=\"1\" /><path clip-path=\"url(#clip310)\" d=\"M 0 0 M100.76 1257.8 Q97.1493 1257.8 95.3206 1261.36 Q93.515 1264.91 93.515 1272.03 Q93.515 1279.14 95.3206 1282.71 Q97.1493 1286.25 100.76 1286.25 Q104.395 1286.25 106.2 1282.71 Q108.029 1279.14 108.029 1272.03 Q108.029 1264.91 106.2 1261.36 Q104.395 1257.8 100.76 1257.8 M100.76 1254.09 Q106.571 1254.09 109.626 1258.7 Q112.705 1263.28 112.705 1272.03 Q112.705 1280.76 109.626 1285.37 Q106.571 1289.95 100.76 1289.95 Q94.9502 1289.95 91.8715 1285.37 Q88.816 1280.76 88.816 1272.03 Q88.816 1263.28 91.8715 1258.7 Q94.9502 1254.09 100.76 1254.09 Z\" fill=\"#000000\" fill-rule=\"evenodd\" fill-opacity=\"1\" /><path clip-path=\"url(#clip310)\" d=\"M 0 0 M120.922 1283.4 L125.807 1283.4 L125.807 1289.28 L120.922 1289.28 L120.922 1283.4 Z\" fill=\"#000000\" fill-rule=\"evenodd\" fill-opacity=\"1\" /><path clip-path=\"url(#clip310)\" d=\"M 0 0 M148.839 1258.79 L137.033 1277.24 L148.839 1277.24 L148.839 1258.79 M147.612 1254.72 L153.492 1254.72 L153.492 1277.24 L158.422 1277.24 L158.422 1281.13 L153.492 1281.13 L153.492 1289.28 L148.839 1289.28 L148.839 1281.13 L133.237 1281.13 L133.237 1276.62 L147.612 1254.72 Z\" fill=\"#000000\" fill-rule=\"evenodd\" fill-opacity=\"1\" /><path clip-path=\"url(#clip310)\" d=\"M 0 0 M53.0754 1009.33 L82.7512 1009.33 L82.7512 1013.27 L53.0754 1013.27 L53.0754 1009.33 Z\" fill=\"#000000\" fill-rule=\"evenodd\" fill-opacity=\"1\" /><path clip-path=\"url(#clip310)\" d=\"M 0 0 M102.844 994.682 Q99.2326 994.682 97.4039 998.247 Q95.5984 1001.79 95.5984 1008.92 Q95.5984 1016.02 97.4039 1019.59 Q99.2326 1023.13 102.844 1023.13 Q106.478 1023.13 108.283 1019.59 Q110.112 1016.02 110.112 1008.92 Q110.112 1001.79 108.283 998.247 Q106.478 994.682 102.844 994.682 M102.844 990.979 Q108.654 990.979 111.709 995.585 Q114.788 1000.17 114.788 1008.92 Q114.788 1017.65 111.709 1022.25 Q108.654 1026.83 102.844 1026.83 Q97.0335 1026.83 93.9549 1022.25 Q90.8993 1017.65 90.8993 1008.92 Q90.8993 1000.17 93.9549 995.585 Q97.0335 990.979 102.844 990.979 Z\" fill=\"#000000\" fill-rule=\"evenodd\" fill-opacity=\"1\" /><path clip-path=\"url(#clip310)\" d=\"M 0 0 M123.006 1020.28 L127.89 1020.28 L127.89 1026.16 L123.006 1026.16 L123.006 1020.28 Z\" fill=\"#000000\" fill-rule=\"evenodd\" fill-opacity=\"1\" /><path clip-path=\"url(#clip310)\" d=\"M 0 0 M142.103 1022.23 L158.422 1022.23 L158.422 1026.16 L136.478 1026.16 L136.478 1022.23 Q139.14 1019.47 143.723 1014.84 Q148.33 1010.19 149.51 1008.85 Q151.755 1006.33 152.635 1004.59 Q153.538 1002.83 153.538 1001.14 Q153.538 998.386 151.593 996.65 Q149.672 994.914 146.57 994.914 Q144.371 994.914 141.918 995.678 Q139.487 996.442 136.709 997.992 L136.709 993.27 Q139.533 992.136 141.987 991.557 Q144.441 990.979 146.478 990.979 Q151.848 990.979 155.042 993.664 Q158.237 996.349 158.237 1000.84 Q158.237 1002.97 157.427 1004.89 Q156.64 1006.79 154.533 1009.38 Q153.955 1010.05 150.853 1013.27 Q147.751 1016.46 142.103 1022.23 Z\" fill=\"#000000\" fill-rule=\"evenodd\" fill-opacity=\"1\" /><path clip-path=\"url(#clip310)\" d=\"M 0 0 M101.246 731.566 Q97.6354 731.566 95.8067 735.131 Q94.0012 738.672 94.0012 745.802 Q94.0012 752.908 95.8067 756.473 Q97.6354 760.015 101.246 760.015 Q104.881 760.015 106.686 756.473 Q108.515 752.908 108.515 745.802 Q108.515 738.672 106.686 735.131 Q104.881 731.566 101.246 731.566 M101.246 727.862 Q107.057 727.862 110.112 732.469 Q113.191 737.052 113.191 745.802 Q113.191 754.529 110.112 759.135 Q107.057 763.718 101.246 763.718 Q95.4363 763.718 92.3576 759.135 Q89.3021 754.529 89.3021 745.802 Q89.3021 737.052 92.3576 732.469 Q95.4363 727.862 101.246 727.862 Z\" fill=\"#000000\" fill-rule=\"evenodd\" fill-opacity=\"1\" /><path clip-path=\"url(#clip310)\" d=\"M 0 0 M121.408 757.168 L126.293 757.168 L126.293 763.047 L121.408 763.047 L121.408 757.168 Z\" fill=\"#000000\" fill-rule=\"evenodd\" fill-opacity=\"1\" /><path clip-path=\"url(#clip310)\" d=\"M 0 0 M146.478 731.566 Q142.867 731.566 141.038 735.131 Q139.232 738.672 139.232 745.802 Q139.232 752.908 141.038 756.473 Q142.867 760.015 146.478 760.015 Q150.112 760.015 151.918 756.473 Q153.746 752.908 153.746 745.802 Q153.746 738.672 151.918 735.131 Q150.112 731.566 146.478 731.566 M146.478 727.862 Q152.288 727.862 155.343 732.469 Q158.422 737.052 158.422 745.802 Q158.422 754.529 155.343 759.135 Q152.288 763.718 146.478 763.718 Q140.668 763.718 137.589 759.135 Q134.533 754.529 134.533 745.802 Q134.533 737.052 137.589 732.469 Q140.668 727.862 146.478 727.862 Z\" fill=\"#000000\" fill-rule=\"evenodd\" fill-opacity=\"1\" /><path clip-path=\"url(#clip310)\" d=\"M 0 0 M102.844 468.45 Q99.2326 468.45 97.4039 472.014 Q95.5984 475.556 95.5984 482.686 Q95.5984 489.792 97.4039 493.357 Q99.2326 496.898 102.844 496.898 Q106.478 496.898 108.283 493.357 Q110.112 489.792 110.112 482.686 Q110.112 475.556 108.283 472.014 Q106.478 468.45 102.844 468.45 M102.844 464.746 Q108.654 464.746 111.709 469.352 Q114.788 473.936 114.788 482.686 Q114.788 491.412 111.709 496.019 Q108.654 500.602 102.844 500.602 Q97.0335 500.602 93.9549 496.019 Q90.8993 491.412 90.8993 482.686 Q90.8993 473.936 93.9549 469.352 Q97.0335 464.746 102.844 464.746 Z\" fill=\"#000000\" fill-rule=\"evenodd\" fill-opacity=\"1\" /><path clip-path=\"url(#clip310)\" d=\"M 0 0 M123.006 494.051 L127.89 494.051 L127.89 499.931 L123.006 499.931 L123.006 494.051 Z\" fill=\"#000000\" fill-rule=\"evenodd\" fill-opacity=\"1\" /><path clip-path=\"url(#clip310)\" d=\"M 0 0 M142.103 495.996 L158.422 495.996 L158.422 499.931 L136.478 499.931 L136.478 495.996 Q139.14 493.241 143.723 488.611 Q148.33 483.959 149.51 482.616 Q151.755 480.093 152.635 478.357 Q153.538 476.598 153.538 474.908 Q153.538 472.153 151.593 470.417 Q149.672 468.681 146.57 468.681 Q144.371 468.681 141.918 469.445 Q139.487 470.209 136.709 471.76 L136.709 467.037 Q139.533 465.903 141.987 465.325 Q144.441 464.746 146.478 464.746 Q151.848 464.746 155.042 467.431 Q158.237 470.116 158.237 474.607 Q158.237 476.737 157.427 478.658 Q156.64 480.556 154.533 483.149 Q153.955 483.82 150.853 487.037 Q147.751 490.232 142.103 495.996 Z\" fill=\"#000000\" fill-rule=\"evenodd\" fill-opacity=\"1\" /><path clip-path=\"url(#clip310)\" d=\"M 0 0 M100.76 205.333 Q97.1493 205.333 95.3206 208.898 Q93.515 212.44 93.515 219.569 Q93.515 226.676 95.3206 230.24 Q97.1493 233.782 100.76 233.782 Q104.395 233.782 106.2 230.24 Q108.029 226.676 108.029 219.569 Q108.029 212.44 106.2 208.898 Q104.395 205.333 100.76 205.333 M100.76 201.629 Q106.571 201.629 109.626 206.236 Q112.705 210.819 112.705 219.569 Q112.705 228.296 109.626 232.902 Q106.571 237.486 100.76 237.486 Q94.9502 237.486 91.8715 232.902 Q88.816 228.296 88.816 219.569 Q88.816 210.819 91.8715 206.236 Q94.9502 201.629 100.76 201.629 Z\" fill=\"#000000\" fill-rule=\"evenodd\" fill-opacity=\"1\" /><path clip-path=\"url(#clip310)\" d=\"M 0 0 M120.922 230.935 L125.807 230.935 L125.807 236.814 L120.922 236.814 L120.922 230.935 Z\" fill=\"#000000\" fill-rule=\"evenodd\" fill-opacity=\"1\" /><path clip-path=\"url(#clip310)\" d=\"M 0 0 M148.839 206.329 L137.033 224.777 L148.839 224.777 L148.839 206.329 M147.612 202.254 L153.492 202.254 L153.492 224.777 L158.422 224.777 L158.422 228.666 L153.492 228.666 L153.492 236.814 L148.839 236.814 L148.839 228.666 L133.237 228.666 L133.237 224.152 L147.612 202.254 Z\" fill=\"#000000\" fill-rule=\"evenodd\" fill-opacity=\"1\" /><polyline clip-path=\"url(#clip312)\" style=\"stroke:#009af9; stroke-width:4; stroke-opacity:1; fill:none\" points=\"\n",
       "  255.507,745.767 268.251,770.758 281.32,795.678 294.732,820.522 308.503,845.284 322.652,869.957 337.198,894.533 352.162,919.004 367.568,943.361 383.44,967.592 \n",
       "  399.804,991.686 416.689,1015.63 434.124,1039.41 452.143,1063 470.781,1086.4 490.075,1109.57 510.067,1132.49 530.8,1155.14 552.319,1177.48 574.675,1199.47 \n",
       "  597.919,1221.08 622.106,1242.25 647.293,1262.92 673.538,1283.04 700.898,1302.53 729.43,1321.3 759.186,1339.27 790.209,1356.31 822.533,1372.32 856.172,1387.15 \n",
       "  891.119,1400.66 927.334,1412.69 964.743,1423.09 1003.23,1431.7 1042.62,1438.37 1082.71,1442.98 1123.25,1445.45 1163.98,1445.72 1204.59,1443.78 1244.81,1439.67 \n",
       "  1284.4,1433.48 1323.11,1425.33 1360.79,1415.34 1397.3,1403.69 1432.56,1390.52 1466.52,1375.99 1499.15,1360.26 1530.49,1343.45 1560.54,1325.7 1589.37,1307.11 \n",
       "  1617,1287.78 1643.51,1267.81 1668.95,1247.26 1693.37,1226.2 1716.83,1204.7 1739.4,1182.8 1761.11,1160.54 1782.03,1137.96 1802.2,1115.1 1821.65,1091.99 \n",
       "  1840.45,1068.64 1858.61,1045.09 1876.18,1021.36 1893.2,997.452 1909.68,973.393 1925.67,949.194 1941.19,924.866 1956.26,900.422 1970.9,875.87 1985.14,851.219 \n",
       "  1999,826.478 2012.5,801.653 2025.65,776.751 2038.47,751.777 2050.98,726.736 2063.18,701.634 2075.1,676.474 2086.75,651.261 2098.13,625.998 2109.26,600.688 \n",
       "  2120.15,575.334 2130.81,549.94 2141.25,524.507 2151.47,499.038 2161.49,473.535 2171.32,448 2180.95,422.434 2190.4,396.841 2199.68,371.22 2208.78,345.574 \n",
       "  2217.72,319.905 2226.51,294.212 2235.14,268.498 2243.62,242.763 2251.96,217.008 2260.16,191.236 2268.23,165.445 2276.17,139.638 2283.98,113.815 2291.67,87.9763 \n",
       "  \n",
       "  \"/>\n",
       "</svg>\n"
      ]
     },
     "execution_count": 65,
     "metadata": {},
     "output_type": "execute_result"
    }
   ],
   "source": [
    "xvals = value.(x)\n",
    "yvals = value.(y)\n",
    "\n",
    "using Plots\n",
    "plot(xvals, yvals, legend=false)"
   ]
  },
  {
   "cell_type": "code",
   "execution_count": null,
   "id": "886d55d3",
   "metadata": {},
   "outputs": [],
   "source": []
  }
 ],
 "metadata": {
  "@webio": {
   "lastCommId": null,
   "lastKernelId": null
  },
  "kernelspec": {
   "display_name": "Julia 1.6.0",
   "language": "julia",
   "name": "julia-1.6"
  },
  "language_info": {
   "file_extension": ".jl",
   "mimetype": "application/julia",
   "name": "julia",
   "version": "1.6.0"
  }
 },
 "nbformat": 4,
 "nbformat_minor": 5
}
