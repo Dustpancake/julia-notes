{
 "cells": [
  {
   "cell_type": "markdown",
   "id": "headed-massage",
   "metadata": {},
   "source": [
    "# GPU memory\n",
    "This notebook contains notes on the GPU memory layout, processing, and some of the lower-level access to the CUDA API which interfaces with those aspects, as well as the specific CUDA.jl bindings.\n",
    "\n",
    "I watched a series of videos last night, which explain how CUDA functions\n",
    "- [CUDA Tutorials](https://www.youtube.com/watch?v=m0nhePeHwFs&list=PLKK11Ligqititws0ZOoGk3SW-TZCar4dK) by Creel\n",
    "- [Intro to Cuda](https://www.youtube.com/watch?v=cRY5utouJzQ) by Josh Holloway"
   ]
  },
  {
   "cell_type": "markdown",
   "id": "standing-adjustment",
   "metadata": {},
   "source": [
    "## Memory model\n",
    "In short, the GPU memory and architecture looks something like this:"
   ]
  },
  {
   "cell_type": "markdown",
   "id": "western-pioneer",
   "metadata": {},
   "source": [
    "![](./gpumem.png)"
   ]
  },
  {
   "cell_type": "markdown",
   "id": "surface-safety",
   "metadata": {},
   "source": [
    "### Computation\n",
    "The principle units of GPU processing are **threads**, which in CUDA are arranged into **blocks**. GPUs use this block-based processing design so that the same code can run irrespective of the GPU model itself, with more powerful GPUs churning through more blocks at a time.\n",
    "\n",
    "The GPU has a number of **streaming multiprocessors** (SM), each consisting of a number of **streaming processors** (SP), which are scalar lanes, running a single thread at a time. A SM schedules instructions to the SP as it executes a block, through the **warp scheduler**.\n",
    "\n",
    "A block is exectuted in **warps**, where a single warp is usually defined as the execution of 32 simultaneous threads (related to memory access transaction specifics, see [this SO answer](https://stackoverflow.com/a/11821971)).\n",
    "\n",
    "A single block can hold up to 1024 threads, and there is no practical limit on the number of blocks you can define. \n",
    "\n",
    "An overall scheduler on the GPU will distribute blocks to the SMs, which in turn will execute a number of warps per clock cycle until all of the blocks have been completed.\n",
    "\n",
    "In CUDA, when we launch a processing kernel (a routine/algorithm/function) on the GPU, we can specifiy the block layout, and within those blocks, the number of threads.\n",
    "\n",
    "The block layout is known as a **grid**.\n",
    "\n",
    "There's elements of tradeoffs between number of threads and the shared memory in a block, which is why you may want to limit these things.\n",
    "\n",
    "Note, there are tools to help you optimize this: for example, in CUDA.jl:\n",
    "```julia\n",
    "CUDA.launch_configuration()\n",
    "```"
   ]
  },
  {
   "cell_type": "markdown",
   "id": "5a73895a",
   "metadata": {},
   "source": [
    "## Thread topology\n",
    "\n",
    "When launching a kernel on a GPU, you provide a topology specifying the dimensionality of your blocks and grids. For example, you could run 27 threads in a 3-dimensional block (3x3x3), and launch 25 of those blocks in a two dimensional grid (5x5).\n",
    "\n",
    "In order to help each thread uniquely identify itself (and consequently the data it should compute over) CUDA uses `threadIdx` and `blockIdx` to store topology information.\n",
    "\n",
    "When block and grid are both 1-dimensional, we can use the formula\n",
    "```julia\n",
    "idx = threadIdx().x + blockDim().x * (blockIdx().x - 1)\n",
    "```\n",
    "to determine a unique identifier for our thread."
   ]
  },
  {
   "cell_type": "markdown",
   "id": "animal-nature",
   "metadata": {},
   "source": [
    "## Memory\n",
    "\n",
    "Each block has **shared memory**, which is stored on-chip of the SM. This memory is typically rather small (10s of kilobytes), and is used for intercommunication between threads. The RW operations are consequently very fast by proximity. Shared memory is accessed through an L1 cache, so write operations to shared memory must be synchronised.\n",
    "\n",
    "Each thread has **register memory** (unlike CPUs, there are many thousand GPU registers) for storing immediate data, and any spillover from register memory is stored in the thread's local memory. Now despite the name, the local memory is off-chip, stored in the GPUs equivalent of DRAM, and so RW operations are slow. The local memory is owned and exclussively accessible by the running thread, as, of course, as the registers.\n",
    "\n",
    "Then there is the **global memory**, which is host not only to each thread's local memory, but itself represents memory that each thread can read and write to, albeit slow by distance, and not write-threadsafe.\n",
    "\n",
    "The global memory also houses the **constant memory** (sections of read-only written by the CPU and locked when a kernel launches), and the texture memory, which is special interpolated read-only memory.\n",
    "\n",
    "On modern GPUs, the global memory is accessed through an L2 cache.\n",
    "\n",
    "Memory accesses are often combined between threads; thus reaching for e.g. global memory is best done by many threads at approximately the same time, so that the hardware can conglomerate the action."
   ]
  },
  {
   "cell_type": "markdown",
   "id": "offshore-fraud",
   "metadata": {},
   "source": [
    "## Device introspection\n",
    "The CUDA library provides different tools for obtaining information on GPU devices, such as the command line `nvidia-smi` for a whole range of information. However CUDA.jl provides bindings for much of what we would need:"
   ]
  },
  {
   "cell_type": "code",
   "execution_count": 1,
   "id": "later-horizon",
   "metadata": {},
   "outputs": [
    {
     "name": "stdout",
     "output_type": "stream",
     "text": [
      "CUDA toolkit 11.3.1, artifact installation\n",
      "CUDA driver 11.2.0\n",
      "NVIDIA driver 460.73.1\n",
      "\n",
      "Libraries: \n",
      "- CUBLAS: 11.5.1\n",
      "- CURAND: 10.2.4\n",
      "- CUFFT: 10.4.2\n",
      "- CUSOLVER: 11.1.2\n",
      "- CUSPARSE: 11.6.0\n",
      "- CUPTI: 14.0.0\n",
      "- NVML: 11.0.0+460.73.1\n",
      "- CUDNN: 8.20.0 (for CUDA 11.3.0)\n"
     ]
    },
    {
     "name": "stderr",
     "output_type": "stream",
     "text": [
      "\u001b[32m\u001b[1m Downloading\u001b[22m\u001b[39m artifact: CUTENSOR\n"
     ]
    },
    {
     "name": "stdout",
     "output_type": "stream",
     "text": [
      "- CUTENSOR: 1.3.0 (for CUDA 11.2.0)\n",
      "\n",
      "Toolchain:\n",
      "- Julia: 1.6.2\n",
      "- LLVM: 11.0.1\n",
      "- PTX ISA support: 3.2, 4.0, 4.1, 4.2, 4.3, 5.0, 6.0, 6.1, 6.3, 6.4, 6.5, 7.0\n",
      "- Device capability support: sm_35, sm_37, sm_50, sm_52, sm_53, sm_60, sm_61, sm_62, sm_70, sm_72, sm_75, sm_80\n",
      "\n",
      "1 device:\n",
      "  0: GeForce GTX 980 (sm_52, 3.377 GiB / 3.946 GiB available)\n"
     ]
    }
   ],
   "source": [
    "using CUDA\n",
    "CUDA.versioninfo()"
   ]
  },
  {
   "cell_type": "code",
   "execution_count": 7,
   "id": "welsh-transportation",
   "metadata": {},
   "outputs": [
    {
     "data": {
      "text/plain": [
       "CuDevice(0): GeForce GTX 980"
      ]
     },
     "execution_count": 7,
     "metadata": {},
     "output_type": "execute_result"
    }
   ],
   "source": [
    "dev = collect(CUDA.devices())[1]"
   ]
  },
  {
   "cell_type": "markdown",
   "id": "indoor-forest",
   "metadata": {},
   "source": [
    "The [compute capability](https://forums.developer.nvidia.com/t/compute-capability/110091):"
   ]
  },
  {
   "cell_type": "code",
   "execution_count": 8,
   "id": "binary-cursor",
   "metadata": {},
   "outputs": [
    {
     "data": {
      "text/plain": [
       "v\"5.2.0\""
      ]
     },
     "execution_count": 8,
     "metadata": {},
     "output_type": "execute_result"
    }
   ],
   "source": [
    "CUDA.capability(dev)"
   ]
  },
  {
   "cell_type": "markdown",
   "id": "religious-taiwan",
   "metadata": {},
   "source": [
    "Numbers of threas per warp:"
   ]
  },
  {
   "cell_type": "code",
   "execution_count": 9,
   "id": "other-butler",
   "metadata": {},
   "outputs": [
    {
     "data": {
      "text/plain": [
       "32"
      ]
     },
     "execution_count": 9,
     "metadata": {},
     "output_type": "execute_result"
    }
   ],
   "source": [
    "CUDA.warpsize(dev)"
   ]
  },
  {
   "cell_type": "markdown",
   "id": "realistic-royal",
   "metadata": {},
   "source": [
    "Number of threads per block:"
   ]
  },
  {
   "cell_type": "code",
   "execution_count": 13,
   "id": "federal-major",
   "metadata": {},
   "outputs": [
    {
     "data": {
      "text/plain": [
       "1024"
      ]
     },
     "execution_count": 13,
     "metadata": {},
     "output_type": "execute_result"
    }
   ],
   "source": [
    "CUDA.attribute(dev, CUDA.CU_DEVICE_ATTRIBUTE_MAX_THREADS_PER_BLOCK)"
   ]
  },
  {
   "cell_type": "markdown",
   "id": "adult-assault",
   "metadata": {},
   "source": [
    "The amount of shared memory per block:"
   ]
  },
  {
   "cell_type": "code",
   "execution_count": 15,
   "id": "alleged-color",
   "metadata": {},
   "outputs": [
    {
     "data": {
      "text/plain": [
       "49152"
      ]
     },
     "execution_count": 15,
     "metadata": {},
     "output_type": "execute_result"
    }
   ],
   "source": [
    "CUDA.attribute(dev, CUDA.CU_DEVICE_ATTRIBUTE_MAX_SHARED_MEMORY_PER_BLOCK)"
   ]
  },
  {
   "cell_type": "markdown",
   "id": "applied-columbia",
   "metadata": {},
   "source": [
    "which is about 46 KB."
   ]
  },
  {
   "cell_type": "markdown",
   "id": "numeric-festival",
   "metadata": {},
   "source": [
    "Total constant memory:"
   ]
  },
  {
   "cell_type": "code",
   "execution_count": 16,
   "id": "vulnerable-barrier",
   "metadata": {
    "scrolled": true
   },
   "outputs": [
    {
     "data": {
      "text/plain": [
       "65536"
      ]
     },
     "execution_count": 16,
     "metadata": {},
     "output_type": "execute_result"
    }
   ],
   "source": [
    "CUDA.attribute(dev, CUDA.CU_DEVICE_ATTRIBUTE_TOTAL_CONSTANT_MEMORY)"
   ]
  },
  {
   "cell_type": "markdown",
   "id": "brilliant-bowling",
   "metadata": {},
   "source": [
    "Maximum number of registers per block:"
   ]
  },
  {
   "cell_type": "code",
   "execution_count": 17,
   "id": "dangerous-bracket",
   "metadata": {},
   "outputs": [
    {
     "data": {
      "text/plain": [
       "65536"
      ]
     },
     "execution_count": 17,
     "metadata": {},
     "output_type": "execute_result"
    }
   ],
   "source": [
    "CUDA.attribute(dev, CUDA.CU_DEVICE_ATTRIBUTE_MAX_REGISTERS_PER_BLOCK)"
   ]
  },
  {
   "cell_type": "code",
   "execution_count": 19,
   "id": "fluid-morocco",
   "metadata": {},
   "outputs": [
    {
     "data": {
      "text/plain": [
       "65536"
      ]
     },
     "execution_count": 19,
     "metadata": {},
     "output_type": "execute_result"
    }
   ],
   "source": [
    "CUDA.attribute(dev, CUDA.CU_DEVICE_ATTRIBUTE_REGISTERS_PER_BLOCK)"
   ]
  },
  {
   "cell_type": "markdown",
   "id": "advance-graduation",
   "metadata": {},
   "source": [
    "Multiprocessor count:"
   ]
  },
  {
   "cell_type": "code",
   "execution_count": 20,
   "id": "modified-chosen",
   "metadata": {},
   "outputs": [
    {
     "data": {
      "text/plain": [
       "16"
      ]
     },
     "execution_count": 20,
     "metadata": {},
     "output_type": "execute_result"
    }
   ],
   "source": [
    "CUDA.attribute(dev, CUDA.CU_DEVICE_ATTRIBUTE_MULTIPROCESSOR_COUNT)"
   ]
  }
 ],
 "metadata": {
  "@webio": {
   "lastCommId": null,
   "lastKernelId": null
  },
  "kernelspec": {
   "display_name": "Julia 1.6.2",
   "language": "julia",
   "name": "julia-1.6"
  },
  "language_info": {
   "file_extension": ".jl",
   "mimetype": "application/julia",
   "name": "julia",
   "version": "1.6.2"
  }
 },
 "nbformat": 4,
 "nbformat_minor": 5
}
