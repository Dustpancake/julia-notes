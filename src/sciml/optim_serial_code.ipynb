{
 "cells": [
  {
   "cell_type": "markdown",
   "id": "48be6927",
   "metadata": {},
   "source": [
    "# Optimizing serial code\n",
    "\n",
    "Notes made following the [MIT Math 18337 course](https://github.com/mitmath/18337).\n",
    "\n",
    "Parallelism is a performance improver; if the performance of a piece of code is already poor, parallelization will not make the situation significantly better.\n",
    "\n",
    "To understand how to write a *fast parallel program*, it is essential to first know and understand the hardware we are writing our code for, and how serial code can be made to fully take advantage of our system.\n",
    "\n",
    "We begin with examining the memory model of modern architectures."
   ]
  },
  {
   "cell_type": "markdown",
   "id": "9cc1bec7",
   "metadata": {},
   "source": [
    "## CPU memory\n",
    "\n",
    "The memory layout of a CPU may be sketched as in the following schematic:\n",
    "\n",
    "<img alt=\"Memory Layout\" src=\"memory_layout.png\" width=\"300px\" />\n",
    "\n",
    "Diagram inspired by Ferruccio Zulian.\n",
    "\n",
    "The L1 cache has the fastest memory access, followed by L2, L3, and then RAM. To exploit the L1 speed, we use a technique known as *cache warming*, i.e. keeping the resources we need continuously close to the compute cores.\n",
    "\n",
    "A good illustration to keep in mind is the following infographic:\n",
    "\n",
    "![not all CPU operations are created equal](http://ithare.com/wp-content/uploads/part101_infographics_v08.png)\n",
    "\n",
    "We can illustrate this memory overhead in terms of cache lines and array structures."
   ]
  },
  {
   "cell_type": "markdown",
   "id": "aacdbfc4",
   "metadata": {},
   "source": [
    "## Array ordering and cache lines\n",
    "\n",
    "Modern CPUs try to predict what is needed in the cache; e.g. for arrays, a *cache line* is loaded into the CPU cache, which is the next chunk of an array.\n",
    "\n",
    "In the case of one dimensional arrays, this is straight forward to visualise: a cache line may fit $n$ values, thus $n$ contiguous values are loaded into the cache so that iterating over the array is faster.\n",
    "\n",
    "When the arrays are multi dimensional, different languages abstract how the memory is stored in their interface; the two common systems are *row-* and *column-major* memory layouts.\n",
    "\n",
    "For *column* major layouts, each column is stored top to bottom in a one dimensional array continuously, whereas in *row* major layouts, the rows are stored side to side. \n",
    "\n",
    "To make best use of the cache, we want to ensure we are iterating over the major layout; consider:\n"
   ]
  },
  {
   "cell_type": "code",
   "execution_count": 1,
   "id": "a1dc42e5",
   "metadata": {},
   "outputs": [
    {
     "data": {
      "text/plain": [
       "inner_rows! (generic function with 1 method)"
      ]
     },
     "execution_count": 1,
     "metadata": {},
     "output_type": "execute_result"
    }
   ],
   "source": [
    "using BenchmarkTools\n",
    "\n",
    "A = rand(500, 500)\n",
    "B = rand(500, 500)\n",
    "C = rand(500, 500)\n",
    "\n",
    "function inner_rows!(C,A,B)\n",
    "  for i in 1:500, j in 1:500\n",
    "    C[i,j] = A[i,j] + B[i,j]\n",
    "  end\n",
    "end"
   ]
  },
  {
   "cell_type": "markdown",
   "id": "97bac1bf",
   "metadata": {},
   "source": [
    "The above iterates over the *rows* of the two dimensional array, before incrementing the column count."
   ]
  },
  {
   "cell_type": "code",
   "execution_count": 2,
   "id": "9e0a2090",
   "metadata": {},
   "outputs": [
    {
     "data": {
      "text/plain": [
       "BenchmarkTools.Trial: 9779 samples with 1 evaluation.\n",
       " Range \u001b[90m(\u001b[39m\u001b[36m\u001b[1mmin\u001b[22m\u001b[39m … \u001b[35mmax\u001b[39m\u001b[90m):  \u001b[39m\u001b[36m\u001b[1m475.324 μs\u001b[22m\u001b[39m … \u001b[35m 1.224 ms\u001b[39m  \u001b[90m┊\u001b[39m GC \u001b[90m(\u001b[39mmin … max\u001b[90m): \u001b[39m0.00% … 0.00%\n",
       " Time  \u001b[90m(\u001b[39m\u001b[34m\u001b[1mmedian\u001b[22m\u001b[39m\u001b[90m):     \u001b[39m\u001b[34m\u001b[1m494.925 μs              \u001b[22m\u001b[39m\u001b[90m┊\u001b[39m GC \u001b[90m(\u001b[39mmedian\u001b[90m):    \u001b[39m0.00%\n",
       " Time  \u001b[90m(\u001b[39m\u001b[32m\u001b[1mmean\u001b[22m\u001b[39m ± \u001b[32mσ\u001b[39m\u001b[90m):   \u001b[39m\u001b[32m\u001b[1m508.100 μs\u001b[22m\u001b[39m ± \u001b[32m49.391 μs\u001b[39m  \u001b[90m┊\u001b[39m GC \u001b[90m(\u001b[39mmean ± σ\u001b[90m):  \u001b[39m0.00% ± 0.00%\n",
       "\n",
       "  \u001b[39m▅\u001b[39m▆\u001b[39m▆\u001b[39m█\u001b[39m█\u001b[34m▆\u001b[39m\u001b[39m▆\u001b[39m▆\u001b[32m▅\u001b[39m\u001b[39m▄\u001b[39m▄\u001b[39m▂\u001b[39m▁\u001b[39m \u001b[39m \u001b[39m▁\u001b[39m▁\u001b[39m▁\u001b[39m▁\u001b[39m \u001b[39m \u001b[39m \u001b[39m \u001b[39m \u001b[39m \u001b[39m \u001b[39m \u001b[39m \u001b[39m \u001b[39m \u001b[39m \u001b[39m \u001b[39m \u001b[39m \u001b[39m \u001b[39m \u001b[39m \u001b[39m \u001b[39m \u001b[39m \u001b[39m \u001b[39m \u001b[39m \u001b[39m \u001b[39m \u001b[39m \u001b[39m \u001b[39m \u001b[39m \u001b[39m \u001b[39m \u001b[39m \u001b[39m \u001b[39m \u001b[39m \u001b[39m \u001b[39m \u001b[39m \u001b[39m \u001b[39m \u001b[39m \u001b[39m▂\n",
       "  \u001b[39m█\u001b[39m█\u001b[39m█\u001b[39m█\u001b[39m█\u001b[34m█\u001b[39m\u001b[39m█\u001b[39m█\u001b[32m█\u001b[39m\u001b[39m█\u001b[39m█\u001b[39m█\u001b[39m█\u001b[39m█\u001b[39m█\u001b[39m█\u001b[39m█\u001b[39m█\u001b[39m█\u001b[39m█\u001b[39m█\u001b[39m█\u001b[39m▇\u001b[39m▇\u001b[39m▇\u001b[39m█\u001b[39m█\u001b[39m█\u001b[39m▇\u001b[39m▇\u001b[39m█\u001b[39m▇\u001b[39m█\u001b[39m▇\u001b[39m▇\u001b[39m▆\u001b[39m▇\u001b[39m▆\u001b[39m▆\u001b[39m▅\u001b[39m▆\u001b[39m▅\u001b[39m▅\u001b[39m▅\u001b[39m▅\u001b[39m▄\u001b[39m▆\u001b[39m▅\u001b[39m▂\u001b[39m▆\u001b[39m▄\u001b[39m▄\u001b[39m▄\u001b[39m▄\u001b[39m▆\u001b[39m▅\u001b[39m▅\u001b[39m▄\u001b[39m▅\u001b[39m▅\u001b[39m \u001b[39m█\n",
       "  475 μs\u001b[90m        \u001b[39m\u001b[90mHistogram: \u001b[39m\u001b[90m\u001b[1mlog(\u001b[22m\u001b[39m\u001b[90mfrequency\u001b[39m\u001b[90m\u001b[1m)\u001b[22m\u001b[39m\u001b[90m by time\u001b[39m       730 μs \u001b[0m\u001b[1m<\u001b[22m\n",
       "\n",
       " Memory estimate\u001b[90m: \u001b[39m\u001b[33m0 bytes\u001b[39m, allocs estimate\u001b[90m: \u001b[39m\u001b[33m0\u001b[39m."
      ]
     },
     "execution_count": 2,
     "metadata": {},
     "output_type": "execute_result"
    }
   ],
   "source": [
    "@benchmark inner_rows!($C, $A, $B)"
   ]
  },
  {
   "cell_type": "markdown",
   "id": "f69e9b55",
   "metadata": {},
   "source": [
    "Performing the same operation, but iterating over the columns first:"
   ]
  },
  {
   "cell_type": "code",
   "execution_count": 3,
   "id": "02ea00fe",
   "metadata": {},
   "outputs": [
    {
     "data": {
      "text/plain": [
       "inner_cols! (generic function with 1 method)"
      ]
     },
     "execution_count": 3,
     "metadata": {},
     "output_type": "execute_result"
    }
   ],
   "source": [
    "function inner_cols!(C,A,B)\n",
    "  for j in 1:500, i in 1:500\n",
    "    C[i,j] = A[i,j] + B[i,j]\n",
    "  end\n",
    "end"
   ]
  },
  {
   "cell_type": "markdown",
   "id": "1e5c7d70",
   "metadata": {},
   "source": [
    "Will yield a dramatic performance improvement:"
   ]
  },
  {
   "cell_type": "code",
   "execution_count": 4,
   "id": "0f67f7bc",
   "metadata": {},
   "outputs": [
    {
     "data": {
      "text/plain": [
       "BenchmarkTools.Trial: 10000 samples with 1 evaluation.\n",
       " Range \u001b[90m(\u001b[39m\u001b[36m\u001b[1mmin\u001b[22m\u001b[39m … \u001b[35mmax\u001b[39m\u001b[90m):  \u001b[39m\u001b[36m\u001b[1m303.785 μs\u001b[22m\u001b[39m … \u001b[35m762.236 μs\u001b[39m  \u001b[90m┊\u001b[39m GC \u001b[90m(\u001b[39mmin … max\u001b[90m): \u001b[39m0.00% … 0.00%\n",
       " Time  \u001b[90m(\u001b[39m\u001b[34m\u001b[1mmedian\u001b[22m\u001b[39m\u001b[90m):     \u001b[39m\u001b[34m\u001b[1m378.531 μs               \u001b[22m\u001b[39m\u001b[90m┊\u001b[39m GC \u001b[90m(\u001b[39mmedian\u001b[90m):    \u001b[39m0.00%\n",
       " Time  \u001b[90m(\u001b[39m\u001b[32m\u001b[1mmean\u001b[22m\u001b[39m ± \u001b[32mσ\u001b[39m\u001b[90m):   \u001b[39m\u001b[32m\u001b[1m380.954 μs\u001b[22m\u001b[39m ± \u001b[32m 42.000 μs\u001b[39m  \u001b[90m┊\u001b[39m GC \u001b[90m(\u001b[39mmean ± σ\u001b[90m):  \u001b[39m0.00% ± 0.00%\n",
       "\n",
       "  \u001b[39m▁\u001b[39m \u001b[39m▆\u001b[39m▂\u001b[39m▅\u001b[39m▂\u001b[39m▁\u001b[39m \u001b[39m \u001b[39m \u001b[39m \u001b[39m \u001b[39m \u001b[39m \u001b[39m \u001b[39m \u001b[39m▄\u001b[39m▂\u001b[39m▇\u001b[39m█\u001b[34m▅\u001b[39m\u001b[39m▄\u001b[39m▄\u001b[39m▃\u001b[39m▄\u001b[39m▄\u001b[39m▄\u001b[39m▄\u001b[39m▄\u001b[39m▃\u001b[39m▃\u001b[39m▂\u001b[39m▂\u001b[39m▁\u001b[39m▁\u001b[39m▁\u001b[39m \u001b[39m \u001b[39m \u001b[39m \u001b[39m \u001b[39m \u001b[39m \u001b[39m \u001b[39m \u001b[39m \u001b[39m \u001b[39m \u001b[39m \u001b[39m \u001b[39m \u001b[39m \u001b[39m \u001b[39m \u001b[39m \u001b[39m \u001b[39m \u001b[39m \u001b[39m \u001b[39m \u001b[39m \u001b[39m \u001b[39m▂\n",
       "  \u001b[39m█\u001b[39m▇\u001b[39m█\u001b[39m█\u001b[39m█\u001b[39m█\u001b[39m█\u001b[39m█\u001b[39m█\u001b[39m█\u001b[39m█\u001b[39m█\u001b[39m▆\u001b[39m█\u001b[39m█\u001b[39m▇\u001b[39m█\u001b[39m█\u001b[39m█\u001b[39m█\u001b[34m█\u001b[39m\u001b[39m█\u001b[39m█\u001b[39m█\u001b[39m█\u001b[39m█\u001b[39m█\u001b[39m█\u001b[39m█\u001b[39m█\u001b[39m█\u001b[39m█\u001b[39m█\u001b[39m█\u001b[39m█\u001b[39m█\u001b[39m█\u001b[39m█\u001b[39m▇\u001b[39m█\u001b[39m▇\u001b[39m▇\u001b[39m▇\u001b[39m▇\u001b[39m▇\u001b[39m▅\u001b[39m▆\u001b[39m▅\u001b[39m▆\u001b[39m▇\u001b[39m▆\u001b[39m▆\u001b[39m▅\u001b[39m▆\u001b[39m▆\u001b[39m▅\u001b[39m▅\u001b[39m▆\u001b[39m▅\u001b[39m▄\u001b[39m▆\u001b[39m \u001b[39m█\n",
       "  304 μs\u001b[90m        \u001b[39m\u001b[90mHistogram: \u001b[39m\u001b[90m\u001b[1mlog(\u001b[22m\u001b[39m\u001b[90mfrequency\u001b[39m\u001b[90m\u001b[1m)\u001b[22m\u001b[39m\u001b[90m by time\u001b[39m        536 μs \u001b[0m\u001b[1m<\u001b[22m\n",
       "\n",
       " Memory estimate\u001b[90m: \u001b[39m\u001b[33m0 bytes\u001b[39m, allocs estimate\u001b[90m: \u001b[39m\u001b[33m0\u001b[39m."
      ]
     },
     "execution_count": 4,
     "metadata": {},
     "output_type": "execute_result"
    }
   ],
   "source": [
    "@benchmark inner_cols!($C, $A, $B)"
   ]
  },
  {
   "cell_type": "markdown",
   "id": "e88c6faf",
   "metadata": {},
   "source": [
    "**Note**: Julia is column major, whereas Python (numpy) is row major."
   ]
  },
  {
   "cell_type": "markdown",
   "id": "9f59fe87",
   "metadata": {},
   "source": [
    "### Broadcasting\n",
    "\n",
    "Julia's broadcast mechanism generates and JIT compiles Julia functions on the fly. Compare this to, e.g. numpy, which has a specifc C API it relies on, and thus cannot adapt well to combinations of operations, as each operation calls a different C function, instead of combining the operations into a single (Julia) function."
   ]
  },
  {
   "cell_type": "markdown",
   "id": "4dc29f7c",
   "metadata": {},
   "source": [
    "### Views\n",
    "\n",
    "Slices in Julia default allocate, unless prefixed with `@view` or a block with `@views`."
   ]
  },
  {
   "cell_type": "markdown",
   "id": "8d8fd504",
   "metadata": {},
   "source": [
    "### Summary\n",
    "\n",
    "Important points:\n",
    "\n",
    "- iterate along layout major\n",
    "- avoid heap allocations (heap allocations happen when size not known at compile time)\n",
    "- mutate to avoid heap allocations\n",
    "- fuse broadcasts; prefer `@.` instead of many `.+`, `.=`, etc.\n",
    "- Julia loops are as fast as C, thus array vectorisation offers little benefit (standard algorithms just help reading intent)\n",
    "- use views instead of slices to avoid (copy) allocations\n",
    "- avoid heap allocations for O(n)\n",
    "\n",
    "Use a library abstraction like `StaticArrays.jl` to avoid heap allocations."
   ]
  },
  {
   "cell_type": "markdown",
   "id": "481ddcb9",
   "metadata": {},
   "source": [
    "## Multiple dispatch\n",
    "\n",
    "Julia uses type inferrence to optimize memory; a function written in Julia without types is known as a `generic` function:"
   ]
  },
  {
   "cell_type": "code",
   "execution_count": 5,
   "id": "4c2f2278",
   "metadata": {},
   "outputs": [
    {
     "data": {
      "text/plain": [
       "f (generic function with 1 method)"
      ]
     },
     "execution_count": 5,
     "metadata": {},
     "output_type": "execute_result"
    }
   ],
   "source": [
    "f(x, y) = x + y"
   ]
  },
  {
   "cell_type": "markdown",
   "id": "307e44b5",
   "metadata": {},
   "source": [
    "In contrast to other generic functions in other languages, a Julia `generic` is not a single function, but rather is compiled to inferred types when invoked. This can be demonstrated by examining the LLVM *intermediate representation* (IR) using a Julia macro:"
   ]
  },
  {
   "cell_type": "code",
   "execution_count": 6,
   "id": "904a23a1",
   "metadata": {},
   "outputs": [
    {
     "name": "stdout",
     "output_type": "stream",
     "text": [
      "\u001b[90m;  @ In[5]:1 within `f'\u001b[39m\n",
      "\u001b[95mdefine\u001b[39m \u001b[36mi64\u001b[39m \u001b[93m@julia_f_1707\u001b[39m\u001b[33m(\u001b[39m\u001b[36mi64\u001b[39m \u001b[95msignext\u001b[39m \u001b[0m%0\u001b[0m, \u001b[36mi64\u001b[39m \u001b[95msignext\u001b[39m \u001b[0m%1\u001b[33m)\u001b[39m \u001b[33m{\u001b[39m\n",
      "\u001b[91mtop:\u001b[39m\n",
      "\u001b[90m; ┌ @ int.jl:87 within `+'\u001b[39m\n",
      "   \u001b[0m%2 \u001b[0m= \u001b[96m\u001b[1madd\u001b[22m\u001b[39m \u001b[36mi64\u001b[39m \u001b[0m%1\u001b[0m, \u001b[0m%0\n",
      "\u001b[90m; └\u001b[39m\n",
      "  \u001b[96m\u001b[1mret\u001b[22m\u001b[39m \u001b[36mi64\u001b[39m \u001b[0m%2\n",
      "\u001b[33m}\u001b[39m\n"
     ]
    }
   ],
   "source": [
    "@code_llvm f(2, 5)"
   ]
  },
  {
   "cell_type": "markdown",
   "id": "19d341fc",
   "metadata": {},
   "source": [
    "Here, the type inferred was `i64`. By contrast:"
   ]
  },
  {
   "cell_type": "code",
   "execution_count": 7,
   "id": "a046d0e2",
   "metadata": {},
   "outputs": [
    {
     "name": "stdout",
     "output_type": "stream",
     "text": [
      "\u001b[90m;  @ In[5]:1 within `f'\u001b[39m\n",
      "\u001b[95mdefine\u001b[39m \u001b[36mdouble\u001b[39m \u001b[93m@julia_f_1742\u001b[39m\u001b[33m(\u001b[39m\u001b[36mdouble\u001b[39m \u001b[0m%0\u001b[0m, \u001b[36mdouble\u001b[39m \u001b[0m%1\u001b[33m)\u001b[39m \u001b[33m{\u001b[39m\n",
      "\u001b[91mtop:\u001b[39m\n",
      "\u001b[90m; ┌ @ float.jl:326 within `+'\u001b[39m\n",
      "   \u001b[0m%2 \u001b[0m= \u001b[96m\u001b[1mfadd\u001b[22m\u001b[39m \u001b[36mdouble\u001b[39m \u001b[0m%0\u001b[0m, \u001b[0m%1\n",
      "\u001b[90m; └\u001b[39m\n",
      "  \u001b[96m\u001b[1mret\u001b[22m\u001b[39m \u001b[36mdouble\u001b[39m \u001b[0m%2\n",
      "\u001b[33m}\u001b[39m\n"
     ]
    }
   ],
   "source": [
    "@code_llvm f(2.0, 5.0)"
   ]
  },
  {
   "cell_type": "markdown",
   "id": "8b3bae83",
   "metadata": {},
   "source": [
    "The inferred type is now `double`.\n",
    "\n",
    "A Julia `generic` is then actually a family of functions, with a new one compiled each time it is called with a new type combination:"
   ]
  },
  {
   "cell_type": "code",
   "execution_count": 8,
   "id": "abc5b1dc",
   "metadata": {},
   "outputs": [
    {
     "name": "stdout",
     "output_type": "stream",
     "text": [
      "\u001b[90m;  @ In[5]:1 within `f'\u001b[39m\n",
      "\u001b[95mdefine\u001b[39m \u001b[36mdouble\u001b[39m \u001b[93m@julia_f_1744\u001b[39m\u001b[33m(\u001b[39m\u001b[36mi64\u001b[39m \u001b[95msignext\u001b[39m \u001b[0m%0\u001b[0m, \u001b[36mdouble\u001b[39m \u001b[0m%1\u001b[33m)\u001b[39m \u001b[33m{\u001b[39m\n",
      "\u001b[91mtop:\u001b[39m\n",
      "\u001b[90m; ┌ @ promotion.jl:321 within `+'\u001b[39m\n",
      "\u001b[90m; │┌ @ promotion.jl:292 within `promote'\u001b[39m\n",
      "\u001b[90m; ││┌ @ promotion.jl:269 within `_promote'\u001b[39m\n",
      "\u001b[90m; │││┌ @ number.jl:7 within `convert'\u001b[39m\n",
      "\u001b[90m; ││││┌ @ float.jl:94 within `Float64'\u001b[39m\n",
      "       \u001b[0m%2 \u001b[0m= \u001b[96m\u001b[1msitofp\u001b[22m\u001b[39m \u001b[36mi64\u001b[39m \u001b[0m%0 \u001b[95mto\u001b[39m \u001b[36mdouble\u001b[39m\n",
      "\u001b[90m; │└└└└\u001b[39m\n",
      "\u001b[90m; │ @ promotion.jl:321 within `+' @ float.jl:326\u001b[39m\n",
      "   \u001b[0m%3 \u001b[0m= \u001b[96m\u001b[1mfadd\u001b[22m\u001b[39m \u001b[36mdouble\u001b[39m \u001b[0m%2\u001b[0m, \u001b[0m%1\n",
      "\u001b[90m; └\u001b[39m\n",
      "  \u001b[96m\u001b[1mret\u001b[22m\u001b[39m \u001b[36mdouble\u001b[39m \u001b[0m%3\n",
      "\u001b[33m}\u001b[39m\n"
     ]
    }
   ],
   "source": [
    "@code_llvm f(2, 5.0)"
   ]
  },
  {
   "cell_type": "markdown",
   "id": "0fd7aa6a",
   "metadata": {},
   "source": [
    "Note that here the return type was inferred as `double`, and the `i64` argument is promoted to a `double`.\n",
    "\n",
    "A different Julia macro lets us inspect how the types are being inferred in every operation:"
   ]
  },
  {
   "cell_type": "code",
   "execution_count": 9,
   "id": "f2708aef",
   "metadata": {},
   "outputs": [
    {
     "name": "stdout",
     "output_type": "stream",
     "text": [
      "Variables\n",
      "  #self#\u001b[36m::Core.Const(f)\u001b[39m\n",
      "  x\u001b[36m::Float64\u001b[39m\n",
      "  y\u001b[36m::Int64\u001b[39m\n",
      "\n",
      "Body\u001b[36m::Float64\u001b[39m\n",
      "\u001b[90m1 ─\u001b[39m %1 = (x + y)\u001b[36m::Float64\u001b[39m\n",
      "\u001b[90m└──\u001b[39m      return %1\n"
     ]
    }
   ],
   "source": [
    "@code_warntype f(2.0, 5)"
   ]
  },
  {
   "cell_type": "markdown",
   "id": "7d60424d",
   "metadata": {},
   "source": [
    "Julia is able to perform this type inferrence as soon as a function is called; consider a more involved example:"
   ]
  },
  {
   "cell_type": "code",
   "execution_count": 10,
   "id": "bb738640",
   "metadata": {},
   "outputs": [
    {
     "data": {
      "text/plain": [
       "g (generic function with 1 method)"
      ]
     },
     "execution_count": 10,
     "metadata": {},
     "output_type": "execute_result"
    }
   ],
   "source": [
    "function g(x, y)\n",
    "  a = 4\n",
    "  b = 2\n",
    "  c = f(x,a)\n",
    "  d = f(b,c)\n",
    "  f(d,y)\n",
    "end"
   ]
  },
  {
   "cell_type": "markdown",
   "id": "77f02113",
   "metadata": {},
   "source": [
    "The types are fully deduced as soon as `x` and `y` are inferred:"
   ]
  },
  {
   "cell_type": "code",
   "execution_count": 11,
   "id": "6125e506",
   "metadata": {},
   "outputs": [
    {
     "name": "stdout",
     "output_type": "stream",
     "text": [
      "Variables\n",
      "  #self#\u001b[36m::Core.Const(g)\u001b[39m\n",
      "  x\u001b[36m::Int64\u001b[39m\n",
      "  y\u001b[36m::Float64\u001b[39m\n",
      "  d\u001b[36m::Int64\u001b[39m\n",
      "  c\u001b[36m::Int64\u001b[39m\n",
      "  b\u001b[36m::Int64\u001b[39m\n",
      "  a\u001b[36m::Int64\u001b[39m\n",
      "\n",
      "Body\u001b[36m::Float64\u001b[39m\n",
      "\u001b[90m1 ─\u001b[39m      (a = 4)\n",
      "\u001b[90m│  \u001b[39m      (b = 2)\n",
      "\u001b[90m│  \u001b[39m      (c = Main.f(x, a::Core.Const(4)))\n",
      "\u001b[90m│  \u001b[39m      (d = Main.f(b::Core.Const(2), c))\n",
      "\u001b[90m│  \u001b[39m %5 = Main.f(d, y)\u001b[36m::Float64\u001b[39m\n",
      "\u001b[90m└──\u001b[39m      return %5\n"
     ]
    }
   ],
   "source": [
    "@code_warntype g(2, 5.0)"
   ]
  },
  {
   "cell_type": "markdown",
   "id": "198abaa3",
   "metadata": {},
   "source": [
    "And the IR even inlines to optimize further:"
   ]
  },
  {
   "cell_type": "code",
   "execution_count": 12,
   "id": "3d9c77fd",
   "metadata": {},
   "outputs": [
    {
     "name": "stdout",
     "output_type": "stream",
     "text": [
      "\u001b[90m;  @ In[10]:1 within `g'\u001b[39m\n",
      "\u001b[95mdefine\u001b[39m \u001b[36mdouble\u001b[39m \u001b[93m@julia_g_2119\u001b[39m\u001b[33m(\u001b[39m\u001b[36mi64\u001b[39m \u001b[95msignext\u001b[39m \u001b[0m%0\u001b[0m, \u001b[36mdouble\u001b[39m \u001b[0m%1\u001b[33m)\u001b[39m \u001b[33m{\u001b[39m\n",
      "\u001b[91mtop:\u001b[39m\n",
      "\u001b[90m;  @ In[10]:5 within `g'\u001b[39m\n",
      "\u001b[90m; ┌ @ In[5]:1 within `f'\u001b[39m\n",
      "\u001b[90m; │┌ @ int.jl:87 within `+'\u001b[39m\n",
      "    \u001b[0m%2 \u001b[0m= \u001b[96m\u001b[1madd\u001b[22m\u001b[39m \u001b[36mi64\u001b[39m \u001b[0m%0\u001b[0m, \u001b[33m6\u001b[39m\n",
      "\u001b[90m; └└\u001b[39m\n",
      "\u001b[90m;  @ In[10]:6 within `g'\u001b[39m\n",
      "\u001b[90m; ┌ @ In[5]:1 within `f'\u001b[39m\n",
      "\u001b[90m; │┌ @ promotion.jl:321 within `+'\u001b[39m\n",
      "\u001b[90m; ││┌ @ promotion.jl:292 within `promote'\u001b[39m\n",
      "\u001b[90m; │││┌ @ promotion.jl:269 within `_promote'\u001b[39m\n",
      "\u001b[90m; ││││┌ @ number.jl:7 within `convert'\u001b[39m\n",
      "\u001b[90m; │││││┌ @ float.jl:94 within `Float64'\u001b[39m\n",
      "        \u001b[0m%3 \u001b[0m= \u001b[96m\u001b[1msitofp\u001b[22m\u001b[39m \u001b[36mi64\u001b[39m \u001b[0m%2 \u001b[95mto\u001b[39m \u001b[36mdouble\u001b[39m\n",
      "\u001b[90m; ││└└└└\u001b[39m\n",
      "\u001b[90m; ││ @ promotion.jl:321 within `+' @ float.jl:326\u001b[39m\n",
      "    \u001b[0m%4 \u001b[0m= \u001b[96m\u001b[1mfadd\u001b[22m\u001b[39m \u001b[36mdouble\u001b[39m \u001b[0m%3\u001b[0m, \u001b[0m%1\n",
      "\u001b[90m; └└\u001b[39m\n",
      "  \u001b[96m\u001b[1mret\u001b[22m\u001b[39m \u001b[36mdouble\u001b[39m \u001b[0m%4\n",
      "\u001b[33m}\u001b[39m\n"
     ]
    }
   ],
   "source": [
    "@code_llvm g(2, 5.0)"
   ]
  },
  {
   "cell_type": "markdown",
   "id": "2a468113",
   "metadata": {},
   "source": [
    "### Union types\n",
    "\n",
    "If the types cannot be inferred to a single outcome, Julia will use a type `Union` to keep the memory as restricted as possible and to be able to compile to the highest degree of optimization:"
   ]
  },
  {
   "cell_type": "code",
   "execution_count": 13,
   "id": "4468b10f",
   "metadata": {},
   "outputs": [
    {
     "data": {
      "text/plain": [
       "h (generic function with 1 method)"
      ]
     },
     "execution_count": 13,
     "metadata": {},
     "output_type": "execute_result"
    }
   ],
   "source": [
    "function h(x, y)\n",
    "  out = x + y\n",
    "  rand() < 0.5 ? out : Float64(out)\n",
    "end"
   ]
  },
  {
   "cell_type": "markdown",
   "id": "caf019ad",
   "metadata": {},
   "source": [
    "The type deduction here is much more complex, since if `x` and `y` are both integers, `out` will be an integer, and thus the function may either return an `Int64` or a `Float64`:"
   ]
  },
  {
   "cell_type": "code",
   "execution_count": 14,
   "id": "b187b4af",
   "metadata": {},
   "outputs": [
    {
     "name": "stdout",
     "output_type": "stream",
     "text": [
      "Variables\n",
      "  #self#\u001b[36m::Core.Const(h)\u001b[39m\n",
      "  x\u001b[36m::Int64\u001b[39m\n",
      "  y\u001b[36m::Int64\u001b[39m\n",
      "  out\u001b[36m::Int64\u001b[39m\n",
      "\n",
      "Body\u001b[91m\u001b[1m::Union{Float64, Int64}\u001b[22m\u001b[39m\n",
      "\u001b[90m1 ─\u001b[39m      (out = x + y)\n",
      "\u001b[90m│  \u001b[39m %2 = Main.rand()\u001b[36m::Float64\u001b[39m\n",
      "\u001b[90m│  \u001b[39m %3 = (%2 < 0.5)\u001b[36m::Bool\u001b[39m\n",
      "\u001b[90m└──\u001b[39m      goto #3 if not %3\n",
      "\u001b[90m2 ─\u001b[39m      return out\n",
      "\u001b[90m3 ─\u001b[39m %6 = Main.Float64(out)\u001b[36m::Float64\u001b[39m\n",
      "\u001b[90m└──\u001b[39m      return %6\n"
     ]
    }
   ],
   "source": [
    "@code_warntype h(1, 2)"
   ]
  },
  {
   "cell_type": "markdown",
   "id": "26eb363b",
   "metadata": {},
   "source": [
    "`Union`s are not quite as optimizeable as single types, however are still allow for much better performance than `Any`."
   ]
  },
  {
   "cell_type": "markdown",
   "id": "f4de9311",
   "metadata": {},
   "source": [
    "### Primatives\n",
    "\n",
    "Julia value types are fully inferrable and composed of *primative* types, which can be verified with the `isbits` function:"
   ]
  },
  {
   "cell_type": "code",
   "execution_count": 15,
   "id": "17cd42c1",
   "metadata": {},
   "outputs": [
    {
     "data": {
      "text/plain": [
       "true"
      ]
     },
     "execution_count": 15,
     "metadata": {},
     "output_type": "execute_result"
    }
   ],
   "source": [
    "isbits(1.0)"
   ]
  },
  {
   "cell_type": "markdown",
   "id": "8d3f6423",
   "metadata": {},
   "source": [
    "Structs which are entirely value based also are fully inferrable:"
   ]
  },
  {
   "cell_type": "code",
   "execution_count": 16,
   "id": "52ffcc34",
   "metadata": {},
   "outputs": [
    {
     "data": {
      "text/plain": [
       "true"
      ]
     },
     "execution_count": 16,
     "metadata": {},
     "output_type": "execute_result"
    }
   ],
   "source": [
    "struct ComplexNumber_1\n",
    "    real::Float64\n",
    "    imag::Float64\n",
    "end\n",
    "\n",
    "isbits(ComplexNumber_1(1, 1))"
   ]
  },
  {
   "cell_type": "markdown",
   "id": "30db3a0d",
   "metadata": {},
   "source": [
    "Contrast this with a more generically typed:"
   ]
  },
  {
   "cell_type": "code",
   "execution_count": 17,
   "id": "966407f8",
   "metadata": {},
   "outputs": [
    {
     "data": {
      "text/plain": [
       "false"
      ]
     },
     "execution_count": 17,
     "metadata": {},
     "output_type": "execute_result"
    }
   ],
   "source": [
    "struct ComplexNumber_2\n",
    "    real::Number\n",
    "    imag::Number\n",
    "end\n",
    "\n",
    "isbits(ComplexNumber_2(1, 1))"
   ]
  },
  {
   "cell_type": "markdown",
   "id": "28f6b3ec",
   "metadata": {},
   "source": [
    "Even though"
   ]
  },
  {
   "cell_type": "code",
   "execution_count": 18,
   "id": "24c09cca",
   "metadata": {},
   "outputs": [
    {
     "data": {
      "text/plain": [
       "true"
      ]
     },
     "execution_count": 18,
     "metadata": {},
     "output_type": "execute_result"
    }
   ],
   "source": [
    "Int64 <: Number"
   ]
  },
  {
   "cell_type": "markdown",
   "id": "6b39d050",
   "metadata": {},
   "source": [
    "We can mitigate this with template generics:"
   ]
  },
  {
   "cell_type": "code",
   "execution_count": 19,
   "id": "d758c657",
   "metadata": {},
   "outputs": [
    {
     "data": {
      "text/plain": [
       "true"
      ]
     },
     "execution_count": 19,
     "metadata": {},
     "output_type": "execute_result"
    }
   ],
   "source": [
    "struct ComplexNumber_3{T}\n",
    "    real::T\n",
    "    imag::T\n",
    "end\n",
    "\n",
    "isbits(ComplexNumber_3(1, 1))"
   ]
  },
  {
   "cell_type": "markdown",
   "id": "467be505",
   "metadata": {},
   "source": [
    "Since a different `ComplexNumber_3{T}` is compiled depending on the arguments, and thus is a concrete type. Such a template generic will optimize well when used any inferrable type.\n",
    "\n",
    "Finally, note that `isbits` does not apply to mutable types, since mutable types are heap allocated (unless completely erased by compiler destructuring). Types which are `isbits` compile down to bit-wise operations in Julia, and thus can be used with other devices, such as GPU kernels."
   ]
  },
  {
   "cell_type": "markdown",
   "id": "a92b4ce8",
   "metadata": {},
   "source": [
    "### Function barriers"
   ]
  },
  {
   "cell_type": "markdown",
   "id": "4d1fc7ac",
   "metadata": {},
   "source": [
    "An array with non-concrete types can lead to un-optimizable code. For example, the array:"
   ]
  },
  {
   "cell_type": "code",
   "execution_count": 20,
   "id": "5a550ce5",
   "metadata": {},
   "outputs": [
    {
     "data": {
      "text/plain": [
       "2-element Vector{Number}:\n",
       " 1.0\n",
       " 3"
      ]
     },
     "execution_count": 20,
     "metadata": {},
     "output_type": "execute_result"
    }
   ],
   "source": [
    "x = Number[1.0,3]"
   ]
  },
  {
   "cell_type": "markdown",
   "id": "f5359500",
   "metadata": {},
   "source": [
    "To fully optimize loops and function calls within a function body, we can use barriers to ensure the dispatched function has stable and concrete types.\n",
    "\n",
    "Contrast this:"
   ]
  },
  {
   "cell_type": "code",
   "execution_count": 21,
   "id": "d8039d4d",
   "metadata": {},
   "outputs": [
    {
     "data": {
      "text/plain": [
       "BenchmarkTools.Trial: 10000 samples with 7 evaluations.\n",
       " Range \u001b[90m(\u001b[39m\u001b[36m\u001b[1mmin\u001b[22m\u001b[39m … \u001b[35mmax\u001b[39m\u001b[90m):  \u001b[39m\u001b[36m\u001b[1m5.178 μs\u001b[22m\u001b[39m … \u001b[35m191.758 μs\u001b[39m  \u001b[90m┊\u001b[39m GC \u001b[90m(\u001b[39mmin … max\u001b[90m): \u001b[39m0.00% … 96.53%\n",
       " Time  \u001b[90m(\u001b[39m\u001b[34m\u001b[1mmedian\u001b[22m\u001b[39m\u001b[90m):     \u001b[39m\u001b[34m\u001b[1m6.054 μs               \u001b[22m\u001b[39m\u001b[90m┊\u001b[39m GC \u001b[90m(\u001b[39mmedian\u001b[90m):    \u001b[39m0.00%\n",
       " Time  \u001b[90m(\u001b[39m\u001b[32m\u001b[1mmean\u001b[22m\u001b[39m ± \u001b[32mσ\u001b[39m\u001b[90m):   \u001b[39m\u001b[32m\u001b[1m6.268 μs\u001b[22m\u001b[39m ± \u001b[32m  4.518 μs\u001b[39m  \u001b[90m┊\u001b[39m GC \u001b[90m(\u001b[39mmean ± σ\u001b[90m):  \u001b[39m1.83% ±  2.55%\n",
       "\n",
       "  \u001b[39m▃\u001b[39m▄\u001b[39m▁\u001b[39m▂\u001b[39m▂\u001b[39m▁\u001b[39m \u001b[39m▁\u001b[34m▅\u001b[39m\u001b[39m▅\u001b[32m█\u001b[39m\u001b[39m \u001b[39m \u001b[39m \u001b[39m \u001b[39m \u001b[39m \u001b[39m \u001b[39m \u001b[39m \u001b[39m \u001b[39m \u001b[39m \u001b[39m \u001b[39m \u001b[39m \u001b[39m \u001b[39m \u001b[39m \u001b[39m \u001b[39m \u001b[39m \u001b[39m \u001b[39m \u001b[39m \u001b[39m \u001b[39m \u001b[39m \u001b[39m \u001b[39m \u001b[39m \u001b[39m \u001b[39m \u001b[39m \u001b[39m \u001b[39m \u001b[39m \u001b[39m \u001b[39m \u001b[39m \u001b[39m \u001b[39m \u001b[39m \u001b[39m \u001b[39m \u001b[39m \u001b[39m \u001b[39m \u001b[39m \u001b[39m \u001b[39m \n",
       "  \u001b[39m█\u001b[39m█\u001b[39m█\u001b[39m█\u001b[39m█\u001b[39m█\u001b[39m▇\u001b[39m█\u001b[34m█\u001b[39m\u001b[39m█\u001b[32m█\u001b[39m\u001b[39m▆\u001b[39m▃\u001b[39m▆\u001b[39m▃\u001b[39m▄\u001b[39m▃\u001b[39m▄\u001b[39m▃\u001b[39m▃\u001b[39m▃\u001b[39m▆\u001b[39m▄\u001b[39m▂\u001b[39m▂\u001b[39m▂\u001b[39m▂\u001b[39m▂\u001b[39m▂\u001b[39m▂\u001b[39m▂\u001b[39m▂\u001b[39m▂\u001b[39m▂\u001b[39m▁\u001b[39m▂\u001b[39m▂\u001b[39m▂\u001b[39m▂\u001b[39m▂\u001b[39m▂\u001b[39m▂\u001b[39m▂\u001b[39m▂\u001b[39m▂\u001b[39m▂\u001b[39m▂\u001b[39m▂\u001b[39m▂\u001b[39m▂\u001b[39m▂\u001b[39m▂\u001b[39m▂\u001b[39m▂\u001b[39m▂\u001b[39m▂\u001b[39m▂\u001b[39m▂\u001b[39m▂\u001b[39m \u001b[39m▃\n",
       "  5.18 μs\u001b[90m         Histogram: frequency by time\u001b[39m        11.4 μs \u001b[0m\u001b[1m<\u001b[22m\n",
       "\n",
       " Memory estimate\u001b[90m: \u001b[39m\u001b[33m4.69 KiB\u001b[39m, allocs estimate\u001b[90m: \u001b[39m\u001b[33m300\u001b[39m."
      ]
     },
     "execution_count": 21,
     "metadata": {},
     "output_type": "execute_result"
    }
   ],
   "source": [
    "function r(x)\n",
    "  a = 4\n",
    "  b = 2\n",
    "  for i in 1:100\n",
    "    c = f(x[1],a)\n",
    "    d = f(b,c)\n",
    "    a = f(d,x[2])\n",
    "  end\n",
    "  a\n",
    "end\n",
    "\n",
    "@benchmark r($x)"
   ]
  },
  {
   "cell_type": "markdown",
   "id": "309bbfa8",
   "metadata": {},
   "source": [
    "With a *guarded* version:"
   ]
  },
  {
   "cell_type": "code",
   "execution_count": 22,
   "id": "9b3f8cb0",
   "metadata": {},
   "outputs": [
    {
     "data": {
      "text/plain": [
       "BenchmarkTools.Trial: 10000 samples with 200 evaluations.\n",
       " Range \u001b[90m(\u001b[39m\u001b[36m\u001b[1mmin\u001b[22m\u001b[39m … \u001b[35mmax\u001b[39m\u001b[90m):  \u001b[39m\u001b[36m\u001b[1m382.470 ns\u001b[22m\u001b[39m … \u001b[35m 1.592 μs\u001b[39m  \u001b[90m┊\u001b[39m GC \u001b[90m(\u001b[39mmin … max\u001b[90m): \u001b[39m0.00% … 0.00%\n",
       " Time  \u001b[90m(\u001b[39m\u001b[34m\u001b[1mmedian\u001b[22m\u001b[39m\u001b[90m):     \u001b[39m\u001b[34m\u001b[1m412.245 ns              \u001b[22m\u001b[39m\u001b[90m┊\u001b[39m GC \u001b[90m(\u001b[39mmedian\u001b[90m):    \u001b[39m0.00%\n",
       " Time  \u001b[90m(\u001b[39m\u001b[32m\u001b[1mmean\u001b[22m\u001b[39m ± \u001b[32mσ\u001b[39m\u001b[90m):   \u001b[39m\u001b[32m\u001b[1m436.922 ns\u001b[22m\u001b[39m ± \u001b[32m68.642 ns\u001b[39m  \u001b[90m┊\u001b[39m GC \u001b[90m(\u001b[39mmean ± σ\u001b[90m):  \u001b[39m0.00% ± 0.00%\n",
       "\n",
       "  \u001b[39m▅\u001b[39m \u001b[39m \u001b[39m▇\u001b[39m▁\u001b[34m█\u001b[39m\u001b[39m▂\u001b[39m▂\u001b[39m \u001b[39m▁\u001b[32m \u001b[39m\u001b[39m▁\u001b[39m \u001b[39m \u001b[39m \u001b[39m \u001b[39m▁\u001b[39m \u001b[39m▄\u001b[39m▁\u001b[39m \u001b[39m▃\u001b[39m \u001b[39m \u001b[39m▂\u001b[39m \u001b[39m \u001b[39m▂\u001b[39m \u001b[39m \u001b[39m▄\u001b[39m▂\u001b[39m \u001b[39m \u001b[39m \u001b[39m \u001b[39m \u001b[39m \u001b[39m \u001b[39m \u001b[39m \u001b[39m \u001b[39m \u001b[39m \u001b[39m \u001b[39m \u001b[39m \u001b[39m \u001b[39m \u001b[39m \u001b[39m \u001b[39m \u001b[39m \u001b[39m \u001b[39m \u001b[39m \u001b[39m \u001b[39m \u001b[39m \u001b[39m \u001b[39m \u001b[39m▁\n",
       "  \u001b[39m█\u001b[39m▆\u001b[39m▃\u001b[39m█\u001b[39m█\u001b[34m█\u001b[39m\u001b[39m█\u001b[39m█\u001b[39m▇\u001b[39m█\u001b[32m▅\u001b[39m\u001b[39m█\u001b[39m▅\u001b[39m█\u001b[39m▇\u001b[39m▆\u001b[39m█\u001b[39m▆\u001b[39m█\u001b[39m█\u001b[39m▇\u001b[39m█\u001b[39m▇\u001b[39m▅\u001b[39m█\u001b[39m▆\u001b[39m▅\u001b[39m█\u001b[39m▆\u001b[39m▅\u001b[39m█\u001b[39m█\u001b[39m▇\u001b[39m▅\u001b[39m▇\u001b[39m▄\u001b[39m▅\u001b[39m▆\u001b[39m▅\u001b[39m▄\u001b[39m▆\u001b[39m▅\u001b[39m▅\u001b[39m▄\u001b[39m▅\u001b[39m▅\u001b[39m▅\u001b[39m▅\u001b[39m▃\u001b[39m▃\u001b[39m▅\u001b[39m▄\u001b[39m▄\u001b[39m▃\u001b[39m▅\u001b[39m▃\u001b[39m▃\u001b[39m▃\u001b[39m▄\u001b[39m▃\u001b[39m \u001b[39m█\n",
       "  382 ns\u001b[90m        \u001b[39m\u001b[90mHistogram: \u001b[39m\u001b[90m\u001b[1mlog(\u001b[22m\u001b[39m\u001b[90mfrequency\u001b[39m\u001b[90m\u001b[1m)\u001b[22m\u001b[39m\u001b[90m by time\u001b[39m       708 ns \u001b[0m\u001b[1m<\u001b[22m\n",
       "\n",
       " Memory estimate\u001b[90m: \u001b[39m\u001b[33m16 bytes\u001b[39m, allocs estimate\u001b[90m: \u001b[39m\u001b[33m1\u001b[39m."
      ]
     },
     "execution_count": 22,
     "metadata": {},
     "output_type": "execute_result"
    }
   ],
   "source": [
    "s(x) = _s(x[1], x[2])\n",
    "\n",
    "function _s(x1, x2)\n",
    "  a = 4\n",
    "  b = 2\n",
    "  for i in 1:100\n",
    "    c = f(x1,a)\n",
    "    d = f(b,c)\n",
    "    a = f(d,x2)\n",
    "  end\n",
    "  a\n",
    "end\n",
    "\n",
    "@benchmark s($x)"
   ]
  },
  {
   "cell_type": "markdown",
   "id": "26272bb8",
   "metadata": {},
   "source": [
    "The interface of `r(x)` and `s(x)` is exactly the same.\n",
    "\n",
    "The function `r(x)` cannot type inferr:"
   ]
  },
  {
   "cell_type": "code",
   "execution_count": 23,
   "id": "d642958e",
   "metadata": {},
   "outputs": [
    {
     "name": "stdout",
     "output_type": "stream",
     "text": [
      "Variables\n",
      "  #self#\u001b[36m::Core.Const(r)\u001b[39m\n",
      "  x\u001b[36m::Vector{Number}\u001b[39m\n",
      "  @_3\u001b[33m\u001b[1m::Union{Nothing, Tuple{Int64, Int64}}\u001b[22m\u001b[39m\n",
      "  b\u001b[36m::Int64\u001b[39m\n",
      "  a\u001b[91m\u001b[1m::Any\u001b[22m\u001b[39m\n",
      "  i\u001b[36m::Int64\u001b[39m\n",
      "  d\u001b[91m\u001b[1m::Any\u001b[22m\u001b[39m\n",
      "  c\u001b[91m\u001b[1m::Any\u001b[22m\u001b[39m\n",
      "\n",
      "Body\u001b[91m\u001b[1m::Any\u001b[22m\u001b[39m\n",
      "\u001b[90m1 ─\u001b[39m       (a = 4)\n",
      "\u001b[90m│  \u001b[39m       (b = 2)\n",
      "\u001b[90m│  \u001b[39m %3  = (1:100)\u001b[36m::Core.Const(1:100)\u001b[39m\n",
      "\u001b[90m│  \u001b[39m       (@_3 = Base.iterate(%3))\n",
      "\u001b[90m│  \u001b[39m %5  = (@_3::Core.Const((1, 1)) === nothing)\u001b[36m::Core.Const(false)\u001b[39m\n",
      "\u001b[90m│  \u001b[39m %6  = Base.not_int(%5)\u001b[36m::Core.Const(true)\u001b[39m\n",
      "\u001b[90m└──\u001b[39m       goto #4 if not %6\n",
      "\u001b[90m2 ┄\u001b[39m %8  = @_3::Tuple{Int64, Int64}\u001b[36m::Tuple{Int64, Int64}\u001b[39m\n",
      "\u001b[90m│  \u001b[39m       (i = Core.getfield(%8, 1))\n",
      "\u001b[90m│  \u001b[39m %10 = Core.getfield(%8, 2)\u001b[36m::Int64\u001b[39m\n",
      "\u001b[90m│  \u001b[39m %11 = Base.getindex(x, 1)\u001b[91m\u001b[1m::Number\u001b[22m\u001b[39m\n",
      "\u001b[90m│  \u001b[39m       (c = Main.f(%11, a))\n",
      "\u001b[90m│  \u001b[39m       (d = Main.f(b::Core.Const(2), c))\n",
      "\u001b[90m│  \u001b[39m %14 = d\u001b[91m\u001b[1m::Any\u001b[22m\u001b[39m\n",
      "\u001b[90m│  \u001b[39m %15 = Base.getindex(x, 2)\u001b[91m\u001b[1m::Number\u001b[22m\u001b[39m\n",
      "\u001b[90m│  \u001b[39m       (a = Main.f(%14, %15))\n",
      "\u001b[90m│  \u001b[39m       (@_3 = Base.iterate(%3, %10))\n",
      "\u001b[90m│  \u001b[39m %18 = (@_3 === nothing)\u001b[36m::Bool\u001b[39m\n",
      "\u001b[90m│  \u001b[39m %19 = Base.not_int(%18)\u001b[36m::Bool\u001b[39m\n",
      "\u001b[90m└──\u001b[39m       goto #4 if not %19\n",
      "\u001b[90m3 ─\u001b[39m       goto #2\n",
      "\u001b[90m4 ┄\u001b[39m       return a\n"
     ]
    }
   ],
   "source": [
    "@code_warntype r(x)"
   ]
  },
  {
   "cell_type": "markdown",
   "id": "d2362b98",
   "metadata": {},
   "source": [
    "And nor can `s(x)`:"
   ]
  },
  {
   "cell_type": "code",
   "execution_count": 24,
   "id": "454491f3",
   "metadata": {},
   "outputs": [
    {
     "name": "stdout",
     "output_type": "stream",
     "text": [
      "Variables\n",
      "  #self#\u001b[36m::Core.Const(s)\u001b[39m\n",
      "  x\u001b[36m::Vector{Number}\u001b[39m\n",
      "\n",
      "Body\u001b[91m\u001b[1m::Any\u001b[22m\u001b[39m\n",
      "\u001b[90m1 ─\u001b[39m %1 = Base.getindex(x, 1)\u001b[91m\u001b[1m::Number\u001b[22m\u001b[39m\n",
      "\u001b[90m│  \u001b[39m %2 = Base.getindex(x, 2)\u001b[91m\u001b[1m::Number\u001b[22m\u001b[39m\n",
      "\u001b[90m│  \u001b[39m %3 = Main._s(%1, %2)\u001b[91m\u001b[1m::Any\u001b[22m\u001b[39m\n",
      "\u001b[90m└──\u001b[39m      return %3\n"
     ]
    }
   ],
   "source": [
    "@code_warntype s(x)"
   ]
  },
  {
   "cell_type": "markdown",
   "id": "b423785e",
   "metadata": {},
   "source": [
    "However, `_s` may be specialised since `%1` and `%2` in the IR will be concrete, and the cost is only a single *dynamic* dispatch."
   ]
  },
  {
   "cell_type": "markdown",
   "id": "f24b4d84",
   "metadata": {},
   "source": [
    "### Summary\n",
    "\n",
    "- Julia is able to optimize well through type inferrence (when concrete types _can_ be inferred)\n",
    "- multiple dispatch leverage type specialisation for minimal- or zero-overhead runtime\n",
    "- ensuring known types in function bodies and loops can drastically improve performance"
   ]
  }
 ],
 "metadata": {
  "kernelspec": {
   "display_name": "Julia 1.6.2",
   "language": "julia",
   "name": "julia-1.6"
  },
  "language_info": {
   "file_extension": ".jl",
   "mimetype": "application/julia",
   "name": "julia",
   "version": "1.6.2"
  }
 },
 "nbformat": 4,
 "nbformat_minor": 5
}
